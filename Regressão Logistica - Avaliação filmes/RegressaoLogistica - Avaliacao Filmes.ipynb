{
  "nbformat": 4,
  "nbformat_minor": 0,
  "metadata": {
    "colab": {
      "name": "Avaliação Filmes",
      "provenance": [],
      "collapsed_sections": []
    },
    "kernelspec": {
      "name": "python3",
      "display_name": "Python 3"
    }
  },
  "cells": [
    {
      "cell_type": "markdown",
      "metadata": {
        "id": "_7kkCEdDGWsp"
      },
      "source": [
        "#Importações"
      ]
    },
    {
      "cell_type": "code",
      "metadata": {
        "id": "jeoDtuPgDenk"
      },
      "source": [
        "import pandas as pd\n",
        "import numpy as np\n",
        "from sklearn.linear_model import LogisticRegression\n",
        "from sklearn.model_selection import train_test_split\n",
        "from sklearn.metrics import accuracy_score\n",
        "\n",
        "import warnings\n",
        "warnings.filterwarnings('ignore')"
      ],
      "execution_count": 21,
      "outputs": []
    },
    {
      "cell_type": "markdown",
      "metadata": {
        "id": "oQDg7WVYEh1Y"
      },
      "source": [
        "# Importação da base de dados"
      ]
    },
    {
      "cell_type": "code",
      "metadata": {
        "id": "JRxs4f8-EhD-"
      },
      "source": [
        "filmes = pd.read_csv(\"avaliacoes_usuario.csv\", encoding = \"ISO-8859-1\")"
      ],
      "execution_count": 11,
      "outputs": []
    },
    {
      "cell_type": "markdown",
      "metadata": {
        "id": "LSfM8sR2Ge51"
      },
      "source": [
        "# Modelo: LogisticRegression"
      ]
    },
    {
      "cell_type": "markdown",
      "metadata": {
        "id": "RQ96wIehEkwf"
      },
      "source": [
        "Separação dos atributos e marcações e, então, separamos em dados de treino e teste"
      ]
    },
    {
      "cell_type": "code",
      "metadata": {
        "id": "bhHILtc8EmYh"
      },
      "source": [
        "filmes_atributos = filmes[filmes.columns[1:16]]\n",
        "filmes_gostou = filmes[filmes.columns[16:]]\n",
        "treino, teste, treino_marcacoes, teste_marcacoes =  train_test_split(filmes_atributos, filmes_gostou)"
      ],
      "execution_count": 14,
      "outputs": []
    },
    {
      "cell_type": "markdown",
      "metadata": {
        "id": "HP9hOXgkD6q0"
      },
      "source": [
        "Precisamos transformar o nosso vetor de treino em um vetor coluna e, para isso, utilizamos a funcao reshape e array do numpy."
      ]
    },
    {
      "cell_type": "code",
      "metadata": {
        "id": "WVqpkIUuDiFC"
      },
      "source": [
        "treino = np.array(treino).reshape(len(treino), 15)\n",
        "teste = np.array(teste).reshape(len(teste), 15)"
      ],
      "execution_count": 15,
      "outputs": []
    },
    {
      "cell_type": "markdown",
      "metadata": {
        "id": "4ah-vacmD9xe"
      },
      "source": [
        "O vetor coluna do treino_marcacoes precisa ser convertido em um array"
      ]
    },
    {
      "cell_type": "code",
      "metadata": {
        "id": "wqGZUYy4Dii2"
      },
      "source": [
        "treino_marcacoes = treino_marcacoes.values.ravel()\n",
        "teste_marcacoes = teste_marcacoes.values.ravel()"
      ],
      "execution_count": 16,
      "outputs": []
    },
    {
      "cell_type": "markdown",
      "metadata": {
        "id": "WKS7awNwEAx7"
      },
      "source": [
        "Criando o modelo"
      ]
    },
    {
      "cell_type": "code",
      "metadata": {
        "id": "dbJ9eigEDkeP",
        "outputId": "9b20c8f8-711e-4d8f-e800-2e6760f0bffc",
        "colab": {
          "base_uri": "https://localhost:8080/"
        }
      },
      "source": [
        "modelo = LogisticRegression()\n",
        "modelo.fit(treino,treino_marcacoes)"
      ],
      "execution_count": 22,
      "outputs": [
        {
          "output_type": "execute_result",
          "data": {
            "text/plain": [
              "LogisticRegression(C=1.0, class_weight=None, dual=False, fit_intercept=True,\n",
              "                   intercept_scaling=1, l1_ratio=None, max_iter=100,\n",
              "                   multi_class='auto', n_jobs=None, penalty='l2',\n",
              "                   random_state=None, solver='lbfgs', tol=0.0001, verbose=0,\n",
              "                   warm_start=False)"
            ]
          },
          "metadata": {
            "tags": []
          },
          "execution_count": 22
        }
      ]
    },
    {
      "cell_type": "markdown",
      "metadata": {
        "id": "KNvZQHVBEEOz"
      },
      "source": [
        "Fazendo as previsões e definindo a acurácia"
      ]
    },
    {
      "cell_type": "code",
      "metadata": {
        "id": "dYaxC6rNDlCW",
        "outputId": "f2036d5a-51dd-4441-8d42-a77f49ae5486",
        "colab": {
          "base_uri": "https://localhost:8080/"
        }
      },
      "source": [
        "previsoes =  modelo.predict(teste)\n",
        "\n",
        "acuracia = accuracy_score(teste_marcacoes, previsoes)\n",
        "acuracia"
      ],
      "execution_count": 23,
      "outputs": [
        {
          "output_type": "execute_result",
          "data": {
            "text/plain": [
              "0.7823529411764706"
            ]
          },
          "metadata": {
            "tags": []
          },
          "execution_count": 23
        }
      ]
    }
  ]
}