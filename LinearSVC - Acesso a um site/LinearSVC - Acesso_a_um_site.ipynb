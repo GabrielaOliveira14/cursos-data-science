{
  "nbformat": 4,
  "nbformat_minor": 0,
  "metadata": {
    "colab": {
      "name": "LinearSVC - Acesso a um site",
      "provenance": [],
      "collapsed_sections": [],
      "toc_visible": true
    },
    "kernelspec": {
      "name": "python3",
      "display_name": "Python 3"
    }
  },
  "cells": [
    {
      "cell_type": "markdown",
      "metadata": {
        "id": "bBMnznW4zhJu"
      },
      "source": [
        "#Importações"
      ]
    },
    {
      "cell_type": "code",
      "metadata": {
        "id": "V1Z3UbRgzUAR"
      },
      "source": [
        "import pandas as pd\n",
        "from sklearn.svm import LinearSVC\n",
        "from sklearn.metrics import accuracy_score\n",
        "from sklearn.model_selection import train_test_split\n",
        "import numpy as np"
      ],
      "execution_count": 12,
      "outputs": []
    },
    {
      "cell_type": "markdown",
      "metadata": {
        "id": "Ki59k3cDzlee"
      },
      "source": [
        "#Importação da base de dados"
      ]
    },
    {
      "cell_type": "code",
      "metadata": {
        "id": "oHX8tqDNzxFi",
        "outputId": "26c3d67a-bd95-4d2a-efbb-782d2b0f180c",
        "colab": {
          "base_uri": "https://localhost:8080/",
          "height": 204
        }
      },
      "source": [
        "uri = \"https://gist.githubusercontent.com/guilhermesilveira/2d2efa37d66b6c84a722ea627a897ced/raw/10968b997d885cbded1c92938c7a9912ba41c615/tracking.csv\"\n",
        "dados = pd.read_csv(uri)\n",
        "dados.head()"
      ],
      "execution_count": 2,
      "outputs": [
        {
          "output_type": "execute_result",
          "data": {
            "text/html": [
              "<div>\n",
              "<style scoped>\n",
              "    .dataframe tbody tr th:only-of-type {\n",
              "        vertical-align: middle;\n",
              "    }\n",
              "\n",
              "    .dataframe tbody tr th {\n",
              "        vertical-align: top;\n",
              "    }\n",
              "\n",
              "    .dataframe thead th {\n",
              "        text-align: right;\n",
              "    }\n",
              "</style>\n",
              "<table border=\"1\" class=\"dataframe\">\n",
              "  <thead>\n",
              "    <tr style=\"text-align: right;\">\n",
              "      <th></th>\n",
              "      <th>home</th>\n",
              "      <th>how_it_works</th>\n",
              "      <th>contact</th>\n",
              "      <th>bought</th>\n",
              "    </tr>\n",
              "  </thead>\n",
              "  <tbody>\n",
              "    <tr>\n",
              "      <th>0</th>\n",
              "      <td>1</td>\n",
              "      <td>1</td>\n",
              "      <td>0</td>\n",
              "      <td>0</td>\n",
              "    </tr>\n",
              "    <tr>\n",
              "      <th>1</th>\n",
              "      <td>1</td>\n",
              "      <td>1</td>\n",
              "      <td>0</td>\n",
              "      <td>0</td>\n",
              "    </tr>\n",
              "    <tr>\n",
              "      <th>2</th>\n",
              "      <td>1</td>\n",
              "      <td>1</td>\n",
              "      <td>0</td>\n",
              "      <td>0</td>\n",
              "    </tr>\n",
              "    <tr>\n",
              "      <th>3</th>\n",
              "      <td>1</td>\n",
              "      <td>1</td>\n",
              "      <td>0</td>\n",
              "      <td>0</td>\n",
              "    </tr>\n",
              "    <tr>\n",
              "      <th>4</th>\n",
              "      <td>1</td>\n",
              "      <td>1</td>\n",
              "      <td>0</td>\n",
              "      <td>0</td>\n",
              "    </tr>\n",
              "  </tbody>\n",
              "</table>\n",
              "</div>"
            ],
            "text/plain": [
              "   home  how_it_works  contact  bought\n",
              "0     1             1        0       0\n",
              "1     1             1        0       0\n",
              "2     1             1        0       0\n",
              "3     1             1        0       0\n",
              "4     1             1        0       0"
            ]
          },
          "metadata": {
            "tags": []
          },
          "execution_count": 2
        }
      ]
    },
    {
      "cell_type": "markdown",
      "metadata": {
        "id": "3rzbn7UOzwbt"
      },
      "source": [
        "# Modelo LinearSVC"
      ]
    },
    {
      "cell_type": "code",
      "metadata": {
        "id": "tsigikFx0crW"
      },
      "source": [
        "mapa = {\n",
        "    \"home\" : \"principal\",\n",
        "    \"how_it_works\" : \"como_funciona\",\n",
        "    \"contact\" : \"contato\",\n",
        "    \"bought\": \"comprou\"\n",
        "}\n",
        "\n",
        "dados = dados.rename(columns = mapa)"
      ],
      "execution_count": 3,
      "outputs": []
    },
    {
      "cell_type": "code",
      "metadata": {
        "id": "vzO5AEWr0AOF"
      },
      "source": [
        "x = dados[['principal', 'como_funciona', 'contato']]\n",
        "y = dados['comprou']"
      ],
      "execution_count": 4,
      "outputs": []
    },
    {
      "cell_type": "code",
      "metadata": {
        "id": "wktEnC0h1Ybq"
      },
      "source": [
        " treino_x = x[:75]\n",
        " treino_y = y[:75]\n",
        " teste_x = x[75:]\n",
        " teste_y = y[75:]"
      ],
      "execution_count": 5,
      "outputs": []
    },
    {
      "cell_type": "code",
      "metadata": {
        "id": "x_5KbFe01_2T",
        "outputId": "f9dbd29b-b246-45e2-c025-6ded394a2057",
        "colab": {
          "base_uri": "https://localhost:8080/"
        }
      },
      "source": [
        "modelo = LinearSVC()\n",
        "modelo.fit(treino_x, treino_y)\n",
        "previsoes = modelo.predict(teste_x)\n",
        "acuracia = accuracy_score(teste_y, previsoes) * 100\n",
        "print(\"A acuracia foi %.2f%%\" % acuracia)"
      ],
      "execution_count": 7,
      "outputs": [
        {
          "output_type": "stream",
          "text": [
            "A acuracia foi 95.83%\n"
          ],
          "name": "stdout"
        }
      ]
    },
    {
      "cell_type": "code",
      "metadata": {
        "id": "QUQ7WYvb2MUe"
      },
      "source": [
        "SEED = 20 # tirar a aleatoriedade dos testes e dar sempre o mesmo resultado\n",
        "np.random.seed(SEED)  # -> ajuda a tirar a aleatoriedade. (Ajuda a aumentar a acuracia)\n",
        "treino_x, teste_x, treino_y, teste_y = train_test_split(x, y, test_size = 0.25, stratify = y) #stratify -> separar de acordo com o y para não ficar muito de quem nao comprou e pouco de quem comprou. serve para balancear"
      ],
      "execution_count": 8,
      "outputs": []
    },
    {
      "cell_type": "code",
      "metadata": {
        "id": "sAdhBYpO3YuU",
        "outputId": "a8120277-9abd-4a5c-affb-50a5f9380d06",
        "colab": {
          "base_uri": "https://localhost:8080/"
        }
      },
      "source": [
        "modelo = LinearSVC()\n",
        "modelo.fit(treino_x, treino_y)\n",
        "previsoes = modelo.predict(teste_x)\n",
        "acuracia = accuracy_score(teste_y, previsoes) * 100\n",
        "print(\"A acuracia foi %.2f%%\" % acuracia)"
      ],
      "execution_count": 9,
      "outputs": [
        {
          "output_type": "stream",
          "text": [
            "A acuracia foi 96.00%\n"
          ],
          "name": "stdout"
        }
      ]
    },
    {
      "cell_type": "code",
      "metadata": {
        "id": "9ellc-tE4WWN",
        "outputId": "ad7625ae-d2a8-4a1b-c331-b525a7d3a44d",
        "colab": {
          "base_uri": "https://localhost:8080/"
        }
      },
      "source": [
        "treino_y.value_counts() # é importante que esteja mais ou menos 1 p 2"
      ],
      "execution_count": 10,
      "outputs": [
        {
          "output_type": "execute_result",
          "data": {
            "text/plain": [
              "0    49\n",
              "1    25\n",
              "Name: comprou, dtype: int64"
            ]
          },
          "metadata": {
            "tags": []
          },
          "execution_count": 10
        }
      ]
    },
    {
      "cell_type": "code",
      "metadata": {
        "id": "xdRJQHIj5TbK",
        "outputId": "fd7c4304-f63c-4ad5-f449-275d1ca34adb",
        "colab": {
          "base_uri": "https://localhost:8080/"
        }
      },
      "source": [
        "teste_y.value_counts() # é importante que esteja mais ou menos 1 p 2"
      ],
      "execution_count": 11,
      "outputs": [
        {
          "output_type": "execute_result",
          "data": {
            "text/plain": [
              "0    17\n",
              "1     8\n",
              "Name: comprou, dtype: int64"
            ]
          },
          "metadata": {
            "tags": []
          },
          "execution_count": 11
        }
      ]
    }
  ]
}