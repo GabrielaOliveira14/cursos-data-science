{
  "nbformat": 4,
  "nbformat_minor": 0,
  "metadata": {
    "kernelspec": {
      "display_name": "Python 3",
      "language": "python",
      "name": "python3"
    },
    "language_info": {
      "codemirror_mode": {
        "name": "ipython",
        "version": 3
      },
      "file_extension": ".py",
      "mimetype": "text/x-python",
      "name": "python",
      "nbconvert_exporter": "python",
      "pygments_lexer": "ipython3",
      "version": "3.6.9"
    },
    "colab": {
      "name": "Clusterizacao-Segmentos.ipynb",
      "provenance": [],
      "collapsed_sections": []
    }
  },
  "cells": [
    {
      "cell_type": "markdown",
      "metadata": {
        "id": "wsc73SgBx8P8"
      },
      "source": [
        "### Segmentação de Clientes"
      ]
    },
    {
      "cell_type": "markdown",
      "metadata": {
        "id": "CtWyzGENx8QK"
      },
      "source": [
        "> Neste trabalho, usaremos o banco de dados da Olist com K-means para identificar a frequência, recência e receita dos consumidores e agrupa-los em categorias de compras. Assim podemos fazer campanhas de marketing específicas, além de criar programas de recompensas para os clientes que mais consomem."
      ]
    },
    {
      "cell_type": "code",
      "metadata": {
        "id": "Nu75ywsIx8QM"
      },
      "source": [
        "import pandas as pd\n",
        "import numpy as np\n",
        "import matplotlib as mpl\n",
        "import matplotlib.pyplot as plt\n",
        "import seaborn as sns\n",
        "import datetime"
      ],
      "execution_count": 1,
      "outputs": []
    },
    {
      "cell_type": "code",
      "metadata": {
        "id": "dDUadLoox8QN"
      },
      "source": [
        "df=pd.read_csv('BancoDeDados.csv')"
      ],
      "execution_count": 2,
      "outputs": []
    },
    {
      "cell_type": "code",
      "metadata": {
        "colab": {
          "base_uri": "https://localhost:8080/"
        },
        "id": "tHzkwTTI05sr",
        "outputId": "6adbc335-7471-4ce4-9ded-b9b7bab9f231"
      },
      "source": [
        "df.shape"
      ],
      "execution_count": 3,
      "outputs": [
        {
          "output_type": "execute_result",
          "data": {
            "text/plain": [
              "(116581, 27)"
            ]
          },
          "metadata": {
            "tags": []
          },
          "execution_count": 3
        }
      ]
    },
    {
      "cell_type": "code",
      "metadata": {
        "colab": {
          "base_uri": "https://localhost:8080/"
        },
        "id": "S7_Dl-ntx8QN",
        "outputId": "9c1d2e21-2511-4b71-fd65-fa67928da2bb"
      },
      "source": [
        "df.info()"
      ],
      "execution_count": 4,
      "outputs": [
        {
          "output_type": "stream",
          "text": [
            "<class 'pandas.core.frame.DataFrame'>\n",
            "RangeIndex: 116581 entries, 0 to 116580\n",
            "Data columns (total 27 columns):\n",
            " #   Column                Non-Null Count   Dtype  \n",
            "---  ------                --------------   -----  \n",
            " 0   amostra               116581 non-null  int64  \n",
            " 1   id_cliente            116581 non-null  object \n",
            " 2   id_unico_cliente      116581 non-null  object \n",
            " 3   item_id               116581 non-null  int64  \n",
            " 4   cep_cliente           116581 non-null  int64  \n",
            " 5   cidade_cliente        116581 non-null  object \n",
            " 6   estado_cliente        116581 non-null  object \n",
            " 7   id_pedido             116581 non-null  object \n",
            " 8   status_pedido         116581 non-null  object \n",
            " 9   horario_pedido        116581 non-null  object \n",
            " 10  pedido_aprovado       116567 non-null  object \n",
            " 11  pedido_entregador     115368 non-null  object \n",
            " 12  pedido_entregue       114066 non-null  object \n",
            " 13  data_estimada         116581 non-null  object \n",
            " 14  id_vendedor           116581 non-null  object \n",
            " 15  preco                 116581 non-null  float64\n",
            " 16  frete                 116581 non-null  float64\n",
            " 17  pagamento_sequencial  116581 non-null  int64  \n",
            " 18  pagamento_tipo        116581 non-null  object \n",
            " 19  pagamento_prestacoes  116581 non-null  int64  \n",
            " 20  pagamento_valor       116581 non-null  float64\n",
            " 21  review                116581 non-null  int64  \n",
            " 22  categoria             116581 non-null  object \n",
            " 23  categoria_ingles      116581 non-null  object \n",
            " 24  cep_vendedor          116581 non-null  int64  \n",
            " 25  cidade_vendedor       116581 non-null  object \n",
            " 26  estado_vendedor       116581 non-null  object \n",
            "dtypes: float64(3), int64(7), object(17)\n",
            "memory usage: 24.0+ MB\n"
          ],
          "name": "stdout"
        }
      ]
    },
    {
      "cell_type": "code",
      "metadata": {
        "id": "-NnDIwWax8QQ",
        "colab": {
          "base_uri": "https://localhost:8080/",
          "height": 309
        },
        "outputId": "11d903a6-87c7-4130-d745-63604991acfd"
      },
      "source": [
        "df.head()"
      ],
      "execution_count": 5,
      "outputs": [
        {
          "output_type": "execute_result",
          "data": {
            "text/html": [
              "<div>\n",
              "<style scoped>\n",
              "    .dataframe tbody tr th:only-of-type {\n",
              "        vertical-align: middle;\n",
              "    }\n",
              "\n",
              "    .dataframe tbody tr th {\n",
              "        vertical-align: top;\n",
              "    }\n",
              "\n",
              "    .dataframe thead th {\n",
              "        text-align: right;\n",
              "    }\n",
              "</style>\n",
              "<table border=\"1\" class=\"dataframe\">\n",
              "  <thead>\n",
              "    <tr style=\"text-align: right;\">\n",
              "      <th></th>\n",
              "      <th>amostra</th>\n",
              "      <th>id_cliente</th>\n",
              "      <th>id_unico_cliente</th>\n",
              "      <th>item_id</th>\n",
              "      <th>cep_cliente</th>\n",
              "      <th>cidade_cliente</th>\n",
              "      <th>estado_cliente</th>\n",
              "      <th>id_pedido</th>\n",
              "      <th>status_pedido</th>\n",
              "      <th>horario_pedido</th>\n",
              "      <th>pedido_aprovado</th>\n",
              "      <th>pedido_entregador</th>\n",
              "      <th>pedido_entregue</th>\n",
              "      <th>data_estimada</th>\n",
              "      <th>id_vendedor</th>\n",
              "      <th>preco</th>\n",
              "      <th>frete</th>\n",
              "      <th>pagamento_sequencial</th>\n",
              "      <th>pagamento_tipo</th>\n",
              "      <th>pagamento_prestacoes</th>\n",
              "      <th>pagamento_valor</th>\n",
              "      <th>review</th>\n",
              "      <th>categoria</th>\n",
              "      <th>categoria_ingles</th>\n",
              "      <th>cep_vendedor</th>\n",
              "      <th>cidade_vendedor</th>\n",
              "      <th>estado_vendedor</th>\n",
              "    </tr>\n",
              "  </thead>\n",
              "  <tbody>\n",
              "    <tr>\n",
              "      <th>0</th>\n",
              "      <td>0</td>\n",
              "      <td>06b8999e2fba1a1fbc88172c00ba8bc7</td>\n",
              "      <td>861eff4711a542e4b93843c6dd7febb0</td>\n",
              "      <td>1</td>\n",
              "      <td>14409</td>\n",
              "      <td>franca</td>\n",
              "      <td>SP</td>\n",
              "      <td>00e7ee1b050b8499577073aeb2a297a1</td>\n",
              "      <td>delivered</td>\n",
              "      <td>2017-05-16 15:05:35</td>\n",
              "      <td>2017-05-16 15:22:12</td>\n",
              "      <td>2017-05-23 10:47:57</td>\n",
              "      <td>2017-05-25 10:35:35</td>\n",
              "      <td>2017-06-05 00:00:00</td>\n",
              "      <td>7c67e1448b00f6e969d365cea6b010ab</td>\n",
              "      <td>124.99</td>\n",
              "      <td>21.88</td>\n",
              "      <td>1</td>\n",
              "      <td>credit_card</td>\n",
              "      <td>2</td>\n",
              "      <td>146.87</td>\n",
              "      <td>4</td>\n",
              "      <td>moveis_escritorio</td>\n",
              "      <td>office_furniture</td>\n",
              "      <td>8577</td>\n",
              "      <td>itaquaquecetuba</td>\n",
              "      <td>SP</td>\n",
              "    </tr>\n",
              "    <tr>\n",
              "      <th>1</th>\n",
              "      <td>1</td>\n",
              "      <td>8912fc0c3bbf1e2fbf35819e21706718</td>\n",
              "      <td>9eae34bbd3a474ec5d07949ca7de67c0</td>\n",
              "      <td>1</td>\n",
              "      <td>68030</td>\n",
              "      <td>santarem</td>\n",
              "      <td>PA</td>\n",
              "      <td>c1d2b34febe9cd269e378117d6681172</td>\n",
              "      <td>delivered</td>\n",
              "      <td>2017-11-09 00:50:13</td>\n",
              "      <td>2017-11-10 00:47:48</td>\n",
              "      <td>2017-11-22 01:43:37</td>\n",
              "      <td>2017-11-28 00:09:50</td>\n",
              "      <td>2017-12-19 00:00:00</td>\n",
              "      <td>7c67e1448b00f6e969d365cea6b010ab</td>\n",
              "      <td>112.99</td>\n",
              "      <td>24.90</td>\n",
              "      <td>1</td>\n",
              "      <td>credit_card</td>\n",
              "      <td>1</td>\n",
              "      <td>275.79</td>\n",
              "      <td>1</td>\n",
              "      <td>moveis_escritorio</td>\n",
              "      <td>office_furniture</td>\n",
              "      <td>8577</td>\n",
              "      <td>itaquaquecetuba</td>\n",
              "      <td>SP</td>\n",
              "    </tr>\n",
              "    <tr>\n",
              "      <th>2</th>\n",
              "      <td>2</td>\n",
              "      <td>8912fc0c3bbf1e2fbf35819e21706718</td>\n",
              "      <td>9eae34bbd3a474ec5d07949ca7de67c0</td>\n",
              "      <td>2</td>\n",
              "      <td>68030</td>\n",
              "      <td>santarem</td>\n",
              "      <td>PA</td>\n",
              "      <td>c1d2b34febe9cd269e378117d6681172</td>\n",
              "      <td>delivered</td>\n",
              "      <td>2017-11-09 00:50:13</td>\n",
              "      <td>2017-11-10 00:47:48</td>\n",
              "      <td>2017-11-22 01:43:37</td>\n",
              "      <td>2017-11-28 00:09:50</td>\n",
              "      <td>2017-12-19 00:00:00</td>\n",
              "      <td>7c67e1448b00f6e969d365cea6b010ab</td>\n",
              "      <td>112.99</td>\n",
              "      <td>24.90</td>\n",
              "      <td>1</td>\n",
              "      <td>credit_card</td>\n",
              "      <td>1</td>\n",
              "      <td>275.79</td>\n",
              "      <td>1</td>\n",
              "      <td>moveis_escritorio</td>\n",
              "      <td>office_furniture</td>\n",
              "      <td>8577</td>\n",
              "      <td>itaquaquecetuba</td>\n",
              "      <td>SP</td>\n",
              "    </tr>\n",
              "    <tr>\n",
              "      <th>3</th>\n",
              "      <td>3</td>\n",
              "      <td>f0ac8e5a239118859b1734e1087cbb1f</td>\n",
              "      <td>3c799d181c34d51f6d44bbbc563024db</td>\n",
              "      <td>1</td>\n",
              "      <td>92480</td>\n",
              "      <td>nova santa rita</td>\n",
              "      <td>RS</td>\n",
              "      <td>b1a5d5365d330d10485e0203d54ab9e8</td>\n",
              "      <td>delivered</td>\n",
              "      <td>2017-05-07 20:11:26</td>\n",
              "      <td>2017-05-08 22:22:56</td>\n",
              "      <td>2017-05-19 20:16:31</td>\n",
              "      <td>2017-05-26 09:54:04</td>\n",
              "      <td>2017-06-12 00:00:00</td>\n",
              "      <td>7c67e1448b00f6e969d365cea6b010ab</td>\n",
              "      <td>124.99</td>\n",
              "      <td>15.62</td>\n",
              "      <td>1</td>\n",
              "      <td>credit_card</td>\n",
              "      <td>7</td>\n",
              "      <td>140.61</td>\n",
              "      <td>3</td>\n",
              "      <td>moveis_escritorio</td>\n",
              "      <td>office_furniture</td>\n",
              "      <td>8577</td>\n",
              "      <td>itaquaquecetuba</td>\n",
              "      <td>SP</td>\n",
              "    </tr>\n",
              "    <tr>\n",
              "      <th>4</th>\n",
              "      <td>4</td>\n",
              "      <td>6bc8d08963a135220ed6c6d098831f84</td>\n",
              "      <td>23397e992b09769faf5e66f9e171a241</td>\n",
              "      <td>1</td>\n",
              "      <td>25931</td>\n",
              "      <td>mage</td>\n",
              "      <td>RJ</td>\n",
              "      <td>2e604b3614664aa66867856dba7e61b7</td>\n",
              "      <td>delivered</td>\n",
              "      <td>2018-02-03 19:45:40</td>\n",
              "      <td>2018-02-04 22:29:19</td>\n",
              "      <td>2018-02-19 18:21:47</td>\n",
              "      <td>2018-02-28 21:09:00</td>\n",
              "      <td>2018-03-22 00:00:00</td>\n",
              "      <td>7c67e1448b00f6e969d365cea6b010ab</td>\n",
              "      <td>106.99</td>\n",
              "      <td>30.59</td>\n",
              "      <td>1</td>\n",
              "      <td>credit_card</td>\n",
              "      <td>10</td>\n",
              "      <td>137.58</td>\n",
              "      <td>4</td>\n",
              "      <td>moveis_escritorio</td>\n",
              "      <td>office_furniture</td>\n",
              "      <td>8577</td>\n",
              "      <td>itaquaquecetuba</td>\n",
              "      <td>SP</td>\n",
              "    </tr>\n",
              "  </tbody>\n",
              "</table>\n",
              "</div>"
            ],
            "text/plain": [
              "   amostra                        id_cliente  ...  cidade_vendedor  estado_vendedor\n",
              "0        0  06b8999e2fba1a1fbc88172c00ba8bc7  ...  itaquaquecetuba               SP\n",
              "1        1  8912fc0c3bbf1e2fbf35819e21706718  ...  itaquaquecetuba               SP\n",
              "2        2  8912fc0c3bbf1e2fbf35819e21706718  ...  itaquaquecetuba               SP\n",
              "3        3  f0ac8e5a239118859b1734e1087cbb1f  ...  itaquaquecetuba               SP\n",
              "4        4  6bc8d08963a135220ed6c6d098831f84  ...  itaquaquecetuba               SP\n",
              "\n",
              "[5 rows x 27 columns]"
            ]
          },
          "metadata": {
            "tags": []
          },
          "execution_count": 5
        }
      ]
    },
    {
      "cell_type": "markdown",
      "metadata": {
        "id": "kP2ZAhW5x8QR"
      },
      "source": [
        "### Análise Exploratória"
      ]
    },
    {
      "cell_type": "code",
      "metadata": {
        "id": "60asXh9Vx8QR"
      },
      "source": [
        "def plot_perc(st,dados):\n",
        "    plt.figure(figsize=(20,8))\n",
        "\n",
        "    g = sns.countplot(x=st, data=dados, orient='h')\n",
        "    g.set_title(\"Distribuição do estado dos clientes\", fontsize=20)\n",
        "    g.set_xlabel(\"Estado\", fontsize=17)\n",
        "    g.set_ylabel(\"Contagem\", fontsize=17)\n",
        "    g.set_xticklabels(g.get_xticklabels(),rotation=45)\n",
        "    sizes = []\n",
        "    for p in g.patches:\n",
        "        height = p.get_height()\n",
        "        sizes.append(height)\n",
        "        g.text(p.get_x()+p.get_width()/1.6,\n",
        "            height + 200,\n",
        "            '{:1.2f}%'.format(height/26634*100),\n",
        "            ha=\"center\", va='bottom',fontsize=12) \n",
        "    g.set_ylim(0, max(sizes) * 1.1)"
      ],
      "execution_count": 6,
      "outputs": []
    },
    {
      "cell_type": "code",
      "metadata": {
        "colab": {
          "base_uri": "https://localhost:8080/",
          "height": 532
        },
        "id": "6HthLJzyx8QT",
        "outputId": "1b1adc34-77ba-4a0f-f2f8-4c2a3510988a"
      },
      "source": [
        "plot_perc('estado_cliente',df)"
      ],
      "execution_count": 7,
      "outputs": [
        {
          "output_type": "display_data",
          "data": {
            "image/png": "[encoded data removed]",
            "text/plain": [
              "<Figure size 1440x576 with 1 Axes>"
            ]
          },
          "metadata": {
            "tags": [],
            "needs_background": "light"
          }
        }
      ]
    },
    {
      "cell_type": "code",
      "metadata": {
        "colab": {
          "base_uri": "https://localhost:8080/",
          "height": 533
        },
        "id": "-jgjo_vax8QT",
        "outputId": "e1b411c1-5b55-4d71-b923-bd21a3238c27"
      },
      "source": [
        "plot_perc('estado_vendedor',df)"
      ],
      "execution_count": 8,
      "outputs": [
        {
          "output_type": "display_data",
          "data": {
            "image/png": "[encoded data removed]",
            "text/plain": [
              "<Figure size 1440x576 with 1 Axes>"
            ]
          },
          "metadata": {
            "tags": [],
            "needs_background": "light"
          }
        }
      ]
    },
    {
      "cell_type": "code",
      "metadata": {
        "colab": {
          "base_uri": "https://localhost:8080/",
          "height": 562
        },
        "id": "Ci_8vmPzx8QU",
        "outputId": "e71c4a9b-2060-475c-8175-285a87cf9690"
      },
      "source": [
        "plot_perc('pagamento_tipo',df)"
      ],
      "execution_count": 9,
      "outputs": [
        {
          "output_type": "display_data",
          "data": {
            "image/png": "[encoded data removed]",
            "text/plain": [
              "<Figure size 1440x576 with 1 Axes>"
            ]
          },
          "metadata": {
            "tags": [],
            "needs_background": "light"
          }
        }
      ]
    },
    {
      "cell_type": "markdown",
      "metadata": {
        "id": "9_d7Aj_Rx8QW"
      },
      "source": [
        "- Identificamos primeiramente que a maioria dos clientes realiza compras por cartão de crédito, posteriormente por boleto, voucher e cartão de débito. Seria interessante aumentar as promoções para pagamento à vista (para aumento dos pagamentos com boleto ou cartão de débito).\n",
        "- Também percebe-se que a maioria dos vendedores e compradores estão em SP."
      ]
    },
    {
      "cell_type": "markdown",
      "metadata": {
        "id": "6y_tRog6x8QW"
      },
      "source": [
        "> Agora que temos um banco de dados completo, podemos salva-lo para utilizar posteriormente. Também vou criar um novo banco de dados apenas com as informações que vou precisar para fazer a análise de recẽncia, frequência e receita."
      ]
    },
    {
      "cell_type": "markdown",
      "metadata": {
        "id": "kusYo3E91yUf"
      },
      "source": [
        "**Recência**: Há quantos dias foi a ultima compra desse cliente?\r\n",
        "\r\n",
        "**Frequencia**: Quantas compras esse cliente já fez na sua empresa, desde que se cadastrou?\r\n",
        "\r\n",
        "**Monetaridade**: Quanto esse cliente já gastou em dinheiro na sua empresa?"
      ]
    },
    {
      "cell_type": "code",
      "metadata": {
        "id": "fbWtblftx8QX"
      },
      "source": [
        "df_olist = df[['id_unico_cliente', 'id_cliente', 'horario_pedido', 'item_id', 'preco']]"
      ],
      "execution_count": 10,
      "outputs": []
    },
    {
      "cell_type": "code",
      "metadata": {
        "id": "nOOmTAV4x8QX"
      },
      "source": [
        "df_compra = df.groupby('id_unico_cliente').horario_pedido.max().reset_index()\n",
        "df_compra.columns = ['id_unico_cliente', 'DataMaxCompra']"
      ],
      "execution_count": 11,
      "outputs": []
    },
    {
      "cell_type": "code",
      "metadata": {
        "id": "xO-gzUuex8QY"
      },
      "source": [
        "df_compra['DataMaxCompra']= pd.to_datetime(df_compra['DataMaxCompra']) "
      ],
      "execution_count": 12,
      "outputs": []
    },
    {
      "cell_type": "markdown",
      "metadata": {
        "id": "bn1Hvri0x8QZ"
      },
      "source": [
        "> Precisamos definir agora as três variáveis que utilizaremos para segmentação: **recência**, **frequência** e **receita**. Em inglês, é chamado de método RFM. Este é um método utilizado para analisar o comportamento do cliente e definir segmentos de mercado. :\n",
        "\n",
        "> - Recência: quão recentemente um cliente fez uma compra. É um importante preditor, pois um cliente que comprou há pouco tempo tem mais chance de voltar a comprar do que aquele que comprou há muito tempo, além de apresentar uma probabilidade maior de responder a promoções.\n",
        "- Frequência: com que frequência um cliente faz uma compra.  Se um cliente compra frequentemente, espera-se que ele volte a comprar.\n",
        "- Receita: quanto dinheiro um cliente gasta em compras. Aqueles clientes que gastaram muito têm mais valor para a organização em comparação com aqueles que gastaram menos"
      ]
    },
    {
      "cell_type": "code",
      "metadata": {
        "colab": {
          "base_uri": "https://localhost:8080/",
          "height": 204
        },
        "id": "jL14nxAkx8Qa",
        "outputId": "2c4ca660-8c40-4fee-aa5e-6ac73bc65780"
      },
      "source": [
        "#seleciona o ponto de observação como a data máxima de compra em nosso df\n",
        "df_compra['Recencia'] = (df_compra['DataMaxCompra'].max() - df_compra['DataMaxCompra']).dt.days\n",
        "df_compra.head()"
      ],
      "execution_count": 13,
      "outputs": [
        {
          "output_type": "execute_result",
          "data": {
            "text/html": [
              "<div>\n",
              "<style scoped>\n",
              "    .dataframe tbody tr th:only-of-type {\n",
              "        vertical-align: middle;\n",
              "    }\n",
              "\n",
              "    .dataframe tbody tr th {\n",
              "        vertical-align: top;\n",
              "    }\n",
              "\n",
              "    .dataframe thead th {\n",
              "        text-align: right;\n",
              "    }\n",
              "</style>\n",
              "<table border=\"1\" class=\"dataframe\">\n",
              "  <thead>\n",
              "    <tr style=\"text-align: right;\">\n",
              "      <th></th>\n",
              "      <th>id_unico_cliente</th>\n",
              "      <th>DataMaxCompra</th>\n",
              "      <th>Recencia</th>\n",
              "    </tr>\n",
              "  </thead>\n",
              "  <tbody>\n",
              "    <tr>\n",
              "      <th>0</th>\n",
              "      <td>0000366f3b9a7992bf8c76cfdf3221e2</td>\n",
              "      <td>2018-05-10 10:56:27</td>\n",
              "      <td>115</td>\n",
              "    </tr>\n",
              "    <tr>\n",
              "      <th>1</th>\n",
              "      <td>0000b849f77a49e4a4ce2b2a4ca5be3f</td>\n",
              "      <td>2018-05-07 11:11:27</td>\n",
              "      <td>118</td>\n",
              "    </tr>\n",
              "    <tr>\n",
              "      <th>2</th>\n",
              "      <td>0000f46a3911fa3c0805444483337064</td>\n",
              "      <td>2017-03-10 21:05:03</td>\n",
              "      <td>541</td>\n",
              "    </tr>\n",
              "    <tr>\n",
              "      <th>3</th>\n",
              "      <td>0000f6ccb0745a6a4b88665a16c9f078</td>\n",
              "      <td>2017-10-12 20:29:41</td>\n",
              "      <td>325</td>\n",
              "    </tr>\n",
              "    <tr>\n",
              "      <th>4</th>\n",
              "      <td>0004aac84e0df4da2b147fca70cf8255</td>\n",
              "      <td>2017-11-14 19:45:42</td>\n",
              "      <td>292</td>\n",
              "    </tr>\n",
              "  </tbody>\n",
              "</table>\n",
              "</div>"
            ],
            "text/plain": [
              "                   id_unico_cliente       DataMaxCompra  Recencia\n",
              "0  0000366f3b9a7992bf8c76cfdf3221e2 2018-05-10 10:56:27       115\n",
              "1  0000b849f77a49e4a4ce2b2a4ca5be3f 2018-05-07 11:11:27       118\n",
              "2  0000f46a3911fa3c0805444483337064 2017-03-10 21:05:03       541\n",
              "3  0000f6ccb0745a6a4b88665a16c9f078 2017-10-12 20:29:41       325\n",
              "4  0004aac84e0df4da2b147fca70cf8255 2017-11-14 19:45:42       292"
            ]
          },
          "metadata": {
            "tags": []
          },
          "execution_count": 13
        }
      ]
    },
    {
      "cell_type": "code",
      "metadata": {
        "colab": {
          "base_uri": "https://localhost:8080/",
          "height": 204
        },
        "id": "BJFMcy8q3n2s",
        "outputId": "9de594ca-7822-4b8f-bf41-cf68f6e888ff"
      },
      "source": [
        "#junta esse df com o nosso novo chamado df_user\r\n",
        "df_usuario = pd.merge(df_olist, df_compra[['id_unico_cliente','Recencia']], on='id_unico_cliente')\r\n",
        "\r\n",
        "df_usuario.head()"
      ],
      "execution_count": 14,
      "outputs": [
        {
          "output_type": "execute_result",
          "data": {
            "text/html": [
              "<div>\n",
              "<style scoped>\n",
              "    .dataframe tbody tr th:only-of-type {\n",
              "        vertical-align: middle;\n",
              "    }\n",
              "\n",
              "    .dataframe tbody tr th {\n",
              "        vertical-align: top;\n",
              "    }\n",
              "\n",
              "    .dataframe thead th {\n",
              "        text-align: right;\n",
              "    }\n",
              "</style>\n",
              "<table border=\"1\" class=\"dataframe\">\n",
              "  <thead>\n",
              "    <tr style=\"text-align: right;\">\n",
              "      <th></th>\n",
              "      <th>id_unico_cliente</th>\n",
              "      <th>id_cliente</th>\n",
              "      <th>horario_pedido</th>\n",
              "      <th>item_id</th>\n",
              "      <th>preco</th>\n",
              "      <th>Recencia</th>\n",
              "    </tr>\n",
              "  </thead>\n",
              "  <tbody>\n",
              "    <tr>\n",
              "      <th>0</th>\n",
              "      <td>861eff4711a542e4b93843c6dd7febb0</td>\n",
              "      <td>06b8999e2fba1a1fbc88172c00ba8bc7</td>\n",
              "      <td>2017-05-16 15:05:35</td>\n",
              "      <td>1</td>\n",
              "      <td>124.99</td>\n",
              "      <td>474</td>\n",
              "    </tr>\n",
              "    <tr>\n",
              "      <th>1</th>\n",
              "      <td>9eae34bbd3a474ec5d07949ca7de67c0</td>\n",
              "      <td>8912fc0c3bbf1e2fbf35819e21706718</td>\n",
              "      <td>2017-11-09 00:50:13</td>\n",
              "      <td>1</td>\n",
              "      <td>112.99</td>\n",
              "      <td>298</td>\n",
              "    </tr>\n",
              "    <tr>\n",
              "      <th>2</th>\n",
              "      <td>9eae34bbd3a474ec5d07949ca7de67c0</td>\n",
              "      <td>8912fc0c3bbf1e2fbf35819e21706718</td>\n",
              "      <td>2017-11-09 00:50:13</td>\n",
              "      <td>2</td>\n",
              "      <td>112.99</td>\n",
              "      <td>298</td>\n",
              "    </tr>\n",
              "    <tr>\n",
              "      <th>3</th>\n",
              "      <td>3c799d181c34d51f6d44bbbc563024db</td>\n",
              "      <td>f0ac8e5a239118859b1734e1087cbb1f</td>\n",
              "      <td>2017-05-07 20:11:26</td>\n",
              "      <td>1</td>\n",
              "      <td>124.99</td>\n",
              "      <td>483</td>\n",
              "    </tr>\n",
              "    <tr>\n",
              "      <th>4</th>\n",
              "      <td>23397e992b09769faf5e66f9e171a241</td>\n",
              "      <td>6bc8d08963a135220ed6c6d098831f84</td>\n",
              "      <td>2018-02-03 19:45:40</td>\n",
              "      <td>1</td>\n",
              "      <td>106.99</td>\n",
              "      <td>211</td>\n",
              "    </tr>\n",
              "  </tbody>\n",
              "</table>\n",
              "</div>"
            ],
            "text/plain": [
              "                   id_unico_cliente  ... Recencia\n",
              "0  861eff4711a542e4b93843c6dd7febb0  ...      474\n",
              "1  9eae34bbd3a474ec5d07949ca7de67c0  ...      298\n",
              "2  9eae34bbd3a474ec5d07949ca7de67c0  ...      298\n",
              "3  3c799d181c34d51f6d44bbbc563024db  ...      483\n",
              "4  23397e992b09769faf5e66f9e171a241  ...      211\n",
              "\n",
              "[5 rows x 6 columns]"
            ]
          },
          "metadata": {
            "tags": []
          },
          "execution_count": 14
        }
      ]
    },
    {
      "cell_type": "code",
      "metadata": {
        "id": "S8h2ac0tx8Qj"
      },
      "source": [
        "def calcular_wcss(data): # inercia\n",
        "    wcss = []\n",
        "    for k in range(1, 10):\n",
        "        kmeans = KMeans(n_clusters=k)\n",
        "        kmeans.fit(X=data)\n",
        "        data[\"clusters\"] = kmeans.labels_\n",
        "        wcss.append(kmeans.inertia_)\n",
        "    return wcss"
      ],
      "execution_count": 15,
      "outputs": []
    },
    {
      "cell_type": "markdown",
      "metadata": {
        "id": "qQzwGwtMx8Qj"
      },
      "source": [
        "> Agora precisamos usar o Método Cotovelo, a ideia é rodar o KMeans para várias quantidades diferentes de clusters e dizer qual dessas quantidades é o número ótimo de clusters. Usando a \"regra do cotovelo\", identificamos que a partir de 4 clusters teremos bons resultados. Vou usar 5 apenas para garantir.\n",
        "\n",
        "> O que geralmente acontece ao aumentar a quantidade de clusters no KMeans é que as diferenças entre clusters se tornam muito pequenas, e as diferenças das observações intra-clusters vão aumentando. Então é preciso achar um equilíbrio em que as observações que formam cada agrupamento sejam o mais homogêneas possível e que os agrupamentos formados sejam o mais diferentes um dos outros."
      ]
    },
    {
      "cell_type": "code",
      "metadata": {
        "id": "8j-90CMH8HzN"
      },
      "source": [
        "import warnings\r\n",
        "warnings.filterwarnings(\"ignore\")\r\n",
        "import seaborn as sns\r\n",
        "from sklearn.cluster import KMeans"
      ],
      "execution_count": 16,
      "outputs": []
    },
    {
      "cell_type": "code",
      "metadata": {
        "colab": {
          "base_uri": "https://localhost:8080/",
          "height": 204
        },
        "id": "1so1MaH0x8Qk",
        "outputId": "2331f4da-bd3c-4590-ad75-e91cbdd4da3f"
      },
      "source": [
        "df_recencia = df_usuario[['Recencia']]\n",
        "df_recencia.head()"
      ],
      "execution_count": 17,
      "outputs": [
        {
          "output_type": "execute_result",
          "data": {
            "text/html": [
              "<div>\n",
              "<style scoped>\n",
              "    .dataframe tbody tr th:only-of-type {\n",
              "        vertical-align: middle;\n",
              "    }\n",
              "\n",
              "    .dataframe tbody tr th {\n",
              "        vertical-align: top;\n",
              "    }\n",
              "\n",
              "    .dataframe thead th {\n",
              "        text-align: right;\n",
              "    }\n",
              "</style>\n",
              "<table border=\"1\" class=\"dataframe\">\n",
              "  <thead>\n",
              "    <tr style=\"text-align: right;\">\n",
              "      <th></th>\n",
              "      <th>Recencia</th>\n",
              "    </tr>\n",
              "  </thead>\n",
              "  <tbody>\n",
              "    <tr>\n",
              "      <th>0</th>\n",
              "      <td>474</td>\n",
              "    </tr>\n",
              "    <tr>\n",
              "      <th>1</th>\n",
              "      <td>298</td>\n",
              "    </tr>\n",
              "    <tr>\n",
              "      <th>2</th>\n",
              "      <td>298</td>\n",
              "    </tr>\n",
              "    <tr>\n",
              "      <th>3</th>\n",
              "      <td>483</td>\n",
              "    </tr>\n",
              "    <tr>\n",
              "      <th>4</th>\n",
              "      <td>211</td>\n",
              "    </tr>\n",
              "  </tbody>\n",
              "</table>\n",
              "</div>"
            ],
            "text/plain": [
              "   Recencia\n",
              "0       474\n",
              "1       298\n",
              "2       298\n",
              "3       483\n",
              "4       211"
            ]
          },
          "metadata": {
            "tags": []
          },
          "execution_count": 17
        }
      ]
    },
    {
      "cell_type": "code",
      "metadata": {
        "id": "cMPxk3pD8LnR",
        "colab": {
          "base_uri": "https://localhost:8080/"
        },
        "outputId": "69c3e47f-f3b6-432b-c4f9-05c3ebb7fcd4"
      },
      "source": [
        "soma_quadrados = calcular_wcss(df_recencia) # inercia\r\n",
        "soma_quadrados"
      ],
      "execution_count": 18,
      "outputs": [
        {
          "output_type": "execute_result",
          "data": {
            "text/plain": [
              "[2733029504.9432926,\n",
              " 807902990.2834922,\n",
              " 362034954.49866176,\n",
              " 213824487.56023872,\n",
              " 135961910.81493264,\n",
              " 96353641.79308766,\n",
              " 69833749.19839448,\n",
              " 55739044.62309228,\n",
              " 44181826.49752256]"
            ]
          },
          "metadata": {
            "tags": []
          },
          "execution_count": 18
        }
      ]
    },
    {
      "cell_type": "code",
      "metadata": {
        "colab": {
          "base_uri": "https://localhost:8080/",
          "height": 345
        },
        "id": "JFAO-O_8x8Qk",
        "outputId": "1658776a-79d9-4f6c-e8db-b4867458f29b"
      },
      "source": [
        "plt.figure(figsize=(10, 5))\n",
        "plt.plot(soma_quadrados)\n",
        "plt.xlabel(\"Número de Clusters\")\n",
        "plt.show()"
      ],
      "execution_count": 19,
      "outputs": [
        {
          "output_type": "display_data",
          "data": {
            "image/png": "[encoded data removed]",
            "text/plain": [
              "<Figure size 720x360 with 1 Axes>"
            ]
          },
          "metadata": {
            "tags": [],
            "needs_background": "light"
          }
        }
      ]
    },
    {
      "cell_type": "markdown",
      "metadata": {
        "id": "7dCixllqx8Ql"
      },
      "source": [
        "> Mas como podemos identificar se o melhor número de clusters é 3, 4 ou 5? Existe uma solução matemática! Primeiramente, definimos uma reta ligando o primeiro ponto (cluster 1) ao último ponto (cluster 9). Então, calculamos a distância de cada ponto até a reta usando a seguinte equação:"
      ]
    },
    {
      "cell_type": "markdown",
      "metadata": {
        "id": "j-bj4m-_x8Qm"
      },
      "source": [
        "![](https://miro.medium.com/max/2775/1*9J7Wnh5L0eIcHXBeWlzvNA.png)"
      ]
    },
    {
      "cell_type": "markdown",
      "metadata": {
        "id": "x4-5zHo8x8Qn"
      },
      "source": [
        "> Neste caso, P0 é o ponto do cluster 1 e P1 o ponto do cluster 9. O par (x,y) representa as coordenadas de qualquer ponto que a gente queira calcular a distância. Calculando todas as distância, conseguimos determinar o ponto ideal!"
      ]
    },
    {
      "cell_type": "code",
      "metadata": {
        "id": "oIjIc3b-x8Qn"
      },
      "source": [
        "import math\n",
        "def numero_otimo_clusters(wcss):\n",
        "    x1, y1 = 2, wcss[0]\n",
        "    x2, y2 = 20, wcss[len(wcss)-1]\n",
        "\n",
        "    distancias = []\n",
        "    for i in range(len(wcss)):\n",
        "        x0 = i+2\n",
        "        y0 = wcss[i]\n",
        "        numerador = abs((y2-y1)*x0 - (x2-x1)*y0 + x2*y1 - y2*x1)\n",
        "        denominador = math.sqrt((y2 - y1)**2 + (x2 - x1)**2)\n",
        "        distancias.append(numerador/denominador)\n",
        "    \n",
        "    return distancias.index(max(distancias)) + 2"
      ],
      "execution_count": 20,
      "outputs": []
    },
    {
      "cell_type": "code",
      "metadata": {
        "id": "lqcfQUzox8Qn"
      },
      "source": [
        "# calculando a soma dos quadrados para as quantidade de clusters\n",
        "soma_quadrados = calcular_wcss(df_recencia)\n",
        "\n",
        "# calculando a quantidade ótima de clusters\n",
        "n = numero_otimo_clusters(soma_quadrados)"
      ],
      "execution_count": 21,
      "outputs": []
    },
    {
      "cell_type": "markdown",
      "metadata": {
        "id": "qIB5-s2Wx8Qo"
      },
      "source": [
        "> E agora o número ideal de clusters!"
      ]
    },
    {
      "cell_type": "code",
      "metadata": {
        "id": "qrZK4sLlx8Qp",
        "colab": {
          "base_uri": "https://localhost:8080/"
        },
        "outputId": "a1f5ae7c-cd90-46f9-a130-b06a85e08b7b"
      },
      "source": [
        "n"
      ],
      "execution_count": 22,
      "outputs": [
        {
          "output_type": "execute_result",
          "data": {
            "text/plain": [
              "4"
            ]
          },
          "metadata": {
            "tags": []
          },
          "execution_count": 22
        }
      ]
    },
    {
      "cell_type": "code",
      "metadata": {
        "id": "QKvy1PfJx8Qp",
        "colab": {
          "base_uri": "https://localhost:8080/",
          "height": 204
        },
        "outputId": "59f2b828-d3bb-45a9-fa13-4d5797ae215b"
      },
      "source": [
        "# rodando o kmeans para nossa quantidade ótima de clusters\n",
        "kmeans = KMeans(n_clusters=4)\n",
        "df_usuario['RecenciaCluster'] = kmeans.fit_predict(df_recencia)\n",
        "df_usuario.head()"
      ],
      "execution_count": 23,
      "outputs": [
        {
          "output_type": "execute_result",
          "data": {
            "text/html": [
              "<div>\n",
              "<style scoped>\n",
              "    .dataframe tbody tr th:only-of-type {\n",
              "        vertical-align: middle;\n",
              "    }\n",
              "\n",
              "    .dataframe tbody tr th {\n",
              "        vertical-align: top;\n",
              "    }\n",
              "\n",
              "    .dataframe thead th {\n",
              "        text-align: right;\n",
              "    }\n",
              "</style>\n",
              "<table border=\"1\" class=\"dataframe\">\n",
              "  <thead>\n",
              "    <tr style=\"text-align: right;\">\n",
              "      <th></th>\n",
              "      <th>id_unico_cliente</th>\n",
              "      <th>id_cliente</th>\n",
              "      <th>horario_pedido</th>\n",
              "      <th>item_id</th>\n",
              "      <th>preco</th>\n",
              "      <th>Recencia</th>\n",
              "      <th>RecenciaCluster</th>\n",
              "    </tr>\n",
              "  </thead>\n",
              "  <tbody>\n",
              "    <tr>\n",
              "      <th>0</th>\n",
              "      <td>861eff4711a542e4b93843c6dd7febb0</td>\n",
              "      <td>06b8999e2fba1a1fbc88172c00ba8bc7</td>\n",
              "      <td>2017-05-16 15:05:35</td>\n",
              "      <td>1</td>\n",
              "      <td>124.99</td>\n",
              "      <td>474</td>\n",
              "      <td>1</td>\n",
              "    </tr>\n",
              "    <tr>\n",
              "      <th>1</th>\n",
              "      <td>9eae34bbd3a474ec5d07949ca7de67c0</td>\n",
              "      <td>8912fc0c3bbf1e2fbf35819e21706718</td>\n",
              "      <td>2017-11-09 00:50:13</td>\n",
              "      <td>1</td>\n",
              "      <td>112.99</td>\n",
              "      <td>298</td>\n",
              "      <td>2</td>\n",
              "    </tr>\n",
              "    <tr>\n",
              "      <th>2</th>\n",
              "      <td>9eae34bbd3a474ec5d07949ca7de67c0</td>\n",
              "      <td>8912fc0c3bbf1e2fbf35819e21706718</td>\n",
              "      <td>2017-11-09 00:50:13</td>\n",
              "      <td>2</td>\n",
              "      <td>112.99</td>\n",
              "      <td>298</td>\n",
              "      <td>2</td>\n",
              "    </tr>\n",
              "    <tr>\n",
              "      <th>3</th>\n",
              "      <td>3c799d181c34d51f6d44bbbc563024db</td>\n",
              "      <td>f0ac8e5a239118859b1734e1087cbb1f</td>\n",
              "      <td>2017-05-07 20:11:26</td>\n",
              "      <td>1</td>\n",
              "      <td>124.99</td>\n",
              "      <td>483</td>\n",
              "      <td>1</td>\n",
              "    </tr>\n",
              "    <tr>\n",
              "      <th>4</th>\n",
              "      <td>23397e992b09769faf5e66f9e171a241</td>\n",
              "      <td>6bc8d08963a135220ed6c6d098831f84</td>\n",
              "      <td>2018-02-03 19:45:40</td>\n",
              "      <td>1</td>\n",
              "      <td>106.99</td>\n",
              "      <td>211</td>\n",
              "      <td>0</td>\n",
              "    </tr>\n",
              "  </tbody>\n",
              "</table>\n",
              "</div>"
            ],
            "text/plain": [
              "                   id_unico_cliente  ... RecenciaCluster\n",
              "0  861eff4711a542e4b93843c6dd7febb0  ...               1\n",
              "1  9eae34bbd3a474ec5d07949ca7de67c0  ...               2\n",
              "2  9eae34bbd3a474ec5d07949ca7de67c0  ...               2\n",
              "3  3c799d181c34d51f6d44bbbc563024db  ...               1\n",
              "4  23397e992b09769faf5e66f9e171a241  ...               0\n",
              "\n",
              "[5 rows x 7 columns]"
            ]
          },
          "metadata": {
            "tags": []
          },
          "execution_count": 23
        }
      ]
    },
    {
      "cell_type": "code",
      "metadata": {
        "colab": {
          "base_uri": "https://localhost:8080/",
          "height": 173
        },
        "id": "gGF0TaRM3epU",
        "outputId": "395a1373-d570-45d4-8f2f-cd8a71e2c771"
      },
      "source": [
        "agrupado_por_cluster = df_usuario.groupby('RecenciaCluster')['Recencia'].mean().reset_index()\r\n",
        "agrupado_por_cluster.head()"
      ],
      "execution_count": 24,
      "outputs": [
        {
          "output_type": "execute_result",
          "data": {
            "text/html": [
              "<div>\n",
              "<style scoped>\n",
              "    .dataframe tbody tr th:only-of-type {\n",
              "        vertical-align: middle;\n",
              "    }\n",
              "\n",
              "    .dataframe tbody tr th {\n",
              "        vertical-align: top;\n",
              "    }\n",
              "\n",
              "    .dataframe thead th {\n",
              "        text-align: right;\n",
              "    }\n",
              "</style>\n",
              "<table border=\"1\" class=\"dataframe\">\n",
              "  <thead>\n",
              "    <tr style=\"text-align: right;\">\n",
              "      <th></th>\n",
              "      <th>RecenciaCluster</th>\n",
              "      <th>Recencia</th>\n",
              "    </tr>\n",
              "  </thead>\n",
              "  <tbody>\n",
              "    <tr>\n",
              "      <th>0</th>\n",
              "      <td>0</td>\n",
              "      <td>187.076277</td>\n",
              "    </tr>\n",
              "    <tr>\n",
              "      <th>1</th>\n",
              "      <td>1</td>\n",
              "      <td>489.070832</td>\n",
              "    </tr>\n",
              "    <tr>\n",
              "      <th>2</th>\n",
              "      <td>2</td>\n",
              "      <td>318.687376</td>\n",
              "    </tr>\n",
              "    <tr>\n",
              "      <th>3</th>\n",
              "      <td>3</td>\n",
              "      <td>66.405850</td>\n",
              "    </tr>\n",
              "  </tbody>\n",
              "</table>\n",
              "</div>"
            ],
            "text/plain": [
              "   RecenciaCluster    Recencia\n",
              "0                0  187.076277\n",
              "1                1  489.070832\n",
              "2                2  318.687376\n",
              "3                3   66.405850"
            ]
          },
          "metadata": {
            "tags": []
          },
          "execution_count": 24
        }
      ]
    },
    {
      "cell_type": "code",
      "metadata": {
        "colab": {
          "base_uri": "https://localhost:8080/",
          "height": 173
        },
        "id": "pB7NeRFV379O",
        "outputId": "83ffc964-96ea-407d-dc81-711129d6d4df"
      },
      "source": [
        "agrupado_por_cluster_ordenado = agrupado_por_cluster.sort_values(by = 'Recencia', ascending = False).reset_index(drop = True)\r\n",
        "agrupado_por_cluster_ordenado.head()"
      ],
      "execution_count": 25,
      "outputs": [
        {
          "output_type": "execute_result",
          "data": {
            "text/html": [
              "<div>\n",
              "<style scoped>\n",
              "    .dataframe tbody tr th:only-of-type {\n",
              "        vertical-align: middle;\n",
              "    }\n",
              "\n",
              "    .dataframe tbody tr th {\n",
              "        vertical-align: top;\n",
              "    }\n",
              "\n",
              "    .dataframe thead th {\n",
              "        text-align: right;\n",
              "    }\n",
              "</style>\n",
              "<table border=\"1\" class=\"dataframe\">\n",
              "  <thead>\n",
              "    <tr style=\"text-align: right;\">\n",
              "      <th></th>\n",
              "      <th>RecenciaCluster</th>\n",
              "      <th>Recencia</th>\n",
              "    </tr>\n",
              "  </thead>\n",
              "  <tbody>\n",
              "    <tr>\n",
              "      <th>0</th>\n",
              "      <td>1</td>\n",
              "      <td>489.070832</td>\n",
              "    </tr>\n",
              "    <tr>\n",
              "      <th>1</th>\n",
              "      <td>2</td>\n",
              "      <td>318.687376</td>\n",
              "    </tr>\n",
              "    <tr>\n",
              "      <th>2</th>\n",
              "      <td>0</td>\n",
              "      <td>187.076277</td>\n",
              "    </tr>\n",
              "    <tr>\n",
              "      <th>3</th>\n",
              "      <td>3</td>\n",
              "      <td>66.405850</td>\n",
              "    </tr>\n",
              "  </tbody>\n",
              "</table>\n",
              "</div>"
            ],
            "text/plain": [
              "   RecenciaCluster    Recencia\n",
              "0                1  489.070832\n",
              "1                2  318.687376\n",
              "2                0  187.076277\n",
              "3                3   66.405850"
            ]
          },
          "metadata": {
            "tags": []
          },
          "execution_count": 25
        }
      ]
    },
    {
      "cell_type": "code",
      "metadata": {
        "colab": {
          "base_uri": "https://localhost:8080/",
          "height": 173
        },
        "id": "lxxoTYjl4Mp2",
        "outputId": "1cca9c4d-c77e-45ec-a56d-7ace6c6b71c6"
      },
      "source": [
        "agrupado_por_cluster_ordenado['index'] = agrupado_por_cluster_ordenado.index\r\n",
        "agrupado_por_cluster_ordenado.head()"
      ],
      "execution_count": 26,
      "outputs": [
        {
          "output_type": "execute_result",
          "data": {
            "text/html": [
              "<div>\n",
              "<style scoped>\n",
              "    .dataframe tbody tr th:only-of-type {\n",
              "        vertical-align: middle;\n",
              "    }\n",
              "\n",
              "    .dataframe tbody tr th {\n",
              "        vertical-align: top;\n",
              "    }\n",
              "\n",
              "    .dataframe thead th {\n",
              "        text-align: right;\n",
              "    }\n",
              "</style>\n",
              "<table border=\"1\" class=\"dataframe\">\n",
              "  <thead>\n",
              "    <tr style=\"text-align: right;\">\n",
              "      <th></th>\n",
              "      <th>RecenciaCluster</th>\n",
              "      <th>Recencia</th>\n",
              "      <th>index</th>\n",
              "    </tr>\n",
              "  </thead>\n",
              "  <tbody>\n",
              "    <tr>\n",
              "      <th>0</th>\n",
              "      <td>1</td>\n",
              "      <td>489.070832</td>\n",
              "      <td>0</td>\n",
              "    </tr>\n",
              "    <tr>\n",
              "      <th>1</th>\n",
              "      <td>2</td>\n",
              "      <td>318.687376</td>\n",
              "      <td>1</td>\n",
              "    </tr>\n",
              "    <tr>\n",
              "      <th>2</th>\n",
              "      <td>0</td>\n",
              "      <td>187.076277</td>\n",
              "      <td>2</td>\n",
              "    </tr>\n",
              "    <tr>\n",
              "      <th>3</th>\n",
              "      <td>3</td>\n",
              "      <td>66.405850</td>\n",
              "      <td>3</td>\n",
              "    </tr>\n",
              "  </tbody>\n",
              "</table>\n",
              "</div>"
            ],
            "text/plain": [
              "   RecenciaCluster    Recencia  index\n",
              "0                1  489.070832      0\n",
              "1                2  318.687376      1\n",
              "2                0  187.076277      2\n",
              "3                3   66.405850      3"
            ]
          },
          "metadata": {
            "tags": []
          },
          "execution_count": 26
        }
      ]
    },
    {
      "cell_type": "code",
      "metadata": {
        "colab": {
          "base_uri": "https://localhost:8080/",
          "height": 204
        },
        "id": "f_abI5U94aCe",
        "outputId": "d20e3797-2d53-4d2b-acf5-f3da5e84144e"
      },
      "source": [
        "juntando_cluster = pd.merge(df_usuario, agrupado_por_cluster_ordenado[['RecenciaCluster','index']], on = 'RecenciaCluster')\r\n",
        "juntando_cluster.head()"
      ],
      "execution_count": 27,
      "outputs": [
        {
          "output_type": "execute_result",
          "data": {
            "text/html": [
              "<div>\n",
              "<style scoped>\n",
              "    .dataframe tbody tr th:only-of-type {\n",
              "        vertical-align: middle;\n",
              "    }\n",
              "\n",
              "    .dataframe tbody tr th {\n",
              "        vertical-align: top;\n",
              "    }\n",
              "\n",
              "    .dataframe thead th {\n",
              "        text-align: right;\n",
              "    }\n",
              "</style>\n",
              "<table border=\"1\" class=\"dataframe\">\n",
              "  <thead>\n",
              "    <tr style=\"text-align: right;\">\n",
              "      <th></th>\n",
              "      <th>id_unico_cliente</th>\n",
              "      <th>id_cliente</th>\n",
              "      <th>horario_pedido</th>\n",
              "      <th>item_id</th>\n",
              "      <th>preco</th>\n",
              "      <th>Recencia</th>\n",
              "      <th>RecenciaCluster</th>\n",
              "      <th>index</th>\n",
              "    </tr>\n",
              "  </thead>\n",
              "  <tbody>\n",
              "    <tr>\n",
              "      <th>0</th>\n",
              "      <td>861eff4711a542e4b93843c6dd7febb0</td>\n",
              "      <td>06b8999e2fba1a1fbc88172c00ba8bc7</td>\n",
              "      <td>2017-05-16 15:05:35</td>\n",
              "      <td>1</td>\n",
              "      <td>124.99</td>\n",
              "      <td>474</td>\n",
              "      <td>1</td>\n",
              "      <td>0</td>\n",
              "    </tr>\n",
              "    <tr>\n",
              "      <th>1</th>\n",
              "      <td>3c799d181c34d51f6d44bbbc563024db</td>\n",
              "      <td>f0ac8e5a239118859b1734e1087cbb1f</td>\n",
              "      <td>2017-05-07 20:11:26</td>\n",
              "      <td>1</td>\n",
              "      <td>124.99</td>\n",
              "      <td>483</td>\n",
              "      <td>1</td>\n",
              "      <td>0</td>\n",
              "    </tr>\n",
              "    <tr>\n",
              "      <th>2</th>\n",
              "      <td>567ab47ca4deb92d46dbf54dce07d0a7</td>\n",
              "      <td>fd3a0b1bd209f0e7d420c9c3d1127613</td>\n",
              "      <td>2017-03-23 15:10:17</td>\n",
              "      <td>1</td>\n",
              "      <td>126.99</td>\n",
              "      <td>528</td>\n",
              "      <td>1</td>\n",
              "      <td>0</td>\n",
              "    </tr>\n",
              "    <tr>\n",
              "      <th>3</th>\n",
              "      <td>f40ab89b622248b7ca125af4b486b887</td>\n",
              "      <td>fbd40c083aa8cddebb5265b2ba6aaf2e</td>\n",
              "      <td>2017-05-16 10:00:49</td>\n",
              "      <td>1</td>\n",
              "      <td>124.99</td>\n",
              "      <td>474</td>\n",
              "      <td>1</td>\n",
              "      <td>0</td>\n",
              "    </tr>\n",
              "    <tr>\n",
              "      <th>4</th>\n",
              "      <td>749943913a9851a39c9baf51877fbab6</td>\n",
              "      <td>10558ef4afea173bfb5e2cbe3d5b0bb5</td>\n",
              "      <td>2017-03-18 23:04:36</td>\n",
              "      <td>1</td>\n",
              "      <td>126.99</td>\n",
              "      <td>533</td>\n",
              "      <td>1</td>\n",
              "      <td>0</td>\n",
              "    </tr>\n",
              "  </tbody>\n",
              "</table>\n",
              "</div>"
            ],
            "text/plain": [
              "                   id_unico_cliente  ... index\n",
              "0  861eff4711a542e4b93843c6dd7febb0  ...     0\n",
              "1  3c799d181c34d51f6d44bbbc563024db  ...     0\n",
              "2  567ab47ca4deb92d46dbf54dce07d0a7  ...     0\n",
              "3  f40ab89b622248b7ca125af4b486b887  ...     0\n",
              "4  749943913a9851a39c9baf51877fbab6  ...     0\n",
              "\n",
              "[5 rows x 8 columns]"
            ]
          },
          "metadata": {
            "tags": []
          },
          "execution_count": 27
        }
      ]
    },
    {
      "cell_type": "code",
      "metadata": {
        "colab": {
          "base_uri": "https://localhost:8080/",
          "height": 204
        },
        "id": "_Ptnqe9a44zr",
        "outputId": "0db3f5f8-0568-4b56-9173-49bb4ff14a49"
      },
      "source": [
        "removendo_dados = juntando_cluster.drop(['RecenciaCluster'], axis = 1)\r\n",
        "removendo_dados.head()"
      ],
      "execution_count": 28,
      "outputs": [
        {
          "output_type": "execute_result",
          "data": {
            "text/html": [
              "<div>\n",
              "<style scoped>\n",
              "    .dataframe tbody tr th:only-of-type {\n",
              "        vertical-align: middle;\n",
              "    }\n",
              "\n",
              "    .dataframe tbody tr th {\n",
              "        vertical-align: top;\n",
              "    }\n",
              "\n",
              "    .dataframe thead th {\n",
              "        text-align: right;\n",
              "    }\n",
              "</style>\n",
              "<table border=\"1\" class=\"dataframe\">\n",
              "  <thead>\n",
              "    <tr style=\"text-align: right;\">\n",
              "      <th></th>\n",
              "      <th>id_unico_cliente</th>\n",
              "      <th>id_cliente</th>\n",
              "      <th>horario_pedido</th>\n",
              "      <th>item_id</th>\n",
              "      <th>preco</th>\n",
              "      <th>Recencia</th>\n",
              "      <th>index</th>\n",
              "    </tr>\n",
              "  </thead>\n",
              "  <tbody>\n",
              "    <tr>\n",
              "      <th>0</th>\n",
              "      <td>861eff4711a542e4b93843c6dd7febb0</td>\n",
              "      <td>06b8999e2fba1a1fbc88172c00ba8bc7</td>\n",
              "      <td>2017-05-16 15:05:35</td>\n",
              "      <td>1</td>\n",
              "      <td>124.99</td>\n",
              "      <td>474</td>\n",
              "      <td>0</td>\n",
              "    </tr>\n",
              "    <tr>\n",
              "      <th>1</th>\n",
              "      <td>3c799d181c34d51f6d44bbbc563024db</td>\n",
              "      <td>f0ac8e5a239118859b1734e1087cbb1f</td>\n",
              "      <td>2017-05-07 20:11:26</td>\n",
              "      <td>1</td>\n",
              "      <td>124.99</td>\n",
              "      <td>483</td>\n",
              "      <td>0</td>\n",
              "    </tr>\n",
              "    <tr>\n",
              "      <th>2</th>\n",
              "      <td>567ab47ca4deb92d46dbf54dce07d0a7</td>\n",
              "      <td>fd3a0b1bd209f0e7d420c9c3d1127613</td>\n",
              "      <td>2017-03-23 15:10:17</td>\n",
              "      <td>1</td>\n",
              "      <td>126.99</td>\n",
              "      <td>528</td>\n",
              "      <td>0</td>\n",
              "    </tr>\n",
              "    <tr>\n",
              "      <th>3</th>\n",
              "      <td>f40ab89b622248b7ca125af4b486b887</td>\n",
              "      <td>fbd40c083aa8cddebb5265b2ba6aaf2e</td>\n",
              "      <td>2017-05-16 10:00:49</td>\n",
              "      <td>1</td>\n",
              "      <td>124.99</td>\n",
              "      <td>474</td>\n",
              "      <td>0</td>\n",
              "    </tr>\n",
              "    <tr>\n",
              "      <th>4</th>\n",
              "      <td>749943913a9851a39c9baf51877fbab6</td>\n",
              "      <td>10558ef4afea173bfb5e2cbe3d5b0bb5</td>\n",
              "      <td>2017-03-18 23:04:36</td>\n",
              "      <td>1</td>\n",
              "      <td>126.99</td>\n",
              "      <td>533</td>\n",
              "      <td>0</td>\n",
              "    </tr>\n",
              "  </tbody>\n",
              "</table>\n",
              "</div>"
            ],
            "text/plain": [
              "                   id_unico_cliente  ... index\n",
              "0  861eff4711a542e4b93843c6dd7febb0  ...     0\n",
              "1  3c799d181c34d51f6d44bbbc563024db  ...     0\n",
              "2  567ab47ca4deb92d46dbf54dce07d0a7  ...     0\n",
              "3  f40ab89b622248b7ca125af4b486b887  ...     0\n",
              "4  749943913a9851a39c9baf51877fbab6  ...     0\n",
              "\n",
              "[5 rows x 7 columns]"
            ]
          },
          "metadata": {
            "tags": []
          },
          "execution_count": 28
        }
      ]
    },
    {
      "cell_type": "code",
      "metadata": {
        "colab": {
          "base_uri": "https://localhost:8080/",
          "height": 204
        },
        "id": "_uynavMS5FzE",
        "outputId": "34b67362-b38b-4e96-fe19-c240660c9ae9"
      },
      "source": [
        "df_final = removendo_dados.rename(columns = {'index': 'RecenciaCluster'})\r\n",
        "df_final.head()"
      ],
      "execution_count": 29,
      "outputs": [
        {
          "output_type": "execute_result",
          "data": {
            "text/html": [
              "<div>\n",
              "<style scoped>\n",
              "    .dataframe tbody tr th:only-of-type {\n",
              "        vertical-align: middle;\n",
              "    }\n",
              "\n",
              "    .dataframe tbody tr th {\n",
              "        vertical-align: top;\n",
              "    }\n",
              "\n",
              "    .dataframe thead th {\n",
              "        text-align: right;\n",
              "    }\n",
              "</style>\n",
              "<table border=\"1\" class=\"dataframe\">\n",
              "  <thead>\n",
              "    <tr style=\"text-align: right;\">\n",
              "      <th></th>\n",
              "      <th>id_unico_cliente</th>\n",
              "      <th>id_cliente</th>\n",
              "      <th>horario_pedido</th>\n",
              "      <th>item_id</th>\n",
              "      <th>preco</th>\n",
              "      <th>Recencia</th>\n",
              "      <th>RecenciaCluster</th>\n",
              "    </tr>\n",
              "  </thead>\n",
              "  <tbody>\n",
              "    <tr>\n",
              "      <th>0</th>\n",
              "      <td>861eff4711a542e4b93843c6dd7febb0</td>\n",
              "      <td>06b8999e2fba1a1fbc88172c00ba8bc7</td>\n",
              "      <td>2017-05-16 15:05:35</td>\n",
              "      <td>1</td>\n",
              "      <td>124.99</td>\n",
              "      <td>474</td>\n",
              "      <td>0</td>\n",
              "    </tr>\n",
              "    <tr>\n",
              "      <th>1</th>\n",
              "      <td>3c799d181c34d51f6d44bbbc563024db</td>\n",
              "      <td>f0ac8e5a239118859b1734e1087cbb1f</td>\n",
              "      <td>2017-05-07 20:11:26</td>\n",
              "      <td>1</td>\n",
              "      <td>124.99</td>\n",
              "      <td>483</td>\n",
              "      <td>0</td>\n",
              "    </tr>\n",
              "    <tr>\n",
              "      <th>2</th>\n",
              "      <td>567ab47ca4deb92d46dbf54dce07d0a7</td>\n",
              "      <td>fd3a0b1bd209f0e7d420c9c3d1127613</td>\n",
              "      <td>2017-03-23 15:10:17</td>\n",
              "      <td>1</td>\n",
              "      <td>126.99</td>\n",
              "      <td>528</td>\n",
              "      <td>0</td>\n",
              "    </tr>\n",
              "    <tr>\n",
              "      <th>3</th>\n",
              "      <td>f40ab89b622248b7ca125af4b486b887</td>\n",
              "      <td>fbd40c083aa8cddebb5265b2ba6aaf2e</td>\n",
              "      <td>2017-05-16 10:00:49</td>\n",
              "      <td>1</td>\n",
              "      <td>124.99</td>\n",
              "      <td>474</td>\n",
              "      <td>0</td>\n",
              "    </tr>\n",
              "    <tr>\n",
              "      <th>4</th>\n",
              "      <td>749943913a9851a39c9baf51877fbab6</td>\n",
              "      <td>10558ef4afea173bfb5e2cbe3d5b0bb5</td>\n",
              "      <td>2017-03-18 23:04:36</td>\n",
              "      <td>1</td>\n",
              "      <td>126.99</td>\n",
              "      <td>533</td>\n",
              "      <td>0</td>\n",
              "    </tr>\n",
              "  </tbody>\n",
              "</table>\n",
              "</div>"
            ],
            "text/plain": [
              "                   id_unico_cliente  ... RecenciaCluster\n",
              "0  861eff4711a542e4b93843c6dd7febb0  ...               0\n",
              "1  3c799d181c34d51f6d44bbbc563024db  ...               0\n",
              "2  567ab47ca4deb92d46dbf54dce07d0a7  ...               0\n",
              "3  f40ab89b622248b7ca125af4b486b887  ...               0\n",
              "4  749943913a9851a39c9baf51877fbab6  ...               0\n",
              "\n",
              "[5 rows x 7 columns]"
            ]
          },
          "metadata": {
            "tags": []
          },
          "execution_count": 29
        }
      ]
    },
    {
      "cell_type": "code",
      "metadata": {
        "id": "1Mly7bLNx8Qq"
      },
      "source": [
        "#função para ordenar o número de clusters \n",
        "def ordenar_cluster(cluster_nome, target_nome,df,ascending):\n",
        "    novo_nome = 'novo' + cluster_nome\n",
        "    agrupado_por_cluster = df.groupby(cluster_nome)[target_nome].mean().reset_index()\n",
        "    agrupado_por_cluster_ordenado = agrupado_por_cluster.sort_values(by=target_nome,\n",
        "                                                                     ascending=ascending).reset_index(drop=True)\n",
        "    agrupado_por_cluster_ordenado['index'] = agrupado_por_cluster_ordenado.index\n",
        "    juntando_cluster = pd.merge(df,agrupado_por_cluster_ordenado[[cluster_nome,'index']], on=cluster_nome)\n",
        "    removendo_dados = juntando_cluster.drop([cluster_nome],axis=1)\n",
        "    df_final = removendo_dados.rename(columns={\"index\":cluster_nome})\n",
        "    return df_final\n",
        "\n",
        "df_usuario = ordenar_cluster('RecenciaCluster', 'Recencia',df_usuario,False)"
      ],
      "execution_count": 30,
      "outputs": []
    },
    {
      "cell_type": "code",
      "metadata": {
        "colab": {
          "base_uri": "https://localhost:8080/",
          "height": 204
        },
        "id": "eH8yecD57O4m",
        "outputId": "fcc42dbc-1e17-40e5-a64d-147f48b56f29"
      },
      "source": [
        "df_usuario.head()"
      ],
      "execution_count": 31,
      "outputs": [
        {
          "output_type": "execute_result",
          "data": {
            "text/html": [
              "<div>\n",
              "<style scoped>\n",
              "    .dataframe tbody tr th:only-of-type {\n",
              "        vertical-align: middle;\n",
              "    }\n",
              "\n",
              "    .dataframe tbody tr th {\n",
              "        vertical-align: top;\n",
              "    }\n",
              "\n",
              "    .dataframe thead th {\n",
              "        text-align: right;\n",
              "    }\n",
              "</style>\n",
              "<table border=\"1\" class=\"dataframe\">\n",
              "  <thead>\n",
              "    <tr style=\"text-align: right;\">\n",
              "      <th></th>\n",
              "      <th>id_unico_cliente</th>\n",
              "      <th>id_cliente</th>\n",
              "      <th>horario_pedido</th>\n",
              "      <th>item_id</th>\n",
              "      <th>preco</th>\n",
              "      <th>Recencia</th>\n",
              "      <th>RecenciaCluster</th>\n",
              "    </tr>\n",
              "  </thead>\n",
              "  <tbody>\n",
              "    <tr>\n",
              "      <th>0</th>\n",
              "      <td>861eff4711a542e4b93843c6dd7febb0</td>\n",
              "      <td>06b8999e2fba1a1fbc88172c00ba8bc7</td>\n",
              "      <td>2017-05-16 15:05:35</td>\n",
              "      <td>1</td>\n",
              "      <td>124.99</td>\n",
              "      <td>474</td>\n",
              "      <td>0</td>\n",
              "    </tr>\n",
              "    <tr>\n",
              "      <th>1</th>\n",
              "      <td>3c799d181c34d51f6d44bbbc563024db</td>\n",
              "      <td>f0ac8e5a239118859b1734e1087cbb1f</td>\n",
              "      <td>2017-05-07 20:11:26</td>\n",
              "      <td>1</td>\n",
              "      <td>124.99</td>\n",
              "      <td>483</td>\n",
              "      <td>0</td>\n",
              "    </tr>\n",
              "    <tr>\n",
              "      <th>2</th>\n",
              "      <td>567ab47ca4deb92d46dbf54dce07d0a7</td>\n",
              "      <td>fd3a0b1bd209f0e7d420c9c3d1127613</td>\n",
              "      <td>2017-03-23 15:10:17</td>\n",
              "      <td>1</td>\n",
              "      <td>126.99</td>\n",
              "      <td>528</td>\n",
              "      <td>0</td>\n",
              "    </tr>\n",
              "    <tr>\n",
              "      <th>3</th>\n",
              "      <td>f40ab89b622248b7ca125af4b486b887</td>\n",
              "      <td>fbd40c083aa8cddebb5265b2ba6aaf2e</td>\n",
              "      <td>2017-05-16 10:00:49</td>\n",
              "      <td>1</td>\n",
              "      <td>124.99</td>\n",
              "      <td>474</td>\n",
              "      <td>0</td>\n",
              "    </tr>\n",
              "    <tr>\n",
              "      <th>4</th>\n",
              "      <td>749943913a9851a39c9baf51877fbab6</td>\n",
              "      <td>10558ef4afea173bfb5e2cbe3d5b0bb5</td>\n",
              "      <td>2017-03-18 23:04:36</td>\n",
              "      <td>1</td>\n",
              "      <td>126.99</td>\n",
              "      <td>533</td>\n",
              "      <td>0</td>\n",
              "    </tr>\n",
              "  </tbody>\n",
              "</table>\n",
              "</div>"
            ],
            "text/plain": [
              "                   id_unico_cliente  ... RecenciaCluster\n",
              "0  861eff4711a542e4b93843c6dd7febb0  ...               0\n",
              "1  3c799d181c34d51f6d44bbbc563024db  ...               0\n",
              "2  567ab47ca4deb92d46dbf54dce07d0a7  ...               0\n",
              "3  f40ab89b622248b7ca125af4b486b887  ...               0\n",
              "4  749943913a9851a39c9baf51877fbab6  ...               0\n",
              "\n",
              "[5 rows x 7 columns]"
            ]
          },
          "metadata": {
            "tags": []
          },
          "execution_count": 31
        }
      ]
    },
    {
      "cell_type": "code",
      "metadata": {
        "id": "ByIxD5Zvx8Qr",
        "colab": {
          "base_uri": "https://localhost:8080/",
          "height": 204
        },
        "outputId": "4e807eaa-4aa4-4354-acd0-c8d68ca2bbc9"
      },
      "source": [
        "df_usuario.groupby('RecenciaCluster')['Recencia'].describe()"
      ],
      "execution_count": 32,
      "outputs": [
        {
          "output_type": "execute_result",
          "data": {
            "text/html": [
              "<div>\n",
              "<style scoped>\n",
              "    .dataframe tbody tr th:only-of-type {\n",
              "        vertical-align: middle;\n",
              "    }\n",
              "\n",
              "    .dataframe tbody tr th {\n",
              "        vertical-align: top;\n",
              "    }\n",
              "\n",
              "    .dataframe thead th {\n",
              "        text-align: right;\n",
              "    }\n",
              "</style>\n",
              "<table border=\"1\" class=\"dataframe\">\n",
              "  <thead>\n",
              "    <tr style=\"text-align: right;\">\n",
              "      <th></th>\n",
              "      <th>count</th>\n",
              "      <th>mean</th>\n",
              "      <th>std</th>\n",
              "      <th>min</th>\n",
              "      <th>25%</th>\n",
              "      <th>50%</th>\n",
              "      <th>75%</th>\n",
              "      <th>max</th>\n",
              "    </tr>\n",
              "    <tr>\n",
              "      <th>RecenciaCluster</th>\n",
              "      <th></th>\n",
              "      <th></th>\n",
              "      <th></th>\n",
              "      <th></th>\n",
              "      <th></th>\n",
              "      <th></th>\n",
              "      <th></th>\n",
              "      <th></th>\n",
              "    </tr>\n",
              "  </thead>\n",
              "  <tbody>\n",
              "    <tr>\n",
              "      <th>0</th>\n",
              "      <td>20697.0</td>\n",
              "      <td>489.070832</td>\n",
              "      <td>59.862148</td>\n",
              "      <td>404.0</td>\n",
              "      <td>441.0</td>\n",
              "      <td>480.0</td>\n",
              "      <td>532.0</td>\n",
              "      <td>728.0</td>\n",
              "    </tr>\n",
              "    <tr>\n",
              "      <th>1</th>\n",
              "      <td>30695.0</td>\n",
              "      <td>318.687376</td>\n",
              "      <td>43.450070</td>\n",
              "      <td>253.0</td>\n",
              "      <td>281.0</td>\n",
              "      <td>312.0</td>\n",
              "      <td>355.0</td>\n",
              "      <td>403.0</td>\n",
              "    </tr>\n",
              "    <tr>\n",
              "      <th>2</th>\n",
              "      <td>33601.0</td>\n",
              "      <td>187.076277</td>\n",
              "      <td>35.024122</td>\n",
              "      <td>127.0</td>\n",
              "      <td>157.0</td>\n",
              "      <td>187.0</td>\n",
              "      <td>217.0</td>\n",
              "      <td>252.0</td>\n",
              "    </tr>\n",
              "    <tr>\n",
              "      <th>3</th>\n",
              "      <td>31588.0</td>\n",
              "      <td>66.405850</td>\n",
              "      <td>35.800016</td>\n",
              "      <td>0.0</td>\n",
              "      <td>33.0</td>\n",
              "      <td>67.0</td>\n",
              "      <td>99.0</td>\n",
              "      <td>126.0</td>\n",
              "    </tr>\n",
              "  </tbody>\n",
              "</table>\n",
              "</div>"
            ],
            "text/plain": [
              "                   count        mean        std  ...    50%    75%    max\n",
              "RecenciaCluster                                  ...                     \n",
              "0                20697.0  489.070832  59.862148  ...  480.0  532.0  728.0\n",
              "1                30695.0  318.687376  43.450070  ...  312.0  355.0  403.0\n",
              "2                33601.0  187.076277  35.024122  ...  187.0  217.0  252.0\n",
              "3                31588.0   66.405850  35.800016  ...   67.0   99.0  126.0\n",
              "\n",
              "[4 rows x 8 columns]"
            ]
          },
          "metadata": {
            "tags": []
          },
          "execution_count": 32
        }
      ]
    },
    {
      "cell_type": "code",
      "metadata": {
        "id": "m3ldEd-gx8Qs",
        "colab": {
          "base_uri": "https://localhost:8080/",
          "height": 204
        },
        "outputId": "a8d411ad-345e-491a-b1b0-c1fd7fdea4fe"
      },
      "source": [
        "# cria um df com a quantidade de ordens para cada cliente\n",
        "df_frequencia = df.groupby('id_unico_cliente').pedido_aprovado.count().reset_index()\n",
        "df_frequencia.columns = ['id_unico_cliente','Frequencia']\n",
        "\n",
        "df_frequencia.head()"
      ],
      "execution_count": 33,
      "outputs": [
        {
          "output_type": "execute_result",
          "data": {
            "text/html": [
              "<div>\n",
              "<style scoped>\n",
              "    .dataframe tbody tr th:only-of-type {\n",
              "        vertical-align: middle;\n",
              "    }\n",
              "\n",
              "    .dataframe tbody tr th {\n",
              "        vertical-align: top;\n",
              "    }\n",
              "\n",
              "    .dataframe thead th {\n",
              "        text-align: right;\n",
              "    }\n",
              "</style>\n",
              "<table border=\"1\" class=\"dataframe\">\n",
              "  <thead>\n",
              "    <tr style=\"text-align: right;\">\n",
              "      <th></th>\n",
              "      <th>id_unico_cliente</th>\n",
              "      <th>Frequencia</th>\n",
              "    </tr>\n",
              "  </thead>\n",
              "  <tbody>\n",
              "    <tr>\n",
              "      <th>0</th>\n",
              "      <td>0000366f3b9a7992bf8c76cfdf3221e2</td>\n",
              "      <td>1</td>\n",
              "    </tr>\n",
              "    <tr>\n",
              "      <th>1</th>\n",
              "      <td>0000b849f77a49e4a4ce2b2a4ca5be3f</td>\n",
              "      <td>1</td>\n",
              "    </tr>\n",
              "    <tr>\n",
              "      <th>2</th>\n",
              "      <td>0000f46a3911fa3c0805444483337064</td>\n",
              "      <td>1</td>\n",
              "    </tr>\n",
              "    <tr>\n",
              "      <th>3</th>\n",
              "      <td>0000f6ccb0745a6a4b88665a16c9f078</td>\n",
              "      <td>1</td>\n",
              "    </tr>\n",
              "    <tr>\n",
              "      <th>4</th>\n",
              "      <td>0004aac84e0df4da2b147fca70cf8255</td>\n",
              "      <td>1</td>\n",
              "    </tr>\n",
              "  </tbody>\n",
              "</table>\n",
              "</div>"
            ],
            "text/plain": [
              "                   id_unico_cliente  Frequencia\n",
              "0  0000366f3b9a7992bf8c76cfdf3221e2           1\n",
              "1  0000b849f77a49e4a4ce2b2a4ca5be3f           1\n",
              "2  0000f46a3911fa3c0805444483337064           1\n",
              "3  0000f6ccb0745a6a4b88665a16c9f078           1\n",
              "4  0004aac84e0df4da2b147fca70cf8255           1"
            ]
          },
          "metadata": {
            "tags": []
          },
          "execution_count": 33
        }
      ]
    },
    {
      "cell_type": "code",
      "metadata": {
        "id": "R1fya2Gq8J89"
      },
      "source": [
        "# adiciona esses dados em nosso df principal\r\n",
        "df_usuario = pd.merge(df_usuario, df_frequencia, on='id_unico_cliente')"
      ],
      "execution_count": 34,
      "outputs": []
    },
    {
      "cell_type": "code",
      "metadata": {
        "id": "NnBL-NRFx8Qs",
        "colab": {
          "base_uri": "https://localhost:8080/",
          "height": 204
        },
        "outputId": "d79ec96a-4078-43a7-fc4b-b4bf8bfac84a"
      },
      "source": [
        "df_usuario.head()"
      ],
      "execution_count": 35,
      "outputs": [
        {
          "output_type": "execute_result",
          "data": {
            "text/html": [
              "<div>\n",
              "<style scoped>\n",
              "    .dataframe tbody tr th:only-of-type {\n",
              "        vertical-align: middle;\n",
              "    }\n",
              "\n",
              "    .dataframe tbody tr th {\n",
              "        vertical-align: top;\n",
              "    }\n",
              "\n",
              "    .dataframe thead th {\n",
              "        text-align: right;\n",
              "    }\n",
              "</style>\n",
              "<table border=\"1\" class=\"dataframe\">\n",
              "  <thead>\n",
              "    <tr style=\"text-align: right;\">\n",
              "      <th></th>\n",
              "      <th>id_unico_cliente</th>\n",
              "      <th>id_cliente</th>\n",
              "      <th>horario_pedido</th>\n",
              "      <th>item_id</th>\n",
              "      <th>preco</th>\n",
              "      <th>Recencia</th>\n",
              "      <th>RecenciaCluster</th>\n",
              "      <th>Frequencia</th>\n",
              "    </tr>\n",
              "  </thead>\n",
              "  <tbody>\n",
              "    <tr>\n",
              "      <th>0</th>\n",
              "      <td>861eff4711a542e4b93843c6dd7febb0</td>\n",
              "      <td>06b8999e2fba1a1fbc88172c00ba8bc7</td>\n",
              "      <td>2017-05-16 15:05:35</td>\n",
              "      <td>1</td>\n",
              "      <td>124.99</td>\n",
              "      <td>474</td>\n",
              "      <td>0</td>\n",
              "      <td>1</td>\n",
              "    </tr>\n",
              "    <tr>\n",
              "      <th>1</th>\n",
              "      <td>3c799d181c34d51f6d44bbbc563024db</td>\n",
              "      <td>f0ac8e5a239118859b1734e1087cbb1f</td>\n",
              "      <td>2017-05-07 20:11:26</td>\n",
              "      <td>1</td>\n",
              "      <td>124.99</td>\n",
              "      <td>483</td>\n",
              "      <td>0</td>\n",
              "      <td>1</td>\n",
              "    </tr>\n",
              "    <tr>\n",
              "      <th>2</th>\n",
              "      <td>567ab47ca4deb92d46dbf54dce07d0a7</td>\n",
              "      <td>fd3a0b1bd209f0e7d420c9c3d1127613</td>\n",
              "      <td>2017-03-23 15:10:17</td>\n",
              "      <td>1</td>\n",
              "      <td>126.99</td>\n",
              "      <td>528</td>\n",
              "      <td>0</td>\n",
              "      <td>1</td>\n",
              "    </tr>\n",
              "    <tr>\n",
              "      <th>3</th>\n",
              "      <td>f40ab89b622248b7ca125af4b486b887</td>\n",
              "      <td>fbd40c083aa8cddebb5265b2ba6aaf2e</td>\n",
              "      <td>2017-05-16 10:00:49</td>\n",
              "      <td>1</td>\n",
              "      <td>124.99</td>\n",
              "      <td>474</td>\n",
              "      <td>0</td>\n",
              "      <td>1</td>\n",
              "    </tr>\n",
              "    <tr>\n",
              "      <th>4</th>\n",
              "      <td>749943913a9851a39c9baf51877fbab6</td>\n",
              "      <td>10558ef4afea173bfb5e2cbe3d5b0bb5</td>\n",
              "      <td>2017-03-18 23:04:36</td>\n",
              "      <td>1</td>\n",
              "      <td>126.99</td>\n",
              "      <td>533</td>\n",
              "      <td>0</td>\n",
              "      <td>1</td>\n",
              "    </tr>\n",
              "  </tbody>\n",
              "</table>\n",
              "</div>"
            ],
            "text/plain": [
              "                   id_unico_cliente  ... Frequencia\n",
              "0  861eff4711a542e4b93843c6dd7febb0  ...          1\n",
              "1  3c799d181c34d51f6d44bbbc563024db  ...          1\n",
              "2  567ab47ca4deb92d46dbf54dce07d0a7  ...          1\n",
              "3  f40ab89b622248b7ca125af4b486b887  ...          1\n",
              "4  749943913a9851a39c9baf51877fbab6  ...          1\n",
              "\n",
              "[5 rows x 8 columns]"
            ]
          },
          "metadata": {
            "tags": []
          },
          "execution_count": 35
        }
      ]
    },
    {
      "cell_type": "code",
      "metadata": {
        "id": "Rna5bpSZx8Qt"
      },
      "source": [
        "# rodando o kmeans para nossa quantidade ótima de clusters\n",
        "df_frequencia = df_usuario[['Frequencia']]\n",
        "kmeans = KMeans(n_clusters=4)\n",
        "df_usuario['FrequenciaCluster'] = kmeans.fit_predict(df_frequencia)"
      ],
      "execution_count": 36,
      "outputs": []
    },
    {
      "cell_type": "code",
      "metadata": {
        "colab": {
          "base_uri": "https://localhost:8080/",
          "height": 309
        },
        "id": "F2kRbn3k8jNm",
        "outputId": "0dd55450-ab97-4949-c09f-f78b33060f9b"
      },
      "source": [
        "df_usuario.head()"
      ],
      "execution_count": 37,
      "outputs": [
        {
          "output_type": "execute_result",
          "data": {
            "text/html": [
              "<div>\n",
              "<style scoped>\n",
              "    .dataframe tbody tr th:only-of-type {\n",
              "        vertical-align: middle;\n",
              "    }\n",
              "\n",
              "    .dataframe tbody tr th {\n",
              "        vertical-align: top;\n",
              "    }\n",
              "\n",
              "    .dataframe thead th {\n",
              "        text-align: right;\n",
              "    }\n",
              "</style>\n",
              "<table border=\"1\" class=\"dataframe\">\n",
              "  <thead>\n",
              "    <tr style=\"text-align: right;\">\n",
              "      <th></th>\n",
              "      <th>id_unico_cliente</th>\n",
              "      <th>id_cliente</th>\n",
              "      <th>horario_pedido</th>\n",
              "      <th>item_id</th>\n",
              "      <th>preco</th>\n",
              "      <th>Recencia</th>\n",
              "      <th>RecenciaCluster</th>\n",
              "      <th>Frequencia</th>\n",
              "      <th>FrequenciaCluster</th>\n",
              "    </tr>\n",
              "  </thead>\n",
              "  <tbody>\n",
              "    <tr>\n",
              "      <th>0</th>\n",
              "      <td>861eff4711a542e4b93843c6dd7febb0</td>\n",
              "      <td>06b8999e2fba1a1fbc88172c00ba8bc7</td>\n",
              "      <td>2017-05-16 15:05:35</td>\n",
              "      <td>1</td>\n",
              "      <td>124.99</td>\n",
              "      <td>474</td>\n",
              "      <td>0</td>\n",
              "      <td>1</td>\n",
              "      <td>0</td>\n",
              "    </tr>\n",
              "    <tr>\n",
              "      <th>1</th>\n",
              "      <td>3c799d181c34d51f6d44bbbc563024db</td>\n",
              "      <td>f0ac8e5a239118859b1734e1087cbb1f</td>\n",
              "      <td>2017-05-07 20:11:26</td>\n",
              "      <td>1</td>\n",
              "      <td>124.99</td>\n",
              "      <td>483</td>\n",
              "      <td>0</td>\n",
              "      <td>1</td>\n",
              "      <td>0</td>\n",
              "    </tr>\n",
              "    <tr>\n",
              "      <th>2</th>\n",
              "      <td>567ab47ca4deb92d46dbf54dce07d0a7</td>\n",
              "      <td>fd3a0b1bd209f0e7d420c9c3d1127613</td>\n",
              "      <td>2017-03-23 15:10:17</td>\n",
              "      <td>1</td>\n",
              "      <td>126.99</td>\n",
              "      <td>528</td>\n",
              "      <td>0</td>\n",
              "      <td>1</td>\n",
              "      <td>0</td>\n",
              "    </tr>\n",
              "    <tr>\n",
              "      <th>3</th>\n",
              "      <td>f40ab89b622248b7ca125af4b486b887</td>\n",
              "      <td>fbd40c083aa8cddebb5265b2ba6aaf2e</td>\n",
              "      <td>2017-05-16 10:00:49</td>\n",
              "      <td>1</td>\n",
              "      <td>124.99</td>\n",
              "      <td>474</td>\n",
              "      <td>0</td>\n",
              "      <td>1</td>\n",
              "      <td>0</td>\n",
              "    </tr>\n",
              "    <tr>\n",
              "      <th>4</th>\n",
              "      <td>749943913a9851a39c9baf51877fbab6</td>\n",
              "      <td>10558ef4afea173bfb5e2cbe3d5b0bb5</td>\n",
              "      <td>2017-03-18 23:04:36</td>\n",
              "      <td>1</td>\n",
              "      <td>126.99</td>\n",
              "      <td>533</td>\n",
              "      <td>0</td>\n",
              "      <td>1</td>\n",
              "      <td>0</td>\n",
              "    </tr>\n",
              "  </tbody>\n",
              "</table>\n",
              "</div>"
            ],
            "text/plain": [
              "                   id_unico_cliente  ... FrequenciaCluster\n",
              "0  861eff4711a542e4b93843c6dd7febb0  ...                 0\n",
              "1  3c799d181c34d51f6d44bbbc563024db  ...                 0\n",
              "2  567ab47ca4deb92d46dbf54dce07d0a7  ...                 0\n",
              "3  f40ab89b622248b7ca125af4b486b887  ...                 0\n",
              "4  749943913a9851a39c9baf51877fbab6  ...                 0\n",
              "\n",
              "[5 rows x 9 columns]"
            ]
          },
          "metadata": {
            "tags": []
          },
          "execution_count": 37
        }
      ]
    },
    {
      "cell_type": "code",
      "metadata": {
        "id": "_FZV7X0Px8Qu",
        "colab": {
          "base_uri": "https://localhost:8080/",
          "height": 204
        },
        "outputId": "f867be61-ba17-4b55-eb91-3d7beeed8ee0"
      },
      "source": [
        "# ordena os clusters de frequência\n",
        "df_usuario.groupby('FrequenciaCluster')['Frequencia'].describe()"
      ],
      "execution_count": 38,
      "outputs": [
        {
          "output_type": "execute_result",
          "data": {
            "text/html": [
              "<div>\n",
              "<style scoped>\n",
              "    .dataframe tbody tr th:only-of-type {\n",
              "        vertical-align: middle;\n",
              "    }\n",
              "\n",
              "    .dataframe tbody tr th {\n",
              "        vertical-align: top;\n",
              "    }\n",
              "\n",
              "    .dataframe thead th {\n",
              "        text-align: right;\n",
              "    }\n",
              "</style>\n",
              "<table border=\"1\" class=\"dataframe\">\n",
              "  <thead>\n",
              "    <tr style=\"text-align: right;\">\n",
              "      <th></th>\n",
              "      <th>count</th>\n",
              "      <th>mean</th>\n",
              "      <th>std</th>\n",
              "      <th>min</th>\n",
              "      <th>25%</th>\n",
              "      <th>50%</th>\n",
              "      <th>75%</th>\n",
              "      <th>max</th>\n",
              "    </tr>\n",
              "    <tr>\n",
              "      <th>FrequenciaCluster</th>\n",
              "      <th></th>\n",
              "      <th></th>\n",
              "      <th></th>\n",
              "      <th></th>\n",
              "      <th></th>\n",
              "      <th></th>\n",
              "      <th></th>\n",
              "      <th></th>\n",
              "    </tr>\n",
              "  </thead>\n",
              "  <tbody>\n",
              "    <tr>\n",
              "      <th>0</th>\n",
              "      <td>106570.0</td>\n",
              "      <td>1.306343</td>\n",
              "      <td>0.570539</td>\n",
              "      <td>0.0</td>\n",
              "      <td>1.0</td>\n",
              "      <td>1.0</td>\n",
              "      <td>2.0</td>\n",
              "      <td>3.0</td>\n",
              "    </tr>\n",
              "    <tr>\n",
              "      <th>1</th>\n",
              "      <td>731.0</td>\n",
              "      <td>21.489740</td>\n",
              "      <td>6.588977</td>\n",
              "      <td>14.0</td>\n",
              "      <td>15.0</td>\n",
              "      <td>21.0</td>\n",
              "      <td>24.0</td>\n",
              "      <td>38.0</td>\n",
              "    </tr>\n",
              "    <tr>\n",
              "      <th>2</th>\n",
              "      <td>75.0</td>\n",
              "      <td>75.000000</td>\n",
              "      <td>0.000000</td>\n",
              "      <td>75.0</td>\n",
              "      <td>75.0</td>\n",
              "      <td>75.0</td>\n",
              "      <td>75.0</td>\n",
              "      <td>75.0</td>\n",
              "    </tr>\n",
              "    <tr>\n",
              "      <th>3</th>\n",
              "      <td>9205.0</td>\n",
              "      <td>5.644432</td>\n",
              "      <td>2.138491</td>\n",
              "      <td>4.0</td>\n",
              "      <td>4.0</td>\n",
              "      <td>5.0</td>\n",
              "      <td>6.0</td>\n",
              "      <td>13.0</td>\n",
              "    </tr>\n",
              "  </tbody>\n",
              "</table>\n",
              "</div>"
            ],
            "text/plain": [
              "                      count       mean       std   min   25%   50%   75%   max\n",
              "FrequenciaCluster                                                             \n",
              "0                  106570.0   1.306343  0.570539   0.0   1.0   1.0   2.0   3.0\n",
              "1                     731.0  21.489740  6.588977  14.0  15.0  21.0  24.0  38.0\n",
              "2                      75.0  75.000000  0.000000  75.0  75.0  75.0  75.0  75.0\n",
              "3                    9205.0   5.644432  2.138491   4.0   4.0   5.0   6.0  13.0"
            ]
          },
          "metadata": {
            "tags": []
          },
          "execution_count": 38
        }
      ]
    },
    {
      "cell_type": "code",
      "metadata": {
        "id": "SCUeyFW483Ko"
      },
      "source": [
        "df_usuario = ordenar_cluster('FrequenciaCluster', 'Frequencia',df_usuario,True)"
      ],
      "execution_count": 39,
      "outputs": []
    },
    {
      "cell_type": "code",
      "metadata": {
        "colab": {
          "base_uri": "https://localhost:8080/",
          "height": 204
        },
        "id": "iSlMtYiR9EH3",
        "outputId": "3d9ef289-de6e-434a-eb8c-e5d167b221c6"
      },
      "source": [
        "df_usuario.groupby('FrequenciaCluster')['Frequencia'].describe()"
      ],
      "execution_count": 40,
      "outputs": [
        {
          "output_type": "execute_result",
          "data": {
            "text/html": [
              "<div>\n",
              "<style scoped>\n",
              "    .dataframe tbody tr th:only-of-type {\n",
              "        vertical-align: middle;\n",
              "    }\n",
              "\n",
              "    .dataframe tbody tr th {\n",
              "        vertical-align: top;\n",
              "    }\n",
              "\n",
              "    .dataframe thead th {\n",
              "        text-align: right;\n",
              "    }\n",
              "</style>\n",
              "<table border=\"1\" class=\"dataframe\">\n",
              "  <thead>\n",
              "    <tr style=\"text-align: right;\">\n",
              "      <th></th>\n",
              "      <th>count</th>\n",
              "      <th>mean</th>\n",
              "      <th>std</th>\n",
              "      <th>min</th>\n",
              "      <th>25%</th>\n",
              "      <th>50%</th>\n",
              "      <th>75%</th>\n",
              "      <th>max</th>\n",
              "    </tr>\n",
              "    <tr>\n",
              "      <th>FrequenciaCluster</th>\n",
              "      <th></th>\n",
              "      <th></th>\n",
              "      <th></th>\n",
              "      <th></th>\n",
              "      <th></th>\n",
              "      <th></th>\n",
              "      <th></th>\n",
              "      <th></th>\n",
              "    </tr>\n",
              "  </thead>\n",
              "  <tbody>\n",
              "    <tr>\n",
              "      <th>0</th>\n",
              "      <td>106570.0</td>\n",
              "      <td>1.306343</td>\n",
              "      <td>0.570539</td>\n",
              "      <td>0.0</td>\n",
              "      <td>1.0</td>\n",
              "      <td>1.0</td>\n",
              "      <td>2.0</td>\n",
              "      <td>3.0</td>\n",
              "    </tr>\n",
              "    <tr>\n",
              "      <th>1</th>\n",
              "      <td>9205.0</td>\n",
              "      <td>5.644432</td>\n",
              "      <td>2.138491</td>\n",
              "      <td>4.0</td>\n",
              "      <td>4.0</td>\n",
              "      <td>5.0</td>\n",
              "      <td>6.0</td>\n",
              "      <td>13.0</td>\n",
              "    </tr>\n",
              "    <tr>\n",
              "      <th>2</th>\n",
              "      <td>731.0</td>\n",
              "      <td>21.489740</td>\n",
              "      <td>6.588977</td>\n",
              "      <td>14.0</td>\n",
              "      <td>15.0</td>\n",
              "      <td>21.0</td>\n",
              "      <td>24.0</td>\n",
              "      <td>38.0</td>\n",
              "    </tr>\n",
              "    <tr>\n",
              "      <th>3</th>\n",
              "      <td>75.0</td>\n",
              "      <td>75.000000</td>\n",
              "      <td>0.000000</td>\n",
              "      <td>75.0</td>\n",
              "      <td>75.0</td>\n",
              "      <td>75.0</td>\n",
              "      <td>75.0</td>\n",
              "      <td>75.0</td>\n",
              "    </tr>\n",
              "  </tbody>\n",
              "</table>\n",
              "</div>"
            ],
            "text/plain": [
              "                      count       mean       std   min   25%   50%   75%   max\n",
              "FrequenciaCluster                                                             \n",
              "0                  106570.0   1.306343  0.570539   0.0   1.0   1.0   2.0   3.0\n",
              "1                    9205.0   5.644432  2.138491   4.0   4.0   5.0   6.0  13.0\n",
              "2                     731.0  21.489740  6.588977  14.0  15.0  21.0  24.0  38.0\n",
              "3                      75.0  75.000000  0.000000  75.0  75.0  75.0  75.0  75.0"
            ]
          },
          "metadata": {
            "tags": []
          },
          "execution_count": 40
        }
      ]
    },
    {
      "cell_type": "code",
      "metadata": {
        "id": "4fVt0Ji3x8Qu",
        "colab": {
          "base_uri": "https://localhost:8080/",
          "height": 204
        },
        "outputId": "978e886a-71a2-46d9-8998-37045d073d5c"
      },
      "source": [
        "#calcula a receita para cada cliente\n",
        "df_receita = df.groupby('id_unico_cliente').pagamento_valor.sum().reset_index()\n",
        "df_receita.columns = ['id_unico_cliente', 'Receita']\n",
        "df_receita.head()"
      ],
      "execution_count": 41,
      "outputs": [
        {
          "output_type": "execute_result",
          "data": {
            "text/html": [
              "<div>\n",
              "<style scoped>\n",
              "    .dataframe tbody tr th:only-of-type {\n",
              "        vertical-align: middle;\n",
              "    }\n",
              "\n",
              "    .dataframe tbody tr th {\n",
              "        vertical-align: top;\n",
              "    }\n",
              "\n",
              "    .dataframe thead th {\n",
              "        text-align: right;\n",
              "    }\n",
              "</style>\n",
              "<table border=\"1\" class=\"dataframe\">\n",
              "  <thead>\n",
              "    <tr style=\"text-align: right;\">\n",
              "      <th></th>\n",
              "      <th>id_unico_cliente</th>\n",
              "      <th>Receita</th>\n",
              "    </tr>\n",
              "  </thead>\n",
              "  <tbody>\n",
              "    <tr>\n",
              "      <th>0</th>\n",
              "      <td>0000366f3b9a7992bf8c76cfdf3221e2</td>\n",
              "      <td>141.90</td>\n",
              "    </tr>\n",
              "    <tr>\n",
              "      <th>1</th>\n",
              "      <td>0000b849f77a49e4a4ce2b2a4ca5be3f</td>\n",
              "      <td>27.19</td>\n",
              "    </tr>\n",
              "    <tr>\n",
              "      <th>2</th>\n",
              "      <td>0000f46a3911fa3c0805444483337064</td>\n",
              "      <td>86.22</td>\n",
              "    </tr>\n",
              "    <tr>\n",
              "      <th>3</th>\n",
              "      <td>0000f6ccb0745a6a4b88665a16c9f078</td>\n",
              "      <td>43.62</td>\n",
              "    </tr>\n",
              "    <tr>\n",
              "      <th>4</th>\n",
              "      <td>0004aac84e0df4da2b147fca70cf8255</td>\n",
              "      <td>196.89</td>\n",
              "    </tr>\n",
              "  </tbody>\n",
              "</table>\n",
              "</div>"
            ],
            "text/plain": [
              "                   id_unico_cliente  Receita\n",
              "0  0000366f3b9a7992bf8c76cfdf3221e2   141.90\n",
              "1  0000b849f77a49e4a4ce2b2a4ca5be3f    27.19\n",
              "2  0000f46a3911fa3c0805444483337064    86.22\n",
              "3  0000f6ccb0745a6a4b88665a16c9f078    43.62\n",
              "4  0004aac84e0df4da2b147fca70cf8255   196.89"
            ]
          },
          "metadata": {
            "tags": []
          },
          "execution_count": 41
        }
      ]
    },
    {
      "cell_type": "code",
      "metadata": {
        "colab": {
          "base_uri": "https://localhost:8080/",
          "height": 204
        },
        "id": "56Xw3mvS9onG",
        "outputId": "6c7cfd2d-3ded-4d5b-90cd-2080376f5d59"
      },
      "source": [
        "#junta com o df principal\r\n",
        "df_usuario = pd.merge(df_usuario, df_receita, on='id_unico_cliente')\r\n",
        "df_usuario.head()"
      ],
      "execution_count": 42,
      "outputs": [
        {
          "output_type": "execute_result",
          "data": {
            "text/html": [
              "<div>\n",
              "<style scoped>\n",
              "    .dataframe tbody tr th:only-of-type {\n",
              "        vertical-align: middle;\n",
              "    }\n",
              "\n",
              "    .dataframe tbody tr th {\n",
              "        vertical-align: top;\n",
              "    }\n",
              "\n",
              "    .dataframe thead th {\n",
              "        text-align: right;\n",
              "    }\n",
              "</style>\n",
              "<table border=\"1\" class=\"dataframe\">\n",
              "  <thead>\n",
              "    <tr style=\"text-align: right;\">\n",
              "      <th></th>\n",
              "      <th>id_unico_cliente</th>\n",
              "      <th>id_cliente</th>\n",
              "      <th>horario_pedido</th>\n",
              "      <th>item_id</th>\n",
              "      <th>preco</th>\n",
              "      <th>Recencia</th>\n",
              "      <th>RecenciaCluster</th>\n",
              "      <th>Frequencia</th>\n",
              "      <th>FrequenciaCluster</th>\n",
              "      <th>Receita</th>\n",
              "    </tr>\n",
              "  </thead>\n",
              "  <tbody>\n",
              "    <tr>\n",
              "      <th>0</th>\n",
              "      <td>861eff4711a542e4b93843c6dd7febb0</td>\n",
              "      <td>06b8999e2fba1a1fbc88172c00ba8bc7</td>\n",
              "      <td>2017-05-16 15:05:35</td>\n",
              "      <td>1</td>\n",
              "      <td>124.99</td>\n",
              "      <td>474</td>\n",
              "      <td>0</td>\n",
              "      <td>1</td>\n",
              "      <td>0</td>\n",
              "      <td>146.87</td>\n",
              "    </tr>\n",
              "    <tr>\n",
              "      <th>1</th>\n",
              "      <td>3c799d181c34d51f6d44bbbc563024db</td>\n",
              "      <td>f0ac8e5a239118859b1734e1087cbb1f</td>\n",
              "      <td>2017-05-07 20:11:26</td>\n",
              "      <td>1</td>\n",
              "      <td>124.99</td>\n",
              "      <td>483</td>\n",
              "      <td>0</td>\n",
              "      <td>1</td>\n",
              "      <td>0</td>\n",
              "      <td>140.61</td>\n",
              "    </tr>\n",
              "    <tr>\n",
              "      <th>2</th>\n",
              "      <td>567ab47ca4deb92d46dbf54dce07d0a7</td>\n",
              "      <td>fd3a0b1bd209f0e7d420c9c3d1127613</td>\n",
              "      <td>2017-03-23 15:10:17</td>\n",
              "      <td>1</td>\n",
              "      <td>126.99</td>\n",
              "      <td>528</td>\n",
              "      <td>0</td>\n",
              "      <td>1</td>\n",
              "      <td>0</td>\n",
              "      <td>142.05</td>\n",
              "    </tr>\n",
              "    <tr>\n",
              "      <th>3</th>\n",
              "      <td>f40ab89b622248b7ca125af4b486b887</td>\n",
              "      <td>fbd40c083aa8cddebb5265b2ba6aaf2e</td>\n",
              "      <td>2017-05-16 10:00:49</td>\n",
              "      <td>1</td>\n",
              "      <td>124.99</td>\n",
              "      <td>474</td>\n",
              "      <td>0</td>\n",
              "      <td>1</td>\n",
              "      <td>0</td>\n",
              "      <td>155.70</td>\n",
              "    </tr>\n",
              "    <tr>\n",
              "      <th>4</th>\n",
              "      <td>749943913a9851a39c9baf51877fbab6</td>\n",
              "      <td>10558ef4afea173bfb5e2cbe3d5b0bb5</td>\n",
              "      <td>2017-03-18 23:04:36</td>\n",
              "      <td>1</td>\n",
              "      <td>126.99</td>\n",
              "      <td>533</td>\n",
              "      <td>0</td>\n",
              "      <td>1</td>\n",
              "      <td>0</td>\n",
              "      <td>148.33</td>\n",
              "    </tr>\n",
              "  </tbody>\n",
              "</table>\n",
              "</div>"
            ],
            "text/plain": [
              "                   id_unico_cliente  ... Receita\n",
              "0  861eff4711a542e4b93843c6dd7febb0  ...  146.87\n",
              "1  3c799d181c34d51f6d44bbbc563024db  ...  140.61\n",
              "2  567ab47ca4deb92d46dbf54dce07d0a7  ...  142.05\n",
              "3  f40ab89b622248b7ca125af4b486b887  ...  155.70\n",
              "4  749943913a9851a39c9baf51877fbab6  ...  148.33\n",
              "\n",
              "[5 rows x 10 columns]"
            ]
          },
          "metadata": {
            "tags": []
          },
          "execution_count": 42
        }
      ]
    },
    {
      "cell_type": "code",
      "metadata": {
        "id": "BLrUrQRdx8Qv"
      },
      "source": [
        "# rodando o kmeans para nossa quantidade ótima de clusters\n",
        "df_pagamento = df_usuario[['Receita']]\n",
        "kmeans = KMeans(n_clusters=4)\n",
        "df_usuario['ReceitaCluster'] = kmeans.fit_predict(df_pagamento)"
      ],
      "execution_count": 43,
      "outputs": []
    },
    {
      "cell_type": "code",
      "metadata": {
        "colab": {
          "base_uri": "https://localhost:8080/",
          "height": 204
        },
        "id": "WYAZYzaV_FQB",
        "outputId": "84aa12cb-7f04-4054-f988-58e5ceba9341"
      },
      "source": [
        "df_usuario.head()"
      ],
      "execution_count": 44,
      "outputs": [
        {
          "output_type": "execute_result",
          "data": {
            "text/html": [
              "<div>\n",
              "<style scoped>\n",
              "    .dataframe tbody tr th:only-of-type {\n",
              "        vertical-align: middle;\n",
              "    }\n",
              "\n",
              "    .dataframe tbody tr th {\n",
              "        vertical-align: top;\n",
              "    }\n",
              "\n",
              "    .dataframe thead th {\n",
              "        text-align: right;\n",
              "    }\n",
              "</style>\n",
              "<table border=\"1\" class=\"dataframe\">\n",
              "  <thead>\n",
              "    <tr style=\"text-align: right;\">\n",
              "      <th></th>\n",
              "      <th>id_unico_cliente</th>\n",
              "      <th>id_cliente</th>\n",
              "      <th>horario_pedido</th>\n",
              "      <th>item_id</th>\n",
              "      <th>preco</th>\n",
              "      <th>Recencia</th>\n",
              "      <th>RecenciaCluster</th>\n",
              "      <th>Frequencia</th>\n",
              "      <th>FrequenciaCluster</th>\n",
              "      <th>Receita</th>\n",
              "      <th>ReceitaCluster</th>\n",
              "    </tr>\n",
              "  </thead>\n",
              "  <tbody>\n",
              "    <tr>\n",
              "      <th>0</th>\n",
              "      <td>861eff4711a542e4b93843c6dd7febb0</td>\n",
              "      <td>06b8999e2fba1a1fbc88172c00ba8bc7</td>\n",
              "      <td>2017-05-16 15:05:35</td>\n",
              "      <td>1</td>\n",
              "      <td>124.99</td>\n",
              "      <td>474</td>\n",
              "      <td>0</td>\n",
              "      <td>1</td>\n",
              "      <td>0</td>\n",
              "      <td>146.87</td>\n",
              "      <td>0</td>\n",
              "    </tr>\n",
              "    <tr>\n",
              "      <th>1</th>\n",
              "      <td>3c799d181c34d51f6d44bbbc563024db</td>\n",
              "      <td>f0ac8e5a239118859b1734e1087cbb1f</td>\n",
              "      <td>2017-05-07 20:11:26</td>\n",
              "      <td>1</td>\n",
              "      <td>124.99</td>\n",
              "      <td>483</td>\n",
              "      <td>0</td>\n",
              "      <td>1</td>\n",
              "      <td>0</td>\n",
              "      <td>140.61</td>\n",
              "      <td>0</td>\n",
              "    </tr>\n",
              "    <tr>\n",
              "      <th>2</th>\n",
              "      <td>567ab47ca4deb92d46dbf54dce07d0a7</td>\n",
              "      <td>fd3a0b1bd209f0e7d420c9c3d1127613</td>\n",
              "      <td>2017-03-23 15:10:17</td>\n",
              "      <td>1</td>\n",
              "      <td>126.99</td>\n",
              "      <td>528</td>\n",
              "      <td>0</td>\n",
              "      <td>1</td>\n",
              "      <td>0</td>\n",
              "      <td>142.05</td>\n",
              "      <td>0</td>\n",
              "    </tr>\n",
              "    <tr>\n",
              "      <th>3</th>\n",
              "      <td>f40ab89b622248b7ca125af4b486b887</td>\n",
              "      <td>fbd40c083aa8cddebb5265b2ba6aaf2e</td>\n",
              "      <td>2017-05-16 10:00:49</td>\n",
              "      <td>1</td>\n",
              "      <td>124.99</td>\n",
              "      <td>474</td>\n",
              "      <td>0</td>\n",
              "      <td>1</td>\n",
              "      <td>0</td>\n",
              "      <td>155.70</td>\n",
              "      <td>0</td>\n",
              "    </tr>\n",
              "    <tr>\n",
              "      <th>4</th>\n",
              "      <td>749943913a9851a39c9baf51877fbab6</td>\n",
              "      <td>10558ef4afea173bfb5e2cbe3d5b0bb5</td>\n",
              "      <td>2017-03-18 23:04:36</td>\n",
              "      <td>1</td>\n",
              "      <td>126.99</td>\n",
              "      <td>533</td>\n",
              "      <td>0</td>\n",
              "      <td>1</td>\n",
              "      <td>0</td>\n",
              "      <td>148.33</td>\n",
              "      <td>0</td>\n",
              "    </tr>\n",
              "  </tbody>\n",
              "</table>\n",
              "</div>"
            ],
            "text/plain": [
              "                   id_unico_cliente  ... ReceitaCluster\n",
              "0  861eff4711a542e4b93843c6dd7febb0  ...              0\n",
              "1  3c799d181c34d51f6d44bbbc563024db  ...              0\n",
              "2  567ab47ca4deb92d46dbf54dce07d0a7  ...              0\n",
              "3  f40ab89b622248b7ca125af4b486b887  ...              0\n",
              "4  749943913a9851a39c9baf51877fbab6  ...              0\n",
              "\n",
              "[5 rows x 11 columns]"
            ]
          },
          "metadata": {
            "tags": []
          },
          "execution_count": 44
        }
      ]
    },
    {
      "cell_type": "code",
      "metadata": {
        "id": "qrlZMwCp_LPK"
      },
      "source": [
        "df_usuario = ordenar_cluster('ReceitaCluster', 'Receita', df_usuario, True)"
      ],
      "execution_count": 45,
      "outputs": []
    },
    {
      "cell_type": "code",
      "metadata": {
        "id": "yEKceS-Xx8Qv",
        "colab": {
          "base_uri": "https://localhost:8080/",
          "height": 204
        },
        "outputId": "27806e37-0013-4830-d555-30f12358232b"
      },
      "source": [
        "#ordena os clusters\n",
        "df_usuario.groupby('ReceitaCluster')['Receita'].describe()"
      ],
      "execution_count": 46,
      "outputs": [
        {
          "output_type": "execute_result",
          "data": {
            "text/html": [
              "<div>\n",
              "<style scoped>\n",
              "    .dataframe tbody tr th:only-of-type {\n",
              "        vertical-align: middle;\n",
              "    }\n",
              "\n",
              "    .dataframe tbody tr th {\n",
              "        vertical-align: top;\n",
              "    }\n",
              "\n",
              "    .dataframe thead th {\n",
              "        text-align: right;\n",
              "    }\n",
              "</style>\n",
              "<table border=\"1\" class=\"dataframe\">\n",
              "  <thead>\n",
              "    <tr style=\"text-align: right;\">\n",
              "      <th></th>\n",
              "      <th>count</th>\n",
              "      <th>mean</th>\n",
              "      <th>std</th>\n",
              "      <th>min</th>\n",
              "      <th>25%</th>\n",
              "      <th>50%</th>\n",
              "      <th>75%</th>\n",
              "      <th>max</th>\n",
              "    </tr>\n",
              "    <tr>\n",
              "      <th>ReceitaCluster</th>\n",
              "      <th></th>\n",
              "      <th></th>\n",
              "      <th></th>\n",
              "      <th></th>\n",
              "      <th></th>\n",
              "      <th></th>\n",
              "      <th></th>\n",
              "      <th></th>\n",
              "    </tr>\n",
              "  </thead>\n",
              "  <tbody>\n",
              "    <tr>\n",
              "      <th>0</th>\n",
              "      <td>114798.0</td>\n",
              "      <td>258.918361</td>\n",
              "      <td>367.870074</td>\n",
              "      <td>9.59</td>\n",
              "      <td>69.90</td>\n",
              "      <td>132.60</td>\n",
              "      <td>269.28</td>\n",
              "      <td>2971.85</td>\n",
              "    </tr>\n",
              "    <tr>\n",
              "      <th>1</th>\n",
              "      <td>1584.0</td>\n",
              "      <td>5709.531187</td>\n",
              "      <td>2885.449918</td>\n",
              "      <td>2987.84</td>\n",
              "      <td>3610.00</td>\n",
              "      <td>4564.75</td>\n",
              "      <td>7006.19</td>\n",
              "      <td>16313.60</td>\n",
              "    </tr>\n",
              "    <tr>\n",
              "      <th>2</th>\n",
              "      <td>191.0</td>\n",
              "      <td>27358.656911</td>\n",
              "      <td>10032.832924</td>\n",
              "      <td>17069.76</td>\n",
              "      <td>19167.26</td>\n",
              "      <td>25051.89</td>\n",
              "      <td>30186.00</td>\n",
              "      <td>45256.00</td>\n",
              "    </tr>\n",
              "    <tr>\n",
              "      <th>3</th>\n",
              "      <td>8.0</td>\n",
              "      <td>109312.640000</td>\n",
              "      <td>0.000000</td>\n",
              "      <td>109312.64</td>\n",
              "      <td>109312.64</td>\n",
              "      <td>109312.64</td>\n",
              "      <td>109312.64</td>\n",
              "      <td>109312.64</td>\n",
              "    </tr>\n",
              "  </tbody>\n",
              "</table>\n",
              "</div>"
            ],
            "text/plain": [
              "                   count           mean  ...        75%        max\n",
              "ReceitaCluster                           ...                      \n",
              "0               114798.0     258.918361  ...     269.28    2971.85\n",
              "1                 1584.0    5709.531187  ...    7006.19   16313.60\n",
              "2                  191.0   27358.656911  ...   30186.00   45256.00\n",
              "3                    8.0  109312.640000  ...  109312.64  109312.64\n",
              "\n",
              "[4 rows x 8 columns]"
            ]
          },
          "metadata": {
            "tags": []
          },
          "execution_count": 46
        }
      ]
    },
    {
      "cell_type": "code",
      "metadata": {
        "id": "I1F71Waax8Qw",
        "colab": {
          "base_uri": "https://localhost:8080/",
          "height": 204
        },
        "outputId": "e0641cca-b6d9-4cfa-8a3b-a06f6442f053"
      },
      "source": [
        "df_final = df_usuario.drop(['id_cliente','horario_pedido','item_id','preco'],axis=1)\n",
        "df_final.head()"
      ],
      "execution_count": 47,
      "outputs": [
        {
          "output_type": "execute_result",
          "data": {
            "text/html": [
              "<div>\n",
              "<style scoped>\n",
              "    .dataframe tbody tr th:only-of-type {\n",
              "        vertical-align: middle;\n",
              "    }\n",
              "\n",
              "    .dataframe tbody tr th {\n",
              "        vertical-align: top;\n",
              "    }\n",
              "\n",
              "    .dataframe thead th {\n",
              "        text-align: right;\n",
              "    }\n",
              "</style>\n",
              "<table border=\"1\" class=\"dataframe\">\n",
              "  <thead>\n",
              "    <tr style=\"text-align: right;\">\n",
              "      <th></th>\n",
              "      <th>id_unico_cliente</th>\n",
              "      <th>Recencia</th>\n",
              "      <th>RecenciaCluster</th>\n",
              "      <th>Frequencia</th>\n",
              "      <th>FrequenciaCluster</th>\n",
              "      <th>Receita</th>\n",
              "      <th>ReceitaCluster</th>\n",
              "    </tr>\n",
              "  </thead>\n",
              "  <tbody>\n",
              "    <tr>\n",
              "      <th>0</th>\n",
              "      <td>861eff4711a542e4b93843c6dd7febb0</td>\n",
              "      <td>474</td>\n",
              "      <td>0</td>\n",
              "      <td>1</td>\n",
              "      <td>0</td>\n",
              "      <td>146.87</td>\n",
              "      <td>0</td>\n",
              "    </tr>\n",
              "    <tr>\n",
              "      <th>1</th>\n",
              "      <td>3c799d181c34d51f6d44bbbc563024db</td>\n",
              "      <td>483</td>\n",
              "      <td>0</td>\n",
              "      <td>1</td>\n",
              "      <td>0</td>\n",
              "      <td>140.61</td>\n",
              "      <td>0</td>\n",
              "    </tr>\n",
              "    <tr>\n",
              "      <th>2</th>\n",
              "      <td>567ab47ca4deb92d46dbf54dce07d0a7</td>\n",
              "      <td>528</td>\n",
              "      <td>0</td>\n",
              "      <td>1</td>\n",
              "      <td>0</td>\n",
              "      <td>142.05</td>\n",
              "      <td>0</td>\n",
              "    </tr>\n",
              "    <tr>\n",
              "      <th>3</th>\n",
              "      <td>f40ab89b622248b7ca125af4b486b887</td>\n",
              "      <td>474</td>\n",
              "      <td>0</td>\n",
              "      <td>1</td>\n",
              "      <td>0</td>\n",
              "      <td>155.70</td>\n",
              "      <td>0</td>\n",
              "    </tr>\n",
              "    <tr>\n",
              "      <th>4</th>\n",
              "      <td>749943913a9851a39c9baf51877fbab6</td>\n",
              "      <td>533</td>\n",
              "      <td>0</td>\n",
              "      <td>1</td>\n",
              "      <td>0</td>\n",
              "      <td>148.33</td>\n",
              "      <td>0</td>\n",
              "    </tr>\n",
              "  </tbody>\n",
              "</table>\n",
              "</div>"
            ],
            "text/plain": [
              "                   id_unico_cliente  Recencia  ...  Receita  ReceitaCluster\n",
              "0  861eff4711a542e4b93843c6dd7febb0       474  ...   146.87               0\n",
              "1  3c799d181c34d51f6d44bbbc563024db       483  ...   140.61               0\n",
              "2  567ab47ca4deb92d46dbf54dce07d0a7       528  ...   142.05               0\n",
              "3  f40ab89b622248b7ca125af4b486b887       474  ...   155.70               0\n",
              "4  749943913a9851a39c9baf51877fbab6       533  ...   148.33               0\n",
              "\n",
              "[5 rows x 7 columns]"
            ]
          },
          "metadata": {
            "tags": []
          },
          "execution_count": 47
        }
      ]
    },
    {
      "cell_type": "code",
      "metadata": {
        "id": "QGM_qkEFx8Qw"
      },
      "source": [
        "#renomeando as colunas\n",
        "df_final.columns = ['Id_unico_cliente', 'Recencia', 'RecenciaCluster', 'Frequencia', 'FrequenciaCluster', 'Receita', 'ReceitaCluster']"
      ],
      "execution_count": 48,
      "outputs": []
    },
    {
      "cell_type": "code",
      "metadata": {
        "id": "VHqwAj_ux8Qx",
        "colab": {
          "base_uri": "https://localhost:8080/",
          "height": 204
        },
        "outputId": "db25133d-d119-4eb6-d870-62170c4b7229"
      },
      "source": [
        "df_final.head()"
      ],
      "execution_count": 49,
      "outputs": [
        {
          "output_type": "execute_result",
          "data": {
            "text/html": [
              "<div>\n",
              "<style scoped>\n",
              "    .dataframe tbody tr th:only-of-type {\n",
              "        vertical-align: middle;\n",
              "    }\n",
              "\n",
              "    .dataframe tbody tr th {\n",
              "        vertical-align: top;\n",
              "    }\n",
              "\n",
              "    .dataframe thead th {\n",
              "        text-align: right;\n",
              "    }\n",
              "</style>\n",
              "<table border=\"1\" class=\"dataframe\">\n",
              "  <thead>\n",
              "    <tr style=\"text-align: right;\">\n",
              "      <th></th>\n",
              "      <th>Id_unico_cliente</th>\n",
              "      <th>Recencia</th>\n",
              "      <th>RecenciaCluster</th>\n",
              "      <th>Frequencia</th>\n",
              "      <th>FrequenciaCluster</th>\n",
              "      <th>Receita</th>\n",
              "      <th>ReceitaCluster</th>\n",
              "    </tr>\n",
              "  </thead>\n",
              "  <tbody>\n",
              "    <tr>\n",
              "      <th>0</th>\n",
              "      <td>861eff4711a542e4b93843c6dd7febb0</td>\n",
              "      <td>474</td>\n",
              "      <td>0</td>\n",
              "      <td>1</td>\n",
              "      <td>0</td>\n",
              "      <td>146.87</td>\n",
              "      <td>0</td>\n",
              "    </tr>\n",
              "    <tr>\n",
              "      <th>1</th>\n",
              "      <td>3c799d181c34d51f6d44bbbc563024db</td>\n",
              "      <td>483</td>\n",
              "      <td>0</td>\n",
              "      <td>1</td>\n",
              "      <td>0</td>\n",
              "      <td>140.61</td>\n",
              "      <td>0</td>\n",
              "    </tr>\n",
              "    <tr>\n",
              "      <th>2</th>\n",
              "      <td>567ab47ca4deb92d46dbf54dce07d0a7</td>\n",
              "      <td>528</td>\n",
              "      <td>0</td>\n",
              "      <td>1</td>\n",
              "      <td>0</td>\n",
              "      <td>142.05</td>\n",
              "      <td>0</td>\n",
              "    </tr>\n",
              "    <tr>\n",
              "      <th>3</th>\n",
              "      <td>f40ab89b622248b7ca125af4b486b887</td>\n",
              "      <td>474</td>\n",
              "      <td>0</td>\n",
              "      <td>1</td>\n",
              "      <td>0</td>\n",
              "      <td>155.70</td>\n",
              "      <td>0</td>\n",
              "    </tr>\n",
              "    <tr>\n",
              "      <th>4</th>\n",
              "      <td>749943913a9851a39c9baf51877fbab6</td>\n",
              "      <td>533</td>\n",
              "      <td>0</td>\n",
              "      <td>1</td>\n",
              "      <td>0</td>\n",
              "      <td>148.33</td>\n",
              "      <td>0</td>\n",
              "    </tr>\n",
              "  </tbody>\n",
              "</table>\n",
              "</div>"
            ],
            "text/plain": [
              "                   Id_unico_cliente  Recencia  ...  Receita  ReceitaCluster\n",
              "0  861eff4711a542e4b93843c6dd7febb0       474  ...   146.87               0\n",
              "1  3c799d181c34d51f6d44bbbc563024db       483  ...   140.61               0\n",
              "2  567ab47ca4deb92d46dbf54dce07d0a7       528  ...   142.05               0\n",
              "3  f40ab89b622248b7ca125af4b486b887       474  ...   155.70               0\n",
              "4  749943913a9851a39c9baf51877fbab6       533  ...   148.33               0\n",
              "\n",
              "[5 rows x 7 columns]"
            ]
          },
          "metadata": {
            "tags": []
          },
          "execution_count": 49
        }
      ]
    },
    {
      "cell_type": "markdown",
      "metadata": {
        "id": "muh5HOyqx8Qy"
      },
      "source": [
        "> Calcularemos a pontuação geral do cliente baseado nesses clusters e também definimos 4 opções: inativo, business, master e premium. "
      ]
    },
    {
      "cell_type": "code",
      "metadata": {
        "id": "3c31WRTPx8Qz",
        "colab": {
          "base_uri": "https://localhost:8080/",
          "height": 204
        },
        "outputId": "29c0bfba-f398-4278-dee8-512e175a37a4"
      },
      "source": [
        "df_final['Pontuacao'] = df_usuario['RecenciaCluster'] + df_usuario['FrequenciaCluster'] + df_usuario['ReceitaCluster']\n",
        "df_final.head()"
      ],
      "execution_count": 50,
      "outputs": [
        {
          "output_type": "execute_result",
          "data": {
            "text/html": [
              "<div>\n",
              "<style scoped>\n",
              "    .dataframe tbody tr th:only-of-type {\n",
              "        vertical-align: middle;\n",
              "    }\n",
              "\n",
              "    .dataframe tbody tr th {\n",
              "        vertical-align: top;\n",
              "    }\n",
              "\n",
              "    .dataframe thead th {\n",
              "        text-align: right;\n",
              "    }\n",
              "</style>\n",
              "<table border=\"1\" class=\"dataframe\">\n",
              "  <thead>\n",
              "    <tr style=\"text-align: right;\">\n",
              "      <th></th>\n",
              "      <th>Id_unico_cliente</th>\n",
              "      <th>Recencia</th>\n",
              "      <th>RecenciaCluster</th>\n",
              "      <th>Frequencia</th>\n",
              "      <th>FrequenciaCluster</th>\n",
              "      <th>Receita</th>\n",
              "      <th>ReceitaCluster</th>\n",
              "      <th>Pontuacao</th>\n",
              "    </tr>\n",
              "  </thead>\n",
              "  <tbody>\n",
              "    <tr>\n",
              "      <th>0</th>\n",
              "      <td>861eff4711a542e4b93843c6dd7febb0</td>\n",
              "      <td>474</td>\n",
              "      <td>0</td>\n",
              "      <td>1</td>\n",
              "      <td>0</td>\n",
              "      <td>146.87</td>\n",
              "      <td>0</td>\n",
              "      <td>0</td>\n",
              "    </tr>\n",
              "    <tr>\n",
              "      <th>1</th>\n",
              "      <td>3c799d181c34d51f6d44bbbc563024db</td>\n",
              "      <td>483</td>\n",
              "      <td>0</td>\n",
              "      <td>1</td>\n",
              "      <td>0</td>\n",
              "      <td>140.61</td>\n",
              "      <td>0</td>\n",
              "      <td>0</td>\n",
              "    </tr>\n",
              "    <tr>\n",
              "      <th>2</th>\n",
              "      <td>567ab47ca4deb92d46dbf54dce07d0a7</td>\n",
              "      <td>528</td>\n",
              "      <td>0</td>\n",
              "      <td>1</td>\n",
              "      <td>0</td>\n",
              "      <td>142.05</td>\n",
              "      <td>0</td>\n",
              "      <td>0</td>\n",
              "    </tr>\n",
              "    <tr>\n",
              "      <th>3</th>\n",
              "      <td>f40ab89b622248b7ca125af4b486b887</td>\n",
              "      <td>474</td>\n",
              "      <td>0</td>\n",
              "      <td>1</td>\n",
              "      <td>0</td>\n",
              "      <td>155.70</td>\n",
              "      <td>0</td>\n",
              "      <td>0</td>\n",
              "    </tr>\n",
              "    <tr>\n",
              "      <th>4</th>\n",
              "      <td>749943913a9851a39c9baf51877fbab6</td>\n",
              "      <td>533</td>\n",
              "      <td>0</td>\n",
              "      <td>1</td>\n",
              "      <td>0</td>\n",
              "      <td>148.33</td>\n",
              "      <td>0</td>\n",
              "      <td>0</td>\n",
              "    </tr>\n",
              "  </tbody>\n",
              "</table>\n",
              "</div>"
            ],
            "text/plain": [
              "                   Id_unico_cliente  Recencia  ...  ReceitaCluster  Pontuacao\n",
              "0  861eff4711a542e4b93843c6dd7febb0       474  ...               0          0\n",
              "1  3c799d181c34d51f6d44bbbc563024db       483  ...               0          0\n",
              "2  567ab47ca4deb92d46dbf54dce07d0a7       528  ...               0          0\n",
              "3  f40ab89b622248b7ca125af4b486b887       474  ...               0          0\n",
              "4  749943913a9851a39c9baf51877fbab6       533  ...               0          0\n",
              "\n",
              "[5 rows x 8 columns]"
            ]
          },
          "metadata": {
            "tags": []
          },
          "execution_count": 50
        }
      ]
    },
    {
      "cell_type": "code",
      "metadata": {
        "colab": {
          "base_uri": "https://localhost:8080/"
        },
        "id": "j1x_DphQBnOb",
        "outputId": "4465d8e2-33fa-4a60-975d-d77837ffb250"
      },
      "source": [
        "df_final.Pontuacao.max()"
      ],
      "execution_count": 51,
      "outputs": [
        {
          "output_type": "execute_result",
          "data": {
            "text/plain": [
              "7"
            ]
          },
          "metadata": {
            "tags": []
          },
          "execution_count": 51
        }
      ]
    },
    {
      "cell_type": "code",
      "metadata": {
        "id": "Cz95WY0ABhMV"
      },
      "source": [
        ""
      ],
      "execution_count": 51,
      "outputs": []
    },
    {
      "cell_type": "code",
      "metadata": {
        "id": "08cr158vx8Qz"
      },
      "source": [
        "df_final['Segmento'] = 'Inativo'"
      ],
      "execution_count": 52,
      "outputs": []
    },
    {
      "cell_type": "code",
      "metadata": {
        "id": "NSJNOaltx8Q0"
      },
      "source": [
        "df_final.loc[df_final['Pontuacao']>=1,'Segmento'] = 'Business' \n",
        "df_final.loc[df_final['Pontuacao']>=3,'Segmento'] = 'Master' \n",
        "df_final.loc[df_final['Pontuacao']>=5,'Segmento'] = 'Premium' "
      ],
      "execution_count": 61,
      "outputs": []
    },
    {
      "cell_type": "code",
      "metadata": {
        "colab": {
          "base_uri": "https://localhost:8080/",
          "height": 204
        },
        "id": "awumzErqB344",
        "outputId": "d2fe3ac3-5fa8-46c7-ab3c-4152aa3d4487"
      },
      "source": [
        "df_final.head()"
      ],
      "execution_count": 62,
      "outputs": [
        {
          "output_type": "execute_result",
          "data": {
            "text/html": [
              "<div>\n",
              "<style scoped>\n",
              "    .dataframe tbody tr th:only-of-type {\n",
              "        vertical-align: middle;\n",
              "    }\n",
              "\n",
              "    .dataframe tbody tr th {\n",
              "        vertical-align: top;\n",
              "    }\n",
              "\n",
              "    .dataframe thead th {\n",
              "        text-align: right;\n",
              "    }\n",
              "</style>\n",
              "<table border=\"1\" class=\"dataframe\">\n",
              "  <thead>\n",
              "    <tr style=\"text-align: right;\">\n",
              "      <th></th>\n",
              "      <th>Id_unico_cliente</th>\n",
              "      <th>Recencia</th>\n",
              "      <th>RecenciaCluster</th>\n",
              "      <th>Frequencia</th>\n",
              "      <th>FrequenciaCluster</th>\n",
              "      <th>Receita</th>\n",
              "      <th>ReceitaCluster</th>\n",
              "      <th>Pontuacao</th>\n",
              "      <th>Segmento</th>\n",
              "    </tr>\n",
              "  </thead>\n",
              "  <tbody>\n",
              "    <tr>\n",
              "      <th>0</th>\n",
              "      <td>861eff4711a542e4b93843c6dd7febb0</td>\n",
              "      <td>474</td>\n",
              "      <td>0</td>\n",
              "      <td>1</td>\n",
              "      <td>0</td>\n",
              "      <td>146.87</td>\n",
              "      <td>0</td>\n",
              "      <td>0</td>\n",
              "      <td>Inativo</td>\n",
              "    </tr>\n",
              "    <tr>\n",
              "      <th>1</th>\n",
              "      <td>3c799d181c34d51f6d44bbbc563024db</td>\n",
              "      <td>483</td>\n",
              "      <td>0</td>\n",
              "      <td>1</td>\n",
              "      <td>0</td>\n",
              "      <td>140.61</td>\n",
              "      <td>0</td>\n",
              "      <td>0</td>\n",
              "      <td>Inativo</td>\n",
              "    </tr>\n",
              "    <tr>\n",
              "      <th>2</th>\n",
              "      <td>567ab47ca4deb92d46dbf54dce07d0a7</td>\n",
              "      <td>528</td>\n",
              "      <td>0</td>\n",
              "      <td>1</td>\n",
              "      <td>0</td>\n",
              "      <td>142.05</td>\n",
              "      <td>0</td>\n",
              "      <td>0</td>\n",
              "      <td>Inativo</td>\n",
              "    </tr>\n",
              "    <tr>\n",
              "      <th>3</th>\n",
              "      <td>f40ab89b622248b7ca125af4b486b887</td>\n",
              "      <td>474</td>\n",
              "      <td>0</td>\n",
              "      <td>1</td>\n",
              "      <td>0</td>\n",
              "      <td>155.70</td>\n",
              "      <td>0</td>\n",
              "      <td>0</td>\n",
              "      <td>Inativo</td>\n",
              "    </tr>\n",
              "    <tr>\n",
              "      <th>4</th>\n",
              "      <td>749943913a9851a39c9baf51877fbab6</td>\n",
              "      <td>533</td>\n",
              "      <td>0</td>\n",
              "      <td>1</td>\n",
              "      <td>0</td>\n",
              "      <td>148.33</td>\n",
              "      <td>0</td>\n",
              "      <td>0</td>\n",
              "      <td>Inativo</td>\n",
              "    </tr>\n",
              "  </tbody>\n",
              "</table>\n",
              "</div>"
            ],
            "text/plain": [
              "                   Id_unico_cliente  Recencia  ...  Pontuacao  Segmento\n",
              "0  861eff4711a542e4b93843c6dd7febb0       474  ...          0   Inativo\n",
              "1  3c799d181c34d51f6d44bbbc563024db       483  ...          0   Inativo\n",
              "2  567ab47ca4deb92d46dbf54dce07d0a7       528  ...          0   Inativo\n",
              "3  f40ab89b622248b7ca125af4b486b887       474  ...          0   Inativo\n",
              "4  749943913a9851a39c9baf51877fbab6       533  ...          0   Inativo\n",
              "\n",
              "[5 rows x 9 columns]"
            ]
          },
          "metadata": {
            "tags": []
          },
          "execution_count": 62
        }
      ]
    },
    {
      "cell_type": "code",
      "metadata": {
        "id": "aQUdQn3hx8Q1"
      },
      "source": [
        "df_final.to_csv('RFM.csv')"
      ],
      "execution_count": 63,
      "outputs": []
    },
    {
      "cell_type": "code",
      "metadata": {
        "id": "os6JmH1Zx8Q1"
      },
      "source": [
        "def plot_segmento(x,y,data):\n",
        "    sns.set(palette='muted', color_codes=True, style='whitegrid')\n",
        "    fig, axs = plt.subplots(1, 1, figsize=(7, 5))\n",
        "    sns.despine(left=True)\n",
        "    sns.scatterplot(x=x, y=y, hue='Segmento', data=data, size='Segmento', sizes=(50,150), size_order=['Premium','Master','Business','Inativo'])\n",
        "    axs.set_title('Segmento de Cliente')\n",
        "    plt.show()"
      ],
      "execution_count": 64,
      "outputs": []
    },
    {
      "cell_type": "code",
      "metadata": {
        "id": "BoR9OHvlx8Q1",
        "colab": {
          "base_uri": "https://localhost:8080/",
          "height": 355
        },
        "outputId": "26aaae56-c452-4e45-c3ca-0351db0ba2de"
      },
      "source": [
        "plot_segmento('Recencia','Frequencia',df_final)"
      ],
      "execution_count": 65,
      "outputs": [
        {
          "output_type": "display_data",
          "data": {
            "image/png": "[encoded data removed]",
            "text/plain": [
              "<Figure size 504x360 with 1 Axes>"
            ]
          },
          "metadata": {
            "tags": []
          }
        }
      ]
    },
    {
      "cell_type": "code",
      "metadata": {
        "id": "KuW2u_Gjx8Q3",
        "colab": {
          "base_uri": "https://localhost:8080/",
          "height": 355
        },
        "outputId": "861557f1-1db1-459e-acac-f48f431bd4a7"
      },
      "source": [
        "plot_segmento('Frequencia','Receita',df_final)"
      ],
      "execution_count": 66,
      "outputs": [
        {
          "output_type": "display_data",
          "data": {
            "image/png": "[encoded data removed]",
            "text/plain": [
              "<Figure size 504x360 with 1 Axes>"
            ]
          },
          "metadata": {
            "tags": []
          }
        }
      ]
    },
    {
      "cell_type": "code",
      "metadata": {
        "id": "aCIo7Lsvx8Q3",
        "colab": {
          "base_uri": "https://localhost:8080/",
          "height": 355
        },
        "outputId": "60a01206-05a2-4f8a-b239-da402b863a51"
      },
      "source": [
        "plot_segmento('Recencia','Receita',df_final)"
      ],
      "execution_count": 67,
      "outputs": [
        {
          "output_type": "display_data",
          "data": {
            "image/png": "[encoded data removed]",
            "text/plain": [
              "<Figure size 504x360 with 1 Axes>"
            ]
          },
          "metadata": {
            "tags": []
          }
        }
      ]
    },
    {
      "cell_type": "code",
      "metadata": {
        "id": "df1z1Fzax8Q4",
        "colab": {
          "base_uri": "https://localhost:8080/",
          "height": 302
        },
        "outputId": "7519a253-c66a-4a1b-d504-a1c249beb956"
      },
      "source": [
        "sns.countplot(df_final['Segmento'])"
      ],
      "execution_count": 68,
      "outputs": [
        {
          "output_type": "execute_result",
          "data": {
            "text/plain": [
              "<matplotlib.axes._subplots.AxesSubplot at 0x7fb525238940>"
            ]
          },
          "metadata": {
            "tags": []
          },
          "execution_count": 68
        },
        {
          "output_type": "display_data",
          "data": {
            "image/png": "[encoded data removed]",
            "text/plain": [
              "<Figure size 432x288 with 1 Axes>"
            ]
          },
          "metadata": {
            "tags": []
          }
        }
      ]
    },
    {
      "cell_type": "markdown",
      "metadata": {
        "id": "PROYhXsnx8Q5"
      },
      "source": [
        "| **Segmentos**        | **Descrição**                                                      | **Recência** | **Frequência** | **Receita** |\n",
        "|----------------------|--------------------------------------------------------------------|--------------|----------------|-------------|\n",
        "| Campeões             | Compraram recentemente, compram com frequência e gastam muito      | 4-5          | 4-5            | 4-5         |\n",
        "| Clientes fiéis       | Gastam muito e respondem a promoções                               | 2-5          | 3-5            | 3-5         |\n",
        "| Potencialmente fiéis | Compraram recentemente, mais de uma vez e gastaram uma boa quantia | 3-5          | 1-3            | 1-3         |\n",
        "| Novos clientes       | Compraram recentemente, mas não compram com frequência             | 4-5          | <=1            | <=1         |\n",
        "| Promissores          | Compraram recentemente, mas não gastaram muito                     | 3-4          | <=1            | <=1         |\n",
        "| Precisam de atenção  | Recência, frequência e valor monetário acima da média              | 2-3          | 2-3            | 2-3         |\n",
        "| Quase em risco       | Recência, frequência e valor monetário abaixo da média             | 2-3          | <=2            | <=2         |\n",
        "| De risco             | Gastaram muito, compraram muitas vezes, mas há muito tempo         | <=2          | 2-5            | 2-5         |\n",
        "| Não pode perdê-los   | Compraram muito e com frequência, mas há muito tempo               | <=1          | 4-5            | 4-5         |\n",
        "| Hibernando           | Compraram pouco, com baixa frequência e há muito tempo             | 1-2          | 1-2            | 1-2         |\n",
        "| Perdidos             | Recência, frequência e valores monetários baixos                   | <=2          | <=2            | <=2         |"
      ]
    },
    {
      "cell_type": "code",
      "metadata": {
        "id": "6HKrAucXK6gb"
      },
      "source": [
        "df_final.loc[(df_final['RecenciaCluster']==0) & (df_final['FrequenciaCluster']==3) & (df_final['ReceitaCluster']==3),'Segmento'] = 'Campeao'\r\n",
        "\r\n",
        "df_final.loc[(df_final['RecenciaCluster']==1) & (df_final['FrequenciaCluster']==3) & (df_final['ReceitaCluster']==3),'Segmento'] = 'Fiel'\r\n",
        "\r\n",
        "df_final.loc[(df_final['RecenciaCluster']==1) & (df_final['FrequenciaCluster']==2) & (df_final['ReceitaCluster']==2),'Segmento'] = 'Potencialmente Fiel - Tipo 1'\r\n",
        "\r\n",
        "df_final.loc[(df_final['RecenciaCluster']==1) & (df_final['FrequenciaCluster']==1) & (df_final['ReceitaCluster']==3),'Segmento'] = 'Potencialmente Fiel - Tipo 2'\r\n",
        "\r\n",
        "df_final.loc[(df_final['RecenciaCluster']==0) & (df_final['FrequenciaCluster']==0) & (df_final['ReceitaCluster']==0),'Segmento'] = 'Novos'\r\n",
        "\r\n",
        "df_final.loc[(df_final['RecenciaCluster']==0) & (df_final['FrequenciaCluster']==1) & (df_final['ReceitaCluster']==1),'Segmento'] = 'Promissores'\r\n",
        "\r\n",
        "df_final.loc[(df_final['RecenciaCluster']==2) & (df_final['FrequenciaCluster']==2) & (df_final['ReceitaCluster']==2),'Segmento'] = 'Precisam Atencao'\r\n",
        "\r\n",
        "df_final.loc[(df_final['RecenciaCluster']==2) & (df_final['FrequenciaCluster']==1) & (df_final['ReceitaCluster']==1),'Segmento'] ='Quase em Risco'\r\n",
        "\r\n",
        "df_final.loc[(df_final['RecenciaCluster']==3) & (df_final['FrequenciaCluster']==2) & (df_final['ReceitaCluster']==2),'Segmento'] ='Risco'\r\n",
        "\r\n",
        "df_final.loc[(df_final['RecenciaCluster']==3) & (df_final['FrequenciaCluster']==3) & (df_final['ReceitaCluster']==3),'Segmento'] ='Nao pode perder - Tipo 1'\r\n",
        "\r\n",
        "df_final.loc[(df_final['RecenciaCluster']==3) & (df_final['FrequenciaCluster']==1) & (df_final['ReceitaCluster']==1),'Segmento'] ='Hibernando'\r\n",
        "\r\n",
        "df_final.loc[(df_final['RecenciaCluster']==3) & (df_final['FrequenciaCluster']==0) & (df_final['ReceitaCluster']==0),'Segmento'] ='Perdidos'"
      ],
      "execution_count": 69,
      "outputs": []
    },
    {
      "cell_type": "code",
      "metadata": {
        "id": "mTADlwtWK77g"
      },
      "source": [
        "def agrupar(p,q,r,segmento):\r\n",
        "    df_final.loc[(df_final['RecenciaCluster']==p) & (df_final['FrequenciaCluster']==q) & (df_final['ReceitaCluster']==r),'Segmento'] ='segmento'"
      ],
      "execution_count": 75,
      "outputs": []
    },
    {
      "cell_type": "code",
      "metadata": {
        "id": "wmw-tBPqLNle"
      },
      "source": [
        "agrupar(3,0,0,'Perdidos')\r\n"
      ],
      "execution_count": 78,
      "outputs": []
    },
    {
      "cell_type": "code",
      "metadata": {
        "colab": {
          "base_uri": "https://localhost:8080/",
          "height": 204
        },
        "id": "QzAWTE3_LbXd",
        "outputId": "2be0e968-a166-4764-eab9-8cf61a1cd49c"
      },
      "source": [
        "df_final.head()"
      ],
      "execution_count": 80,
      "outputs": [
        {
          "output_type": "execute_result",
          "data": {
            "text/html": [
              "<div>\n",
              "<style scoped>\n",
              "    .dataframe tbody tr th:only-of-type {\n",
              "        vertical-align: middle;\n",
              "    }\n",
              "\n",
              "    .dataframe tbody tr th {\n",
              "        vertical-align: top;\n",
              "    }\n",
              "\n",
              "    .dataframe thead th {\n",
              "        text-align: right;\n",
              "    }\n",
              "</style>\n",
              "<table border=\"1\" class=\"dataframe\">\n",
              "  <thead>\n",
              "    <tr style=\"text-align: right;\">\n",
              "      <th></th>\n",
              "      <th>Id_unico_cliente</th>\n",
              "      <th>Recencia</th>\n",
              "      <th>RecenciaCluster</th>\n",
              "      <th>Frequencia</th>\n",
              "      <th>FrequenciaCluster</th>\n",
              "      <th>Receita</th>\n",
              "      <th>ReceitaCluster</th>\n",
              "      <th>Pontuacao</th>\n",
              "      <th>Segmento</th>\n",
              "    </tr>\n",
              "  </thead>\n",
              "  <tbody>\n",
              "    <tr>\n",
              "      <th>0</th>\n",
              "      <td>861eff4711a542e4b93843c6dd7febb0</td>\n",
              "      <td>474</td>\n",
              "      <td>0</td>\n",
              "      <td>1</td>\n",
              "      <td>0</td>\n",
              "      <td>146.87</td>\n",
              "      <td>0</td>\n",
              "      <td>0</td>\n",
              "      <td>Novos</td>\n",
              "    </tr>\n",
              "    <tr>\n",
              "      <th>1</th>\n",
              "      <td>3c799d181c34d51f6d44bbbc563024db</td>\n",
              "      <td>483</td>\n",
              "      <td>0</td>\n",
              "      <td>1</td>\n",
              "      <td>0</td>\n",
              "      <td>140.61</td>\n",
              "      <td>0</td>\n",
              "      <td>0</td>\n",
              "      <td>Novos</td>\n",
              "    </tr>\n",
              "    <tr>\n",
              "      <th>2</th>\n",
              "      <td>567ab47ca4deb92d46dbf54dce07d0a7</td>\n",
              "      <td>528</td>\n",
              "      <td>0</td>\n",
              "      <td>1</td>\n",
              "      <td>0</td>\n",
              "      <td>142.05</td>\n",
              "      <td>0</td>\n",
              "      <td>0</td>\n",
              "      <td>Novos</td>\n",
              "    </tr>\n",
              "    <tr>\n",
              "      <th>3</th>\n",
              "      <td>f40ab89b622248b7ca125af4b486b887</td>\n",
              "      <td>474</td>\n",
              "      <td>0</td>\n",
              "      <td>1</td>\n",
              "      <td>0</td>\n",
              "      <td>155.70</td>\n",
              "      <td>0</td>\n",
              "      <td>0</td>\n",
              "      <td>Novos</td>\n",
              "    </tr>\n",
              "    <tr>\n",
              "      <th>4</th>\n",
              "      <td>749943913a9851a39c9baf51877fbab6</td>\n",
              "      <td>533</td>\n",
              "      <td>0</td>\n",
              "      <td>1</td>\n",
              "      <td>0</td>\n",
              "      <td>148.33</td>\n",
              "      <td>0</td>\n",
              "      <td>0</td>\n",
              "      <td>Novos</td>\n",
              "    </tr>\n",
              "  </tbody>\n",
              "</table>\n",
              "</div>"
            ],
            "text/plain": [
              "                   Id_unico_cliente  Recencia  ...  Pontuacao  Segmento\n",
              "0  861eff4711a542e4b93843c6dd7febb0       474  ...          0     Novos\n",
              "1  3c799d181c34d51f6d44bbbc563024db       483  ...          0     Novos\n",
              "2  567ab47ca4deb92d46dbf54dce07d0a7       528  ...          0     Novos\n",
              "3  f40ab89b622248b7ca125af4b486b887       474  ...          0     Novos\n",
              "4  749943913a9851a39c9baf51877fbab6       533  ...          0     Novos\n",
              "\n",
              "[5 rows x 9 columns]"
            ]
          },
          "metadata": {
            "tags": []
          },
          "execution_count": 80
        }
      ]
    },
    {
      "cell_type": "markdown",
      "metadata": {
        "id": "HLg7ZotAMEF-"
      },
      "source": [
        "# Conclusão"
      ]
    },
    {
      "cell_type": "markdown",
      "metadata": {
        "id": "89B0HqqdMLqE"
      },
      "source": [
        "<h1>Segmentação</h1>\r\n",
        "\r\n",
        "***\r\n",
        "Realizada pelo modelo RFM:\r\n",
        "* Recencia: Há quantos dias foi a ultima compra desse cliente?\r\n",
        "* Frequencia: Quantas compras esse cliente já fez na sua empresa, desde que se cadastrou?\r\n",
        "* Monetaridade/receita: Quanto esse cliente já gastou em dinheiro na sua empresa?\r\n",
        "\r\n",
        "***\r\n",
        "\r\n",
        "* Utilizando k-means\r\n",
        "* 4 clusters por conjunto RFM\r\n",
        "    * Regra do cotovelo\r\n",
        "    * Regra matemática\r\n",
        "* Pontuação (score): O numero de cluster se transformou em pontuação a qual foi somado para chegar no score final de cada cliente\r\n",
        "* Criação de segmentos\r\n",
        "    * Master\r\n",
        "    * Business\r\n",
        "    * Inativo\r\n",
        "    * Premium\r\n",
        "\r\n",
        "* Dentro do banco de dados\r\n",
        "    * 15% dos clientes são inativos\r\n",
        "    * 53,84% estão dentro da categoria Business\r\n",
        "    * 26,66% estão dentro da categoria Master\r\n",
        "    * 0,60% estão dentro da categoria Premium\r\n",
        "***\r\n",
        "**Ações a serem tomadas**\r\n",
        "*** \r\n",
        "* Recuperar os inativos (Promoções e cupons especiais)\r\n",
        "* Fornecer descontos especiais de frete aos 'Master'\r\n",
        "* Descontos especiais aos 'Premium' e atendimento especializado."
      ]
    }
  ]
}