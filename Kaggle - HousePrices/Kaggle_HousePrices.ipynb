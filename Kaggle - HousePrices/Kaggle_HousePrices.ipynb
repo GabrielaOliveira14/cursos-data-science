{
  "nbformat": 4,
  "nbformat_minor": 0,
  "metadata": {
    "colab": {
      "name": "Kaggle - HousePrices",
      "provenance": [],
      "collapsed_sections": [
        "P9U9hFEh4Nq_"
      ],
      "toc_visible": true
    },
    "kernelspec": {
      "name": "python3",
      "display_name": "Python 3"
    }
  },
  "cells": [
    {
      "cell_type": "markdown",
      "metadata": {
        "id": "3wqyQ29kognd"
      },
      "source": [
        "# O Dataset e o Projeto\n",
        "<hr>\n",
        "\n",
        "### Fonte: https://www.kaggle.com/greenwing1985/housepricing\n",
        "\n",
        "### Descrição:\n",
        "<p style='font-size: 18px; line-height: 2; margin: 10px 50px; text-align: justify;'>Nosso objetivo neste exercício é criar um modelo de machine learning, utilizando a técnica de Regressão Linear, que faça previsões sobre os preços de imóveis a partir de um conjunto de características conhecidas dos imóveis.</p>\n",
        "\n",
        "<p style='font-size: 18px; line-height: 2; margin: 10px 50px; text-align: justify;'>Vamos utilizar um dataset disponível no Kaggle que foi gerado por computador para treinamento de machine learning para iniciantes. </p>\n",
        "\n"
      ]
    },
    {
      "cell_type": "markdown",
      "metadata": {
        "id": "P9U9hFEh4Nq_"
      },
      "source": [
        "# Importações"
      ]
    },
    {
      "cell_type": "code",
      "metadata": {
        "id": "3CzMTfUopZbd"
      },
      "source": [
        "import pandas as pd\n",
        "import seaborn as sns\n",
        "\n",
        "from sklearn.model_selection import train_test_split \n",
        "from sklearn.linear_model import LinearRegression\n",
        "from sklearn import metrics"
      ],
      "execution_count": 1,
      "outputs": []
    },
    {
      "cell_type": "markdown",
      "metadata": {
        "id": "epEdzo6W4RMc"
      },
      "source": [
        "# Importação base de dados"
      ]
    },
    {
      "cell_type": "code",
      "metadata": {
        "id": "KgaVkYXQo-V6"
      },
      "source": [
        "dataset = pd.read_csv('/content/HousePrices_HalfMil.csv', sep = ',') #Leitura dos dados"
      ],
      "execution_count": null,
      "outputs": []
    },
    {
      "cell_type": "code",
      "metadata": {
        "id": "JntiY98EpeTL",
        "outputId": "12790ba8-1f7a-4875-de34-f89b1c8cc0ad",
        "colab": {
          "base_uri": "https://localhost:8080/",
          "height": 204
        }
      },
      "source": [
        "dataset.head() #Visualizar os dados"
      ],
      "execution_count": null,
      "outputs": [
        {
          "output_type": "execute_result",
          "data": {
            "text/html": [
              "<div>\n",
              "<style scoped>\n",
              "    .dataframe tbody tr th:only-of-type {\n",
              "        vertical-align: middle;\n",
              "    }\n",
              "\n",
              "    .dataframe tbody tr th {\n",
              "        vertical-align: top;\n",
              "    }\n",
              "\n",
              "    .dataframe thead th {\n",
              "        text-align: right;\n",
              "    }\n",
              "</style>\n",
              "<table border=\"1\" class=\"dataframe\">\n",
              "  <thead>\n",
              "    <tr style=\"text-align: right;\">\n",
              "      <th></th>\n",
              "      <th>Area</th>\n",
              "      <th>Garage</th>\n",
              "      <th>FirePlace</th>\n",
              "      <th>Baths</th>\n",
              "      <th>White Marble</th>\n",
              "      <th>Black Marble</th>\n",
              "      <th>Indian Marble</th>\n",
              "      <th>Floors</th>\n",
              "      <th>City</th>\n",
              "      <th>Solar</th>\n",
              "      <th>Electric</th>\n",
              "      <th>Fiber</th>\n",
              "      <th>Glass Doors</th>\n",
              "      <th>Swiming Pool</th>\n",
              "      <th>Garden</th>\n",
              "      <th>Prices</th>\n",
              "    </tr>\n",
              "  </thead>\n",
              "  <tbody>\n",
              "    <tr>\n",
              "      <th>0</th>\n",
              "      <td>164</td>\n",
              "      <td>2</td>\n",
              "      <td>0</td>\n",
              "      <td>2</td>\n",
              "      <td>0</td>\n",
              "      <td>1</td>\n",
              "      <td>0</td>\n",
              "      <td>0</td>\n",
              "      <td>3</td>\n",
              "      <td>1</td>\n",
              "      <td>1</td>\n",
              "      <td>1</td>\n",
              "      <td>1</td>\n",
              "      <td>0</td>\n",
              "      <td>0</td>\n",
              "      <td>43800</td>\n",
              "    </tr>\n",
              "    <tr>\n",
              "      <th>1</th>\n",
              "      <td>84</td>\n",
              "      <td>2</td>\n",
              "      <td>0</td>\n",
              "      <td>4</td>\n",
              "      <td>0</td>\n",
              "      <td>0</td>\n",
              "      <td>1</td>\n",
              "      <td>1</td>\n",
              "      <td>2</td>\n",
              "      <td>0</td>\n",
              "      <td>0</td>\n",
              "      <td>0</td>\n",
              "      <td>1</td>\n",
              "      <td>1</td>\n",
              "      <td>1</td>\n",
              "      <td>37550</td>\n",
              "    </tr>\n",
              "    <tr>\n",
              "      <th>2</th>\n",
              "      <td>190</td>\n",
              "      <td>2</td>\n",
              "      <td>4</td>\n",
              "      <td>4</td>\n",
              "      <td>1</td>\n",
              "      <td>0</td>\n",
              "      <td>0</td>\n",
              "      <td>0</td>\n",
              "      <td>2</td>\n",
              "      <td>0</td>\n",
              "      <td>0</td>\n",
              "      <td>1</td>\n",
              "      <td>0</td>\n",
              "      <td>0</td>\n",
              "      <td>0</td>\n",
              "      <td>49500</td>\n",
              "    </tr>\n",
              "    <tr>\n",
              "      <th>3</th>\n",
              "      <td>75</td>\n",
              "      <td>2</td>\n",
              "      <td>4</td>\n",
              "      <td>4</td>\n",
              "      <td>0</td>\n",
              "      <td>0</td>\n",
              "      <td>1</td>\n",
              "      <td>1</td>\n",
              "      <td>1</td>\n",
              "      <td>1</td>\n",
              "      <td>1</td>\n",
              "      <td>1</td>\n",
              "      <td>1</td>\n",
              "      <td>1</td>\n",
              "      <td>1</td>\n",
              "      <td>50075</td>\n",
              "    </tr>\n",
              "    <tr>\n",
              "      <th>4</th>\n",
              "      <td>148</td>\n",
              "      <td>1</td>\n",
              "      <td>4</td>\n",
              "      <td>2</td>\n",
              "      <td>1</td>\n",
              "      <td>0</td>\n",
              "      <td>0</td>\n",
              "      <td>1</td>\n",
              "      <td>2</td>\n",
              "      <td>1</td>\n",
              "      <td>0</td>\n",
              "      <td>0</td>\n",
              "      <td>1</td>\n",
              "      <td>1</td>\n",
              "      <td>1</td>\n",
              "      <td>52400</td>\n",
              "    </tr>\n",
              "  </tbody>\n",
              "</table>\n",
              "</div>"
            ],
            "text/plain": [
              "   Area  Garage  FirePlace  Baths  ...  Glass Doors  Swiming Pool  Garden  Prices\n",
              "0   164       2          0      2  ...            1             0       0   43800\n",
              "1    84       2          0      4  ...            1             1       1   37550\n",
              "2   190       2          4      4  ...            0             0       0   49500\n",
              "3    75       2          4      4  ...            1             1       1   50075\n",
              "4   148       1          4      2  ...            1             1       1   52400\n",
              "\n",
              "[5 rows x 16 columns]"
            ]
          },
          "metadata": {
            "tags": []
          },
          "execution_count": 8
        }
      ]
    },
    {
      "cell_type": "code",
      "metadata": {
        "id": "kicb576Upxnj",
        "outputId": "97a95a7f-7ead-4d46-937d-69b1de0384e2",
        "colab": {
          "base_uri": "https://localhost:8080/",
          "height": 34
        }
      },
      "source": [
        "dataset.shape #Verificando o tamanho do dataset"
      ],
      "execution_count": null,
      "outputs": [
        {
          "output_type": "execute_result",
          "data": {
            "text/plain": [
              "(500000, 16)"
            ]
          },
          "metadata": {
            "tags": []
          },
          "execution_count": 11
        }
      ]
    },
    {
      "cell_type": "code",
      "metadata": {
        "id": "qxNtAG-Vp7Xs",
        "outputId": "e00e56f4-5045-4ea9-c7d7-d9e0e3e96e9a",
        "colab": {
          "base_uri": "https://localhost:8080/",
          "height": 297
        }
      },
      "source": [
        "dataset.describe().round(2) #Estatísticas descritivas"
      ],
      "execution_count": null,
      "outputs": [
        {
          "output_type": "execute_result",
          "data": {
            "text/html": [
              "<div>\n",
              "<style scoped>\n",
              "    .dataframe tbody tr th:only-of-type {\n",
              "        vertical-align: middle;\n",
              "    }\n",
              "\n",
              "    .dataframe tbody tr th {\n",
              "        vertical-align: top;\n",
              "    }\n",
              "\n",
              "    .dataframe thead th {\n",
              "        text-align: right;\n",
              "    }\n",
              "</style>\n",
              "<table border=\"1\" class=\"dataframe\">\n",
              "  <thead>\n",
              "    <tr style=\"text-align: right;\">\n",
              "      <th></th>\n",
              "      <th>Area</th>\n",
              "      <th>Garage</th>\n",
              "      <th>FirePlace</th>\n",
              "      <th>Baths</th>\n",
              "      <th>White Marble</th>\n",
              "      <th>Black Marble</th>\n",
              "      <th>Indian Marble</th>\n",
              "      <th>Floors</th>\n",
              "      <th>City</th>\n",
              "      <th>Solar</th>\n",
              "      <th>Electric</th>\n",
              "      <th>Fiber</th>\n",
              "      <th>Glass Doors</th>\n",
              "      <th>Swiming Pool</th>\n",
              "      <th>Garden</th>\n",
              "      <th>Prices</th>\n",
              "    </tr>\n",
              "  </thead>\n",
              "  <tbody>\n",
              "    <tr>\n",
              "      <th>count</th>\n",
              "      <td>500000.00</td>\n",
              "      <td>500000.00</td>\n",
              "      <td>500000.00</td>\n",
              "      <td>500000.00</td>\n",
              "      <td>500000.00</td>\n",
              "      <td>500000.00</td>\n",
              "      <td>500000.00</td>\n",
              "      <td>500000.0</td>\n",
              "      <td>500000.00</td>\n",
              "      <td>500000.0</td>\n",
              "      <td>500000.0</td>\n",
              "      <td>500000.0</td>\n",
              "      <td>500000.0</td>\n",
              "      <td>500000.0</td>\n",
              "      <td>500000.0</td>\n",
              "      <td>500000.00</td>\n",
              "    </tr>\n",
              "    <tr>\n",
              "      <th>mean</th>\n",
              "      <td>124.93</td>\n",
              "      <td>2.00</td>\n",
              "      <td>2.00</td>\n",
              "      <td>3.00</td>\n",
              "      <td>0.33</td>\n",
              "      <td>0.33</td>\n",
              "      <td>0.33</td>\n",
              "      <td>0.5</td>\n",
              "      <td>2.00</td>\n",
              "      <td>0.5</td>\n",
              "      <td>0.5</td>\n",
              "      <td>0.5</td>\n",
              "      <td>0.5</td>\n",
              "      <td>0.5</td>\n",
              "      <td>0.5</td>\n",
              "      <td>42050.14</td>\n",
              "    </tr>\n",
              "    <tr>\n",
              "      <th>std</th>\n",
              "      <td>71.80</td>\n",
              "      <td>0.82</td>\n",
              "      <td>1.41</td>\n",
              "      <td>1.41</td>\n",
              "      <td>0.47</td>\n",
              "      <td>0.47</td>\n",
              "      <td>0.47</td>\n",
              "      <td>0.5</td>\n",
              "      <td>0.82</td>\n",
              "      <td>0.5</td>\n",
              "      <td>0.5</td>\n",
              "      <td>0.5</td>\n",
              "      <td>0.5</td>\n",
              "      <td>0.5</td>\n",
              "      <td>0.5</td>\n",
              "      <td>12110.24</td>\n",
              "    </tr>\n",
              "    <tr>\n",
              "      <th>min</th>\n",
              "      <td>1.00</td>\n",
              "      <td>1.00</td>\n",
              "      <td>0.00</td>\n",
              "      <td>1.00</td>\n",
              "      <td>0.00</td>\n",
              "      <td>0.00</td>\n",
              "      <td>0.00</td>\n",
              "      <td>0.0</td>\n",
              "      <td>1.00</td>\n",
              "      <td>0.0</td>\n",
              "      <td>0.0</td>\n",
              "      <td>0.0</td>\n",
              "      <td>0.0</td>\n",
              "      <td>0.0</td>\n",
              "      <td>0.0</td>\n",
              "      <td>7725.00</td>\n",
              "    </tr>\n",
              "    <tr>\n",
              "      <th>25%</th>\n",
              "      <td>63.00</td>\n",
              "      <td>1.00</td>\n",
              "      <td>1.00</td>\n",
              "      <td>2.00</td>\n",
              "      <td>0.00</td>\n",
              "      <td>0.00</td>\n",
              "      <td>0.00</td>\n",
              "      <td>0.0</td>\n",
              "      <td>1.00</td>\n",
              "      <td>0.0</td>\n",
              "      <td>0.0</td>\n",
              "      <td>0.0</td>\n",
              "      <td>0.0</td>\n",
              "      <td>0.0</td>\n",
              "      <td>0.0</td>\n",
              "      <td>33500.00</td>\n",
              "    </tr>\n",
              "    <tr>\n",
              "      <th>50%</th>\n",
              "      <td>125.00</td>\n",
              "      <td>2.00</td>\n",
              "      <td>2.00</td>\n",
              "      <td>3.00</td>\n",
              "      <td>0.00</td>\n",
              "      <td>0.00</td>\n",
              "      <td>0.00</td>\n",
              "      <td>0.0</td>\n",
              "      <td>2.00</td>\n",
              "      <td>0.0</td>\n",
              "      <td>1.0</td>\n",
              "      <td>1.0</td>\n",
              "      <td>0.0</td>\n",
              "      <td>1.0</td>\n",
              "      <td>1.0</td>\n",
              "      <td>41850.00</td>\n",
              "    </tr>\n",
              "    <tr>\n",
              "      <th>75%</th>\n",
              "      <td>187.00</td>\n",
              "      <td>3.00</td>\n",
              "      <td>3.00</td>\n",
              "      <td>4.00</td>\n",
              "      <td>1.00</td>\n",
              "      <td>1.00</td>\n",
              "      <td>1.00</td>\n",
              "      <td>1.0</td>\n",
              "      <td>3.00</td>\n",
              "      <td>1.0</td>\n",
              "      <td>1.0</td>\n",
              "      <td>1.0</td>\n",
              "      <td>1.0</td>\n",
              "      <td>1.0</td>\n",
              "      <td>1.0</td>\n",
              "      <td>50750.00</td>\n",
              "    </tr>\n",
              "    <tr>\n",
              "      <th>max</th>\n",
              "      <td>249.00</td>\n",
              "      <td>3.00</td>\n",
              "      <td>4.00</td>\n",
              "      <td>5.00</td>\n",
              "      <td>1.00</td>\n",
              "      <td>1.00</td>\n",
              "      <td>1.00</td>\n",
              "      <td>1.0</td>\n",
              "      <td>3.00</td>\n",
              "      <td>1.0</td>\n",
              "      <td>1.0</td>\n",
              "      <td>1.0</td>\n",
              "      <td>1.0</td>\n",
              "      <td>1.0</td>\n",
              "      <td>1.0</td>\n",
              "      <td>77975.00</td>\n",
              "    </tr>\n",
              "  </tbody>\n",
              "</table>\n",
              "</div>"
            ],
            "text/plain": [
              "            Area     Garage  FirePlace  ...  Swiming Pool    Garden     Prices\n",
              "count  500000.00  500000.00  500000.00  ...      500000.0  500000.0  500000.00\n",
              "mean      124.93       2.00       2.00  ...           0.5       0.5   42050.14\n",
              "std        71.80       0.82       1.41  ...           0.5       0.5   12110.24\n",
              "min         1.00       1.00       0.00  ...           0.0       0.0    7725.00\n",
              "25%        63.00       1.00       1.00  ...           0.0       0.0   33500.00\n",
              "50%       125.00       2.00       2.00  ...           1.0       1.0   41850.00\n",
              "75%       187.00       3.00       3.00  ...           1.0       1.0   50750.00\n",
              "max       249.00       3.00       4.00  ...           1.0       1.0   77975.00\n",
              "\n",
              "[8 rows x 16 columns]"
            ]
          },
          "metadata": {
            "tags": []
          },
          "execution_count": 12
        }
      ]
    },
    {
      "cell_type": "code",
      "metadata": {
        "id": "oQrNb78BqLdx",
        "outputId": "136a4c5e-5951-4aa6-8080-97e8920886db",
        "colab": {
          "base_uri": "https://localhost:8080/",
          "height": 596
        }
      },
      "source": [
        "dataset.corr() #Matriz de correlação"
      ],
      "execution_count": null,
      "outputs": [
        {
          "output_type": "execute_result",
          "data": {
            "text/html": [
              "<div>\n",
              "<style scoped>\n",
              "    .dataframe tbody tr th:only-of-type {\n",
              "        vertical-align: middle;\n",
              "    }\n",
              "\n",
              "    .dataframe tbody tr th {\n",
              "        vertical-align: top;\n",
              "    }\n",
              "\n",
              "    .dataframe thead th {\n",
              "        text-align: right;\n",
              "    }\n",
              "</style>\n",
              "<table border=\"1\" class=\"dataframe\">\n",
              "  <thead>\n",
              "    <tr style=\"text-align: right;\">\n",
              "      <th></th>\n",
              "      <th>Area</th>\n",
              "      <th>Garage</th>\n",
              "      <th>FirePlace</th>\n",
              "      <th>Baths</th>\n",
              "      <th>White Marble</th>\n",
              "      <th>Black Marble</th>\n",
              "      <th>Indian Marble</th>\n",
              "      <th>Floors</th>\n",
              "      <th>City</th>\n",
              "      <th>Solar</th>\n",
              "      <th>Electric</th>\n",
              "      <th>Fiber</th>\n",
              "      <th>Glass Doors</th>\n",
              "      <th>Swiming Pool</th>\n",
              "      <th>Garden</th>\n",
              "      <th>Prices</th>\n",
              "    </tr>\n",
              "  </thead>\n",
              "  <tbody>\n",
              "    <tr>\n",
              "      <th>Area</th>\n",
              "      <td>1.000000</td>\n",
              "      <td>-0.000897</td>\n",
              "      <td>0.000374</td>\n",
              "      <td>-0.000398</td>\n",
              "      <td>0.002525</td>\n",
              "      <td>-0.001477</td>\n",
              "      <td>-0.001047</td>\n",
              "      <td>-0.000776</td>\n",
              "      <td>-0.003455</td>\n",
              "      <td>0.000526</td>\n",
              "      <td>-0.000128</td>\n",
              "      <td>0.000114</td>\n",
              "      <td>-0.001230</td>\n",
              "      <td>0.000610</td>\n",
              "      <td>0.001428</td>\n",
              "      <td>0.147717</td>\n",
              "    </tr>\n",
              "    <tr>\n",
              "      <th>Garage</th>\n",
              "      <td>-0.000897</td>\n",
              "      <td>1.000000</td>\n",
              "      <td>0.001307</td>\n",
              "      <td>-0.003647</td>\n",
              "      <td>0.000541</td>\n",
              "      <td>0.001847</td>\n",
              "      <td>-0.002385</td>\n",
              "      <td>-0.000931</td>\n",
              "      <td>0.000793</td>\n",
              "      <td>0.001480</td>\n",
              "      <td>0.000779</td>\n",
              "      <td>-0.000562</td>\n",
              "      <td>-0.002171</td>\n",
              "      <td>0.001088</td>\n",
              "      <td>-0.000669</td>\n",
              "      <td>0.100294</td>\n",
              "    </tr>\n",
              "    <tr>\n",
              "      <th>FirePlace</th>\n",
              "      <td>0.000374</td>\n",
              "      <td>0.001307</td>\n",
              "      <td>1.000000</td>\n",
              "      <td>0.000643</td>\n",
              "      <td>0.000952</td>\n",
              "      <td>-0.000922</td>\n",
              "      <td>-0.000030</td>\n",
              "      <td>0.000185</td>\n",
              "      <td>-0.000211</td>\n",
              "      <td>-0.000309</td>\n",
              "      <td>0.001342</td>\n",
              "      <td>0.001818</td>\n",
              "      <td>-0.000366</td>\n",
              "      <td>0.001295</td>\n",
              "      <td>0.000231</td>\n",
              "      <td>0.089139</td>\n",
              "    </tr>\n",
              "    <tr>\n",
              "      <th>Baths</th>\n",
              "      <td>-0.000398</td>\n",
              "      <td>-0.003647</td>\n",
              "      <td>0.000643</td>\n",
              "      <td>1.000000</td>\n",
              "      <td>0.002493</td>\n",
              "      <td>-0.002739</td>\n",
              "      <td>0.000246</td>\n",
              "      <td>-0.000880</td>\n",
              "      <td>-0.000858</td>\n",
              "      <td>-0.000755</td>\n",
              "      <td>0.001047</td>\n",
              "      <td>-0.000687</td>\n",
              "      <td>-0.001668</td>\n",
              "      <td>0.002212</td>\n",
              "      <td>0.001723</td>\n",
              "      <td>0.145087</td>\n",
              "    </tr>\n",
              "    <tr>\n",
              "      <th>White Marble</th>\n",
              "      <td>0.002525</td>\n",
              "      <td>0.000541</td>\n",
              "      <td>0.000952</td>\n",
              "      <td>0.002493</td>\n",
              "      <td>1.000000</td>\n",
              "      <td>-0.498893</td>\n",
              "      <td>-0.500723</td>\n",
              "      <td>0.000078</td>\n",
              "      <td>-0.000861</td>\n",
              "      <td>-0.001583</td>\n",
              "      <td>0.000558</td>\n",
              "      <td>-0.000576</td>\n",
              "      <td>-0.000402</td>\n",
              "      <td>-0.001898</td>\n",
              "      <td>0.000959</td>\n",
              "      <td>0.448154</td>\n",
              "    </tr>\n",
              "    <tr>\n",
              "      <th>Black Marble</th>\n",
              "      <td>-0.001477</td>\n",
              "      <td>0.001847</td>\n",
              "      <td>-0.000922</td>\n",
              "      <td>-0.002739</td>\n",
              "      <td>-0.498893</td>\n",
              "      <td>1.000000</td>\n",
              "      <td>-0.500383</td>\n",
              "      <td>-0.000368</td>\n",
              "      <td>-0.000324</td>\n",
              "      <td>0.001764</td>\n",
              "      <td>-0.000549</td>\n",
              "      <td>0.000073</td>\n",
              "      <td>0.000086</td>\n",
              "      <td>0.000713</td>\n",
              "      <td>0.000133</td>\n",
              "      <td>-0.078049</td>\n",
              "    </tr>\n",
              "    <tr>\n",
              "      <th>Indian Marble</th>\n",
              "      <td>-0.001047</td>\n",
              "      <td>-0.002385</td>\n",
              "      <td>-0.000030</td>\n",
              "      <td>0.000246</td>\n",
              "      <td>-0.500723</td>\n",
              "      <td>-0.500383</td>\n",
              "      <td>1.000000</td>\n",
              "      <td>0.000289</td>\n",
              "      <td>0.001184</td>\n",
              "      <td>-0.000180</td>\n",
              "      <td>-0.000010</td>\n",
              "      <td>0.000503</td>\n",
              "      <td>0.000316</td>\n",
              "      <td>0.001184</td>\n",
              "      <td>-0.001091</td>\n",
              "      <td>-0.369756</td>\n",
              "    </tr>\n",
              "    <tr>\n",
              "      <th>Floors</th>\n",
              "      <td>-0.000776</td>\n",
              "      <td>-0.000931</td>\n",
              "      <td>0.000185</td>\n",
              "      <td>-0.000880</td>\n",
              "      <td>0.000078</td>\n",
              "      <td>-0.000368</td>\n",
              "      <td>0.000289</td>\n",
              "      <td>1.000000</td>\n",
              "      <td>-0.000641</td>\n",
              "      <td>-0.002651</td>\n",
              "      <td>0.000082</td>\n",
              "      <td>0.001373</td>\n",
              "      <td>-0.000008</td>\n",
              "      <td>-0.000211</td>\n",
              "      <td>-0.000492</td>\n",
              "      <td>0.619451</td>\n",
              "    </tr>\n",
              "    <tr>\n",
              "      <th>City</th>\n",
              "      <td>-0.003455</td>\n",
              "      <td>0.000793</td>\n",
              "      <td>-0.000211</td>\n",
              "      <td>-0.000858</td>\n",
              "      <td>-0.000861</td>\n",
              "      <td>-0.000324</td>\n",
              "      <td>0.001184</td>\n",
              "      <td>-0.000641</td>\n",
              "      <td>1.000000</td>\n",
              "      <td>0.000488</td>\n",
              "      <td>0.000788</td>\n",
              "      <td>-0.002716</td>\n",
              "      <td>0.000770</td>\n",
              "      <td>0.000322</td>\n",
              "      <td>0.001207</td>\n",
              "      <td>0.233259</td>\n",
              "    </tr>\n",
              "    <tr>\n",
              "      <th>Solar</th>\n",
              "      <td>0.000526</td>\n",
              "      <td>0.001480</td>\n",
              "      <td>-0.000309</td>\n",
              "      <td>-0.000755</td>\n",
              "      <td>-0.001583</td>\n",
              "      <td>0.001764</td>\n",
              "      <td>-0.000180</td>\n",
              "      <td>-0.002651</td>\n",
              "      <td>0.000488</td>\n",
              "      <td>1.000000</td>\n",
              "      <td>0.001883</td>\n",
              "      <td>0.000238</td>\n",
              "      <td>-0.000817</td>\n",
              "      <td>-0.000466</td>\n",
              "      <td>-0.004263</td>\n",
              "      <td>0.008429</td>\n",
              "    </tr>\n",
              "    <tr>\n",
              "      <th>Electric</th>\n",
              "      <td>-0.000128</td>\n",
              "      <td>0.000779</td>\n",
              "      <td>0.001342</td>\n",
              "      <td>0.001047</td>\n",
              "      <td>0.000558</td>\n",
              "      <td>-0.000549</td>\n",
              "      <td>-0.000010</td>\n",
              "      <td>0.000082</td>\n",
              "      <td>0.000788</td>\n",
              "      <td>0.001883</td>\n",
              "      <td>1.000000</td>\n",
              "      <td>-0.000309</td>\n",
              "      <td>0.001088</td>\n",
              "      <td>0.000571</td>\n",
              "      <td>0.000772</td>\n",
              "      <td>0.052443</td>\n",
              "    </tr>\n",
              "    <tr>\n",
              "      <th>Fiber</th>\n",
              "      <td>0.000114</td>\n",
              "      <td>-0.000562</td>\n",
              "      <td>0.001818</td>\n",
              "      <td>-0.000687</td>\n",
              "      <td>-0.000576</td>\n",
              "      <td>0.000073</td>\n",
              "      <td>0.000503</td>\n",
              "      <td>0.001373</td>\n",
              "      <td>-0.002716</td>\n",
              "      <td>0.000238</td>\n",
              "      <td>-0.000309</td>\n",
              "      <td>1.000000</td>\n",
              "      <td>-0.002268</td>\n",
              "      <td>0.004127</td>\n",
              "      <td>-0.000023</td>\n",
              "      <td>0.484626</td>\n",
              "    </tr>\n",
              "    <tr>\n",
              "      <th>Glass Doors</th>\n",
              "      <td>-0.001230</td>\n",
              "      <td>-0.002171</td>\n",
              "      <td>-0.000366</td>\n",
              "      <td>-0.001668</td>\n",
              "      <td>-0.000402</td>\n",
              "      <td>0.000086</td>\n",
              "      <td>0.000316</td>\n",
              "      <td>-0.000008</td>\n",
              "      <td>0.000770</td>\n",
              "      <td>-0.000817</td>\n",
              "      <td>0.001088</td>\n",
              "      <td>-0.002268</td>\n",
              "      <td>1.000000</td>\n",
              "      <td>0.000396</td>\n",
              "      <td>0.003329</td>\n",
              "      <td>0.181973</td>\n",
              "    </tr>\n",
              "    <tr>\n",
              "      <th>Swiming Pool</th>\n",
              "      <td>0.000610</td>\n",
              "      <td>0.001088</td>\n",
              "      <td>0.001295</td>\n",
              "      <td>0.002212</td>\n",
              "      <td>-0.001898</td>\n",
              "      <td>0.000713</td>\n",
              "      <td>0.001184</td>\n",
              "      <td>-0.000211</td>\n",
              "      <td>0.000322</td>\n",
              "      <td>-0.000466</td>\n",
              "      <td>0.000571</td>\n",
              "      <td>0.004127</td>\n",
              "      <td>0.000396</td>\n",
              "      <td>1.000000</td>\n",
              "      <td>-0.000191</td>\n",
              "      <td>0.001787</td>\n",
              "    </tr>\n",
              "    <tr>\n",
              "      <th>Garden</th>\n",
              "      <td>0.001428</td>\n",
              "      <td>-0.000669</td>\n",
              "      <td>0.000231</td>\n",
              "      <td>0.001723</td>\n",
              "      <td>0.000959</td>\n",
              "      <td>0.000133</td>\n",
              "      <td>-0.001091</td>\n",
              "      <td>-0.000492</td>\n",
              "      <td>0.001207</td>\n",
              "      <td>-0.004263</td>\n",
              "      <td>0.000772</td>\n",
              "      <td>-0.000023</td>\n",
              "      <td>0.003329</td>\n",
              "      <td>-0.000191</td>\n",
              "      <td>1.000000</td>\n",
              "      <td>0.001540</td>\n",
              "    </tr>\n",
              "    <tr>\n",
              "      <th>Prices</th>\n",
              "      <td>0.147717</td>\n",
              "      <td>0.100294</td>\n",
              "      <td>0.089139</td>\n",
              "      <td>0.145087</td>\n",
              "      <td>0.448154</td>\n",
              "      <td>-0.078049</td>\n",
              "      <td>-0.369756</td>\n",
              "      <td>0.619451</td>\n",
              "      <td>0.233259</td>\n",
              "      <td>0.008429</td>\n",
              "      <td>0.052443</td>\n",
              "      <td>0.484626</td>\n",
              "      <td>0.181973</td>\n",
              "      <td>0.001787</td>\n",
              "      <td>0.001540</td>\n",
              "      <td>1.000000</td>\n",
              "    </tr>\n",
              "  </tbody>\n",
              "</table>\n",
              "</div>"
            ],
            "text/plain": [
              "                   Area    Garage  FirePlace  ...  Swiming Pool    Garden    Prices\n",
              "Area           1.000000 -0.000897   0.000374  ...      0.000610  0.001428  0.147717\n",
              "Garage        -0.000897  1.000000   0.001307  ...      0.001088 -0.000669  0.100294\n",
              "FirePlace      0.000374  0.001307   1.000000  ...      0.001295  0.000231  0.089139\n",
              "Baths         -0.000398 -0.003647   0.000643  ...      0.002212  0.001723  0.145087\n",
              "White Marble   0.002525  0.000541   0.000952  ...     -0.001898  0.000959  0.448154\n",
              "Black Marble  -0.001477  0.001847  -0.000922  ...      0.000713  0.000133 -0.078049\n",
              "Indian Marble -0.001047 -0.002385  -0.000030  ...      0.001184 -0.001091 -0.369756\n",
              "Floors        -0.000776 -0.000931   0.000185  ...     -0.000211 -0.000492  0.619451\n",
              "City          -0.003455  0.000793  -0.000211  ...      0.000322  0.001207  0.233259\n",
              "Solar          0.000526  0.001480  -0.000309  ...     -0.000466 -0.004263  0.008429\n",
              "Electric      -0.000128  0.000779   0.001342  ...      0.000571  0.000772  0.052443\n",
              "Fiber          0.000114 -0.000562   0.001818  ...      0.004127 -0.000023  0.484626\n",
              "Glass Doors   -0.001230 -0.002171  -0.000366  ...      0.000396  0.003329  0.181973\n",
              "Swiming Pool   0.000610  0.001088   0.001295  ...      1.000000 -0.000191  0.001787\n",
              "Garden         0.001428 -0.000669   0.000231  ...     -0.000191  1.000000  0.001540\n",
              "Prices         0.147717  0.100294   0.089139  ...      0.001787  0.001540  1.000000\n",
              "\n",
              "[16 rows x 16 columns]"
            ]
          },
          "metadata": {
            "tags": []
          },
          "execution_count": 13
        }
      ]
    },
    {
      "cell_type": "markdown",
      "metadata": {
        "id": "2l3aJCRcwadJ"
      },
      "source": [
        "# Analise grafica"
      ]
    },
    {
      "cell_type": "code",
      "metadata": {
        "id": "R21fbgV9rKnM",
        "outputId": "9e3e2957-f271-4c3b-aa98-9019dfbfe5de",
        "colab": {
          "base_uri": "https://localhost:8080/",
          "height": 412
        }
      },
      "source": [
        "ax = sns.boxplot(data = dataset['Prices'], width = 0.2)\n",
        "ax.figure.set_size_inches(12, 6)\n",
        "ax.set_title('Preço dos Imoveis', fontsize=20)\n",
        "ax.set_ylabel('Preço', fontsize = 16)\n",
        "ax"
      ],
      "execution_count": null,
      "outputs": [
        {
          "output_type": "execute_result",
          "data": {
            "text/plain": [
              "<matplotlib.axes._subplots.AxesSubplot at 0x7ff59f93bda0>"
            ]
          },
          "metadata": {
            "tags": []
          },
          "execution_count": 15
        },
        {
          "output_type": "display_data",
          "data": {
            "image/png": "[encoded data removed]",
            "text/plain": [
              "<Figure size 864x432 with 1 Axes>"
            ]
          },
          "metadata": {
            "tags": [],
            "needs_background": "light"
          }
        }
      ]
    },
    {
      "cell_type": "code",
      "metadata": {
        "id": "RNxl7vmnr3i8",
        "outputId": "ae621a78-165c-4c1d-de41-437782cf45d6",
        "colab": {
          "base_uri": "https://localhost:8080/",
          "height": 431
        }
      },
      "source": [
        "ax = sns.boxplot(y='Prices', x='Garage', data=dataset, width=0.2)\n",
        "ax.figure.set_size_inches(12, 6)\n",
        "ax.set_title('Preço dos Imoveis', fontsize=20)\n",
        "ax.set_ylabel('Preço', fontsize = 16)\n",
        "ax.set_xlabel('Garage', fontsize = 16)\n",
        "sns.set_palette(\"Accent_r\")\n",
        "sns.set_style(\"dark\")\n",
        "ax"
      ],
      "execution_count": null,
      "outputs": [
        {
          "output_type": "execute_result",
          "data": {
            "text/plain": [
              "<matplotlib.axes._subplots.AxesSubplot at 0x7ff595b76550>"
            ]
          },
          "metadata": {
            "tags": []
          },
          "execution_count": 19
        },
        {
          "output_type": "display_data",
          "data": {
            "image/png": "[encoded data removed]",
            "text/plain": [
              "<Figure size 864x432 with 1 Axes>"
            ]
          },
          "metadata": {
            "tags": []
          }
        }
      ]
    },
    {
      "cell_type": "code",
      "metadata": {
        "id": "anpV9OqDs2rX",
        "outputId": "09495fb1-5eae-4fae-cc3f-39a1d6a35515",
        "colab": {
          "base_uri": "https://localhost:8080/",
          "height": 431
        }
      },
      "source": [
        "ax = sns.boxplot(y='Prices', x='Baths', data=dataset, width=0.2)\n",
        "ax.figure.set_size_inches(12, 6)\n",
        "ax.set_title('Preço dos Imoveis', fontsize=20)\n",
        "ax.set_ylabel('Preço', fontsize = 16)\n",
        "ax.set_xlabel('Baths', fontsize = 16)\n",
        "sns.set_palette(\"Accent_r\")\n",
        "sns.set_style(\"dark\")\n",
        "ax"
      ],
      "execution_count": null,
      "outputs": [
        {
          "output_type": "execute_result",
          "data": {
            "text/plain": [
              "<matplotlib.axes._subplots.AxesSubplot at 0x7ff595a79438>"
            ]
          },
          "metadata": {
            "tags": []
          },
          "execution_count": 20
        },
        {
          "output_type": "display_data",
          "data": {
            "image/png": "[encoded data removed]",
            "text/plain": [
              "<Figure size 864x432 with 1 Axes>"
            ]
          },
          "metadata": {
            "tags": []
          }
        }
      ]
    },
    {
      "cell_type": "code",
      "metadata": {
        "id": "7dYPLpi-tHP0",
        "outputId": "10d7115b-2e72-49d3-a55d-59c49002b85f",
        "colab": {
          "base_uri": "https://localhost:8080/",
          "height": 431
        }
      },
      "source": [
        "ax = sns.boxplot(y='Prices', x='FirePlace', data=dataset, width=0.2)\n",
        "ax.figure.set_size_inches(12, 6)\n",
        "ax.set_title('Preço dos Imoveis', fontsize=20)\n",
        "ax.set_ylabel('Preço', fontsize = 16)\n",
        "ax.set_xlabel('Lareiras', fontsize = 16)\n",
        "sns.set_palette(\"Accent_r\")\n",
        "sns.set_style(\"dark\")\n",
        "ax"
      ],
      "execution_count": null,
      "outputs": [
        {
          "output_type": "execute_result",
          "data": {
            "text/plain": [
              "<matplotlib.axes._subplots.AxesSubplot at 0x7ff595818eb8>"
            ]
          },
          "metadata": {
            "tags": []
          },
          "execution_count": 23
        },
        {
          "output_type": "display_data",
          "data": {
            "image/png": "[encoded data removed]",
            "text/plain": [
              "<Figure size 864x432 with 1 Axes>"
            ]
          },
          "metadata": {
            "tags": []
          }
        }
      ]
    },
    {
      "cell_type": "code",
      "metadata": {
        "id": "h9df_pvotWzd",
        "outputId": "dedb81e7-8163-4d5c-ba6d-40e400fee407",
        "colab": {
          "base_uri": "https://localhost:8080/",
          "height": 431
        }
      },
      "source": [
        "ax = sns.boxplot(y='Prices', x='Floors', data=dataset, width=0.2)\n",
        "ax.figure.set_size_inches(12, 6)\n",
        "ax.set_title('Preço dos Imoveis', fontsize=20)\n",
        "ax.set_ylabel('Preço', fontsize = 16)\n",
        "ax.set_xlabel('Lareiras', fontsize = 16)\n",
        "sns.set_palette(\"Accent_r\")\n",
        "sns.set_style(\"dark\")\n",
        "ax\n"
      ],
      "execution_count": null,
      "outputs": [
        {
          "output_type": "execute_result",
          "data": {
            "text/plain": [
              "<matplotlib.axes._subplots.AxesSubplot at 0x7ff5aa48c438>"
            ]
          },
          "metadata": {
            "tags": []
          },
          "execution_count": 25
        },
        {
          "output_type": "display_data",
          "data": {
            "image/png": "[encoded data removed]",
            "text/plain": [
              "<Figure size 864x432 with 1 Axes>"
            ]
          },
          "metadata": {
            "tags": []
          }
        }
      ]
    },
    {
      "cell_type": "code",
      "metadata": {
        "id": "GBhUg8XxuDD2",
        "outputId": "b7b8aa17-67a0-448d-c327-02b4c32424b5",
        "colab": {
          "base_uri": "https://localhost:8080/",
          "height": 426
        }
      },
      "source": [
        "ax = sns.distplot(dataset['Prices'])\n",
        "ax.figure.set_size_inches(12, 6)\n",
        "ax.set_title('Distribuição de Frequencias', fontsize=20)\n",
        "ax.set_ylabel('Preço das casas', fontsize = 16)\n",
        "ax"
      ],
      "execution_count": null,
      "outputs": [
        {
          "output_type": "execute_result",
          "data": {
            "text/plain": [
              "<matplotlib.axes._subplots.AxesSubplot at 0x7ff59560d780>"
            ]
          },
          "metadata": {
            "tags": []
          },
          "execution_count": 28
        },
        {
          "output_type": "display_data",
          "data": {
            "image/png": "[encoded data removed]",
            "text/plain": [
              "<Figure size 864x432 with 1 Axes>"
            ]
          },
          "metadata": {
            "tags": []
          }
        }
      ]
    },
    {
      "cell_type": "code",
      "metadata": {
        "id": "VzPnUKobuW1F",
        "outputId": "d0116565-782d-4eb8-dd6c-211f55ddcbda",
        "colab": {
          "base_uri": "https://localhost:8080/",
          "height": 246
        }
      },
      "source": [
        "ax = sns.pairplot(dataset, y_vars='Prices', x_vars=['Area','Garage', 'Baths', 'FirePlace', 'Floors', 'Swiming Pool'], kind='reg')\n",
        "ax.fig.suptitle('Dispersão entre Variaveis', fontsize=20, y=1.10)\n",
        "ax"
      ],
      "execution_count": null,
      "outputs": [
        {
          "output_type": "execute_result",
          "data": {
            "text/plain": [
              "<seaborn.axisgrid.PairGrid at 0x7ff58a688da0>"
            ]
          },
          "metadata": {
            "tags": []
          },
          "execution_count": 96
        },
        {
          "output_type": "display_data",
          "data": {
            "image/png": "[encoded data removed]",
            "text/plain": [
              "<Figure size 1080x180 with 6 Axes>"
            ]
          },
          "metadata": {
            "tags": []
          }
        }
      ]
    },
    {
      "cell_type": "markdown",
      "metadata": {
        "id": "W4yW883ywkMM"
      },
      "source": [
        "# Modelo de Regressão"
      ]
    },
    {
      "cell_type": "code",
      "metadata": {
        "id": "wsJl1xRMxC41"
      },
      "source": [
        "y = dataset['Prices'] # variavel dependente"
      ],
      "execution_count": null,
      "outputs": []
    },
    {
      "cell_type": "code",
      "metadata": {
        "id": "xa5PhCN6xGAp"
      },
      "source": [
        "X = dataset[['Area','Garage', 'Baths', 'FirePlace', 'Floors', 'Swiming Pool']] #Varivael explicativa."
      ],
      "execution_count": null,
      "outputs": []
    },
    {
      "cell_type": "code",
      "metadata": {
        "id": "mNefcUHGxW1y"
      },
      "source": [
        "X_train, X_test, y_train, y_test = train_test_split(X, y, test_size=0.3, random_state=2811)"
      ],
      "execution_count": null,
      "outputs": []
    },
    {
      "cell_type": "code",
      "metadata": {
        "id": "1DY39_s4xoX9"
      },
      "source": [
        "modelo = LinearRegression()"
      ],
      "execution_count": null,
      "outputs": []
    },
    {
      "cell_type": "code",
      "metadata": {
        "id": "IM8VPNHvxrzm",
        "outputId": "60b4d1ca-b5de-42f9-b023-d8f860b4edd7",
        "colab": {
          "base_uri": "https://localhost:8080/",
          "height": 34
        }
      },
      "source": [
        "modelo.fit(X_train, y_train)"
      ],
      "execution_count": null,
      "outputs": [
        {
          "output_type": "execute_result",
          "data": {
            "text/plain": [
              "LinearRegression(copy_X=True, fit_intercept=True, n_jobs=None, normalize=False)"
            ]
          },
          "metadata": {
            "tags": []
          },
          "execution_count": 44
        }
      ]
    },
    {
      "cell_type": "code",
      "metadata": {
        "id": "yRJ5PAu-x51i",
        "outputId": "8e44df2f-e57c-4ef5-c5c7-67f9eb4d214f",
        "colab": {
          "base_uri": "https://localhost:8080/",
          "height": 34
        }
      },
      "source": [
        "print('R² = {}'.format(modelo.score(X_train, y_train).round(2)))"
      ],
      "execution_count": null,
      "outputs": [
        {
          "output_type": "stream",
          "text": [
            "R² = 0.45\n"
          ],
          "name": "stdout"
        }
      ]
    },
    {
      "cell_type": "code",
      "metadata": {
        "id": "jPd-uzviyMjS"
      },
      "source": [
        "y_previsto = modelo.predict(X_test)"
      ],
      "execution_count": null,
      "outputs": []
    },
    {
      "cell_type": "code",
      "metadata": {
        "id": "IuZcsI-Gyeaf",
        "outputId": "6d79cdbb-ef24-48ed-958f-84901f9307ef",
        "colab": {
          "base_uri": "https://localhost:8080/",
          "height": 34
        }
      },
      "source": [
        "print('R² = %s' % metrics.r2_score(y_test, y_previsto).round(2))"
      ],
      "execution_count": null,
      "outputs": [
        {
          "output_type": "stream",
          "text": [
            "R² = 0.44\n"
          ],
          "name": "stdout"
        }
      ]
    },
    {
      "cell_type": "code",
      "metadata": {
        "id": "Qwt1GVg8zYxc"
      },
      "source": [
        "y2 = dataset['Prices']"
      ],
      "execution_count": null,
      "outputs": []
    },
    {
      "cell_type": "code",
      "metadata": {
        "id": "Ckx8RTe4zeBp"
      },
      "source": [
        "X2 = dataset[['Floors', 'White Marble', 'Area', 'Baths', 'Garage']] #Varivael explicativa."
      ],
      "execution_count": null,
      "outputs": []
    },
    {
      "cell_type": "code",
      "metadata": {
        "id": "0oFemQ6Czm19"
      },
      "source": [
        "X2_train, X2_test, y2_train, y2_test = train_test_split(X2, y2, test_size=0.3, random_state=2811)"
      ],
      "execution_count": null,
      "outputs": []
    },
    {
      "cell_type": "code",
      "metadata": {
        "id": "UXkOwPtczsIJ"
      },
      "source": [
        "modelo2 = LinearRegression()"
      ],
      "execution_count": null,
      "outputs": []
    },
    {
      "cell_type": "code",
      "metadata": {
        "id": "66fUg9PBzv7h",
        "outputId": "4b2b3977-6e72-48c7-c849-f5bc73470166",
        "colab": {
          "base_uri": "https://localhost:8080/",
          "height": 34
        }
      },
      "source": [
        "modelo2.fit(X2_train, y2_train)"
      ],
      "execution_count": null,
      "outputs": [
        {
          "output_type": "execute_result",
          "data": {
            "text/plain": [
              "LinearRegression(copy_X=True, fit_intercept=True, n_jobs=None, normalize=False)"
            ]
          },
          "metadata": {
            "tags": []
          },
          "execution_count": 89
        }
      ]
    },
    {
      "cell_type": "code",
      "metadata": {
        "id": "TlJ3sf3nz0-u",
        "outputId": "0f4e8d61-d174-42f9-a4c1-99c29afa6c3e",
        "colab": {
          "base_uri": "https://localhost:8080/",
          "height": 34
        }
      },
      "source": [
        "print('R² = {}'.format(modelo2.score(X2_train, y2_train).round(2)))"
      ],
      "execution_count": null,
      "outputs": [
        {
          "output_type": "stream",
          "text": [
            "R² = 0.64\n"
          ],
          "name": "stdout"
        }
      ]
    },
    {
      "cell_type": "code",
      "metadata": {
        "id": "TelBX66rz4Nx"
      },
      "source": [
        "y2_previsto = modelo2.predict(X2_test)"
      ],
      "execution_count": null,
      "outputs": []
    },
    {
      "cell_type": "code",
      "metadata": {
        "id": "8_z5oHm6z7qY",
        "outputId": "f50192c0-41a4-4ef2-a1b7-33386c718c5d",
        "colab": {
          "base_uri": "https://localhost:8080/",
          "height": 34
        }
      },
      "source": [
        "print('R² = %s' % metrics.r2_score(y2_test, y2_previsto).round(2))"
      ],
      "execution_count": null,
      "outputs": [
        {
          "output_type": "stream",
          "text": [
            "R² = 0.64\n"
          ],
          "name": "stdout"
        }
      ]
    },
    {
      "cell_type": "markdown",
      "metadata": {
        "id": "ATdxNPh8ynll"
      },
      "source": [
        "# Criando um simulador simples"
      ]
    },
    {
      "cell_type": "code",
      "metadata": {
        "id": "ntV-desOys3g",
        "outputId": "3b7f5f11-e7aa-415b-c76e-3aaacff8e7e9",
        "colab": {
          "base_uri": "https://localhost:8080/",
          "height": 34
        }
      },
      "source": [
        "Floors=1\n",
        "White_Marble=0\n",
        "Area=150\n",
        "Baths=0\n",
        "Garage=0\n",
        "\n",
        "entrada=[[Floors, White_Marble, Area, Baths, Garage]]\n",
        "\n",
        "print('$ {0:.2f}'.format(modelo2.predict(entrada)[0]))"
      ],
      "execution_count": null,
      "outputs": [
        {
          "output_type": "stream",
          "text": [
            "$ 39657.84\n"
          ],
          "name": "stdout"
        }
      ]
    }
  ]
}