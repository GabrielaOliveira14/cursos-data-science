{
  "nbformat": 4,
  "nbformat_minor": 0,
  "metadata": {
    "colab": {
      "name": "Modelos de Regressão - InvestimentoFilmes",
      "provenance": []
    },
    "kernelspec": {
      "name": "python3",
      "display_name": "Python 3"
    }
  },
  "cells": [
    {
      "cell_type": "markdown",
      "metadata": {
        "id": "jsFE1f_gCxm5"
      },
      "source": [
        "# Importações"
      ]
    },
    {
      "cell_type": "code",
      "metadata": {
        "id": "R1VFnUD0NDHo"
      },
      "source": [
        "import pandas as pd\n",
        "import matplotlib.pyplot as plt\n",
        "import numpy as np\n",
        "from sklearn import tree\n",
        "from sklearn.model_selection import train_test_split\n",
        "from sklearn.linear_model import LinearRegression"
      ],
      "execution_count": null,
      "outputs": []
    },
    {
      "cell_type": "markdown",
      "metadata": {
        "id": "rKWVFT2xCzzd"
      },
      "source": [
        "# Importação da base de dados"
      ]
    },
    {
      "cell_type": "code",
      "metadata": {
        "id": "uYeNDCw7OTrO"
      },
      "source": [
        "filmes = pd.read_csv('movies_multilinear_reg.csv')"
      ],
      "execution_count": null,
      "outputs": []
    },
    {
      "cell_type": "code",
      "metadata": {
        "id": "Em8pHx-tOfOS"
      },
      "source": [
        "filmes_caract = filmes[filmes.columns[2:17]]"
      ],
      "execution_count": null,
      "outputs": []
    },
    {
      "cell_type": "code",
      "metadata": {
        "id": "sM3UYNE_Om-q"
      },
      "source": [
        "filmes_labels = filmes[filmes.columns[17:]]"
      ],
      "execution_count": null,
      "outputs": []
    },
    {
      "cell_type": "markdown",
      "metadata": {
        "id": "_8G_zwaiC43w"
      },
      "source": [
        "# Modelo: DecisionTreeRegressor"
      ]
    },
    {
      "cell_type": "code",
      "metadata": {
        "id": "YX-SCG7-OsF7"
      },
      "source": [
        "treino, teste, treino_labels, teste_labels = train_test_split(filmes_caract, filmes_labels)"
      ],
      "execution_count": null,
      "outputs": []
    },
    {
      "cell_type": "code",
      "metadata": {
        "id": "0P6CP8CSO1zh"
      },
      "source": [
        "treino = np.array(treino).reshape(len(treino),15)"
      ],
      "execution_count": null,
      "outputs": []
    },
    {
      "cell_type": "code",
      "metadata": {
        "id": "XEl8yW32PCxv"
      },
      "source": [
        "teste = np.array(teste).reshape(len(teste),15)"
      ],
      "execution_count": null,
      "outputs": []
    },
    {
      "cell_type": "code",
      "metadata": {
        "id": "GHApbyEsPL0z"
      },
      "source": [
        "treino_labels = np.array(treino_labels).reshape(len(treino_labels),1)"
      ],
      "execution_count": null,
      "outputs": []
    },
    {
      "cell_type": "code",
      "metadata": {
        "id": "TELCKd9HPR3h"
      },
      "source": [
        "teste_labels = np.array(teste_labels).reshape(len(teste_labels),1)"
      ],
      "execution_count": null,
      "outputs": []
    },
    {
      "cell_type": "code",
      "metadata": {
        "id": "uDEIrmKPPcA_"
      },
      "source": [
        "modelo =  tree.DecisionTreeRegressor(max_depth=5) # maximo de nos que ela vai descer;"
      ],
      "execution_count": null,
      "outputs": []
    },
    {
      "cell_type": "code",
      "metadata": {
        "id": "tSEkgSG3PkUh",
        "outputId": "e9dbfc0e-898f-4b79-9e89-c4e487abf1d3",
        "colab": {
          "base_uri": "https://localhost:8080/",
          "height": 119
        }
      },
      "source": [
        "modelo.fit(treino, treino_labels)"
      ],
      "execution_count": null,
      "outputs": [
        {
          "output_type": "execute_result",
          "data": {
            "text/plain": [
              "DecisionTreeRegressor(ccp_alpha=0.0, criterion='mse', max_depth=5,\n",
              "                      max_features=None, max_leaf_nodes=None,\n",
              "                      min_impurity_decrease=0.0, min_impurity_split=None,\n",
              "                      min_samples_leaf=1, min_samples_split=2,\n",
              "                      min_weight_fraction_leaf=0.0, presort='deprecated',\n",
              "                      random_state=None, splitter='best')"
            ]
          },
          "metadata": {
            "tags": []
          },
          "execution_count": 57
        }
      ]
    },
    {
      "cell_type": "code",
      "metadata": {
        "id": "jQbgu_pRPouL",
        "outputId": "6380d6a0-b248-4e0c-c6d1-5056e2b4e6aa",
        "colab": {
          "base_uri": "https://localhost:8080/",
          "height": 34
        }
      },
      "source": [
        "modelo.score(treino, treino_labels)"
      ],
      "execution_count": null,
      "outputs": [
        {
          "output_type": "execute_result",
          "data": {
            "text/plain": [
              "0.8056490582840855"
            ]
          },
          "metadata": {
            "tags": []
          },
          "execution_count": 58
        }
      ]
    },
    {
      "cell_type": "code",
      "metadata": {
        "id": "E_lfdqGHPsCU",
        "outputId": "b6899c97-bc8a-432b-f3da-97086a71fc4b",
        "colab": {
          "base_uri": "https://localhost:8080/",
          "height": 34
        }
      },
      "source": [
        "modelo.score(teste, teste_labels)"
      ],
      "execution_count": null,
      "outputs": [
        {
          "output_type": "execute_result",
          "data": {
            "text/plain": [
              "0.7986640996582764"
            ]
          },
          "metadata": {
            "tags": []
          },
          "execution_count": 59
        }
      ]
    },
    {
      "cell_type": "markdown",
      "metadata": {
        "id": "AawZRcxWDGeC"
      },
      "source": [
        "# Modelo: LinearRegression"
      ]
    },
    {
      "cell_type": "code",
      "metadata": {
        "id": "wEfDSgUxQkdd"
      },
      "source": [
        "model_reg = LinearRegression()"
      ],
      "execution_count": null,
      "outputs": []
    },
    {
      "cell_type": "code",
      "metadata": {
        "id": "tUer9CdTQnm9",
        "outputId": "e71d4156-0520-4ce0-aac4-43239032604f",
        "colab": {
          "base_uri": "https://localhost:8080/",
          "height": 34
        }
      },
      "source": [
        "model_reg.fit(treino, treino_labels)"
      ],
      "execution_count": null,
      "outputs": [
        {
          "output_type": "execute_result",
          "data": {
            "text/plain": [
              "LinearRegression(copy_X=True, fit_intercept=True, n_jobs=None, normalize=False)"
            ]
          },
          "metadata": {
            "tags": []
          },
          "execution_count": 53
        }
      ]
    },
    {
      "cell_type": "code",
      "metadata": {
        "id": "NzS2WrQvQwEU",
        "outputId": "96106f44-8512-479a-cd65-4f86a91a064d",
        "colab": {
          "base_uri": "https://localhost:8080/",
          "height": 34
        }
      },
      "source": [
        "model_reg.score(treino, treino_labels)"
      ],
      "execution_count": null,
      "outputs": [
        {
          "output_type": "execute_result",
          "data": {
            "text/plain": [
              "0.8259914451151709"
            ]
          },
          "metadata": {
            "tags": []
          },
          "execution_count": 54
        }
      ]
    },
    {
      "cell_type": "code",
      "metadata": {
        "id": "RgSN6tYJQ0dt",
        "outputId": "8e4ff5bb-9e09-444a-f351-6e97c3caadf0",
        "colab": {
          "base_uri": "https://localhost:8080/",
          "height": 34
        }
      },
      "source": [
        "model_reg.score(teste, teste_labels)"
      ],
      "execution_count": null,
      "outputs": [
        {
          "output_type": "execute_result",
          "data": {
            "text/plain": [
              "0.8323549957571854"
            ]
          },
          "metadata": {
            "tags": []
          },
          "execution_count": 55
        }
      ]
    },
    {
      "cell_type": "code",
      "metadata": {
        "id": "GO_ETi-ZSSss"
      },
      "source": [
        "Zootopia = [0,0,0,0,0,0,0,1,1,1,1,0,1,110,27.74456356]"
      ],
      "execution_count": null,
      "outputs": []
    },
    {
      "cell_type": "code",
      "metadata": {
        "id": "EDfC3323SWMT",
        "outputId": "75165b65-bfc2-4a44-dcd4-17c1d3072d76",
        "colab": {
          "base_uri": "https://localhost:8080/",
          "height": 34
        }
      },
      "source": [
        "modelo.predict([Zootopia])"
      ],
      "execution_count": null,
      "outputs": [
        {
          "output_type": "execute_result",
          "data": {
            "text/plain": [
              "array([7055154.0925068])"
            ]
          },
          "metadata": {
            "tags": []
          },
          "execution_count": 66
        }
      ]
    }
  ]
}