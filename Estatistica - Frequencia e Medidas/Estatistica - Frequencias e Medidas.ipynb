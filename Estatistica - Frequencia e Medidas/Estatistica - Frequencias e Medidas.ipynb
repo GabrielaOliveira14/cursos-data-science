{
  "nbformat": 4,
  "nbformat_minor": 0,
  "metadata": {
    "colab": {
      "name": "Estatística: Frequências e Medidas",
      "provenance": [],
      "collapsed_sections": [
        "tHD3yNqzjQNW",
        "X9w1Iqt3jQNg"
      ],
      "toc_visible": true
    },
    "kernelspec": {
      "display_name": "Python 3",
      "language": "python",
      "name": "python3"
    },
    "language_info": {
      "codemirror_mode": {
        "name": "ipython",
        "version": 3
      },
      "file_extension": ".py",
      "mimetype": "text/x-python",
      "name": "python",
      "nbconvert_exporter": "python",
      "pygments_lexer": "ipython3",
      "version": "3.6.5"
    }
  },
  "cells": [
    {
      "cell_type": "markdown",
      "metadata": {
        "id": "WvMflodMjQKe"
      },
      "source": [
        "\n",
        "**<h1>CURSO DE ESTATÍSTICA - PARTE 1</h1>**\n",
        "\n",
        "***\n"
      ]
    },
    {
      "cell_type": "markdown",
      "metadata": {
        "id": "cVgsZ_E3jQKg"
      },
      "source": [
        "**CONHECENDO OS DADOS**\n",
        "\n",
        "***"
      ]
    },
    {
      "cell_type": "markdown",
      "metadata": {
        "id": "TDjqYYNojQKh"
      },
      "source": [
        "##1.1 Dataset do projeto\n"
      ]
    },
    {
      "cell_type": "markdown",
      "metadata": {
        "id": "iN1gIbaKjQKh"
      },
      "source": [
        "### Pesquisa Nacional por Amostra de Domicílios - 2015\n",
        "\n",
        "***\n",
        "\n",
        "A <b>Pesquisa Nacional por Amostra de Domicílios - PNAD</b> investiga anualmente, de forma permanente, características gerais da população, de educação, trabalho, rendimento e habitação e outras, com periodicidade variável, de acordo com as necessidades de informação para o país, como as características sobre migração, fecundidade, nupcialidade, saúde, segurança alimentar, entre outros temas. O levantamento dessas estatísticas constitui, ao longo dos 49 anos de realização da pesquisa, um importante instrumento para formulação, validação e avaliação de políticas orientadas para o desenvolvimento socioeconômico e a melhoria das condições de vida no Brasil."
      ]
    },
    {
      "cell_type": "markdown",
      "metadata": {
        "id": "U6V7br1RjQKi"
      },
      "source": [
        "### Fonte dos Dados\n",
        "\n",
        "https://ww2.ibge.gov.br/home/estatistica/populacao/trabalhoerendimento/pnad2015/microdados.shtm"
      ]
    },
    {
      "cell_type": "markdown",
      "metadata": {
        "id": "r0Fe_qnzjQKj"
      },
      "source": [
        "### Variáveis utilizadas\n",
        "\n",
        "> ### Renda\n",
        "> ***\n",
        "\n",
        "Rendimento mensal do trabalho principal para pessoas de 10 anos ou mais de idade.\n",
        "\n",
        "> ### Idade\n",
        "> ***\n",
        "\n",
        "Idade do morador na data de referência em anos.\n",
        "\n",
        "> ### Altura (elaboração própria)\n",
        "> ***\n",
        "\n",
        "Altura do morador em metros.\n",
        "\n",
        "> ### UF\n",
        "> ***\n",
        "\n",
        "|Código|Descrição|\n",
        "|---|---|\n",
        "|11|Rondônia|\n",
        "|12|Acre|\n",
        "|13|Amazonas|\n",
        "|14|Roraima|\n",
        "|15|Pará|\n",
        "|16|Amapá|\n",
        "|17|Tocantins|\n",
        "|21|Maranhão|\n",
        "|22|Piauí|\n",
        "|23|Ceará|\n",
        "|24|Rio Grande do Norte|\n",
        "|25|Paraíba|\n",
        "|26|Pernambuco|\n",
        "|27|Alagoas|\n",
        "|28|Sergipe|\n",
        "|29|Bahia|\n",
        "|31|Minas Gerais|\n",
        "|32|Espírito Santo|\n",
        "|33|Rio de Janeiro|\n",
        "|35|São Paulo|\n",
        "|41|Paraná|\n",
        "|42|Santa Catarina|\n",
        "|43|Rio Grande do Sul|\n",
        "|50|Mato Grosso do Sul|\n",
        "|51|Mato Grosso|\n",
        "|52|Goiás|\n",
        "|53|Distrito Federal|\n",
        "\n",
        "> ### Sexo\t\n",
        "> ***\n",
        "\n",
        "|Código|Descrição|\n",
        "|---|---|\n",
        "|0|Masculino|\n",
        "|1|Feminino|\n",
        "\n",
        "> ### Anos de Estudo\n",
        "> ***\n",
        "\n",
        "|Código|Descrição|\n",
        "|---|---|\n",
        "|1|Sem instrução e menos de 1 ano|\n",
        "|2|1 ano|\n",
        "|3|2 anos|\n",
        "|4|3 anos|\n",
        "|5|4 anos|\n",
        "|6|5 anos|\n",
        "|7|6 anos|\n",
        "|8|7 anos|\n",
        "|9|8 anos|\n",
        "|10|9 anos|\n",
        "|11|10 anos|\n",
        "|12|11 anos|\n",
        "|13|12 anos|\n",
        "|14|13 anos|\n",
        "|15|14 anos|\n",
        "|16|15 anos ou mais|\n",
        "|17|Não determinados| \n",
        "||Não aplicável|\n",
        "\n",
        "> ### Cor\n",
        "> ***\n",
        "\n",
        "|Código|Descrição|\n",
        "|---|---|\n",
        "|0|Indígena|\n",
        "|2|Branca|\n",
        "|4|Preta|\n",
        "|6|Amarela|\n",
        "|8|Parda|\n",
        "|9|Sem declaração|"
      ]
    },
    {
      "cell_type": "markdown",
      "metadata": {
        "id": "OK1IQH5cX7Gb"
      },
      "source": [
        "#### <font color='red'>Observação</font>\n",
        "***\n",
        "> Os seguintes tratamentos foram realizados nos dados originais:\n",
        "> 1. Foram eliminados os registros onde a <b>Renda</b> era inválida (999 999 999 999);\n",
        "> 2. Foram eliminados os registros onde a <b>Renda</b> era missing;\n",
        "> 3. Foram considerados somente os registros das <b>Pessoas de Referência</b> de cada domicílio (responsável pelo domicílio)."
      ]
    },
    {
      "cell_type": "markdown",
      "metadata": {
        "id": "8Rw70V6ojQKk"
      },
      "source": [
        "### Importando pandas e lendo o dataset do projeto\n",
        "\n",
        "https://pandas.pydata.org/"
      ]
    },
    {
      "cell_type": "code",
      "metadata": {
        "id": "8QgOpE-wjQKl"
      },
      "source": [
        "import pandas as pd\r\n",
        "import warnings\r\n",
        "warnings.filterwarnings('ignore')"
      ],
      "execution_count": null,
      "outputs": []
    },
    {
      "cell_type": "code",
      "metadata": {
        "id": "ufRZ7TLwjQKo"
      },
      "source": [
        "dados = pd.read_csv(\"dados.csv\")"
      ],
      "execution_count": null,
      "outputs": []
    },
    {
      "cell_type": "code",
      "metadata": {
        "id": "GsC_WhLFjQKq",
        "scrolled": true,
        "colab": {
          "base_uri": "https://localhost:8080/",
          "height": 204
        },
        "outputId": "b7420dde-e83f-4ec2-b602-299868d69710"
      },
      "source": [
        "dados.head()"
      ],
      "execution_count": null,
      "outputs": [
        {
          "output_type": "execute_result",
          "data": {
            "text/html": [
              "<div>\n",
              "<style scoped>\n",
              "    .dataframe tbody tr th:only-of-type {\n",
              "        vertical-align: middle;\n",
              "    }\n",
              "\n",
              "    .dataframe tbody tr th {\n",
              "        vertical-align: top;\n",
              "    }\n",
              "\n",
              "    .dataframe thead th {\n",
              "        text-align: right;\n",
              "    }\n",
              "</style>\n",
              "<table border=\"1\" class=\"dataframe\">\n",
              "  <thead>\n",
              "    <tr style=\"text-align: right;\">\n",
              "      <th></th>\n",
              "      <th>UF</th>\n",
              "      <th>Sexo</th>\n",
              "      <th>Idade</th>\n",
              "      <th>Cor</th>\n",
              "      <th>Anos de Estudo</th>\n",
              "      <th>Renda</th>\n",
              "      <th>Altura</th>\n",
              "    </tr>\n",
              "  </thead>\n",
              "  <tbody>\n",
              "    <tr>\n",
              "      <th>0</th>\n",
              "      <td>11</td>\n",
              "      <td>0</td>\n",
              "      <td>23</td>\n",
              "      <td>8</td>\n",
              "      <td>12</td>\n",
              "      <td>800</td>\n",
              "      <td>1.603808</td>\n",
              "    </tr>\n",
              "    <tr>\n",
              "      <th>1</th>\n",
              "      <td>11</td>\n",
              "      <td>1</td>\n",
              "      <td>23</td>\n",
              "      <td>2</td>\n",
              "      <td>12</td>\n",
              "      <td>1150</td>\n",
              "      <td>1.739790</td>\n",
              "    </tr>\n",
              "    <tr>\n",
              "      <th>2</th>\n",
              "      <td>11</td>\n",
              "      <td>1</td>\n",
              "      <td>35</td>\n",
              "      <td>8</td>\n",
              "      <td>15</td>\n",
              "      <td>880</td>\n",
              "      <td>1.760444</td>\n",
              "    </tr>\n",
              "    <tr>\n",
              "      <th>3</th>\n",
              "      <td>11</td>\n",
              "      <td>0</td>\n",
              "      <td>46</td>\n",
              "      <td>2</td>\n",
              "      <td>6</td>\n",
              "      <td>3500</td>\n",
              "      <td>1.783158</td>\n",
              "    </tr>\n",
              "    <tr>\n",
              "      <th>4</th>\n",
              "      <td>11</td>\n",
              "      <td>1</td>\n",
              "      <td>47</td>\n",
              "      <td>8</td>\n",
              "      <td>9</td>\n",
              "      <td>150</td>\n",
              "      <td>1.690631</td>\n",
              "    </tr>\n",
              "  </tbody>\n",
              "</table>\n",
              "</div>"
            ],
            "text/plain": [
              "   UF  Sexo  Idade  Cor  Anos de Estudo  Renda    Altura\n",
              "0  11     0     23    8              12    800  1.603808\n",
              "1  11     1     23    2              12   1150  1.739790\n",
              "2  11     1     35    8              15    880  1.760444\n",
              "3  11     0     46    2               6   3500  1.783158\n",
              "4  11     1     47    8               9    150  1.690631"
            ]
          },
          "metadata": {
            "tags": []
          },
          "execution_count": 153
        }
      ]
    },
    {
      "cell_type": "markdown",
      "metadata": {
        "id": "E3Mx0tVqjQKs"
      },
      "source": [
        "##1.2 Tipos de dados\n",
        "\n",
        "***\n"
      ]
    },
    {
      "cell_type": "markdown",
      "metadata": {
        "id": "oB4TCBFojQKt"
      },
      "source": [
        "### Variáveis qualitativas ordinais\n",
        "\n",
        "► Variáveis que podem ser ordenadas ou hierarquizardas"
      ]
    },
    {
      "cell_type": "code",
      "metadata": {
        "id": "NtQZNGNbjQKt",
        "colab": {
          "base_uri": "https://localhost:8080/"
        },
        "outputId": "9edc898e-9602-46ce-da8c-ac7242836a95"
      },
      "source": [
        "sorted(dados['Anos de Estudo'].unique()) # Pode dizer qual é melhor por isso ordinais."
      ],
      "execution_count": null,
      "outputs": [
        {
          "output_type": "execute_result",
          "data": {
            "text/plain": [
              "[1, 2, 3, 4, 5, 6, 7, 8, 9, 10, 11, 12, 13, 14, 15, 16, 17]"
            ]
          },
          "metadata": {
            "tags": []
          },
          "execution_count": 154
        }
      ]
    },
    {
      "cell_type": "markdown",
      "metadata": {
        "id": "i2mCIMyojQKv"
      },
      "source": [
        "### Variáveis qualitativas nominais\n",
        "\n",
        "► Variáveis que não podem ser ordenadas ou hierarquizardas"
      ]
    },
    {
      "cell_type": "code",
      "metadata": {
        "id": "NODtY5IxjQKw",
        "scrolled": true,
        "colab": {
          "base_uri": "https://localhost:8080/"
        },
        "outputId": "48bfd163-216d-4b5c-eae2-6cec25f0e9f8"
      },
      "source": [
        "sorted(dados['UF'].unique())"
      ],
      "execution_count": null,
      "outputs": [
        {
          "output_type": "execute_result",
          "data": {
            "text/plain": [
              "[11,\n",
              " 12,\n",
              " 13,\n",
              " 14,\n",
              " 15,\n",
              " 16,\n",
              " 17,\n",
              " 21,\n",
              " 22,\n",
              " 23,\n",
              " 24,\n",
              " 25,\n",
              " 26,\n",
              " 27,\n",
              " 28,\n",
              " 29,\n",
              " 31,\n",
              " 32,\n",
              " 33,\n",
              " 35,\n",
              " 41,\n",
              " 42,\n",
              " 43,\n",
              " 50,\n",
              " 51,\n",
              " 52,\n",
              " 53]"
            ]
          },
          "metadata": {
            "tags": []
          },
          "execution_count": 155
        }
      ]
    },
    {
      "cell_type": "code",
      "metadata": {
        "id": "NURfft2QjQKy",
        "colab": {
          "base_uri": "https://localhost:8080/"
        },
        "outputId": "0cc0c8bb-0aaf-4e96-bc25-3176906f468f"
      },
      "source": [
        "sorted(dados['Sexo'].unique()) # não existe qual é melhor por isso nominal"
      ],
      "execution_count": null,
      "outputs": [
        {
          "output_type": "execute_result",
          "data": {
            "text/plain": [
              "[0, 1]"
            ]
          },
          "metadata": {
            "tags": []
          },
          "execution_count": 156
        }
      ]
    },
    {
      "cell_type": "code",
      "metadata": {
        "id": "6VwGyqxMjQK1",
        "colab": {
          "base_uri": "https://localhost:8080/"
        },
        "outputId": "1913091b-46f1-48d3-9126-3b672e33052a"
      },
      "source": [
        "sorted(dados['Cor'].unique())"
      ],
      "execution_count": null,
      "outputs": [
        {
          "output_type": "execute_result",
          "data": {
            "text/plain": [
              "[0, 2, 4, 6, 8]"
            ]
          },
          "metadata": {
            "tags": []
          },
          "execution_count": 157
        }
      ]
    },
    {
      "cell_type": "markdown",
      "metadata": {
        "id": "FQhi81LsjQK5"
      },
      "source": [
        "### Variáveis quantitativas discretas\n",
        "\n",
        "► Variáveis que representam uma contagem onde os valores possíveis formam um conjunto finito ou enumerável."
      ]
    },
    {
      "cell_type": "markdown",
      "metadata": {
        "id": "XhjOn-CoiSxK"
      },
      "source": [
        ""
      ]
    },
    {
      "cell_type": "code",
      "metadata": {
        "id": "sr4JXeZkjQK5",
        "colab": {
          "base_uri": "https://localhost:8080/"
        },
        "outputId": "47e23c03-a7ac-46e8-db31-0b41fb3a213c"
      },
      "source": [
        "print('De %s até %s anos' % (dados.Idade.min(), dados.Idade.max()))"
      ],
      "execution_count": null,
      "outputs": [
        {
          "output_type": "stream",
          "text": [
            "De 13 até 99 anos\n"
          ],
          "name": "stdout"
        }
      ]
    },
    {
      "cell_type": "markdown",
      "metadata": {
        "id": "7mMXLTukjQK-"
      },
      "source": [
        "#### <font color='red'>Observação</font>\n",
        "***\n",
        "> A variável idade pode ser classificada de três formas distintas:\n",
        "> 1. <b>QUANTITATIVA DISCRETA</b> - quando representa anos completos (números inteiros);\n",
        "> 2. <b>QUANTITATIVA CONTÍNUA</b> - quando representa a idade exata (ano, mes, dia), sendo representado por frações de anos; e\n",
        "> 3. <b>QUALITATIVA ORDINAL</b> - quando representa faixas de idade."
      ]
    },
    {
      "cell_type": "markdown",
      "metadata": {
        "id": "J0L2OkaQjQK7"
      },
      "source": [
        "### Variáveis quantitativas contínuas\n",
        "\n",
        "► Variáveis que representam uma contagem ou mensuração que assumem valores em uma escala contínua (números reais)."
      ]
    },
    {
      "cell_type": "code",
      "metadata": {
        "id": "jOW-bGyRjQK8",
        "colab": {
          "base_uri": "https://localhost:8080/"
        },
        "outputId": "4d835ea0-7c71-4912-d0e4-0258fbd66a30"
      },
      "source": [
        "print('De %s até %s anos' % (dados.Altura.min(), dados.Altura.max()))"
      ],
      "execution_count": null,
      "outputs": [
        {
          "output_type": "stream",
          "text": [
            "De 1.339244614 até 2.028496765 anos\n"
          ],
          "name": "stdout"
        }
      ]
    },
    {
      "cell_type": "markdown",
      "metadata": {
        "id": "d_LW5gMIjQK_"
      },
      "source": [
        "### Classificação de uma variável\n",
        "![Screen Shot 12-08-20 at 05.15 PM 001.PNG](data:image/png;base64,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)"
      ]
    },
    {
      "cell_type": "markdown",
      "metadata": {
        "id": "PNIg_4VEjQK_"
      },
      "source": [
        "#2 DISTRIBUIÇÃO DE FREQUÊNCIAS\n",
        "\n",
        "***\n",
        "\n",
        "O primeiro passo em um trabalho de análise é o conhecimento do comportamento das variáveis envolvidas no estudo. Utilizando técnicas estatísticas como as análises das <b>DISTRIBUIÇÕES DE FREQUÊNCIAS</b> e <b>HISTOGRAMAS</b> podemos avaliar melhor a forma como os fenômenos em estudo se distribuem."
      ]
    },
    {
      "cell_type": "markdown",
      "metadata": {
        "id": "JhpyjkEFjQLA"
      },
      "source": [
        "##2.1 Distribuição de frequências para variáveis qualitativas\n"
      ]
    },
    {
      "cell_type": "markdown",
      "metadata": {
        "id": "SsN3ikjqjQLB"
      },
      "source": [
        "### Método 1"
      ]
    },
    {
      "cell_type": "markdown",
      "metadata": {
        "id": "dj_v0M44X7G3"
      },
      "source": [
        "https://pandas.pydata.org/pandas-docs/version/0.22/generated/pandas.Series.value_counts.html"
      ]
    },
    {
      "cell_type": "code",
      "metadata": {
        "id": "cA4gUboZjQLB",
        "colab": {
          "base_uri": "https://localhost:8080/"
        },
        "outputId": "8d7f69b7-4216-46d7-9161-473d2e22c800"
      },
      "source": [
        "dados['Sexo'].value_counts()"
      ],
      "execution_count": null,
      "outputs": [
        {
          "output_type": "execute_result",
          "data": {
            "text/plain": [
              "0    53250\n",
              "1    23590\n",
              "Name: Sexo, dtype: int64"
            ]
          },
          "metadata": {
            "tags": []
          },
          "execution_count": 160
        }
      ]
    },
    {
      "cell_type": "code",
      "metadata": {
        "id": "iy4-ijknjQLD",
        "colab": {
          "base_uri": "https://localhost:8080/"
        },
        "outputId": "1b0c6d57-346f-4461-cae4-a0bf5a8a41ef"
      },
      "source": [
        "dados['Sexo'].value_counts(normalize = True) * 100 # Porcentagem"
      ],
      "execution_count": null,
      "outputs": [
        {
          "output_type": "execute_result",
          "data": {
            "text/plain": [
              "0    69.299844\n",
              "1    30.700156\n",
              "Name: Sexo, dtype: float64"
            ]
          },
          "metadata": {
            "tags": []
          },
          "execution_count": 161
        }
      ]
    },
    {
      "cell_type": "code",
      "metadata": {
        "id": "qfkiLcFijQLG"
      },
      "source": [
        "frequencia = dados['Sexo'].value_counts()"
      ],
      "execution_count": null,
      "outputs": []
    },
    {
      "cell_type": "code",
      "metadata": {
        "id": "t4uFMt6fjQLI"
      },
      "source": [
        "percentual = dados['Sexo'].value_counts(normalize = True) * 100"
      ],
      "execution_count": null,
      "outputs": []
    },
    {
      "cell_type": "code",
      "metadata": {
        "id": "zUGfju86jQLM"
      },
      "source": [
        "dist_frequencia_qualitativas = pd.DataFrame({'Frequência': frequencia, 'Porcentagem (%)': percentual})"
      ],
      "execution_count": null,
      "outputs": []
    },
    {
      "cell_type": "code",
      "metadata": {
        "id": "kPOYfijijQLO",
        "colab": {
          "base_uri": "https://localhost:8080/",
          "height": 111
        },
        "outputId": "3260f1aa-2a29-4771-9b45-6e46e90dab5b"
      },
      "source": [
        "dist_frequencia_qualitativas"
      ],
      "execution_count": null,
      "outputs": [
        {
          "output_type": "execute_result",
          "data": {
            "text/html": [
              "<div>\n",
              "<style scoped>\n",
              "    .dataframe tbody tr th:only-of-type {\n",
              "        vertical-align: middle;\n",
              "    }\n",
              "\n",
              "    .dataframe tbody tr th {\n",
              "        vertical-align: top;\n",
              "    }\n",
              "\n",
              "    .dataframe thead th {\n",
              "        text-align: right;\n",
              "    }\n",
              "</style>\n",
              "<table border=\"1\" class=\"dataframe\">\n",
              "  <thead>\n",
              "    <tr style=\"text-align: right;\">\n",
              "      <th></th>\n",
              "      <th>Frequência</th>\n",
              "      <th>Porcentagem (%)</th>\n",
              "    </tr>\n",
              "  </thead>\n",
              "  <tbody>\n",
              "    <tr>\n",
              "      <th>0</th>\n",
              "      <td>53250</td>\n",
              "      <td>69.299844</td>\n",
              "    </tr>\n",
              "    <tr>\n",
              "      <th>1</th>\n",
              "      <td>23590</td>\n",
              "      <td>30.700156</td>\n",
              "    </tr>\n",
              "  </tbody>\n",
              "</table>\n",
              "</div>"
            ],
            "text/plain": [
              "   Frequência  Porcentagem (%)\n",
              "0       53250        69.299844\n",
              "1       23590        30.700156"
            ]
          },
          "metadata": {
            "tags": []
          },
          "execution_count": 165
        }
      ]
    },
    {
      "cell_type": "code",
      "metadata": {
        "id": "tMS-VSk3jQLQ"
      },
      "source": [
        "dist_frequencia_qualitativas.rename(index = {\n",
        "    0 : 'Masculino',\n",
        "    1: 'Fenimino'\n",
        "}, inplace = True)\n",
        "\n",
        "dist_frequencia_qualitativas.rename_axis('Sexo', axis = 'columns', inplace = True)"
      ],
      "execution_count": null,
      "outputs": []
    },
    {
      "cell_type": "code",
      "metadata": {
        "id": "B9zkYdcCyHe6",
        "colab": {
          "base_uri": "https://localhost:8080/",
          "height": 111
        },
        "outputId": "abc5e5f5-0bbe-4039-9447-227ff3d810a9"
      },
      "source": [
        "dist_frequencia_qualitativas"
      ],
      "execution_count": null,
      "outputs": [
        {
          "output_type": "execute_result",
          "data": {
            "text/html": [
              "<div>\n",
              "<style scoped>\n",
              "    .dataframe tbody tr th:only-of-type {\n",
              "        vertical-align: middle;\n",
              "    }\n",
              "\n",
              "    .dataframe tbody tr th {\n",
              "        vertical-align: top;\n",
              "    }\n",
              "\n",
              "    .dataframe thead th {\n",
              "        text-align: right;\n",
              "    }\n",
              "</style>\n",
              "<table border=\"1\" class=\"dataframe\">\n",
              "  <thead>\n",
              "    <tr style=\"text-align: right;\">\n",
              "      <th>Sexo</th>\n",
              "      <th>Frequência</th>\n",
              "      <th>Porcentagem (%)</th>\n",
              "    </tr>\n",
              "  </thead>\n",
              "  <tbody>\n",
              "    <tr>\n",
              "      <th>Masculino</th>\n",
              "      <td>53250</td>\n",
              "      <td>69.299844</td>\n",
              "    </tr>\n",
              "    <tr>\n",
              "      <th>Fenimino</th>\n",
              "      <td>23590</td>\n",
              "      <td>30.700156</td>\n",
              "    </tr>\n",
              "  </tbody>\n",
              "</table>\n",
              "</div>"
            ],
            "text/plain": [
              "Sexo       Frequência  Porcentagem (%)\n",
              "Masculino       53250        69.299844\n",
              "Fenimino        23590        30.700156"
            ]
          },
          "metadata": {
            "tags": []
          },
          "execution_count": 167
        }
      ]
    },
    {
      "cell_type": "markdown",
      "metadata": {
        "id": "D82ocp_djQLR"
      },
      "source": [
        "### Método 2"
      ]
    },
    {
      "cell_type": "markdown",
      "metadata": {
        "id": "rLbfeA_UX7HF"
      },
      "source": [
        "https://pandas.pydata.org/pandas-docs/version/0.22/generated/pandas.crosstab.html"
      ]
    },
    {
      "cell_type": "code",
      "metadata": {
        "id": "YLCyOKYcjQLU"
      },
      "source": [
        "sexo = {0: 'Masculino',\n",
        "        1: 'Feminino'}\n",
        "\n",
        "cor = { 0: 'Indígena',\n",
        "        2: 'Branca',\n",
        "        4: 'Preta',\n",
        "        6: 'Amarela',\n",
        "        8: 'Parda',\n",
        "        9: 'Sem declaração'}"
      ],
      "execution_count": null,
      "outputs": []
    },
    {
      "cell_type": "code",
      "metadata": {
        "id": "d8XMZiEfjQLS",
        "colab": {
          "base_uri": "https://localhost:8080/",
          "height": 142
        },
        "outputId": "e8f1292f-70fc-4a5b-bd6e-c2325b25de28"
      },
      "source": [
        "frequencia = pd.crosstab(index = dados.Sexo, columns = dados.Cor)\n",
        "frequencia.rename(index = sexo, inplace = True)\n",
        "frequencia.rename(columns = cor, inplace = True)\n",
        "frequencia"
      ],
      "execution_count": null,
      "outputs": [
        {
          "output_type": "execute_result",
          "data": {
            "text/html": [
              "<div>\n",
              "<style scoped>\n",
              "    .dataframe tbody tr th:only-of-type {\n",
              "        vertical-align: middle;\n",
              "    }\n",
              "\n",
              "    .dataframe tbody tr th {\n",
              "        vertical-align: top;\n",
              "    }\n",
              "\n",
              "    .dataframe thead th {\n",
              "        text-align: right;\n",
              "    }\n",
              "</style>\n",
              "<table border=\"1\" class=\"dataframe\">\n",
              "  <thead>\n",
              "    <tr style=\"text-align: right;\">\n",
              "      <th>Cor</th>\n",
              "      <th>Indígena</th>\n",
              "      <th>Branca</th>\n",
              "      <th>Preta</th>\n",
              "      <th>Amarela</th>\n",
              "      <th>Parda</th>\n",
              "    </tr>\n",
              "    <tr>\n",
              "      <th>Sexo</th>\n",
              "      <th></th>\n",
              "      <th></th>\n",
              "      <th></th>\n",
              "      <th></th>\n",
              "      <th></th>\n",
              "    </tr>\n",
              "  </thead>\n",
              "  <tbody>\n",
              "    <tr>\n",
              "      <th>Masculino</th>\n",
              "      <td>256</td>\n",
              "      <td>22194</td>\n",
              "      <td>5502</td>\n",
              "      <td>235</td>\n",
              "      <td>25063</td>\n",
              "    </tr>\n",
              "    <tr>\n",
              "      <th>Feminino</th>\n",
              "      <td>101</td>\n",
              "      <td>9621</td>\n",
              "      <td>2889</td>\n",
              "      <td>117</td>\n",
              "      <td>10862</td>\n",
              "    </tr>\n",
              "  </tbody>\n",
              "</table>\n",
              "</div>"
            ],
            "text/plain": [
              "Cor        Indígena  Branca  Preta  Amarela  Parda\n",
              "Sexo                                              \n",
              "Masculino       256   22194   5502      235  25063\n",
              "Feminino        101    9621   2889      117  10862"
            ]
          },
          "metadata": {
            "tags": []
          },
          "execution_count": 169
        }
      ]
    },
    {
      "cell_type": "code",
      "metadata": {
        "id": "nrDtcf5gjQLV",
        "colab": {
          "base_uri": "https://localhost:8080/",
          "height": 142
        },
        "outputId": "90493c30-8d5c-4703-e91a-9839501ecff5"
      },
      "source": [
        "percentual = pd.crosstab(index = dados.Sexo, columns = dados.Cor, normalize = True) * 100\n",
        "percentual.rename(index = sexo, inplace = True)\n",
        "percentual.rename(columns = cor, inplace = True)\n",
        "percentual"
      ],
      "execution_count": null,
      "outputs": [
        {
          "output_type": "execute_result",
          "data": {
            "text/html": [
              "<div>\n",
              "<style scoped>\n",
              "    .dataframe tbody tr th:only-of-type {\n",
              "        vertical-align: middle;\n",
              "    }\n",
              "\n",
              "    .dataframe tbody tr th {\n",
              "        vertical-align: top;\n",
              "    }\n",
              "\n",
              "    .dataframe thead th {\n",
              "        text-align: right;\n",
              "    }\n",
              "</style>\n",
              "<table border=\"1\" class=\"dataframe\">\n",
              "  <thead>\n",
              "    <tr style=\"text-align: right;\">\n",
              "      <th>Cor</th>\n",
              "      <th>Indígena</th>\n",
              "      <th>Branca</th>\n",
              "      <th>Preta</th>\n",
              "      <th>Amarela</th>\n",
              "      <th>Parda</th>\n",
              "    </tr>\n",
              "    <tr>\n",
              "      <th>Sexo</th>\n",
              "      <th></th>\n",
              "      <th></th>\n",
              "      <th></th>\n",
              "      <th></th>\n",
              "      <th></th>\n",
              "    </tr>\n",
              "  </thead>\n",
              "  <tbody>\n",
              "    <tr>\n",
              "      <th>Masculino</th>\n",
              "      <td>0.333160</td>\n",
              "      <td>28.883394</td>\n",
              "      <td>7.160333</td>\n",
              "      <td>0.305830</td>\n",
              "      <td>32.617126</td>\n",
              "    </tr>\n",
              "    <tr>\n",
              "      <th>Feminino</th>\n",
              "      <td>0.131442</td>\n",
              "      <td>12.520822</td>\n",
              "      <td>3.759761</td>\n",
              "      <td>0.152264</td>\n",
              "      <td>14.135867</td>\n",
              "    </tr>\n",
              "  </tbody>\n",
              "</table>\n",
              "</div>"
            ],
            "text/plain": [
              "Cor        Indígena     Branca     Preta   Amarela      Parda\n",
              "Sexo                                                         \n",
              "Masculino  0.333160  28.883394  7.160333  0.305830  32.617126\n",
              "Feminino   0.131442  12.520822  3.759761  0.152264  14.135867"
            ]
          },
          "metadata": {
            "tags": []
          },
          "execution_count": 170
        }
      ]
    },
    {
      "cell_type": "code",
      "metadata": {
        "id": "_MHwBGcdp6dl",
        "colab": {
          "base_uri": "https://localhost:8080/",
          "height": 142
        },
        "outputId": "69729644-1f76-4a12-fcad-6ff6375c2272"
      },
      "source": [
        "percentual = pd.crosstab(index = dados.Sexo, columns = dados.Cor, aggfunc = 'mean', values = dados.Renda) # aggfunc -> Calcula a renda media dentro do cruzamento.\n",
        "percentual.rename(index = sexo, inplace = True)\n",
        "percentual.rename(columns = cor, inplace = True)\n",
        "percentual"
      ],
      "execution_count": null,
      "outputs": [
        {
          "output_type": "execute_result",
          "data": {
            "text/html": [
              "<div>\n",
              "<style scoped>\n",
              "    .dataframe tbody tr th:only-of-type {\n",
              "        vertical-align: middle;\n",
              "    }\n",
              "\n",
              "    .dataframe tbody tr th {\n",
              "        vertical-align: top;\n",
              "    }\n",
              "\n",
              "    .dataframe thead th {\n",
              "        text-align: right;\n",
              "    }\n",
              "</style>\n",
              "<table border=\"1\" class=\"dataframe\">\n",
              "  <thead>\n",
              "    <tr style=\"text-align: right;\">\n",
              "      <th>Cor</th>\n",
              "      <th>Indígena</th>\n",
              "      <th>Branca</th>\n",
              "      <th>Preta</th>\n",
              "      <th>Amarela</th>\n",
              "      <th>Parda</th>\n",
              "    </tr>\n",
              "    <tr>\n",
              "      <th>Sexo</th>\n",
              "      <th></th>\n",
              "      <th></th>\n",
              "      <th></th>\n",
              "      <th></th>\n",
              "      <th></th>\n",
              "    </tr>\n",
              "  </thead>\n",
              "  <tbody>\n",
              "    <tr>\n",
              "      <th>Masculino</th>\n",
              "      <td>1081.710938</td>\n",
              "      <td>2925.744435</td>\n",
              "      <td>1603.861687</td>\n",
              "      <td>4758.251064</td>\n",
              "      <td>1659.577425</td>\n",
              "    </tr>\n",
              "    <tr>\n",
              "      <th>Feminino</th>\n",
              "      <td>2464.386139</td>\n",
              "      <td>2109.866750</td>\n",
              "      <td>1134.596400</td>\n",
              "      <td>3027.341880</td>\n",
              "      <td>1176.758516</td>\n",
              "    </tr>\n",
              "  </tbody>\n",
              "</table>\n",
              "</div>"
            ],
            "text/plain": [
              "Cor           Indígena       Branca        Preta      Amarela        Parda\n",
              "Sexo                                                                      \n",
              "Masculino  1081.710938  2925.744435  1603.861687  4758.251064  1659.577425\n",
              "Feminino   2464.386139  2109.866750  1134.596400  3027.341880  1176.758516"
            ]
          },
          "metadata": {
            "tags": []
          },
          "execution_count": 171
        }
      ]
    },
    {
      "cell_type": "markdown",
      "metadata": {
        "id": "eaXQUxnXjQLa"
      },
      "source": [
        "##2.2 Distribuição de frequências para variáveis quantitativas (classes personalizadas)\n",
        "***"
      ]
    },
    {
      "cell_type": "markdown",
      "metadata": {
        "id": "wxsSD-VVjQLb"
      },
      "source": [
        "### Passo 1 - Especificar os limites de cada classe\n",
        "\n",
        "Utilizar a seguinte classificação:\n",
        "\n",
        "<b>A</b> ► Acima de 20 SM\n",
        "\n",
        "<b>B</b> ► De 10 a 20 SM\n",
        "\n",
        "<b>C</b> ► De 4 a 10 SM\n",
        "\n",
        "<b>D</b> ► De 2 a 4 SM\n",
        "\n",
        "<b>E</b> ► Até 2 SM\n",
        "\n",
        "onde <b>SM</b> é o valor do salário mínimo na época. Em nosso caso <b>R$ 788,00</b> (2015):\n",
        "\n",
        "<b>A</b> ► Acima de 15.760\n",
        "\n",
        "<b>B</b> ► De 7.880 a 15.760\n",
        "\n",
        "<b>C</b> ► De 3.152 a 7.880\n",
        "\n",
        "<b>D</b> ► De 1.576 a 3.152\n",
        "\n",
        "<b>E</b> ► Até 1.576\n"
      ]
    },
    {
      "cell_type": "code",
      "metadata": {
        "id": "Z08790GUjQLc",
        "colab": {
          "base_uri": "https://localhost:8080/"
        },
        "outputId": "8e52298e-bf04-4cd9-b3fd-ac5543ec9be0"
      },
      "source": [
        "dados.Renda.min()"
      ],
      "execution_count": null,
      "outputs": [
        {
          "output_type": "execute_result",
          "data": {
            "text/plain": [
              "0"
            ]
          },
          "metadata": {
            "tags": []
          },
          "execution_count": 172
        }
      ]
    },
    {
      "cell_type": "code",
      "metadata": {
        "id": "5q2V5-0FjQLe",
        "colab": {
          "base_uri": "https://localhost:8080/"
        },
        "outputId": "1c603e70-920f-41cb-fead-f84f07c3452f"
      },
      "source": [
        "dados.Renda.max()"
      ],
      "execution_count": null,
      "outputs": [
        {
          "output_type": "execute_result",
          "data": {
            "text/plain": [
              "200000"
            ]
          },
          "metadata": {
            "tags": []
          },
          "execution_count": 173
        }
      ]
    },
    {
      "cell_type": "code",
      "metadata": {
        "id": "Qt5F5w2UjQLg"
      },
      "source": [
        "classes = [0, 1576, 3152, 7880, 15760, 200000]"
      ],
      "execution_count": null,
      "outputs": []
    },
    {
      "cell_type": "code",
      "metadata": {
        "id": "DKPIGOLLjQLi"
      },
      "source": [
        "labels = ['E', 'D', 'C', 'B', 'A']"
      ],
      "execution_count": null,
      "outputs": []
    },
    {
      "cell_type": "markdown",
      "metadata": {
        "id": "IQhlvrQUjQLk"
      },
      "source": [
        "### Passo 2 - Criar a tabela de frequências"
      ]
    },
    {
      "cell_type": "markdown",
      "metadata": {
        "id": "Uy3fH4IxX7Hc"
      },
      "source": [
        "https://pandas.pydata.org/pandas-docs/version/0.22/generated/pandas.cut.html"
      ]
    },
    {
      "cell_type": "code",
      "metadata": {
        "id": "WrZ2m2GajQLo",
        "colab": {
          "base_uri": "https://localhost:8080/"
        },
        "outputId": "725a08c5-7dd1-45ca-832f-96b30212dd16"
      },
      "source": [
        "frequencia = pd.value_counts(pd.cut(x = dados.Renda,\n",
        "       bins = classes,\n",
        "       labels = labels,\n",
        "       include_lowest = True)) # Para incluir o valor 0\n",
        "frequencia       "
      ],
      "execution_count": null,
      "outputs": [
        {
          "output_type": "execute_result",
          "data": {
            "text/plain": [
              "E    49755\n",
              "D    16700\n",
              "C     7599\n",
              "B     2178\n",
              "A      608\n",
              "Name: Renda, dtype: int64"
            ]
          },
          "metadata": {
            "tags": []
          },
          "execution_count": 176
        }
      ]
    },
    {
      "cell_type": "code",
      "metadata": {
        "id": "N-wZ_2UajQLm",
        "colab": {
          "base_uri": "https://localhost:8080/"
        },
        "outputId": "27bb371f-e2f2-433b-e878-35e586f3f2fa"
      },
      "source": [
        "percentual = pd.value_counts(pd.cut(x = dados.Renda,\n",
        "       bins = classes,\n",
        "       labels = labels,\n",
        "       include_lowest = True),\n",
        "    normalize = True) * 100 # Para incluir o valor 0\n",
        "percentual  "
      ],
      "execution_count": null,
      "outputs": [
        {
          "output_type": "execute_result",
          "data": {
            "text/plain": [
              "E    64.751432\n",
              "D    21.733472\n",
              "C     9.889381\n",
              "B     2.834461\n",
              "A     0.791255\n",
              "Name: Renda, dtype: float64"
            ]
          },
          "metadata": {
            "tags": []
          },
          "execution_count": 177
        }
      ]
    },
    {
      "cell_type": "code",
      "metadata": {
        "id": "btKoxJDujQLp",
        "colab": {
          "base_uri": "https://localhost:8080/",
          "height": 204
        },
        "outputId": "c00664fa-1c0d-4345-ec69-54fae7f1bb5e"
      },
      "source": [
        "dist_frequencia_quatitativas_personalizadas = pd.DataFrame(\n",
        "    {'Frequência': frequencia, 'Porcentagem (%)': percentual})\n",
        "dist_frequencia_quatitativas_personalizadas"
      ],
      "execution_count": null,
      "outputs": [
        {
          "output_type": "execute_result",
          "data": {
            "text/html": [
              "<div>\n",
              "<style scoped>\n",
              "    .dataframe tbody tr th:only-of-type {\n",
              "        vertical-align: middle;\n",
              "    }\n",
              "\n",
              "    .dataframe tbody tr th {\n",
              "        vertical-align: top;\n",
              "    }\n",
              "\n",
              "    .dataframe thead th {\n",
              "        text-align: right;\n",
              "    }\n",
              "</style>\n",
              "<table border=\"1\" class=\"dataframe\">\n",
              "  <thead>\n",
              "    <tr style=\"text-align: right;\">\n",
              "      <th></th>\n",
              "      <th>Frequência</th>\n",
              "      <th>Porcentagem (%)</th>\n",
              "    </tr>\n",
              "  </thead>\n",
              "  <tbody>\n",
              "    <tr>\n",
              "      <th>E</th>\n",
              "      <td>49755</td>\n",
              "      <td>64.751432</td>\n",
              "    </tr>\n",
              "    <tr>\n",
              "      <th>D</th>\n",
              "      <td>16700</td>\n",
              "      <td>21.733472</td>\n",
              "    </tr>\n",
              "    <tr>\n",
              "      <th>C</th>\n",
              "      <td>7599</td>\n",
              "      <td>9.889381</td>\n",
              "    </tr>\n",
              "    <tr>\n",
              "      <th>B</th>\n",
              "      <td>2178</td>\n",
              "      <td>2.834461</td>\n",
              "    </tr>\n",
              "    <tr>\n",
              "      <th>A</th>\n",
              "      <td>608</td>\n",
              "      <td>0.791255</td>\n",
              "    </tr>\n",
              "  </tbody>\n",
              "</table>\n",
              "</div>"
            ],
            "text/plain": [
              "   Frequência  Porcentagem (%)\n",
              "E       49755        64.751432\n",
              "D       16700        21.733472\n",
              "C        7599         9.889381\n",
              "B        2178         2.834461\n",
              "A         608         0.791255"
            ]
          },
          "metadata": {
            "tags": []
          },
          "execution_count": 178
        }
      ]
    },
    {
      "cell_type": "code",
      "metadata": {
        "id": "uTMEJXUHjQLs",
        "colab": {
          "base_uri": "https://localhost:8080/",
          "height": 204
        },
        "outputId": "e6254b51-3feb-48d9-b0a8-e809980caaa8"
      },
      "source": [
        "dist_frequencia_quatitativas_personalizadas.sort_index(ascending = False)"
      ],
      "execution_count": null,
      "outputs": [
        {
          "output_type": "execute_result",
          "data": {
            "text/html": [
              "<div>\n",
              "<style scoped>\n",
              "    .dataframe tbody tr th:only-of-type {\n",
              "        vertical-align: middle;\n",
              "    }\n",
              "\n",
              "    .dataframe tbody tr th {\n",
              "        vertical-align: top;\n",
              "    }\n",
              "\n",
              "    .dataframe thead th {\n",
              "        text-align: right;\n",
              "    }\n",
              "</style>\n",
              "<table border=\"1\" class=\"dataframe\">\n",
              "  <thead>\n",
              "    <tr style=\"text-align: right;\">\n",
              "      <th></th>\n",
              "      <th>Frequência</th>\n",
              "      <th>Porcentagem (%)</th>\n",
              "    </tr>\n",
              "  </thead>\n",
              "  <tbody>\n",
              "    <tr>\n",
              "      <th>A</th>\n",
              "      <td>608</td>\n",
              "      <td>0.791255</td>\n",
              "    </tr>\n",
              "    <tr>\n",
              "      <th>B</th>\n",
              "      <td>2178</td>\n",
              "      <td>2.834461</td>\n",
              "    </tr>\n",
              "    <tr>\n",
              "      <th>C</th>\n",
              "      <td>7599</td>\n",
              "      <td>9.889381</td>\n",
              "    </tr>\n",
              "    <tr>\n",
              "      <th>D</th>\n",
              "      <td>16700</td>\n",
              "      <td>21.733472</td>\n",
              "    </tr>\n",
              "    <tr>\n",
              "      <th>E</th>\n",
              "      <td>49755</td>\n",
              "      <td>64.751432</td>\n",
              "    </tr>\n",
              "  </tbody>\n",
              "</table>\n",
              "</div>"
            ],
            "text/plain": [
              "   Frequência  Porcentagem (%)\n",
              "A         608         0.791255\n",
              "B        2178         2.834461\n",
              "C        7599         9.889381\n",
              "D       16700        21.733472\n",
              "E       49755        64.751432"
            ]
          },
          "metadata": {
            "tags": []
          },
          "execution_count": 179
        }
      ]
    },
    {
      "cell_type": "markdown",
      "metadata": {
        "id": "ViJYvvjujQLu"
      },
      "source": [
        "##2.3 Distribuição de frequências para variáveis quantitativas (classes de amplitude fixa)\n",
        "***"
      ]
    },
    {
      "cell_type": "markdown",
      "metadata": {
        "id": "02ve2BVojQLv"
      },
      "source": [
        "### Importando bibliotecas\n",
        "\n",
        "http://www.numpy.org/"
      ]
    },
    {
      "cell_type": "code",
      "metadata": {
        "id": "hSIsHKuJjQLw"
      },
      "source": [
        "import numpy as np"
      ],
      "execution_count": null,
      "outputs": []
    },
    {
      "cell_type": "markdown",
      "metadata": {
        "id": "s9UGNaMzjQLy"
      },
      "source": [
        "### Passo 1 - Difinindo o número de classes"
      ]
    },
    {
      "cell_type": "markdown",
      "metadata": {
        "id": "p268tvNHjQLy"
      },
      "source": [
        "#### Regra de Sturges\n",
        "\n",
        "# $$k = 1 + \\frac {10}{3}\\log_{10}n$$"
      ]
    },
    {
      "cell_type": "code",
      "metadata": {
        "id": "wgLH6gGqjQLz",
        "colab": {
          "base_uri": "https://localhost:8080/"
        },
        "outputId": "0cbf3fe9-43fa-4f3d-dab8-5ff51efc107a"
      },
      "source": [
        "n = dados.shape[0]\n",
        "n"
      ],
      "execution_count": null,
      "outputs": [
        {
          "output_type": "execute_result",
          "data": {
            "text/plain": [
              "76840"
            ]
          },
          "metadata": {
            "tags": []
          },
          "execution_count": 181
        }
      ]
    },
    {
      "cell_type": "code",
      "metadata": {
        "id": "uTuVep-8jQL0"
      },
      "source": [
        "k = 1 + (10/3) * np.log10(n)"
      ],
      "execution_count": null,
      "outputs": []
    },
    {
      "cell_type": "code",
      "metadata": {
        "id": "988IDFNOjQL2",
        "colab": {
          "base_uri": "https://localhost:8080/"
        },
        "outputId": "f375effc-9819-4221-e41f-0f0cadd3ccb6"
      },
      "source": [
        "k"
      ],
      "execution_count": null,
      "outputs": [
        {
          "output_type": "execute_result",
          "data": {
            "text/plain": [
              "17.285291187298853"
            ]
          },
          "metadata": {
            "tags": []
          },
          "execution_count": 183
        }
      ]
    },
    {
      "cell_type": "code",
      "metadata": {
        "id": "B_Y66_KFjQL4",
        "colab": {
          "base_uri": "https://localhost:8080/"
        },
        "outputId": "471b8e9b-b8c7-4e60-8f5c-36517af5aacf"
      },
      "source": [
        "k = int(k)\n",
        "k"
      ],
      "execution_count": null,
      "outputs": [
        {
          "output_type": "execute_result",
          "data": {
            "text/plain": [
              "17"
            ]
          },
          "metadata": {
            "tags": []
          },
          "execution_count": 184
        }
      ]
    },
    {
      "cell_type": "markdown",
      "metadata": {
        "id": "5eO-RhaljQL6"
      },
      "source": [
        "### Passo 2 - Criar a tabela de frequências"
      ]
    },
    {
      "cell_type": "code",
      "metadata": {
        "id": "sVVA-jvDjQL7",
        "colab": {
          "base_uri": "https://localhost:8080/"
        },
        "outputId": "e5ed27db-9a35-4ab8-87fe-ce4ae443a298"
      },
      "source": [
        "frequencia = pd.value_counts(\n",
        "    pd.cut(\n",
        "        x = dados.Renda,\n",
        "        bins = 17,\n",
        "        include_lowest = True),\n",
        "    sort = False\n",
        "    )\n",
        "frequencia"
      ],
      "execution_count": null,
      "outputs": [
        {
          "output_type": "execute_result",
          "data": {
            "text/plain": [
              "(-200.001, 11764.706]       75594\n",
              "(11764.706, 23529.412]       1022\n",
              "(23529.412, 35294.118]        169\n",
              "(35294.118, 47058.824]         19\n",
              "(47058.824, 58823.529]         16\n",
              "(58823.529, 70588.235]          5\n",
              "(70588.235, 82352.941]          4\n",
              "(82352.941, 94117.647]          1\n",
              "(94117.647, 105882.353]         6\n",
              "(105882.353, 117647.059]        0\n",
              "(117647.059, 129411.765]        1\n",
              "(129411.765, 141176.471]        0\n",
              "(141176.471, 152941.176]        0\n",
              "(152941.176, 164705.882]        0\n",
              "(164705.882, 176470.588]        0\n",
              "(176470.588, 188235.294]        0\n",
              "(188235.294, 200000.0]          3\n",
              "Name: Renda, dtype: int64"
            ]
          },
          "metadata": {
            "tags": []
          },
          "execution_count": 185
        }
      ]
    },
    {
      "cell_type": "code",
      "metadata": {
        "id": "-ylxSip1jQL9",
        "colab": {
          "base_uri": "https://localhost:8080/"
        },
        "outputId": "95a7cafe-563b-4e1e-d9cd-d9381f10c6b0"
      },
      "source": [
        "percentual = pd.value_counts(\n",
        "    pd.cut(\n",
        "        x = dados.Renda,\n",
        "        bins = 17,\n",
        "        include_lowest = True),\n",
        "    sort = False,\n",
        "    normalize = True\n",
        "    ) * 100\n",
        "percentual"
      ],
      "execution_count": null,
      "outputs": [
        {
          "output_type": "execute_result",
          "data": {
            "text/plain": [
              "(-200.001, 11764.706]       98.378449\n",
              "(11764.706, 23529.412]       1.330036\n",
              "(23529.412, 35294.118]       0.219938\n",
              "(35294.118, 47058.824]       0.024727\n",
              "(47058.824, 58823.529]       0.020822\n",
              "(58823.529, 70588.235]       0.006507\n",
              "(70588.235, 82352.941]       0.005206\n",
              "(82352.941, 94117.647]       0.001301\n",
              "(94117.647, 105882.353]      0.007808\n",
              "(105882.353, 117647.059]     0.000000\n",
              "(117647.059, 129411.765]     0.001301\n",
              "(129411.765, 141176.471]     0.000000\n",
              "(141176.471, 152941.176]     0.000000\n",
              "(152941.176, 164705.882]     0.000000\n",
              "(164705.882, 176470.588]     0.000000\n",
              "(176470.588, 188235.294]     0.000000\n",
              "(188235.294, 200000.0]       0.003904\n",
              "Name: Renda, dtype: float64"
            ]
          },
          "metadata": {
            "tags": []
          },
          "execution_count": 186
        }
      ]
    },
    {
      "cell_type": "code",
      "metadata": {
        "id": "n9kkJ0WTjQL_",
        "colab": {
          "base_uri": "https://localhost:8080/",
          "height": 576
        },
        "outputId": "5dd57a91-ba2e-4158-ebc2-b74b3f686e84"
      },
      "source": [
        "dist_freq_quantitativas_amplitude_fixa = pd.DataFrame(\n",
        "    {'Frequência': frequencia, 'Porcentagem (%)': percentual}\n",
        ")\n",
        "dist_freq_quantitativas_amplitude_fixa"
      ],
      "execution_count": null,
      "outputs": [
        {
          "output_type": "execute_result",
          "data": {
            "text/html": [
              "<div>\n",
              "<style scoped>\n",
              "    .dataframe tbody tr th:only-of-type {\n",
              "        vertical-align: middle;\n",
              "    }\n",
              "\n",
              "    .dataframe tbody tr th {\n",
              "        vertical-align: top;\n",
              "    }\n",
              "\n",
              "    .dataframe thead th {\n",
              "        text-align: right;\n",
              "    }\n",
              "</style>\n",
              "<table border=\"1\" class=\"dataframe\">\n",
              "  <thead>\n",
              "    <tr style=\"text-align: right;\">\n",
              "      <th></th>\n",
              "      <th>Frequência</th>\n",
              "      <th>Porcentagem (%)</th>\n",
              "    </tr>\n",
              "  </thead>\n",
              "  <tbody>\n",
              "    <tr>\n",
              "      <th>(-200.001, 11764.706]</th>\n",
              "      <td>75594</td>\n",
              "      <td>98.378449</td>\n",
              "    </tr>\n",
              "    <tr>\n",
              "      <th>(11764.706, 23529.412]</th>\n",
              "      <td>1022</td>\n",
              "      <td>1.330036</td>\n",
              "    </tr>\n",
              "    <tr>\n",
              "      <th>(23529.412, 35294.118]</th>\n",
              "      <td>169</td>\n",
              "      <td>0.219938</td>\n",
              "    </tr>\n",
              "    <tr>\n",
              "      <th>(35294.118, 47058.824]</th>\n",
              "      <td>19</td>\n",
              "      <td>0.024727</td>\n",
              "    </tr>\n",
              "    <tr>\n",
              "      <th>(47058.824, 58823.529]</th>\n",
              "      <td>16</td>\n",
              "      <td>0.020822</td>\n",
              "    </tr>\n",
              "    <tr>\n",
              "      <th>(58823.529, 70588.235]</th>\n",
              "      <td>5</td>\n",
              "      <td>0.006507</td>\n",
              "    </tr>\n",
              "    <tr>\n",
              "      <th>(70588.235, 82352.941]</th>\n",
              "      <td>4</td>\n",
              "      <td>0.005206</td>\n",
              "    </tr>\n",
              "    <tr>\n",
              "      <th>(82352.941, 94117.647]</th>\n",
              "      <td>1</td>\n",
              "      <td>0.001301</td>\n",
              "    </tr>\n",
              "    <tr>\n",
              "      <th>(94117.647, 105882.353]</th>\n",
              "      <td>6</td>\n",
              "      <td>0.007808</td>\n",
              "    </tr>\n",
              "    <tr>\n",
              "      <th>(105882.353, 117647.059]</th>\n",
              "      <td>0</td>\n",
              "      <td>0.000000</td>\n",
              "    </tr>\n",
              "    <tr>\n",
              "      <th>(117647.059, 129411.765]</th>\n",
              "      <td>1</td>\n",
              "      <td>0.001301</td>\n",
              "    </tr>\n",
              "    <tr>\n",
              "      <th>(129411.765, 141176.471]</th>\n",
              "      <td>0</td>\n",
              "      <td>0.000000</td>\n",
              "    </tr>\n",
              "    <tr>\n",
              "      <th>(141176.471, 152941.176]</th>\n",
              "      <td>0</td>\n",
              "      <td>0.000000</td>\n",
              "    </tr>\n",
              "    <tr>\n",
              "      <th>(152941.176, 164705.882]</th>\n",
              "      <td>0</td>\n",
              "      <td>0.000000</td>\n",
              "    </tr>\n",
              "    <tr>\n",
              "      <th>(164705.882, 176470.588]</th>\n",
              "      <td>0</td>\n",
              "      <td>0.000000</td>\n",
              "    </tr>\n",
              "    <tr>\n",
              "      <th>(176470.588, 188235.294]</th>\n",
              "      <td>0</td>\n",
              "      <td>0.000000</td>\n",
              "    </tr>\n",
              "    <tr>\n",
              "      <th>(188235.294, 200000.0]</th>\n",
              "      <td>3</td>\n",
              "      <td>0.003904</td>\n",
              "    </tr>\n",
              "  </tbody>\n",
              "</table>\n",
              "</div>"
            ],
            "text/plain": [
              "                          Frequência  Porcentagem (%)\n",
              "(-200.001, 11764.706]          75594        98.378449\n",
              "(11764.706, 23529.412]          1022         1.330036\n",
              "(23529.412, 35294.118]           169         0.219938\n",
              "(35294.118, 47058.824]            19         0.024727\n",
              "(47058.824, 58823.529]            16         0.020822\n",
              "(58823.529, 70588.235]             5         0.006507\n",
              "(70588.235, 82352.941]             4         0.005206\n",
              "(82352.941, 94117.647]             1         0.001301\n",
              "(94117.647, 105882.353]            6         0.007808\n",
              "(105882.353, 117647.059]           0         0.000000\n",
              "(117647.059, 129411.765]           1         0.001301\n",
              "(129411.765, 141176.471]           0         0.000000\n",
              "(141176.471, 152941.176]           0         0.000000\n",
              "(152941.176, 164705.882]           0         0.000000\n",
              "(164705.882, 176470.588]           0         0.000000\n",
              "(176470.588, 188235.294]           0         0.000000\n",
              "(188235.294, 200000.0]             3         0.003904"
            ]
          },
          "metadata": {
            "tags": []
          },
          "execution_count": 187
        }
      ]
    },
    {
      "cell_type": "markdown",
      "metadata": {
        "id": "Js9iLwNkjQME"
      },
      "source": [
        "##2.4 Histograma\n",
        "***\n",
        "\n",
        "O <b>HISTOGRAMA</b> é a representação gráfica de uma distribuição de frequências. É uma gráfico formado por um conjunto de retângulos colocados lado a lado, onde a área de cada retângulo é proporcional à frequência da classe que ele representa."
      ]
    },
    {
      "cell_type": "markdown",
      "metadata": {
        "id": "VzZEXDKX3PUH"
      },
      "source": [
        "### Importando a biblioteca\n",
        "\n",
        "https://seaborn.pydata.org/"
      ]
    },
    {
      "cell_type": "code",
      "metadata": {
        "id": "PYRaBCnxjQME"
      },
      "source": [
        "import seaborn as sns"
      ],
      "execution_count": null,
      "outputs": []
    },
    {
      "cell_type": "code",
      "metadata": {
        "id": "GAX3aCa6jQMG",
        "colab": {
          "base_uri": "https://localhost:8080/",
          "height": 430
        },
        "outputId": "3788600b-c210-42cd-c711-e10121820161"
      },
      "source": [
        "ax = sns.distplot(dados.Altura, kde = False)\n",
        "\n",
        "ax.figure.set_size_inches(12, 6)\n",
        "ax.set_title('Distribuição de Frequências - Altura', fontsize=18)\n",
        "ax.set_xlabel('Metros', fontsize=14)\n",
        "ax"
      ],
      "execution_count": null,
      "outputs": [
        {
          "output_type": "execute_result",
          "data": {
            "text/plain": [
              "<matplotlib.axes._subplots.AxesSubplot at 0x7f90b8ebfe80>"
            ]
          },
          "metadata": {
            "tags": []
          },
          "execution_count": 189
        },
        {
          "output_type": "display_data",
          "data": {
            "image/png": "[encoded data removed]",
            "text/plain": [
              "<Figure size 864x432 with 1 Axes>"
            ]
          },
          "metadata": {
            "tags": [],
            "needs_background": "light"
          }
        }
      ]
    },
    {
      "cell_type": "code",
      "metadata": {
        "id": "3fySBW7qjQMK",
        "colab": {
          "base_uri": "https://localhost:8080/",
          "height": 430
        },
        "outputId": "ae4bd21a-45e5-4fcd-a8a8-aed683b247e6"
      },
      "source": [
        "ax = sns.distplot(dados.Altura)\n",
        "\n",
        "ax.figure.set_size_inches(12, 6)\n",
        "ax.set_title('Distribuição de Frequências - Altura - KDE', fontsize=18)\n",
        "ax.set_xlabel('Metros', fontsize=14)\n",
        "ax"
      ],
      "execution_count": null,
      "outputs": [
        {
          "output_type": "execute_result",
          "data": {
            "text/plain": [
              "<matplotlib.axes._subplots.AxesSubplot at 0x7f90b8f33c18>"
            ]
          },
          "metadata": {
            "tags": []
          },
          "execution_count": 190
        },
        {
          "output_type": "display_data",
          "data": {
            "image/png": "[encoded data removed]",
            "text/plain": [
              "<Figure size 864x432 with 1 Axes>"
            ]
          },
          "metadata": {
            "tags": [],
            "needs_background": "light"
          }
        }
      ]
    },
    {
      "cell_type": "code",
      "metadata": {
        "id": "0HcLhLYtjQMM",
        "colab": {
          "base_uri": "https://localhost:8080/",
          "height": 391
        },
        "outputId": "f957068c-41b8-4e4a-91b2-9950d48615d3"
      },
      "source": [
        "dados.Altura.hist(bins = 50, figsize=(12,6))"
      ],
      "execution_count": null,
      "outputs": [
        {
          "output_type": "execute_result",
          "data": {
            "text/plain": [
              "<matplotlib.axes._subplots.AxesSubplot at 0x7f90b8c386a0>"
            ]
          },
          "metadata": {
            "tags": []
          },
          "execution_count": 191
        },
        {
          "output_type": "display_data",
          "data": {
            "image/png": "[encoded data removed]",
            "text/plain": [
              "<Figure size 864x432 with 1 Axes>"
            ]
          },
          "metadata": {
            "tags": [],
            "needs_background": "light"
          }
        }
      ]
    },
    {
      "cell_type": "code",
      "metadata": {
        "id": "wiQPnuMojQMJ",
        "colab": {
          "base_uri": "https://localhost:8080/",
          "height": 204
        },
        "outputId": "beb4c7a1-3adc-4cdb-a4e8-408e3f36610a"
      },
      "source": [
        "dist_frequencia_quatitativas_personalizadas"
      ],
      "execution_count": null,
      "outputs": [
        {
          "output_type": "execute_result",
          "data": {
            "text/html": [
              "<div>\n",
              "<style scoped>\n",
              "    .dataframe tbody tr th:only-of-type {\n",
              "        vertical-align: middle;\n",
              "    }\n",
              "\n",
              "    .dataframe tbody tr th {\n",
              "        vertical-align: top;\n",
              "    }\n",
              "\n",
              "    .dataframe thead th {\n",
              "        text-align: right;\n",
              "    }\n",
              "</style>\n",
              "<table border=\"1\" class=\"dataframe\">\n",
              "  <thead>\n",
              "    <tr style=\"text-align: right;\">\n",
              "      <th></th>\n",
              "      <th>Frequência</th>\n",
              "      <th>Porcentagem (%)</th>\n",
              "    </tr>\n",
              "  </thead>\n",
              "  <tbody>\n",
              "    <tr>\n",
              "      <th>E</th>\n",
              "      <td>49755</td>\n",
              "      <td>64.751432</td>\n",
              "    </tr>\n",
              "    <tr>\n",
              "      <th>D</th>\n",
              "      <td>16700</td>\n",
              "      <td>21.733472</td>\n",
              "    </tr>\n",
              "    <tr>\n",
              "      <th>C</th>\n",
              "      <td>7599</td>\n",
              "      <td>9.889381</td>\n",
              "    </tr>\n",
              "    <tr>\n",
              "      <th>B</th>\n",
              "      <td>2178</td>\n",
              "      <td>2.834461</td>\n",
              "    </tr>\n",
              "    <tr>\n",
              "      <th>A</th>\n",
              "      <td>608</td>\n",
              "      <td>0.791255</td>\n",
              "    </tr>\n",
              "  </tbody>\n",
              "</table>\n",
              "</div>"
            ],
            "text/plain": [
              "   Frequência  Porcentagem (%)\n",
              "E       49755        64.751432\n",
              "D       16700        21.733472\n",
              "C        7599         9.889381\n",
              "B        2178         2.834461\n",
              "A         608         0.791255"
            ]
          },
          "metadata": {
            "tags": []
          },
          "execution_count": 192
        }
      ]
    },
    {
      "cell_type": "code",
      "metadata": {
        "id": "IQYnbxoS-kjQ",
        "colab": {
          "base_uri": "https://localhost:8080/",
          "height": 389
        },
        "outputId": "7978f8d4-7ebc-4b19-80f3-0ccd45c70aa4"
      },
      "source": [
        "dist_frequencia_quatitativas_personalizadas['Frequência'].plot.bar(width= 1, color= 'blue', alpha = 0.2, figsize= (12, 6))"
      ],
      "execution_count": null,
      "outputs": [
        {
          "output_type": "execute_result",
          "data": {
            "text/plain": [
              "<matplotlib.axes._subplots.AxesSubplot at 0x7f90b8b2ee10>"
            ]
          },
          "metadata": {
            "tags": []
          },
          "execution_count": 193
        },
        {
          "output_type": "display_data",
          "data": {
            "image/png": "[encoded data removed]",
            "text/plain": [
              "<Figure size 864x432 with 1 Axes>"
            ]
          },
          "metadata": {
            "tags": [],
            "needs_background": "light"
          }
        }
      ]
    },
    {
      "cell_type": "markdown",
      "metadata": {
        "id": "uIb17Es3jQMP"
      },
      "source": [
        "#3 MEDIDAS DE TENDÊNCIA CENTRAL\n",
        "***"
      ]
    },
    {
      "cell_type": "markdown",
      "metadata": {
        "id": "Wrya4suEX7H-"
      },
      "source": [
        "## DataFrame de exemplo"
      ]
    },
    {
      "cell_type": "code",
      "metadata": {
        "id": "jj7a21flX7H_",
        "colab": {
          "base_uri": "https://localhost:8080/",
          "height": 266
        },
        "outputId": "4cc24dce-602d-4962-bdbb-2525a5a9ceb8"
      },
      "source": [
        "df = pd.DataFrame(data = {'Fulano': [8, 10, 4, 8, 6, 10, 8],\n",
        "                          'Beltrano': [10, 2, 0.5, 1, 3, 9.5, 10],\n",
        "                          'Sicrano': [7.5, 8, 7, 8, 8, 8.5, 7]},\n",
        "                 index = ['Matemática',\n",
        "                          'Português',\n",
        "                          'Inglês',\n",
        "                          'Geografia',\n",
        "                          'História',\n",
        "                          'Física',\n",
        "                          'Química'])\n",
        "df.rename_axis('Matérias', axis = 'columns', inplace = True)\n",
        "df"
      ],
      "execution_count": null,
      "outputs": [
        {
          "output_type": "execute_result",
          "data": {
            "text/html": [
              "<div>\n",
              "<style scoped>\n",
              "    .dataframe tbody tr th:only-of-type {\n",
              "        vertical-align: middle;\n",
              "    }\n",
              "\n",
              "    .dataframe tbody tr th {\n",
              "        vertical-align: top;\n",
              "    }\n",
              "\n",
              "    .dataframe thead th {\n",
              "        text-align: right;\n",
              "    }\n",
              "</style>\n",
              "<table border=\"1\" class=\"dataframe\">\n",
              "  <thead>\n",
              "    <tr style=\"text-align: right;\">\n",
              "      <th>Matérias</th>\n",
              "      <th>Fulano</th>\n",
              "      <th>Beltrano</th>\n",
              "      <th>Sicrano</th>\n",
              "    </tr>\n",
              "  </thead>\n",
              "  <tbody>\n",
              "    <tr>\n",
              "      <th>Matemática</th>\n",
              "      <td>8</td>\n",
              "      <td>10.0</td>\n",
              "      <td>7.5</td>\n",
              "    </tr>\n",
              "    <tr>\n",
              "      <th>Português</th>\n",
              "      <td>10</td>\n",
              "      <td>2.0</td>\n",
              "      <td>8.0</td>\n",
              "    </tr>\n",
              "    <tr>\n",
              "      <th>Inglês</th>\n",
              "      <td>4</td>\n",
              "      <td>0.5</td>\n",
              "      <td>7.0</td>\n",
              "    </tr>\n",
              "    <tr>\n",
              "      <th>Geografia</th>\n",
              "      <td>8</td>\n",
              "      <td>1.0</td>\n",
              "      <td>8.0</td>\n",
              "    </tr>\n",
              "    <tr>\n",
              "      <th>História</th>\n",
              "      <td>6</td>\n",
              "      <td>3.0</td>\n",
              "      <td>8.0</td>\n",
              "    </tr>\n",
              "    <tr>\n",
              "      <th>Física</th>\n",
              "      <td>10</td>\n",
              "      <td>9.5</td>\n",
              "      <td>8.5</td>\n",
              "    </tr>\n",
              "    <tr>\n",
              "      <th>Química</th>\n",
              "      <td>8</td>\n",
              "      <td>10.0</td>\n",
              "      <td>7.0</td>\n",
              "    </tr>\n",
              "  </tbody>\n",
              "</table>\n",
              "</div>"
            ],
            "text/plain": [
              "Matérias    Fulano  Beltrano  Sicrano\n",
              "Matemática       8      10.0      7.5\n",
              "Português       10       2.0      8.0\n",
              "Inglês           4       0.5      7.0\n",
              "Geografia        8       1.0      8.0\n",
              "História         6       3.0      8.0\n",
              "Física          10       9.5      8.5\n",
              "Química          8      10.0      7.0"
            ]
          },
          "metadata": {
            "tags": []
          },
          "execution_count": 194
        }
      ]
    },
    {
      "cell_type": "markdown",
      "metadata": {
        "id": "kcHJFW-YjQMP"
      },
      "source": [
        "##3.1 Média aritmética\n",
        "***\n",
        "\n",
        "É representada por $\\mu$ quando se refere à população e por $\\bar{X}$ quando se refere à amostra\n",
        "\n",
        "# $$\\mu = \\frac 1n\\sum_{i=1}^{n}X_i$$\n",
        "\n",
        "onde \n",
        "\n",
        "$n$ = número de observações (registros)\n",
        "\n",
        "$X_i$ = valor da i-ésima observação (registro)"
      ]
    },
    {
      "cell_type": "code",
      "metadata": {
        "id": "QW4JPcBmX7IA",
        "colab": {
          "base_uri": "https://localhost:8080/"
        },
        "outputId": "5c31c066-1393-4278-eeb3-b5cfd80d5b4f"
      },
      "source": [
        "(8 + 10 + 4 + 8 + 6 + 10 + 8) / 7"
      ],
      "execution_count": null,
      "outputs": [
        {
          "output_type": "execute_result",
          "data": {
            "text/plain": [
              "7.714285714285714"
            ]
          },
          "metadata": {
            "tags": []
          },
          "execution_count": 195
        }
      ]
    },
    {
      "cell_type": "code",
      "metadata": {
        "id": "LuT8WNy5X7IB",
        "colab": {
          "base_uri": "https://localhost:8080/"
        },
        "outputId": "3ef288a1-1268-47c2-e292-7c3dcc3140fe"
      },
      "source": [
        "df['Fulano'].mean()"
      ],
      "execution_count": null,
      "outputs": [
        {
          "output_type": "execute_result",
          "data": {
            "text/plain": [
              "7.714285714285714"
            ]
          },
          "metadata": {
            "tags": []
          },
          "execution_count": 196
        }
      ]
    },
    {
      "cell_type": "code",
      "metadata": {
        "id": "BRMZcmMEjQMQ",
        "colab": {
          "base_uri": "https://localhost:8080/"
        },
        "outputId": "8268d88b-41f9-46c8-fa9c-8964afa09589"
      },
      "source": [
        "dados.Renda.mean()"
      ],
      "execution_count": null,
      "outputs": [
        {
          "output_type": "execute_result",
          "data": {
            "text/plain": [
              "2000.3831988547631"
            ]
          },
          "metadata": {
            "tags": []
          },
          "execution_count": 197
        }
      ]
    },
    {
      "cell_type": "code",
      "metadata": {
        "id": "CGgJbsK0HBQc",
        "colab": {
          "base_uri": "https://localhost:8080/"
        },
        "outputId": "c4361559-ed90-45ec-ee93-bc96ee45b102"
      },
      "source": [
        "dados.groupby(['Sexo'])['Renda'].mean()"
      ],
      "execution_count": null,
      "outputs": [
        {
          "output_type": "execute_result",
          "data": {
            "text/plain": [
              "Sexo\n",
              "0    2192.441596\n",
              "1    1566.847393\n",
              "Name: Renda, dtype: float64"
            ]
          },
          "metadata": {
            "tags": []
          },
          "execution_count": 198
        }
      ]
    },
    {
      "cell_type": "markdown",
      "metadata": {
        "id": "9geu3UcKjQMS"
      },
      "source": [
        "##3.2 Mediana\n",
        "***\n",
        "\n",
        "Para obtermos a mediana de uma conjunto de dados devemos proceder da seguinte maneira:\n",
        "1. Ordenar o conjunto de dados;\n",
        "2. Identificar o número de observações (registros) do conjunto de dados ($n$);\n",
        "3. Identicar o elemento mediano:\n",
        "\n",
        "> Quando $n$ for ímpar, a posição do elemento mediano será obtida da seguinte forma:\n",
        "\n",
        "\n",
        "# $$Elemento_{Md} = \\frac{n+1}2$$\n",
        "\n",
        "> Quando $n$ for par, a posição do elemento mediano será obtida da seguinte forma:\n",
        "\n",
        "\n",
        "# $$Elemento_{Md} = \\frac{n}2$$\n",
        "\n",
        "4. Obter a mediana:\n",
        "\n",
        "> Quando $n$ for ímpar:\n",
        "\n",
        "\n",
        "# $$Md = X_{Elemento_{Md}}$$\n",
        "\n",
        "> Quando $n$ for par:\n",
        "\n",
        "\n",
        "# $$Md = \\frac{X_{Elemento_{Md}} + X_{Elemento_{Md}+1}}2$$\n",
        "***"
      ]
    },
    {
      "cell_type": "markdown",
      "metadata": {
        "id": "e0IuYdJFjQMT"
      },
      "source": [
        "### Exemplo 1 - n ímpar\n",
        "\n",
        "![Screen Shot 12-08-20 at 05.13 PM 001.PNG](data:image/png;base64,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)"
      ]
    },
    {
      "cell_type": "code",
      "metadata": {
        "id": "3dXjdRFlX7IH",
        "colab": {
          "base_uri": "https://localhost:8080/"
        },
        "outputId": "efdd3ecb-fd00-4041-9397-f4e7bef30b04"
      },
      "source": [
        "notas_fulano = df.Fulano\n",
        "notas_fulano"
      ],
      "execution_count": null,
      "outputs": [
        {
          "output_type": "execute_result",
          "data": {
            "text/plain": [
              "Matemática     8\n",
              "Português     10\n",
              "Inglês         4\n",
              "Geografia      8\n",
              "História       6\n",
              "Física        10\n",
              "Química        8\n",
              "Name: Fulano, dtype: int64"
            ]
          },
          "metadata": {
            "tags": []
          },
          "execution_count": 199
        }
      ]
    },
    {
      "cell_type": "code",
      "metadata": {
        "id": "cU91DJ-yjQMV",
        "colab": {
          "base_uri": "https://localhost:8080/"
        },
        "outputId": "c9382222-3158-44e3-a7ae-d5cff423af61"
      },
      "source": [
        "notas_fulano = notas_fulano.sort_values()\n",
        "notas_fulano"
      ],
      "execution_count": null,
      "outputs": [
        {
          "output_type": "execute_result",
          "data": {
            "text/plain": [
              "Inglês         4\n",
              "História       6\n",
              "Matemática     8\n",
              "Geografia      8\n",
              "Química        8\n",
              "Português     10\n",
              "Física        10\n",
              "Name: Fulano, dtype: int64"
            ]
          },
          "metadata": {
            "tags": []
          },
          "execution_count": 200
        }
      ]
    },
    {
      "cell_type": "code",
      "metadata": {
        "id": "z9bOnYKf1NOd",
        "colab": {
          "base_uri": "https://localhost:8080/",
          "height": 266
        },
        "outputId": "bda43048-7bb1-4b9e-e227-ddc6d57e7cf4"
      },
      "source": [
        "notas_fulano = notas_fulano.reset_index()\n",
        "notas_fulano"
      ],
      "execution_count": null,
      "outputs": [
        {
          "output_type": "execute_result",
          "data": {
            "text/html": [
              "<div>\n",
              "<style scoped>\n",
              "    .dataframe tbody tr th:only-of-type {\n",
              "        vertical-align: middle;\n",
              "    }\n",
              "\n",
              "    .dataframe tbody tr th {\n",
              "        vertical-align: top;\n",
              "    }\n",
              "\n",
              "    .dataframe thead th {\n",
              "        text-align: right;\n",
              "    }\n",
              "</style>\n",
              "<table border=\"1\" class=\"dataframe\">\n",
              "  <thead>\n",
              "    <tr style=\"text-align: right;\">\n",
              "      <th></th>\n",
              "      <th>index</th>\n",
              "      <th>Fulano</th>\n",
              "    </tr>\n",
              "  </thead>\n",
              "  <tbody>\n",
              "    <tr>\n",
              "      <th>0</th>\n",
              "      <td>Inglês</td>\n",
              "      <td>4</td>\n",
              "    </tr>\n",
              "    <tr>\n",
              "      <th>1</th>\n",
              "      <td>História</td>\n",
              "      <td>6</td>\n",
              "    </tr>\n",
              "    <tr>\n",
              "      <th>2</th>\n",
              "      <td>Matemática</td>\n",
              "      <td>8</td>\n",
              "    </tr>\n",
              "    <tr>\n",
              "      <th>3</th>\n",
              "      <td>Geografia</td>\n",
              "      <td>8</td>\n",
              "    </tr>\n",
              "    <tr>\n",
              "      <th>4</th>\n",
              "      <td>Química</td>\n",
              "      <td>8</td>\n",
              "    </tr>\n",
              "    <tr>\n",
              "      <th>5</th>\n",
              "      <td>Português</td>\n",
              "      <td>10</td>\n",
              "    </tr>\n",
              "    <tr>\n",
              "      <th>6</th>\n",
              "      <td>Física</td>\n",
              "      <td>10</td>\n",
              "    </tr>\n",
              "  </tbody>\n",
              "</table>\n",
              "</div>"
            ],
            "text/plain": [
              "        index  Fulano\n",
              "0      Inglês       4\n",
              "1    História       6\n",
              "2  Matemática       8\n",
              "3   Geografia       8\n",
              "4     Química       8\n",
              "5   Português      10\n",
              "6      Física      10"
            ]
          },
          "metadata": {
            "tags": []
          },
          "execution_count": 201
        }
      ]
    },
    {
      "cell_type": "code",
      "metadata": {
        "id": "u3nfPEFjjQMW",
        "colab": {
          "base_uri": "https://localhost:8080/"
        },
        "outputId": "712b99c5-bbbe-4574-ab02-22447110dd9a"
      },
      "source": [
        "n = notas_fulano.shape[0]\n",
        "n"
      ],
      "execution_count": null,
      "outputs": [
        {
          "output_type": "execute_result",
          "data": {
            "text/plain": [
              "7"
            ]
          },
          "metadata": {
            "tags": []
          },
          "execution_count": 202
        }
      ]
    },
    {
      "cell_type": "code",
      "metadata": {
        "id": "trC12MHxjQMY",
        "colab": {
          "base_uri": "https://localhost:8080/"
        },
        "outputId": "d67822e5-17ad-4bd9-9d1e-7b612f3d25f8"
      },
      "source": [
        "elemento_md = (n+1) / 2\n",
        "elemento_md"
      ],
      "execution_count": null,
      "outputs": [
        {
          "output_type": "execute_result",
          "data": {
            "text/plain": [
              "4.0"
            ]
          },
          "metadata": {
            "tags": []
          },
          "execution_count": 203
        }
      ]
    },
    {
      "cell_type": "code",
      "metadata": {
        "id": "NKccffcLjQMZ",
        "colab": {
          "base_uri": "https://localhost:8080/"
        },
        "outputId": "1cd7cb68-80a0-4924-ef1e-ab7565680ffb"
      },
      "source": [
        "notas_fulano.loc[elemento_md - 1]"
      ],
      "execution_count": null,
      "outputs": [
        {
          "output_type": "execute_result",
          "data": {
            "text/plain": [
              "index     Geografia\n",
              "Fulano            8\n",
              "Name: 3, dtype: object"
            ]
          },
          "metadata": {
            "tags": []
          },
          "execution_count": 204
        }
      ]
    },
    {
      "cell_type": "code",
      "metadata": {
        "id": "ody5mfXLjQMb",
        "colab": {
          "base_uri": "https://localhost:8080/"
        },
        "outputId": "0608896e-0d42-4a20-b15a-c0881ef4faad"
      },
      "source": [
        "notas_fulano.median()"
      ],
      "execution_count": null,
      "outputs": [
        {
          "output_type": "execute_result",
          "data": {
            "text/plain": [
              "Fulano    8.0\n",
              "dtype: float64"
            ]
          },
          "metadata": {
            "tags": []
          },
          "execution_count": 205
        }
      ]
    },
    {
      "cell_type": "markdown",
      "metadata": {
        "id": "hQHyjfLkjQMe"
      },
      "source": [
        "### Exemplo 2 - n par\n",
        "\n",
        "![Screen Shot 12-08-20 at 05.15 PM.PNG](data:image/png;base64,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)"
      ]
    },
    {
      "cell_type": "code",
      "metadata": {
        "id": "Jkx1WZenjQMe",
        "colab": {
          "base_uri": "https://localhost:8080/"
        },
        "outputId": "8ef42688-7427-459a-8eae-2c63b21002b4"
      },
      "source": [
        "notas_beltrano = df.Beltrano.sample(6, random_state = 101)\n",
        "notas_beltrano"
      ],
      "execution_count": null,
      "outputs": [
        {
          "output_type": "execute_result",
          "data": {
            "text/plain": [
              "Matemática    10.0\n",
              "Inglês         0.5\n",
              "Física         9.5\n",
              "História       3.0\n",
              "Química       10.0\n",
              "Português      2.0\n",
              "Name: Beltrano, dtype: float64"
            ]
          },
          "metadata": {
            "tags": []
          },
          "execution_count": 206
        }
      ]
    },
    {
      "cell_type": "code",
      "metadata": {
        "id": "D1LUpvZkYsHq",
        "colab": {
          "base_uri": "https://localhost:8080/"
        },
        "outputId": "eac7cad9-c970-4c65-ac63-5693d118d49e"
      },
      "source": [
        "notas_beltrano = notas_beltrano.sort_values()\r\n",
        "notas_beltrano"
      ],
      "execution_count": null,
      "outputs": [
        {
          "output_type": "execute_result",
          "data": {
            "text/plain": [
              "Inglês         0.5\n",
              "Português      2.0\n",
              "História       3.0\n",
              "Física         9.5\n",
              "Matemática    10.0\n",
              "Química       10.0\n",
              "Name: Beltrano, dtype: float64"
            ]
          },
          "metadata": {
            "tags": []
          },
          "execution_count": 207
        }
      ]
    },
    {
      "cell_type": "code",
      "metadata": {
        "id": "PuiScCf0-vh9",
        "colab": {
          "base_uri": "https://localhost:8080/",
          "height": 235
        },
        "outputId": "963f7942-b6a8-4092-9538-665f4ab5e246"
      },
      "source": [
        "notas_beltrano = notas_beltrano.reset_index()\r\n",
        "notas_beltrano"
      ],
      "execution_count": null,
      "outputs": [
        {
          "output_type": "execute_result",
          "data": {
            "text/html": [
              "<div>\n",
              "<style scoped>\n",
              "    .dataframe tbody tr th:only-of-type {\n",
              "        vertical-align: middle;\n",
              "    }\n",
              "\n",
              "    .dataframe tbody tr th {\n",
              "        vertical-align: top;\n",
              "    }\n",
              "\n",
              "    .dataframe thead th {\n",
              "        text-align: right;\n",
              "    }\n",
              "</style>\n",
              "<table border=\"1\" class=\"dataframe\">\n",
              "  <thead>\n",
              "    <tr style=\"text-align: right;\">\n",
              "      <th></th>\n",
              "      <th>index</th>\n",
              "      <th>Beltrano</th>\n",
              "    </tr>\n",
              "  </thead>\n",
              "  <tbody>\n",
              "    <tr>\n",
              "      <th>0</th>\n",
              "      <td>Inglês</td>\n",
              "      <td>0.5</td>\n",
              "    </tr>\n",
              "    <tr>\n",
              "      <th>1</th>\n",
              "      <td>Português</td>\n",
              "      <td>2.0</td>\n",
              "    </tr>\n",
              "    <tr>\n",
              "      <th>2</th>\n",
              "      <td>História</td>\n",
              "      <td>3.0</td>\n",
              "    </tr>\n",
              "    <tr>\n",
              "      <th>3</th>\n",
              "      <td>Física</td>\n",
              "      <td>9.5</td>\n",
              "    </tr>\n",
              "    <tr>\n",
              "      <th>4</th>\n",
              "      <td>Matemática</td>\n",
              "      <td>10.0</td>\n",
              "    </tr>\n",
              "    <tr>\n",
              "      <th>5</th>\n",
              "      <td>Química</td>\n",
              "      <td>10.0</td>\n",
              "    </tr>\n",
              "  </tbody>\n",
              "</table>\n",
              "</div>"
            ],
            "text/plain": [
              "        index  Beltrano\n",
              "0      Inglês       0.5\n",
              "1   Português       2.0\n",
              "2    História       3.0\n",
              "3      Física       9.5\n",
              "4  Matemática      10.0\n",
              "5     Química      10.0"
            ]
          },
          "metadata": {
            "tags": []
          },
          "execution_count": 208
        }
      ]
    },
    {
      "cell_type": "code",
      "metadata": {
        "id": "6wB1UztBjQMf",
        "colab": {
          "base_uri": "https://localhost:8080/"
        },
        "outputId": "958a9266-e6e3-4f1a-a578-be0c3ccfce76"
      },
      "source": [
        "n = notas_beltrano.shape[0]\r\n",
        "n"
      ],
      "execution_count": null,
      "outputs": [
        {
          "output_type": "execute_result",
          "data": {
            "text/plain": [
              "6"
            ]
          },
          "metadata": {
            "tags": []
          },
          "execution_count": 209
        }
      ]
    },
    {
      "cell_type": "code",
      "metadata": {
        "id": "tEBVXl7CjQMh",
        "colab": {
          "base_uri": "https://localhost:8080/"
        },
        "outputId": "5b918e5c-fbb9-4d09-e69f-f3b6cac845f6"
      },
      "source": [
        "elemento_md = (n) / 2\r\n",
        "elemento_md"
      ],
      "execution_count": null,
      "outputs": [
        {
          "output_type": "execute_result",
          "data": {
            "text/plain": [
              "3.0"
            ]
          },
          "metadata": {
            "tags": []
          },
          "execution_count": 210
        }
      ]
    },
    {
      "cell_type": "code",
      "metadata": {
        "id": "N-jSUjZSjQMi",
        "colab": {
          "base_uri": "https://localhost:8080/"
        },
        "outputId": "e41f0129-6568-4a62-d0ca-5a48d88f686d"
      },
      "source": [
        "(notas_beltrano.loc[(elemento_md - 1)] + notas_beltrano.loc[(elemento_md)])[1] / 2\r\n"
      ],
      "execution_count": null,
      "outputs": [
        {
          "output_type": "execute_result",
          "data": {
            "text/plain": [
              "6.25"
            ]
          },
          "metadata": {
            "tags": []
          },
          "execution_count": 211
        }
      ]
    },
    {
      "cell_type": "code",
      "metadata": {
        "id": "IevBBtrRjQMj",
        "colab": {
          "base_uri": "https://localhost:8080/"
        },
        "outputId": "8cdcc5b9-9fa2-47f5-cb53-7ba9cd992ed4"
      },
      "source": [
        "notas_beltrano.median()"
      ],
      "execution_count": null,
      "outputs": [
        {
          "output_type": "execute_result",
          "data": {
            "text/plain": [
              "Beltrano    6.25\n",
              "dtype: float64"
            ]
          },
          "metadata": {
            "tags": []
          },
          "execution_count": 212
        }
      ]
    },
    {
      "cell_type": "markdown",
      "metadata": {
        "id": "nK27TxrkjQMl"
      },
      "source": [
        "### Obtendo a mediana em nosso dataset"
      ]
    },
    {
      "cell_type": "code",
      "metadata": {
        "id": "dJznpnjUjQMl",
        "colab": {
          "base_uri": "https://localhost:8080/"
        },
        "outputId": "260db5da-a2d3-4ee3-c9f3-b26473aa188a"
      },
      "source": [
        "dados.Renda.median()"
      ],
      "execution_count": null,
      "outputs": [
        {
          "output_type": "execute_result",
          "data": {
            "text/plain": [
              "1200.0"
            ]
          },
          "metadata": {
            "tags": []
          },
          "execution_count": 213
        }
      ]
    },
    {
      "cell_type": "code",
      "metadata": {
        "id": "W4a5PVYdjQMm",
        "colab": {
          "base_uri": "https://localhost:8080/"
        },
        "outputId": "33fa88d3-1be9-4518-c596-1f9fb0d57a5f"
      },
      "source": [
        "dados.Renda.quantile()"
      ],
      "execution_count": null,
      "outputs": [
        {
          "output_type": "execute_result",
          "data": {
            "text/plain": [
              "1200.0"
            ]
          },
          "metadata": {
            "tags": []
          },
          "execution_count": 214
        }
      ]
    },
    {
      "cell_type": "markdown",
      "metadata": {
        "id": "CmCu6BXQjQMo"
      },
      "source": [
        "##3.3 Moda\n",
        "***\n",
        "\n",
        "Pode-se definir a moda como sendo o valor mais frequente de um conjunto de dados. A moda é bastante utilizada para dados qualitativos."
      ]
    },
    {
      "cell_type": "code",
      "metadata": {
        "id": "BHibMzw8X7Id",
        "colab": {
          "base_uri": "https://localhost:8080/",
          "height": 266
        },
        "outputId": "8542539a-629f-4469-97f8-ba4925a0ebd4"
      },
      "source": [
        "df"
      ],
      "execution_count": null,
      "outputs": [
        {
          "output_type": "execute_result",
          "data": {
            "text/html": [
              "<div>\n",
              "<style scoped>\n",
              "    .dataframe tbody tr th:only-of-type {\n",
              "        vertical-align: middle;\n",
              "    }\n",
              "\n",
              "    .dataframe tbody tr th {\n",
              "        vertical-align: top;\n",
              "    }\n",
              "\n",
              "    .dataframe thead th {\n",
              "        text-align: right;\n",
              "    }\n",
              "</style>\n",
              "<table border=\"1\" class=\"dataframe\">\n",
              "  <thead>\n",
              "    <tr style=\"text-align: right;\">\n",
              "      <th>Matérias</th>\n",
              "      <th>Fulano</th>\n",
              "      <th>Beltrano</th>\n",
              "      <th>Sicrano</th>\n",
              "    </tr>\n",
              "  </thead>\n",
              "  <tbody>\n",
              "    <tr>\n",
              "      <th>Matemática</th>\n",
              "      <td>8</td>\n",
              "      <td>10.0</td>\n",
              "      <td>7.5</td>\n",
              "    </tr>\n",
              "    <tr>\n",
              "      <th>Português</th>\n",
              "      <td>10</td>\n",
              "      <td>2.0</td>\n",
              "      <td>8.0</td>\n",
              "    </tr>\n",
              "    <tr>\n",
              "      <th>Inglês</th>\n",
              "      <td>4</td>\n",
              "      <td>0.5</td>\n",
              "      <td>7.0</td>\n",
              "    </tr>\n",
              "    <tr>\n",
              "      <th>Geografia</th>\n",
              "      <td>8</td>\n",
              "      <td>1.0</td>\n",
              "      <td>8.0</td>\n",
              "    </tr>\n",
              "    <tr>\n",
              "      <th>História</th>\n",
              "      <td>6</td>\n",
              "      <td>3.0</td>\n",
              "      <td>8.0</td>\n",
              "    </tr>\n",
              "    <tr>\n",
              "      <th>Física</th>\n",
              "      <td>10</td>\n",
              "      <td>9.5</td>\n",
              "      <td>8.5</td>\n",
              "    </tr>\n",
              "    <tr>\n",
              "      <th>Química</th>\n",
              "      <td>8</td>\n",
              "      <td>10.0</td>\n",
              "      <td>7.0</td>\n",
              "    </tr>\n",
              "  </tbody>\n",
              "</table>\n",
              "</div>"
            ],
            "text/plain": [
              "Matérias    Fulano  Beltrano  Sicrano\n",
              "Matemática       8      10.0      7.5\n",
              "Português       10       2.0      8.0\n",
              "Inglês           4       0.5      7.0\n",
              "Geografia        8       1.0      8.0\n",
              "História         6       3.0      8.0\n",
              "Física          10       9.5      8.5\n",
              "Química          8      10.0      7.0"
            ]
          },
          "metadata": {
            "tags": []
          },
          "execution_count": 215
        }
      ]
    },
    {
      "cell_type": "code",
      "metadata": {
        "id": "xICDpQguX7Ik",
        "colab": {
          "base_uri": "https://localhost:8080/",
          "height": 80
        },
        "outputId": "8442f6f0-7eea-4823-86ef-87c553329a42"
      },
      "source": [
        "df.mode()"
      ],
      "execution_count": null,
      "outputs": [
        {
          "output_type": "execute_result",
          "data": {
            "text/html": [
              "<div>\n",
              "<style scoped>\n",
              "    .dataframe tbody tr th:only-of-type {\n",
              "        vertical-align: middle;\n",
              "    }\n",
              "\n",
              "    .dataframe tbody tr th {\n",
              "        vertical-align: top;\n",
              "    }\n",
              "\n",
              "    .dataframe thead th {\n",
              "        text-align: right;\n",
              "    }\n",
              "</style>\n",
              "<table border=\"1\" class=\"dataframe\">\n",
              "  <thead>\n",
              "    <tr style=\"text-align: right;\">\n",
              "      <th>Matérias</th>\n",
              "      <th>Fulano</th>\n",
              "      <th>Beltrano</th>\n",
              "      <th>Sicrano</th>\n",
              "    </tr>\n",
              "  </thead>\n",
              "  <tbody>\n",
              "    <tr>\n",
              "      <th>0</th>\n",
              "      <td>8</td>\n",
              "      <td>10.0</td>\n",
              "      <td>8.0</td>\n",
              "    </tr>\n",
              "  </tbody>\n",
              "</table>\n",
              "</div>"
            ],
            "text/plain": [
              "Matérias  Fulano  Beltrano  Sicrano\n",
              "0              8      10.0      8.0"
            ]
          },
          "metadata": {
            "tags": []
          },
          "execution_count": 216
        }
      ]
    },
    {
      "cell_type": "code",
      "metadata": {
        "id": "x9lIRFESX7Il",
        "colab": {
          "base_uri": "https://localhost:8080/"
        },
        "outputId": "0090317d-72fd-40e4-8704-6a5f1244c071"
      },
      "source": [
        "exemplo = pd.Series([1, 2, 2, 3, 4, 4, 5, 6, 6])\n",
        "exemplo\n"
      ],
      "execution_count": null,
      "outputs": [
        {
          "output_type": "execute_result",
          "data": {
            "text/plain": [
              "0    1\n",
              "1    2\n",
              "2    2\n",
              "3    3\n",
              "4    4\n",
              "5    4\n",
              "6    5\n",
              "7    6\n",
              "8    6\n",
              "dtype: int64"
            ]
          },
          "metadata": {
            "tags": []
          },
          "execution_count": 217
        }
      ]
    },
    {
      "cell_type": "code",
      "metadata": {
        "id": "yUP6QFuiX7Io",
        "colab": {
          "base_uri": "https://localhost:8080/"
        },
        "outputId": "a313cd72-0042-4aa2-8050-4f7d5c0ac3c5"
      },
      "source": [
        "exemplo.mode() #multimodal"
      ],
      "execution_count": null,
      "outputs": [
        {
          "output_type": "execute_result",
          "data": {
            "text/plain": [
              "0    2\n",
              "1    4\n",
              "2    6\n",
              "dtype: int64"
            ]
          },
          "metadata": {
            "tags": []
          },
          "execution_count": 218
        }
      ]
    },
    {
      "cell_type": "markdown",
      "metadata": {
        "id": "YwhBwz-JjQMr"
      },
      "source": [
        "### Obtendo a moda em nosso dataset"
      ]
    },
    {
      "cell_type": "code",
      "metadata": {
        "id": "mC8vvYk-jQMr",
        "colab": {
          "base_uri": "https://localhost:8080/"
        },
        "outputId": "04738af9-84d6-4fdb-b1d5-e576d4b4ca1f"
      },
      "source": [
        "dados.Renda.mode()"
      ],
      "execution_count": null,
      "outputs": [
        {
          "output_type": "execute_result",
          "data": {
            "text/plain": [
              "0    788\n",
              "dtype: int64"
            ]
          },
          "metadata": {
            "tags": []
          },
          "execution_count": 219
        }
      ]
    },
    {
      "cell_type": "code",
      "metadata": {
        "id": "Sdosy_vSX7Iw",
        "colab": {
          "base_uri": "https://localhost:8080/"
        },
        "outputId": "635eba05-99ac-40dd-8811-7a6210566854"
      },
      "source": [
        "dados.Altura.mode()"
      ],
      "execution_count": null,
      "outputs": [
        {
          "output_type": "execute_result",
          "data": {
            "text/plain": [
              "0    1.568128\n",
              "1    1.671225\n",
              "2    1.681659\n",
              "3    1.692977\n",
              "4    1.708163\n",
              "5    1.708370\n",
              "6    1.753842\n",
              "7    1.779073\n",
              "8    1.796462\n",
              "dtype: float64"
            ]
          },
          "metadata": {
            "tags": []
          },
          "execution_count": 220
        }
      ]
    },
    {
      "cell_type": "markdown",
      "metadata": {
        "id": "_-0gjQWFjQMu"
      },
      "source": [
        "##3.4 Relação entre média, mediana e moda\n",
        "***"
      ]
    },
    {
      "cell_type": "markdown",
      "metadata": {
        "id": "0S7pa_jLjQMu"
      },
      "source": [
        "![Screen Shot 12-08-20 at 05.16 PM.PNG](data:image/png;base64,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)"
      ]
    },
    {
      "cell_type": "markdown",
      "metadata": {
        "id": "b7ZchyFsjQMu"
      },
      "source": [
        "### Avaliando a variável RENDA"
      ]
    },
    {
      "cell_type": "code",
      "metadata": {
        "id": "d8WQQ0PdjQMv",
        "colab": {
          "base_uri": "https://localhost:8080/",
          "height": 405
        },
        "outputId": "5d299bca-bed8-4db6-b092-ecdf91a19261"
      },
      "source": [
        "ax = sns.distplot(dados.Renda)\n",
        "ax.figure.set_size_inches(12, 6)\n",
        "ax"
      ],
      "execution_count": null,
      "outputs": [
        {
          "output_type": "execute_result",
          "data": {
            "text/plain": [
              "<matplotlib.axes._subplots.AxesSubplot at 0x7f90b8a8b4e0>"
            ]
          },
          "metadata": {
            "tags": []
          },
          "execution_count": 221
        },
        {
          "output_type": "display_data",
          "data": {
            "image/png": "[encoded data removed]",
            "text/plain": [
              "<Figure size 864x432 with 1 Axes>"
            ]
          },
          "metadata": {
            "tags": [],
            "needs_background": "light"
          }
        }
      ]
    },
    {
      "cell_type": "code",
      "metadata": {
        "id": "krws6f_SjQMw",
        "colab": {
          "base_uri": "https://localhost:8080/",
          "height": 405
        },
        "outputId": "4045a1fa-6f19-4da2-b236-9580310301f3"
      },
      "source": [
        "ax = sns.distplot(dados.query('Renda < 20000').Renda)\n",
        "ax.figure.set_size_inches(12, 6)\n",
        "ax"
      ],
      "execution_count": null,
      "outputs": [
        {
          "output_type": "execute_result",
          "data": {
            "text/plain": [
              "<matplotlib.axes._subplots.AxesSubplot at 0x7f90b898aac8>"
            ]
          },
          "metadata": {
            "tags": []
          },
          "execution_count": 222
        },
        {
          "output_type": "display_data",
          "data": {
            "image/png": "[encoded data removed]",
            "text/plain": [
              "<Figure size 864x432 with 1 Axes>"
            ]
          },
          "metadata": {
            "tags": [],
            "needs_background": "light"
          }
        }
      ]
    },
    {
      "cell_type": "code",
      "metadata": {
        "id": "_Y7KpB25jQMx",
        "colab": {
          "base_uri": "https://localhost:8080/"
        },
        "outputId": "17236e5e-3d69-46c2-c205-999b9805101b"
      },
      "source": [
        "Moda = dados.Renda.mode()[0]\n",
        "Moda"
      ],
      "execution_count": null,
      "outputs": [
        {
          "output_type": "execute_result",
          "data": {
            "text/plain": [
              "788"
            ]
          },
          "metadata": {
            "tags": []
          },
          "execution_count": 223
        }
      ]
    },
    {
      "cell_type": "code",
      "metadata": {
        "id": "gQ0e56VajQMy",
        "colab": {
          "base_uri": "https://localhost:8080/"
        },
        "outputId": "3b4b4da2-93e0-4021-f225-8bd166d5f392"
      },
      "source": [
        "Mediana = dados.Renda.median()\n",
        "Mediana"
      ],
      "execution_count": null,
      "outputs": [
        {
          "output_type": "execute_result",
          "data": {
            "text/plain": [
              "1200.0"
            ]
          },
          "metadata": {
            "tags": []
          },
          "execution_count": 224
        }
      ]
    },
    {
      "cell_type": "code",
      "metadata": {
        "id": "nX6lnCBujQM0",
        "colab": {
          "base_uri": "https://localhost:8080/"
        },
        "outputId": "77a9b7a5-994d-47d1-c967-c00c606c086e"
      },
      "source": [
        "Media = dados.Renda.mean()\n",
        "Media"
      ],
      "execution_count": null,
      "outputs": [
        {
          "output_type": "execute_result",
          "data": {
            "text/plain": [
              "2000.3831988547631"
            ]
          },
          "metadata": {
            "tags": []
          },
          "execution_count": 225
        }
      ]
    },
    {
      "cell_type": "code",
      "metadata": {
        "colab": {
          "base_uri": "https://localhost:8080/"
        },
        "id": "2di8Qk1Tq4jQ",
        "outputId": "7d7f9ef3-9f24-487d-e527-8fa24cc16974"
      },
      "source": [
        "Moda < Mediana < Media"
      ],
      "execution_count": null,
      "outputs": [
        {
          "output_type": "execute_result",
          "data": {
            "text/plain": [
              "True"
            ]
          },
          "metadata": {
            "tags": []
          },
          "execution_count": 226
        }
      ]
    },
    {
      "cell_type": "markdown",
      "metadata": {
        "id": "FnLQAxSijQM1"
      },
      "source": [
        "***"
      ]
    },
    {
      "cell_type": "markdown",
      "metadata": {
        "id": "WazchssNjQM1"
      },
      "source": [
        "### Avaliando a variável ALTURA"
      ]
    },
    {
      "cell_type": "code",
      "metadata": {
        "id": "41uJsCk9jQM2",
        "colab": {
          "base_uri": "https://localhost:8080/",
          "height": 405
        },
        "outputId": "06e83b34-d8f3-4e48-8f45-904f0baf8247"
      },
      "source": [
        "ax = sns.distplot(dados.Altura)\n",
        "ax.figure.set_size_inches(12, 6)\n",
        "ax"
      ],
      "execution_count": null,
      "outputs": [
        {
          "output_type": "execute_result",
          "data": {
            "text/plain": [
              "<matplotlib.axes._subplots.AxesSubplot at 0x7f90b89b4828>"
            ]
          },
          "metadata": {
            "tags": []
          },
          "execution_count": 227
        },
        {
          "output_type": "display_data",
          "data": {
            "image/png": "[encoded data removed]",
            "text/plain": [
              "<Figure size 864x432 with 1 Axes>"
            ]
          },
          "metadata": {
            "tags": [],
            "needs_background": "light"
          }
        }
      ]
    },
    {
      "cell_type": "code",
      "metadata": {
        "id": "EkgerGuXjQM3",
        "colab": {
          "base_uri": "https://localhost:8080/"
        },
        "outputId": "21a35a53-d4b8-46f0-8e0e-6dc74b4c5df0"
      },
      "source": [
        "Moda = dados.Altura.mode()\n",
        "Moda"
      ],
      "execution_count": null,
      "outputs": [
        {
          "output_type": "execute_result",
          "data": {
            "text/plain": [
              "0    1.568128\n",
              "1    1.671225\n",
              "2    1.681659\n",
              "3    1.692977\n",
              "4    1.708163\n",
              "5    1.708370\n",
              "6    1.753842\n",
              "7    1.779073\n",
              "8    1.796462\n",
              "dtype: float64"
            ]
          },
          "metadata": {
            "tags": []
          },
          "execution_count": 228
        }
      ]
    },
    {
      "cell_type": "code",
      "metadata": {
        "id": "Jj6MFUXbjQM4",
        "colab": {
          "base_uri": "https://localhost:8080/"
        },
        "outputId": "d090d23d-b524-46b6-c4f0-bcf37a571a89"
      },
      "source": [
        "Mediana = dados.Altura.median()\n",
        "Mediana"
      ],
      "execution_count": null,
      "outputs": [
        {
          "output_type": "execute_result",
          "data": {
            "text/plain": [
              "1.6993247325"
            ]
          },
          "metadata": {
            "tags": []
          },
          "execution_count": 229
        }
      ]
    },
    {
      "cell_type": "code",
      "metadata": {
        "id": "84X-3AzvjQM5",
        "colab": {
          "base_uri": "https://localhost:8080/"
        },
        "outputId": "39145516-9074-4fe0-f12d-6bb4fabbf2b8"
      },
      "source": [
        "Media = dados.Altura.mean()\n",
        "Media"
      ],
      "execution_count": null,
      "outputs": [
        {
          "output_type": "execute_result",
          "data": {
            "text/plain": [
              "1.6995124540575814"
            ]
          },
          "metadata": {
            "tags": []
          },
          "execution_count": 230
        }
      ]
    },
    {
      "cell_type": "markdown",
      "metadata": {
        "id": "PJIMB8i8jQM6"
      },
      "source": [
        "***"
      ]
    },
    {
      "cell_type": "markdown",
      "metadata": {
        "id": "eS4I2H7jjQM7"
      },
      "source": [
        "### Avaliando a variável ANOS DE ESTUDO"
      ]
    },
    {
      "cell_type": "code",
      "metadata": {
        "id": "NPCcjXqPjQM8",
        "colab": {
          "base_uri": "https://localhost:8080/",
          "height": 406
        },
        "outputId": "52e98fac-6b2f-4106-a682-c421e14f3823"
      },
      "source": [
        "ax = sns.distplot(dados['Anos de Estudo'], bins = 17)\n",
        "ax.figure.set_size_inches(12, 6)\n",
        "ax"
      ],
      "execution_count": null,
      "outputs": [
        {
          "output_type": "execute_result",
          "data": {
            "text/plain": [
              "<matplotlib.axes._subplots.AxesSubplot at 0x7f90b8808860>"
            ]
          },
          "metadata": {
            "tags": []
          },
          "execution_count": 231
        },
        {
          "output_type": "display_data",
          "data": {
            "image/png": "[encoded data removed]",
            "text/plain": [
              "<Figure size 864x432 with 1 Axes>"
            ]
          },
          "metadata": {
            "tags": [],
            "needs_background": "light"
          }
        }
      ]
    },
    {
      "cell_type": "code",
      "metadata": {
        "id": "PjfvPYUajQM9",
        "colab": {
          "base_uri": "https://localhost:8080/"
        },
        "outputId": "1cda98fa-7384-47c5-bb4e-8d743fe4fdf0"
      },
      "source": [
        "Moda = dados['Anos de Estudo'].mode()\n",
        "Moda"
      ],
      "execution_count": null,
      "outputs": [
        {
          "output_type": "execute_result",
          "data": {
            "text/plain": [
              "0    12\n",
              "dtype: int64"
            ]
          },
          "metadata": {
            "tags": []
          },
          "execution_count": 232
        }
      ]
    },
    {
      "cell_type": "code",
      "metadata": {
        "id": "VF_Bj8x2jQM-",
        "colab": {
          "base_uri": "https://localhost:8080/"
        },
        "outputId": "10ac67fe-cef0-41bc-fa13-4276160f6924"
      },
      "source": [
        "Mediana = dados['Anos de Estudo'].median()\n",
        "Mediana"
      ],
      "execution_count": null,
      "outputs": [
        {
          "output_type": "execute_result",
          "data": {
            "text/plain": [
              "11.0"
            ]
          },
          "metadata": {
            "tags": []
          },
          "execution_count": 233
        }
      ]
    },
    {
      "cell_type": "code",
      "metadata": {
        "id": "ohqUZ5RsjQNA",
        "colab": {
          "base_uri": "https://localhost:8080/"
        },
        "outputId": "eaad6989-4c68-4b4e-f120-7dcc83f92fbc"
      },
      "source": [
        "Media = dados['Anos de Estudo'].mean()\n",
        "Media"
      ],
      "execution_count": null,
      "outputs": [
        {
          "output_type": "execute_result",
          "data": {
            "text/plain": [
              "9.469664237376367"
            ]
          },
          "metadata": {
            "tags": []
          },
          "execution_count": 234
        }
      ]
    },
    {
      "cell_type": "markdown",
      "metadata": {
        "id": "vcaIo45UjQND"
      },
      "source": [
        "#4 MEDIDAS SEPARATRIZES\n",
        "***"
      ]
    },
    {
      "cell_type": "markdown",
      "metadata": {
        "id": "f4XrApNxjQNE"
      },
      "source": [
        "##4.1 Quartis, decis e percentis\n",
        "\n",
        "***\n",
        "Há uma série de medidas de posição semelhantes na sua concepção à mediana, embora não sejam medidas de tendência central. Como se sabe, a mediana divide a distribuição em duas partes iguais quanto ao número de elementos de cada parte. Já os quartis permitem dividir a distribuição em quatro partes iguais quanto ao número de elementos de cada uma; os decis em dez partes e os centis em cem partes iguais."
      ]
    },
    {
      "cell_type": "code",
      "metadata": {
        "id": "VmbdUO-ujQNE",
        "colab": {
          "base_uri": "https://localhost:8080/"
        },
        "outputId": "bfdb8a3d-c6a0-4590-8c0f-fc7e321737fa"
      },
      "source": [
        "dados.Renda.quantile([0.25, 0.5, 0.75])"
      ],
      "execution_count": null,
      "outputs": [
        {
          "output_type": "execute_result",
          "data": {
            "text/plain": [
              "0.25     788.0\n",
              "0.50    1200.0\n",
              "0.75    2000.0\n",
              "Name: Renda, dtype: float64"
            ]
          },
          "metadata": {
            "tags": []
          },
          "execution_count": 235
        }
      ]
    },
    {
      "cell_type": "code",
      "metadata": {
        "id": "EpRKboV5jQNG",
        "colab": {
          "base_uri": "https://localhost:8080/"
        },
        "outputId": "db8df346-1ed8-4fc0-c5a5-42a5fba0e214"
      },
      "source": [
        "[i / 10 for i in range(1, 10)]"
      ],
      "execution_count": null,
      "outputs": [
        {
          "output_type": "execute_result",
          "data": {
            "text/plain": [
              "[0.1, 0.2, 0.3, 0.4, 0.5, 0.6, 0.7, 0.8, 0.9]"
            ]
          },
          "metadata": {
            "tags": []
          },
          "execution_count": 236
        }
      ]
    },
    {
      "cell_type": "code",
      "metadata": {
        "id": "gyiJDAMbjQNF",
        "colab": {
          "base_uri": "https://localhost:8080/"
        },
        "outputId": "73a10876-e2bf-409c-a293-02b3924c7194"
      },
      "source": [
        "dados.Renda.quantile([i / 10 for i in range(1, 10)]) # DECIS"
      ],
      "execution_count": null,
      "outputs": [
        {
          "output_type": "execute_result",
          "data": {
            "text/plain": [
              "0.1     350.0\n",
              "0.2     788.0\n",
              "0.3     800.0\n",
              "0.4    1000.0\n",
              "0.5    1200.0\n",
              "0.6    1500.0\n",
              "0.7    1900.0\n",
              "0.8    2500.0\n",
              "0.9    4000.0\n",
              "Name: Renda, dtype: float64"
            ]
          },
          "metadata": {
            "tags": []
          },
          "execution_count": 237
        }
      ]
    },
    {
      "cell_type": "code",
      "metadata": {
        "id": "LQW--GapjQNI",
        "scrolled": true,
        "colab": {
          "base_uri": "https://localhost:8080/"
        },
        "outputId": "fe8fdfa4-3484-41cc-a576-0ae79de54f1e"
      },
      "source": [
        "dados.Renda.quantile([i / 100 for i in range(1, 100)]) # percentis"
      ],
      "execution_count": null,
      "outputs": [
        {
          "output_type": "execute_result",
          "data": {
            "text/plain": [
              "0.01        0.0\n",
              "0.02        0.0\n",
              "0.03        0.0\n",
              "0.04       50.0\n",
              "0.05      100.0\n",
              "         ...   \n",
              "0.95     6000.0\n",
              "0.96     7000.0\n",
              "0.97     8000.0\n",
              "0.98    10000.0\n",
              "0.99    15000.0\n",
              "Name: Renda, Length: 99, dtype: float64"
            ]
          },
          "metadata": {
            "tags": []
          },
          "execution_count": 238
        }
      ]
    },
    {
      "cell_type": "code",
      "metadata": {
        "id": "pO2HCo1WUE5F",
        "colab": {
          "base_uri": "https://localhost:8080/",
          "height": 304
        },
        "outputId": "16062180-f81e-4e0b-9878-2e1ecfb3fa55"
      },
      "source": [
        "import matplotlib.pyplot as plt\n",
        "\n",
        "\n",
        "ax = sns.distplot(dados.Idade,\n",
        "                  hist_kws = {'cumulative': True},\n",
        "                  kde_kws = {'cumulative': True}),\n",
        "ax = plt.title('Distribuição de Frequências Acumulada', fontsize=18)\n",
        "ax = plt.ylabel('Acumulado', fontsize=14)\n",
        "ax = plt.xlabel('Anos', fontsize=14)\n"
      ],
      "execution_count": null,
      "outputs": [
        {
          "output_type": "display_data",
          "data": {
            "image/png": "[encoded data removed]",
            "text/plain": [
              "<Figure size 432x288 with 1 Axes>"
            ]
          },
          "metadata": {
            "tags": [],
            "needs_background": "light"
          }
        }
      ]
    },
    {
      "cell_type": "code",
      "metadata": {
        "id": "GGHVrQA7jQNI",
        "colab": {
          "base_uri": "https://localhost:8080/"
        },
        "outputId": "68b88349-9527-4f0d-b3e9-d465c3ec8f51"
      },
      "source": [
        "dados.Idade.quantile([i / 10 for i in range(1, 10)])"
      ],
      "execution_count": null,
      "outputs": [
        {
          "output_type": "execute_result",
          "data": {
            "text/plain": [
              "0.1    28.0\n",
              "0.2    33.0\n",
              "0.3    36.0\n",
              "0.4    40.0\n",
              "0.5    43.0\n",
              "0.6    47.0\n",
              "0.7    51.0\n",
              "0.8    55.0\n",
              "0.9    61.0\n",
              "Name: Idade, dtype: float64"
            ]
          },
          "metadata": {
            "tags": []
          },
          "execution_count": 240
        }
      ]
    },
    {
      "cell_type": "markdown",
      "metadata": {
        "id": "6gIeZO_CjQNJ"
      },
      "source": [
        "##4.2 Box-plot\n",
        "***\n",
        "\n",
        "O box plot dá uma idéia da posição, dispersão, assimetria, caudas e dados discrepantes (outliers). A posição central é dada pela mediana e a dispersão por $IIQ$. As posições relativas de $Q1$, $Mediana$ e $Q3$ dão uma noção da simetria da distribuição. Os comprimentos das cauda são dados pelas linhas que vão do retângulo aos valores remotos e pelos valores atípicos."
      ]
    },
    {
      "cell_type": "markdown",
      "metadata": {
        "id": "VeiTE_gvjQNK"
      },
      "source": [
        "![Screen Shot 12-08-20 at 05.17 PM.PNG](data:image/png;base64,iVBORw0KGgoAAAANSUhEUgAAArgAAAFPCAYAAACmv70TAAAAAXNSR0IArs4c6QAAAARnQU1BAACxjwv8YQUAAAAJcEhZcwAADsMAAA7DAcdvqGQAAFIPSURBVHhe7d0HlBRV2ofx/XTXsOoaMUcUc845KypmUVQU15wDJkyYxayYFRPmnEDFjJgwB8xZQQVzzuF+57l2sTVNzTDVM1M0xfM7p47SU13d01Pd9e+33nvrH0GSJEkqEQOuJEmSSsWAK0mSpFIx4EqSJKlUDLiSJEkqFQOuJEmSSsWAK0mSpFIx4EqSJKlUDLiSJEkqFQOuJEmSSsWAK0mSpFIx4EqSJKlUDLiSJEkqFQOuJEmSSsWAK0mSpFIx4EqSJKlUDLiSJEkqFQOuJEmSSsWAKym3F198Mdx+++3hrbfeiv/+9ttvw6BBg8Jdd90V/z/t559/jutfcMEFoWfPnuHMM88M/fv3D999911ljbbz119/hU8//TRcf/31oVevXuG4444LV111VXjllVcqazT0/fffh9tuuy0cc8wxcd2rr7463p/ttKXff/89viannHJKOOqoo8JFF10UnnzyyfjaNYbXr1+/fuGmm24Kw4YNq9wqSYIBV1JuF154Ydhwww3DjTfeGP/9wQcfhB49eoRtttlmZOjFJ598Ek444YSw4IILhkUWWSSst956Yfnllw9zzTVX2GCDDcLTTz/dZuHxhx9+CPfcc09Yf/31w7zzzhtWWWWV0LFjxzDffPOFJZZYIpx66qnhp59+qqwd4v937tw5LL300mHTTTeN63fo0CHe9vrrr1fWal1//vlneOONN8JWW20V5pxzzrDCCivE57vQQguF+eefPxxwwAHh/fffj+ul8brtsssuYe655w6bbLJJeOSRRyo/kSTBgCspN8LhMsssEy677LL473feeSfsuuuuMUC+/PLL8bYRI0bEiuQCCywQfzZ48OAwZMiQWJnkfrPPPnsMk0OHDm31kMv2Hn300bDiiiuGVVddNVZwn3/++VhJHjBgQAyUPP7pp59eucffgfjII48MDzzwQKzwsv7OO+8cZp555nDFFVfE6m5r+/rrr8Naa60V5phjjnDxxRfH4MprxGu1zz77xC8C+++/f/joo48q9wixYrvZZpuFnXbaKSy11FJh5ZVXDvfff3/lp5IkGHAl5UbAXXbZZcPll18e/50E3HXWWSeGwz/++CMMHDgwLLnkkrHS+95778X1QPgk2J111lnhn//8ZzjjjDPCb7/9Vvlp6/jwww/DQQcdFCuh11xzTfjxxx8rPwnxsQiSiy66aKzmEmzBc+ZUP+0CiWuvvTaGz5NPPjl8/vnnlVtbBxXjSy65JEw22WThtNNOC998802DoM/vsNFGG4X27dvHsM7zw5133hkr57zO3bp1M+BKUgYDrqTcmgq4r776auzDpeeWU/xUJqsR5AiT0047bejUqVOjvaZUgR977LFw7733jrI8+OCDsfqb5fHHHw9rrLFGbDX46quvKrf+D/2rhx56aJhkkknCs88+22gFmWA700wzxQpuEoRby5dffhkrsbPNNlvs883CazjjjDOGSy+9dGRv8xdffBGryTzn3Xff3YArSRkMuJJyG12LwscffxwOP/zwsPDCC8ewmYWqKr2w9MemK6xpDz/8cDwVT+9u9UI4ZJBVlrvvvjv2/O67776VWxoiUFOdnWiiicJ11103MuASfOlnZbu0V9Di8N///jeG9uo+2JYi1PL6rLTSSpVbRsXvT28ug94I+9UMuJKUzYArKbfGAm7SovDuu+/G8EWLAuEwC6foWZ8qbmPVUSq0DBS7+eabR1nuuOOO8Pbbb1fWbOiWW26J1WN6arP8+uuv4b777gsTTjhhOO+880aGVwZ0bb311jGoc3/aA44++ugY2LPQtkA1uU+fPo0uVH+feOKJyj3+hwF4008/fawyN4Z+3HnmmScONsuaKcGAK0nZDLiSchtdiwLBk8rr4osvHl544YW4TjUC7mqrrRZbAFr79D8DsTj1f8ghh1RuaeiXX36JVVoCLi0UScClN5jwTN8uU3UxUwGtDrQKfPbZZ3GdNGZAYFovZj5obNliiy3CueeeW7nH/xBwp5pqqliNbswzzzwTZ0pghoqskG3AlaRsBlxJuTXVokAFl1H/9LgyiItBUdVoCaA3NplJIT1dV9pLL70UB6MRIjlNTzU1+X/mtWVGhizMx0vlc/vtt89sLSBQM7Br4oknjhXirB5cBnUx6wLTha255prhueeeq/zkf+iHZQAYgbqxhXl16fOtRosCU4ExhVpj7Q833HBDmHXWWeNsDzxWNQOuJGUz4ErKbXQtCvTUckEFTvHTi1sd4JjJgOBLBZXqJC0DWZ566qlYhd1hhx3CjjvuGP+b/P+ee+4ZB5plIYwyewNThFFlTSPMUj1leq5ZZpml0faDBC0LtFo01ktcK6rFTEM25ZRTZg504zXhNSXgEtipOlcz4EpSNgOuVBIEIAYiZQ1Gam2ja1EgrDGP7LrrrhsWW2yxWIkcPnx4DG08PwIZVVHCGy0MjVUwmTrrtddei+tULwxmy6pqghkKuGIaAbt79+5xXQaQUbklgHOVsmmmmSZOJZbgcZjajL5ang8LvwMDzbjYA/drTUkfMG0KbJ9qNFVt/o70HtM6wQCzrl27NphmLW1MBdxkP2vsi4kkjWkGXKkkCEXnn39+HDTV1kZXwQUVSi6wQJ8tIZcLF9BawMwGa6+9dph88snjQC6qrY0F3FoRsHketCjQArDlllvGlokjjjgibLvttvFxaU84/vjjR17AgcFizMzAgC5mUDjxxBPD5ptvHq+8xkAxfp/WxmNTwaZVgzlvDz744NiGsdtuu8XXjAo3fcBvvvnmyHlwmTbtnHPOic+PLxnM00tF+6STToqzLhSBfYx9rbFp2iRpTDPgSiVBtZGAxqVb2xozGBx22GGx4gmqeQzKIjCmT/kzd2v//v1jO0GXLl1iRZfnSOWR1gOmyWIQVt++feM2WjPo0gZBNZkgSNClZYE5d7mccM+ePWOgJETSy0v7ASGd/l4qplxGmJ8THKlSZw0waw0EcarQZ599dvyCsPHGG8dBZwRrwjhXXKM9gio0bQpUeOnrZQAfr2N64fVlyrMiMPMDj8k+J0n1yIArlUSRAZegRZBNZj/g6l8MmuK26pBKiGMQGVNwMSsA1UjaBbiN0/DMNMAlZ6mgtsUpbyqfhEim3KK1gaojz5f/J3gTIAmytAZwO9Nx0fvLADdaHZLKaVujmksgpx+XsE1AZ7q1Y489NlbBCbD8Drz23M7rmF64T1tUmbMYcCXVOwOuVBJFBtzWQvgl1NESwKn3Ins6eWwqzLRRUOWt135SLkpB+O/du3cMsfXAgCup3hlwpZIYGwOuxk4GXEn1zoArlYQBV0Ux4EqqdwZcqSQMuCqKAVdSvTPgSiVhwFVRDLiS6p0BVyoJA66KYsCVVO8MuFJJGHBVFAOupHpnwJVKwoCrohhwJdU7A65UEgZcFcWAK6neGXClkjDgqigGXEn1zoArlYQBV0Ux4EqqdwZcqSQMuCqKAVdSvTPgSiVhwFVRDLiS6p0BVyoJA66KYsCVVO8MuFJJGHBVFAOupHpnwJVKIgm4E088cZhllllcXNpsYR8z4EqqZwZcqSSSgNu+ffuw9957u7i02TLnnHMacCXVNQOuVBJJwF1vvfXCiBEjXFzabOnUqZMBV1JdM+BKJZEEXHtw1dbswZVU7wy4UkkYcFUUA66kemfAlUrCgKuiGHAl1TsDrlQSBlwVxYArqd4ZcKWSMOCqKAZcSfXOgCuVhAFXRTHgSqp3BlypJAy4KooBV1K9M+BKJWHAVVEMuJLqnQFXKgkDropiwJVU7wy4UkkYcFUUA66kemfAlUrCgKuiGHAl1TsDrlQSBlwVxYArqd4ZcKWSMOCqKAZcSfXOgCuVhAFXRTHgSqp3BlypJAy4KooBV1K9M+BKJTFkyJCw3XbbhW7dulVukdoG+xkL+5wk1SMDrlQSH330Uejbt29cpLaU7Gfsc5JUjwy4kiRJKhUDriRJkkrFgCtJkqRSMeBKkiSpVAy4kiRJKhUDriRJkkrFgCtJkqRSMeBKkiSpVAy4kiRJKhUDriRJkkrFgCtJkqRSMeBKkiSpVAy4kiRJKhUDriRJkkrFgCtJkqRSMeBKkiSpVAy4kiRJKhUDriRJkkrFgCtJkqRSMeBKkiSpVAy4kiRJKhUDriRJkkrFgCtJkqRSMeBKkiSpVAy4kiRJKhUDrjSW+emnn8IHH3wQXnnllfDGG2+Ezz77LPzxxx+Vn2b7+eefw9tvvx2+++67yi1S09inhg0bFl577bW4rw0fPjz89ttvlZ82xLojRoyI67JPfv755+HPP/+s/FSSimfAlcYSv//+e3j55ZdDnz59wj777BO6desWdt5559CzZ8/Qr1+/GDCqEUjeeeedcPHFF8f7DBw4sPITqXEfffRRuOaaa8IBBxwQdthhh7DtttuGHj16hGuvvTYMHTq0wRcqwuxdd90V98Nddtkl7L777uHYY48NDz/8cPjxxx8ra0lSsQy40lhi8ODBYaeddgrLLbdc6NSpU9huu+3C1ltvHZZffvmw0korhfPOOy9WcxPff/99eOCBB0L37t3DEkssEaaccspw2mmnVX4qZSPcHn744WHRRRcNHTt2DP/973/DNttsE9Zcc82w2GKLxZ9xNiCp0D7++ONhzz33DJ07d47hdquttgoLLrhg2GSTTcLTTz8d15GkohlwpbEAVTKqY4SOXr16hXfffTdWdGk5uOeee8LGG28cll566XDDDTdU7hFi5XbvvfeOwePQQw814Gq0/vrrr3DKKaeEdu3ahf333z+89NJL8SzAr7/+Gl544YWw/fbbh9lnnz2cffbZ4auvvor34fZ77703VnbxySefhIMPPjh06NAh9O7dO94mSUUz4EpjAVoQll122XDQQQfFClu1O+64Iyy++OKxwpucFiZo3HzzzeH999+P1V8Drkbnyy+/DHPPPXdYZZVV4v5D4E0bMmRIPFuw6aabxmCbhfYFzibMM8884eSTT67cKknFMuBKY4Gjjjoqnva96qqrRgkdIHh07do1rLXWWnGQTxqBw4Cr0WG/om924oknDqeffnr44YcfKj/5H9oSaI1ZcsklY/tLgn2MwY9UddkXOXOwwgorhNtvv72yhiQVy4ArjQV23XXXsNRSS4U777yzcktDVGn33Xff2I/76KOPVm79mwFXzUF4ZTDihBNOGM8Y/PLLL5WfNMRZhPnnnz+uk6AdhjBL6wJ94ZxN4EtZ0sYgSUUz4EpjAUaxL7PMMrHXMQv9j4x4ZzAZI9rTDLhqDgIuLQUTTDBBrM7Sd5uF4DrXXHPF9pfEjTfeGDbYYIM4CI0zDeuss0646KKLRvblSlLRDLjSWIAKLuGBXtssDDrbY489rOCqZgTcyy67LFZwr7/++jh3cjXaGDhTQJ9u9b7I/anYMqsCLQr04B5yyCGNVoIlqS0ZcKWxAHOMUhm74oorYmCtRoBdf/3148JFINIMuGqOpAf33//+d5ypg2nmqnEbA8zor33kkUcqt46KC0MwtRiVXP5fkopmwJXGAkywv9BCC8WLNbz33nuxWgZCCaGDUeucNj7wwANH/ixhwFVzffvtt2G22WaLZwLoq03vS7Qs0Ge7yCKLxHlvOWsAKrQs6cGPDHTccccdw9prrx1efPHFyq2SVBwDrjQW+Prrr2NgmGmmmWI1l/DB6eCPP/449jrON998sar20EMPVe7xd7D95ptvwqeffhp7d6eYYop4hSmmgmJ7UpYTTzwxfhlitoS33nor7itffPFFGDBgQJxrecYZZwy33HLLyMv2Mg/z3XffHacVY10uNtK3b9840wJzN3t5aEljggFXGksw/RJXlZpmmmnCnHPOGQMEgZdpnVj4N4N96J0k3L766qvxAhBzzDFHDCWsM/3008dKL1elkrJQjaXPduqppw4zzDBD/OLEfjbJJJPE9gUu9HDBBRfEL07sZ8cff3yYeeaZ44UdmCN34YUXDtNNN128ktkzzzxT2aokFWusCLic+uJUWbLw7/TpsMYk6xYleZ7Nlf6dkqUtnm/W82rqsZL12/I5qTZUwx588ME42r1Hjx4xXNx3333h/vvvj6PYp5pqqrDlllvGS6RSdWMgENW09EIfb3qKJynLyy+/HC655JJw2GGHxZkTqNpyZTN6a6nw0l/LbAu0yDz77LPh3HPPjZfx5SwBFV3OHmjMyvNZPqY+95PHbe7jVT/PZGmL55s8VlpTj1X93NriOan56j7gspPwQXvOOefEqgK9XxdeeGE8RdsY7sPVnggBAwcOrNzatggTXCaV08VUNUZnxIgRcc5IDgbHHHPMyOWaa64Jw4cPr6zVclzO9fXXX4+DRjiFmKCnk6V6IAnPncEjvHaMyt9vv/3i78XzVX3I+hBlYb/hfcIcpJwazlo3fR+pKcl+ld5nWOjFvfrqq+O8zOxnfL6k13P/qg98weALCMeVvfbaK85oQQ911hcP/qacITrhhBPijC3chyvVtfXfkeMNx3I+t2h1aQ6OT1xOOn3cZGH2Di420lp4TW677baYN9inwWvHRVAoIFTPDkJrDmfQ+EJITuE58VyTK0uqeHUdcOkVZEfmlCqVKQbZcPDm9Bcjytnxkj6wBIMk+vTpE2adddbwn//8J16Dvy2xkw8aNCh07NgxTDTRRPE0cXN6zphDktN+nALkdDO/IwuTpPNB01p4w1Ox47WgPzP5wFp11VXj5Tjp4UwQgHffffd4GpvXmAPYAgssEF/71VZbLVZlCMyqT/xteT/wIcx7R2orfA6wn/FZ52dC/aHSTjvT5JNPHtuT6J3m4hx8lq+33nrhqaeeqqz5d38/xRbW5fhFZZ77TDrppPHKiW319/3888/j4Nj27duHdu3axanlmqNbt26xTYvBkMlxk4WQzDZbC/v2hhtuGFtvkteAAZMctykApccxUEjjGMlrxnPhsuq08vB7EXbffPPNypoqUt0GXL4xEW7pH9x5553jjsWgGhZ2po022ijMO++8sRcsQdWWigKh7IgjjoiB8+CDD678tPVR/SQ8EryZnmn11VePI4ybE3CpnrLzc8qY500gYSGgt+YHCgH3yiuvjP2XTAGUBFzCLf1yScDlmzQfHHywMcjk7bffjq81z4mqMm/YlVdeOYZc1T8raNK4iVlWGJDK8ZFZUyhcJANSaTlhDmMu6Z2ELo45XCGRCmpyjKV6S4ikkNTcCiSPw7Esa/7kahxfCH4UrHbbbbd4nKfK3BxdunSJx1lmhkmOmywc65JKa2vgOM5xnaCaHJMpPk077bTxjCivE/gywbGUi+zceuutsTednzFdI9Vcim2Ed14bFatuAy4777rrrhs222yz8OSTTzY47c+pA3oIGcxA0E0CJW0C1113XRz5y5u3rQMu12qn94zQ99xzz8VRx3kDLpXc5p5WYbtPPPFErMTyhk7wwcKHE793NT5skoBL72Y64DJ4JHnT9e/fP07M3r179zj9T/qDgufHByXfTI888shmP19JUrGoijKrCrOtcMxIPvP5L8eNM888Mw4KPPXUU+PtfNZznOC4muDYRmgjzPH/zcF4AFraCMejkxyzaD/kND5hvLkV3K222ioGY1pjmmvYsGFxrEJ6yjrOvjIQl+eR1bbBa8e4Bs6wJvmD58trkq7gEsypJtPKlz428npzfN1hhx3iRXpuuummyk9UlLoNuFwTncooPUFZ3wgJc1R2qSwmp/R5o/Jm5L/sWG0dcHkc3iQ8P741syM3N+DyZuCNkifg8lichlluueVGVq7pu+TbJPNNZo1YTgdcKt/pgJuu4DJgiW+aXOa1uu0DXB2Lx9h+++3D+++/X7lVklQv+LxnrAqX9abfthqf/xRICIi0w2VhHS6xPMsss8TT7s09PnGspS2C/tTRITCyXf5LkYiqcnMDLhXcvAH3tddei+13nTt3HnmcpCjFv3faaafMjMFxnCJbuoKbBNykgkveWHHFFUOnTp1iJbcaGYHBl2QZQrGKVbcB97jjjothkUtHZuE0AOuw42SdNi8i4KbVGnCpQtPasO2228Zv1AT3dLU6jQ8eqtlUtflmSR8VlWwmZWcAQdYHEbddfvnlo63gbrHFFmHRRRdt0JuVxkAAPhCpmDv1jyTVH4Jp165d46l1zoJmIdhRrGCqwORYQ/GEyiuDpKjwrrHGGrHVj/EljR2PqlEkoQDSnICbRsClgsug5uZgFg/OfnL8IljSlsilpRnk1Rh+v0svvTQenw844IB4PKN4RoGMCm5yXEzjOM7rSAW3OuAmFVwuaMI2abdorPBD5ZZAzjGawKvi1G3AZSck/NFykIWdq3fv3vGbHyN6qzU34NInw5uDgWmNLfTZsmM3JW/ApQeJqXdYGAhHeOS0Et8YmwqQBFbeqAwGIORyP97kjX2bZX2e/+gquIRsKsONnV7ilBK/H+ulLyag+sGXHQaTuLgUtTjdXH2hisjAKE7jN3bMStah8pi0utHeR8GIwMegr8kmmyyGO07pNxbKONPHGBJmC+C+HE8okhA4ue2ss85qVrtCUsFtbg8uxaGjjz46zkDElRs5lhGQaZ/78MMPK2uNip+RK+iVpUeZ+x100EGNtmBwHOcYm1XBZZwKFVzObHLcZsxPesB2Gu8RKupUqJuTDdR66jbg0j9EWOT0ehbekCeddFIcGcr8jNWaG3CpWDItCm/4xhaqqzThNyVvwKXfifYCFt4Y9AwTdhmxyTfodI9tNb6l77///nHUK28cKrSNDUxLtyg0VcHlw4w3Ph82WfgiwOtAAGc6FtUfznb84x//cHEpbGnsDJvGDM4Abr755vEiG419llPBZZAZg4aTAWSEVcZecIaQnlj+rpwZJPDSv5pV4eQYxql6xp7QmsCANKqdFFy4jWMUA5tHJ6ngNrdFgeIW01aycCzk/jwmj88VGxvDMZI+XH53BtAxW8Qrr7xS+emokoBL4E+OrwR+qsdkD54HxSgq3YxdaSxcU8GlB5d1qCSrOHUbcBnUxKAnwl7WKRIqoIy+pIrAG7ZacwMuOyk9vJxWaWzhWygtEU3JG3Cz8MHCqQy+ySbXec9CKOZ00HjjjRe/PRJwG9PcHlz6kPimyjpZ39gJtUyFxkwLvPaqP0nA5YsLH/Quo1/oU0zCGv+ftY7LqAvVPwNu/aEwQnWS8EqYy8JnPK19tKVlfdZzjGDQFdXZf/3rX3Fu96xgxn057lHVZOFxuXIiZ0T5N6fvk5kGmkJA5Vjf3IBbjedBxZgxJJzxzQrjCX53jn3jjz9+bMNo6ljGcZwp1ZjhIQm4VL/TFVzObFIY4rVs7Cwq42YI8LRENPXc1PrqNuAyqp9vkAwkqw57BF76bjkdwjdVpjmp1tyA21paI+DybZdvelwNqLHTHfzuHIgJm/RR8S2UK1c19u0x3YPb1DRhfIgRcPliQXU8jW/3fNHgQ4gqsxNX16ck4PKeUPMw1V8ScKsveqLGbbrppgbcOkQQ49Q9gYoWgeozewTgM844I54p5LO+MYRGCj8EQfpNswZhVaPHtIge3CwcM/mdss7mJqj48tpw7KOFgxZIgmpWyAfHcc5spiu4SYtCUsHl2EjFnDPJXFSjuhhHhTkZDN/Uc1PbqNuAS8WUxm12fPpb+KbFTsYblHYBDuJ8C+VbZta3onoKuDxvmvf5oEimYqGxnVM/yRuCoMkpDCqyzDubNWAMnFLhDcPoT76NMkE3j8kAtaw3aroHtzrgUoVJWhQIyIyY5UsDF9Dg9ed58w2VgMyXDQI1l4T1W2h9MuDmZ8CtjQG3fnFc4DQ8Yyr47OYznOMAxyiqiVQcKYwkFUeOqRyfCLQcQ/h854IJnCWccMIJY2tbdVDO0pKAS/GE4301iilUPiloESY5XnE2kQozz5Pn+9hjj8VjF78TLRZZeP7MUcvAOvpu2QZnLTkGcuY0C8dxWhTSFdzqHlxQNea4TfWa58ntPG/WZXwN4ZeZLQi7KlbdBlx2XkaB0vdJ6KLHhtGTBDsqj1yQgG9WvGGTiiKhLOkJ4lsV3z7pj+HfLM35FpoHzens0GybmQ2YJ5YrxTDwi2+jAwYMiOvxuDxvfp48Vz4IuA9hlR5gDhhcOYw3BCM8s0Ikb2q+ffNmTk4bEXjpf+KUVFZvbLpFIX0lsyTgJhVcbqcZng9GngfPh9ebsMS/ufY8H5hcutA+ovpkwM3PgFsbA2794owmbQKEueQsJ8ckqpFULaeeeup4vEhmzCE0Ei757OdYRotcUpWkbYDAlnU8qkYFk+NDUjRpCgUVKsg8Hsd2rrRJMYt/77PPPrE6ymNSBGLOXgpVHDtpEWDfY6owjrHJYDGuzMlgc+6XhfuxbcbUEII5LhJ4GazNMTirlSIJuE1VcMEZT85w8sWBYySvHRViCkIMnuPYSfGLlg0Vq24DLqh20tTNTAZ8O2RHpO+Wb09ULnnTUllk52c6E3Y0qo80t1cvfBtt7WDGm4Rvf1mPR9WZEZbgwMmbl56fpDJLCwajPvl9CLj8DlRaacfgm2oWvmnTsM7rwaAvsD2eA284vslW443Ja8i3VqYxST6omGf4/PPPb9Dekfw+nNrid+DDgw87/s1rzgAzPgT5fz4wVF8MuPkZcGtjwK1vhC8KGsxuwHGTggpnCAliFIEokhDeOI5ysQOqtNzOuswXy+wE/G0ptjR2Cr8aBR+OJ40dv9KoKrP96uMmCzMkEGY5u0m/N4UqZg7i+M0xnqo0FVGOnQRw2g44nla31qVRCOICGLT3JcdgngNngHkNsqYY4/H4OcfW5DWgsk2bHlXyZDug/YFwT4GK4yYLmYNjLK87IZy8wtlZ1lUx6jrgJtjRGFjFTAO0KvDm5Q3ANzEuhUfo4g3JG4KdnG991Qs7c3O+hebB9ngeWY9HZZSf8Wan2Z9voVRI0z06vKn4VsepItZPX0kmC68Db7Dqb9QEU16frG+vrMf9OD2Sfmy2wbbStyX4oOJ34LkRivk363MRCD786P+lgqz6YsDNz4BbGwNu/SOUURRhZgWOMRwDOCbxuc9UW1QVqWhSyWRdKpYcY7koAlXYrGNDa6HwwjGl+rjJwrEaHLeYcoxwSEEnCZkcU6kA8ztREOJ3TCqsjeEYxvGW/ybYHu95AiePVY1jJ88xPcCc+/D8uF/yfBL8m+Mwx00W/p/t8hwpvDEQjeCbVYhS2xgrAm5jkp2Nntw77rijcmt94Q3F6R8uYciHy9iMDxE+LLn6GpcMVn0x4OZnwK2NAXfsRlGEyi3h9vnnn6/cWj84tlPMoh2R4/voAmy948sDBTl+F2chKs5YHXDHBnyD47REY321Umsx4OZnwK2NAVdtiYBLxZkWgea0PEhZDLhSSRhw8zPg1saAK6neGXClkjDg5mfArY0BV1K9M+BKJWHAzc+AWxsDrqR6Z8CVSsKAm58BtzYGXEn1zoArlYQBNz8Dbm0MuJLqnQFXKgkDbn4G3NoYcCXVOwOuVBIG3PwMuLUx4EqqdwZcqSQMuPkZcGtjwJVU7wy4UkkYcPMz4NbGgCup3hlwpZIw4OZnwK2NAVdSvTPgSiVhwM3PgFsbA66kemfALcjvv/8efv7558q/pNZnwM3PgFsbA66KwnGT46eUlwG3AH/++Wd49dVXw8033+wbVW3GgJufAbc2BlwV4a+//gq33HJLePnll8Mff/xRuVVqHgNuAX799dfQs2fPMN5443kQVZsx4OZnwK2NAVdFoCD0z3/+Mxx66KHhxx9/rNwqNY8BtwAGXBXBgJufAbc2BlwVwYCrljDgFsCAqyIYcPMz4NbGgKsiGHDVEgbcAhhwVQQDbn4G3NoYcFUEA65awoBbAAOuimDAzc+AWxsDropgwFVLGHALYMBVEQy4+Rlwa2PAVREMuGoJA24BDLgqggE3PwNubQy4KoIBVy1hwC2AAVdFMODmZ8CtjQFXRTDgqiUMuAUw4KoIBtz8DLi1MeCqCAZctYQBtwAGXBXBgJufAbc2BlwVwYCrljDgFsCAqyIYcPMz4NbGgKsiGHDVEgbcAhhwVQQDbn4G3NoYcFUEA65awoBbAAOuimDAzc+AWxsDropgwFVLGHALYMBVEQy4+Rlwa2PAVREMuGoJA24BDLgqggE3PwNubQy4KoIBVy1hwC2AAVdFMODmZ8CtjQFXRTDgqiUMuAUw4KoIBtz8DLi1MeCqCAZctYQBtwAGXBXBgJufAbc2BlwVwYCrljDgFsCAqyIYcPMz4NbGgKsiGHDVEgbcAhhwVQQDbn4G3NoYcFUEA65awoBbAAOuimDAzc+AWxsDropgwFVLGHALYMBVEQy4+Rlwa2PAVREMuGoJA24BDLgqggE3PwNubQy4KoIBVy1hwC2AAVdFMODmZ8CtjQFXRTDgqiUMuAUw4KoIBtz8DLi1MeCqCAZctYQBtwAGXBXBgJufAbc2BlwVwYCrljDgFsCAqyIYcPMz4NbGgKsiGHDVEm0WcP/66694wHj33XfD66+/Ht54443w0Ucfhd9++62yRsuw43/55Zfh7bffjtvnv59++mn4888/K2vUjuf+9ddfh/feey9u+6233gojRowIv/zyS2WNfAy4KoIBNz8Dbm0MuCpCSwMux16O3RzDOZaTR7766qt4jG8NP/30Uxg6dGjMNywffvhh+OGHH1pl+2SlTz75JG73tddeC++880749ttvW+25jwvaJOASMtmp+PBbaqmlQrt27cIss8wSNt988zB48OAW7wAEzVdeeSUcc8wxYcEFFwzTTTddWGCBBcL+++8fd+SWhOg//vgj7rBnnnlmWH755cP0008f5pprrrDrrruGQYMGxeeelwFXRTDg5mfArY0BV0VoScBl/SeeeCLsvffeYe65547H8qWXXjqcdNJJMYiy7ZYgbPbr1y9stNFGMd/MNNNMoWPHjuHGG28Mn3/+ec3FNrIRwfnpp58O2223Xdw2GWrxxRcPF154Yfj4449bpZA3Lmj1gMsfhz/uvvvuO/LAkV7YyW677baaTzcQQJ988smw4YYbjrLtf/3rX2GZZZYJzz//fGXt/N5///3QrVu3MOmkk46y/cUWWyxcd911uQO0AVdFMODmZ8CtjQFXRag14HK//v37xyJV8v5Oln//+99hiy22iJXRWpEBevfuHfNM9fannHLKcMIJJ8QiXy1+/vnncM8994TZZ599lG2z7LDDDnHbVnJHr9UDLt88brjhhsw/TLJQdWXnquUPRJvDQQcdlLldlokmmiiGX0JlXoRngigV4axts3Tq1Cl3gDbgqggG3PwMuLUx4KoItQZc8kXnzp1Hvrerl6mmmip079695iouleHGAijLbLPNFq6//vqYKfIgE9GKsOyyy2ZuN1n69OlT09nkcU2rB1x6RlZfffXMP0p6Oe+888I333xTuVfz3XXXXWHhhRfO3Gay8K3q/vvvr9yj+d58882w2mqrZW4zWaaddtrQq1evyj2aJx1w6f/h3y4urb1cfPHFcR814DafAbc2ScBln8vaF11cWmMh1NYScM8999wwxxxzjHxvZy2EyKeeeqpyj3x23HHHzLO86WX33XePPb958DsSjLO2l14WWmihMGzYsMq91JhWD7gMzPrPf/6T+UdJL/TFDB8+vHKv5rv00kvjKYasbSYL3844fZAXrROjC8+E1D333LNyj+bhjZoE3B49esT/d3Fp7SVp2zHgNp8BtzZJwGWfy9oXXVxaYzn88MPjcTNvwGU8zoQTTjjyvZ21zDfffLHlsBa0K44//viZ202WDTbYILZT5sFAeTJC1vbSC4+dNzyPi8ZYwN1jjz1itTev5gRcemBOP/30yj2arzkBl4VvZnmkA66LS1st//d//xf3TwNu8xlwa5MEXPa5rH3RxaW1Fvaztgi48847b7j66qsr98inOQGXdkZaGfJobsBloZVBTWv1gEuPLCMVs/4g6eWss86KU3HlRQhlRGTWNpOFFoUBAwZU7tF8L774YlhxxRUzt5ks00wzTTj++OMr92iedMClOZwDqYtLay8XXHBB3EcNuM3H65a8t/l/NU8ScNnn0vugi0trLmSEWloUTjvttDirQfLezloYkJ43gCa6dOky2kIbMy/lDaHfffddLOJlbS+9zD///HG2JzWt1QMujc9JL2BjC83ZQ4YMqWmqC8rye+21V+Z2WSaYYILYA8xgt7xoOOebHy0OWdtmWXPNNcNjjz1WuUfzpAMub1qpLTjILD/ej8l72/dm8znITEWodZDZCy+8EFsEkvd29TLZZJPFAFrr3PbMcsD0XVnbZmGget++fXMPYmOQGQPkGIiftd1kOfXUU+M0ZWpaqwdc/kD01nbt2jXzDzPxxBPHD0W+qdSCUYkDBw4Mq6666ijbJkDOM8888ee1Yufiwzvr9Eb79u1j8zqBNQ8DropgwM3PgFsbA66KUGvAZRov2g+yWg7Z3tprrx2effbZytr5EYzpD5566qlH2T7Z4cADDwwffPBBZe18+D1vvfXW2GpZvW0WimwMMHOasNFr9YALKrP8AZgLboYZZoh/FPpVVlpppTgLArMntOSPwzxxjH7cZZddYrWVPjD+S6h+5plnav5WBt5QzKbAG4pKM9ump5hvg7fffntN35oMuCqCATc/A25tDLgqQq0BF7yfaVXk85BjOMdyqq6cpX311VdbdEEoMCMS7QRLLLFEDLUc3wnU559/fsw/eacIS5CNeO733XdfDLNJry9ZilDNXP21bntc0yYBF/yRuJQul8ejHeHll1+OfxjCaWt88yA0UinmEnZsn/9yhY+8pwSysPNwsQqCLtvmzUC/S943WMKAqyIYcPMz4NbGgKsitCTgglZFwibHcI7lnKH97LPPWi0gciaatkmurErGoeeWAl5LrzRGRqJQRxWY7fLcyVLkktbIT+OKNgu4+h8DropgwM3PgFsbA66K0NKAq3GbAbcABlwVwYCbnwG3NgZcFcGAq5Yw4BbAgKsiGHDzM+DWxoCrIhhw1RIG3AIYcFUEA25+BtzaGHBVBAOuWsKAWwADropgwM3PgFsbA66KYMBVSxhwC2DAVREMuPkZcGtjwFURDLhqCQNuAQy4KoIBNz8Dbm0MuCqCAVctYcAtgAFXRTDg5mfArY0BV0Uw4KolDLgFMOCqCAbc/Ay4tTHgqggGXLWEAbcABlwVwYCbnwG3NgZcFcGAq5Yw4BbAgKsiGHDzM+DWxoCrIhhw1RIG3AIYcFUEA25+BtzaGHBVBAOuWsKAWwADropgwM3PgFsbA66KYMBVSxhwC2DAVREMuPkZcGtjwFURDLhqCQNuAQy4KoIBNz8Dbm0MuCqCAVctYcAtgAFXRTDg5mfArY0BV0Uw4KolDLgFMOCqCAbc/Ay4tTHgqggGXLWEAbcABlwVwYCbnwG3NgZcFcGAq5Yw4BbAgKsiGHDzM+DWxoCrIhhw1RIG3AIYcFUEA25+BtzaGHBVBAOuWsKAWwADropgwM3PgFsbA66KYMBVSxhwC2DAVREMuPkZcGtjwFURDLhqCQNuAQy4KoIBNz8Dbm0MuCqCAVctYcAtgAFXRTDg5mfArY0BV0Uw4KolDLgFMOCqCAbc/Ay4tTHgqggGXLWEAbcABlwVwYCbnwG3NgZcFcGAq5Yw4BbAgKsiGHDzM+DWxoCrIhhw1RIG3AL88ccf4bHHHgvnnHNO+O233yq3Sq3LgJufAbc2BlwV4c8//4zHzUceeSSGXSkPA25BqOL+8MMPlX9Jrc+Am58BtzYGXBWF4ybHTykvA65UEgbc/Ay4tTHgSqp3BlypJAy4+Rlwa2PAlVTvDLhSSRhw8zPg1saAK6neGXClkjDg5mfArY0BV1K9M+BKJWHAzc+AWxsDrqR6N9YH3O+++y68+eab4euvv67cIo2bDLj5GXBrY8CV/ueZZ54JL7/8sjMl1Zk2CbjMXffRRx+Ffv36hZtuuincfvvt4cknn4wHkL/++quyVutgu1tvvXW4++6747a/+OKL+KH73HPPVdaQxg0G3PwMuLUx4Kreff755+HBBx8Ml1xySbjooovCddddF55++uk2eZ/vvvvu8WJO77//fpz3nsxz9dVXhw8//LCyhsaEVg+4P/30Uwy2nTt3DksttVTYcMMNwyqrrBJWXXXVsMcee4Tnn3++posdfPrpp+Hxxx8Pr776auWWv911111hjjnmiDsxO9YLL7wQFl988XDWWWdV1pDGDQbc/Ay4tTHgql5RYCNn9OjRI6y11lpho402CptttllYbbXVwjrrrBNOOumk8N5771XWzmfw4MHh5ptvHuWzYvXVV4+Fttdeey388ssv4aCDDgo77LBDrOxqzGnVgMul9O68886wwgorhJVXXjmcd955cWe44oorwlFHHRXat28fNthgg/DOO+/EnTAPrgTGt6Rzzz23csvf0gGXbQ4fPjz06dPHHUvjHANufgbc2hhwVa8It7vuumtYccUVwyGHHBILbpzhvfTSS8O2224bFlxwwXDkkUeGr776qnKP5jvuuOPC2muvHT7++OPKLX9LB1wKbY8++mi4//77Y2FOY06rBtyhQ4fGD775558/3HffffEPnaB1gJA7xRRThLPPPjt8++238XZOI7zyyisj/5344IMPYhAmNLMznXnmmWHJJZcM2223XfwWRd8t208HXFBBpj2Bx0vj9hdffDEMGjRo5LestDfeeCM+DvfjNAZvkm+++Sa2PdBuQfWYywXyzc9LBqoeGXDzM+DWxoCrekQmOPHEE8PCCy8cDj/88DBs2LDKT/6+mijBk4ouZ5fvueeeeDvZgEzw7LPPxn8nyAi0OHD8Z7tPPfVU3O9nmmmmcOutt8aiG3mBwlo64IL/0pPLGKEEWYbbBwwYEJfXX3+9wRXaGEfENgnFrHfbbbeFIUOGxJ9x34ceeigWDMlW5Ka8RcJxUasFXP5QAwcODDPPPHPYZ599Krc2xM4211xzxdMGSW9K//79w2677RYDZRrV36OPPjqGX/6onF6YfvrpwwILLBB3JE4zfPbZZ6MEXLbLz/nWBnYCgjLhevvttw877bRTDMmnnHJKDLTJTnLYYYeFU089Na5HW8WOO+4YnnjiibiDH3DAAfE+3bp1C4ceemgM2FK9MeDmZ8CtjQFX9YhwuNVWW4U111wz5pFqDALjLPB8880XTj755HgbAfaEE04Ie++9d/w3KGxxNpjtkD9oq+zevXtYaKGFwuSTTx7zwJ577hmLYQTh6oDLtgnYyb/JKldddVWsLNO6QBbZZZdd4m3JwDQCMZ/dZ5xxRtwW7RRsg+IfuWSLLbaI9+G+vXv3jgU4Na3VAi7fVAiZ0047bbjhhhsqt45qjTXWiCGYiin4Q3Xo0CHce++98d8J2hE6duwYK65UT/nDzjPPPPH0ANXcW265JZ5iqA64BOIpp5wynHbaafHf7DwE7mWWWSaGWj6QaQZnR73wwgtH7iTsoGyf58eOzk7GaQ0el7YKHvOCCy4I55xzTvwWKNUbA25+BtzaGHBVjyiUEUp33nnn8NZbb1VubeiOO+4IiyyySNhvv/3iv1mPUExrZYLC17vvvhsmnHDCeOznrC1hlG2TccgHtF5SPCP8VgdcQminTp1ikYzqLxXfjTfeOD4vBp/17ds3Bl1CLJVZkHMmnnjiWF0mQDOOiMegyEam6dWrV6zqcl9uT1eHla3VAi4l82OOOSbMOOOM8Q/VGHYC2hSSwWKjC7hJmCTIsnNRaU1rKuCyY9GLO9VUU8XHSQa3cSDjA3q99daLOzHYQQne7Mx8C2SHZoYG1uGbGt/y8PPPPzsViOqSATc/A25tDLiqR/S9LrfccmH//fdv0J6QRtZYeumlw3//+9/47yTgrrTSSvHfqA64yZlesgB5hRbKtKYC7ieffBKLbHwu0+YAtsfz4H5UaZEE3HXXXTe2YIIz44TZ8ccfP/5uSYbh9taekaqMWjXgUhkl4DZ1Cp+dIE8FNwm4DF5jZ8gTcDl1QNV1vPHGi6cgWIdGc5b1118/DnrjtADYNjtWulWCNwjVXH7GtyeeS3Vvr1QvDLj5GXBrY8BVPSInUAGlnaCpgMsZXaqpaOuAS6jlLDAzSVGVTTLIEUccEccVbbPNNvE+BNx27drFrJGgSEcmYVwTrZNMd0avcPUYImVrtYDLqX76ZqebbrpYRs/CNw7+yEssscTIyil/cPpyk4bvRFbApX0gT8CleZxRjwRcduCkj5alS5cuccdi3jpU76AJBpaxU1M9ZuozdvYknEv1xICbnwG3NgZc1SOO1wRVqrMM4qpGUKWFkhbFpHKaBFwqv4mmAi55JU/Affjhh2N+YOAbPbh77bVXXMg4hGxyEwi4M8wwwygzRXE2+fLLLw+bb755nJ2KXtwbb7wxDjxT01ot4PKNgrBJuGT+uazyOTvS7LPPHoMmZXtQYSWgMtgsuQ9leP7wWRVcBnmlNRVwaSegVyYp7xNM2elZOAXAgLRkFGNjARc8V3p+CcSLLbZYbCDnm5VUTwy4+Rlwa2PAVT2ilZDiFSGXoll1DmGwF4PXCbhXXnllvI0gSyah8JbMkMTxnSxBwCVDJAGXYJo34CYVXB6DDPTll1+OXCgMJtXYxgIu+D2oSNOuQK/woosuGp93Vs7S/7RawOWFJkCy4zDPHIPDkgMGP2N6rX333Tf+Abm6WfLtg/+fe+6549RhTJPBH5udgpkW0gGXnZUKLqceCMBsk6WpgMvO+sADD4RJJpkkDiijopsg2DI6MQmqWQGXn/Ockr4Xmr2ZzYHw7SkC1RsDbn4G3NoYcFWPCKLMhsQpffLGSy+9FAdjkTeYxpSAyDGcEJxc7IHZlCjKMcicC0WRG7jt9NNPH6WCywUcyDCMISIXkB/IIU0FXEI3lV8GlJFH0n20tDySMZAVcHlcgi1hOMFYJ8YxMYVY8ryUrdUCLvg2wh+HbzjLL798DJUEUEYt0mQ955xzxj88/boJdhSCK2GWCzRwOT1mLiC0soMkAZfBYlyNhFkUCMXsOATQpgIuOx47D9uh1+Xaa6+NU4cwapH/pyqczL+bFXD55sWIRVouOM3ANnlzsINZwVW9MeDmZ8CtjQFX9YoMQKWVmRK6du0azxKznxJiOX5TPOMUf4L3PW0LFNo4S8vPmIaU9QiS6QouvbNTTz11/DlZ5e23346BtamASw5hXR6bKi6PxQxNZBAyUjJmKSvgUkijPYHswdy55B3m8aVCTWBX01o14ILAyDce/pj0nLBwWp/ASzDkFAF/8DSCLTsTIxvpMaHPlv6UAw88MH6jAt9g6FWhPE+DOFN8cJqAnhtmOuDaz2DaDv74TMUBdkyasulf4X6sy8J2GOCWfDNiflweN30JP3Y4bud3YVAa4ZpBZ1xIQqo3ScBl32YghcvoFz43koDL/2et4zLqwlWiDLiqV5y+P/7442Pw5NL9ZBD2Webcp1hVjSorx3/6cBmkxhc4Pg/IDQTSJLNQ2SU0kyXIKwROqsN77LFHnKs2aV049thj40wOySB2KrW8V2hV4HmQUcg6nA3m4g6gIks2oR0yQZWXLLPKKqvE9bkv69DSmT4jrWytHnBBqKRKyyl9/jh8W2GHa6qczjcfvqFwSoFpuAiatDykqyrczk7AlTyo/LI9dhym80qqwqxD1XfEiBHx3wkquXybYmdlp6y+ighBmv4Y+nbT6L+l4svOThXZyZVVr5KA6+JS1GLAVb0iHxBIyQcc+wmfSXtAFvIAFVmyADmAs7TklqSFIEHGoEpMeE3yAoPVuTBEsn0el9CcbmVke8zdz/14Tmw7nTcIymSQ5KxygnBNvqHtkwxCJqouEipbmwRcScXj6n1UFVxcilqSK0ZKUr0x4EqSJKlUDLiSJEkqFQOuJEmSSsWAK0mSpFIx4EqSJKlUDLiSxllMJeSUO5JUPgZcSeMkJkrnCkFcsdCQK0nlYsCVNEYQKrkgC5fV5EpATz/9dKMTsTO5Opfc5AqHXPYyfbnvWnEVw0knnTRe8YhKLpOycxW4Aw44oMG13yVJYx8DrqQx4vfff4+XpZxkkknC5JNPHi+J3Vhwvf766+MlNyeeeOJ4PffkEpgtwVUQJ5hggngJcQIuIbpjx47xmvUGXEkauxlwJY0RBNybb745jD/++GGjjTaK1VQus11dxeUSl9tvv31YY401wiyzzBK6dOkSXnzxxcpPa1cdcKkof/bZZ/Fy3PxbkjT2MuBKGiMIuDfccEMMuJdffnmYeuqpw3777TdK9ZTrti+zzDLh0EMPDSuttFLYYost4vXiEwTg559/Ppx66qnhwAMPDKeffnpsd0jjsbjOO+vss88+4ZJLLgnDhg1rEHDRu3fv8NBDD428RjzXlL/qqqvidvfee++47TfeeCM+ZoL1b7zxxlhV7t+/fzjiiCPCSSed1OA5EJ6pTlOJPuSQQ8Iuu+wSTj755FapREuSRmXAlTRGpCu4d955Z9hqq61Chw4dwnvvvddg0NeRRx4Z1lprrXDTTTeFDTbYoEHApdp7zTXXhLXXXjtsuOGGsZe3U6dOYZVVVgl9+/Yduc4TTzwRVl555bDggguGzTbbLAblNddcc5SAu8gii8TH+/rrr2PI7dy5c1h11VXDzjvvHHbaaaew2GKLhfXWWy889thjcX2ceOKJsb1inXXWCcstt1xsc1h00UXDuuuuGx588MG4DmH6sMMOC0sttVTczq677hqWXnrpuF5rVKMlSQ0ZcCWNEemAe/fdd4c77rgjtGvXLlZzv//++7gOg9AIot27d4+zHRBit9xyy/DSSy/FnxNcaVkgMD777LPhgw8+CA888EDYdtttwyabbBKD5Ycffhirr/PNN18M0m+//XYYPHhw3E51wJ1jjjlGDjIjGA8YMCA888wz4f3334/LGWecERZaaKFYAU5aKY4++ugw7bTThq5du4Z77703vP766+HCCy8MSyyxRHzeIDDTfsG2CPBs65577glTTTVV6NWrV1xHktR6DLiSxoh0iwIBl1BJKNx4441jMMWVV14Zq6ZUb4cOHRoDbroHt0+fPrF6e+mll8btgXB89tlnx20Rdp977rmw4oorxgoxU4OBdQnE1QF3ttlmGxlwqSKzfrodYeDAgWHZZZcNJ5xwQvjqq6/ibVR8aaGgksxMDCCMr7/++rECzLbZBhXh5HHwySefhHnnnTcOmpMktS4DrqQxgpBJcE0CLhVRwuKss84aHn744fDjjz/GKuumm24aA+2nn34aA266RYFwSvV04YUXjkGXhYovrQjcdvvtt8d2Aqq3tAikVQ8yQ7qCCyrCF198cZzKjLBKC8IUU0wR75PM+HDUUUfFx73vvvviv0Fv7dZbbx1bKgjJyQA2qtO0URDSaX2Ycsop4/9LklqXAVfSGJFuUWBwFgF3yJAhYeaZZ45Bl3BKO8A555wTq6VJwE23KBx77LFxHQag0eKQXqi2Dh8+PDzyyCNhrrnmalbATVdwuS+9t1SUjzvuuFglZgAZfcJZAff++++P/wYBl5YFqrhMP0b1+fDDDw+rr756nHeXyjQD2gjzm2++eeVekqTWYsCVNEYQcJl9gIB71113xYDLKX4CJW0ATB3GhReowHKKPwm46RYFwu/yyy8fWxUaQ7sAg8cInAm2R5iuDrizzz77yIDLcyIYE0Tpm/3uu+/ijAlUcQm1VGTB/zOwLB1wX3nllbDNNtuMDLjMBEHLBNVbeoK5jerwAgssECvSkqTWZcCVNEZktSiAlgAqm7QC7LvvvjEQIl3BTQLuoEGDYhsAoZeBY/S5EkSpoDJNF4H5nXfeCd26dYthkkFmH330UazqEiy5yERjFdzbbrst/pvL+RJmGRhGFZYKMwPLmqrgVgfcxx9/PMwzzzxxejC2Tf/tueeeG6aZZhpbFCSpDRhwJY0R6RaFdMDldD7TZ9GfSptCMjAsq4LL7ASXXXZZnJKLKioXhGDQFqf9mYuWPl4CJsGWgWZMzcX9WZgPlwptYxVcKqzMxEDFln5aBqkRlNu3bz9Ki0JTFVyeAxVgqrcMKqOSzCwPBGyqugZcSWp9BlxJYwShkosvEBAJgEnIBDMS0H5AH2yCoHjdddfFymrSHgCCLwH5lFNOiX22PXv2jPelukuIBlcn69evX+zZpY+WOXLffPPN2FdLC0Qy7y73Y+5aKsHcxja4uAM9vvyXn3EfpvxKgjfVYJ4XFd4E/b08HrfzHKgkE8q50ATPkaowfcIEfH4fSVLrMuBKGqMIn+kLOyDpx02HXhAqk0pvNdan8kpVNwm2aWyLam4yvRePyX3S67J9/p1+PtxGYP3111/jv6vvk/VcuT+3J1dEA7fxb54j6/NvttnY7yNJqp0BV5IkSaViwJUkSVKpGHAlSZJUKgZcSZIklYoBV5IkSaViwJUkSVKpGHAlSZJUKgZcSZIklYoBV5IkSaViwJUkSVKpGHAlSZJUKgZcSZIklYoBV5IkSaViwJUkSVKpGHAlSZJUKgZcSZIklYoBV5IkSaViwJUkSVKpGHAlSZJUKgZcSZIklYoBV5IkSaViwJUkSVKpGHAlSZJUKgZcSZIklYoBV5IkSaViwJUkSVKpGHAlSZJUKgZcSZIklYoBV5IkSaViwJUkSVKpGHAlSZJUKgZcSZIklYoBV5IkSaViwJUkSVKpGHAlSZJUKgZcSZIklYoBV5IkSaViwJUkSVKpGHAlSZJUKgZcSZIklYoBV5IkSaViwJUkSVKpGHAlSZJUKgZcSZIklYoBV5IkSaViwJUkSVKpGHAlSZJUKgZcSZIklYoBV5La2KeffhpOP/30MPfcc4fJJ588zDfffOGQQw6p/FSS1NoMuJKi7777LgwePDgMGjQocxkyZEj48ssvwx9//FG5h5rr7bffDltvvXUYb7zxwj/+8Y8wwQQThOWWW67yU0lSazPgSgrDhg0LSyyxRJh22mlDu3btMpfpppsuzDTTTGHxxRcPe+21V3jkkUfCL7/8UtmCmvLWW2+FLbbYIoZbln/+859hySWXrPxUktTaDLiSwv333x+mmWaakQGsqYVwNtlkk4UOHTqE448/PgwfPryyFTUmK+Aus8wylZ+2nd9++y1W3k888cRw8MEHh2OOOSbcddddVuEllZ4BV1IMPVNNNVWDIDu6hdPtM844Yzj55JPDjz/+WNmSsmQF3KWWWqry07bDl49evXrFLy9TTjllmHrqqcNqq60WRowYUVlDksrJgCsp9OvXb5SA26VLlzgw6oILLghnn3126N69exwcNf74449ch5C77rrrhscff7yyJWUZUy0KtJ4wmC15XJYFF1wwfPTRR5U1JKmcDLiSwp133jlKwD311FPDBx98EL7++uvw1VdfxVB02223hRVXXLHBerQqXHLJJZUtKcuYCrhDhw6NrQnpv5cBV9K4wIArKbNF4ayzzorBNu2HH34I++yzT/j3v/89cj0GnxGGm/Lrr7+G119/PVx11VWxb5dq8P777x//n3D8zDPPhN9//72ydkPvvPNOuOeee8K1114bF/qFs06x02/KY9xwww3hyiuvDLfeemt48803Kz/Nj+d0/fXXx8ekj/Wnn36Kt3/77bfhwQcfjNXtHj16hMMPPzxcdNFF4cUXX4zPIUutPbiffPJJ6N+/fzjjjDPiY/G6HXnkkeHcc8+Nr8Pnn39eWbMh/m5PP/10fB06d+488nFZZpttttC3b9+4Xb7YMFhQksrGgCsps0XhnHPOGSXg4ogjjgj/+c9/GgQmAlcWgu1LL70Uq4grrbRSmGeeeWLfLo9FPyj/P9dcc4Vll1027LTTTrHVgfuk8TxWXnnlMO+888ZlscUWi4/HlGVpzz77bNhxxx3D/PPPHx+Hx6O9ohbMDkEwpCWDZfvttw+vvvpqeOyxx8Iee+wRZ5yYddZZY28rM0/MOeecYY011ojP67PPPqts5X/y9uCyDb5grL/++mHhhReOj8VMFrxufKGYY4454uvAc7ziiiviPLtpAwcODBtttFF8LXh+yeOyTDTRRPF3Yrssq6yySmxlkKQyMeBKymxRoO+2OuBSvdxtt93iPK7JelQi77jjjsoa/8PAM6qMG2ywQQxn6W1nLZNOOmkMpVRrk2op7r777hjE0usSeKmiJpjDlypn+ndgOrP77ruvskY+bI8wnWyLAH7ooYfGwDnFFFOMvD29EFoJ1lR2eZ3S8rQovP/++zFEE5pZL/0Y1cuEE04YFlhggVhB//jjjytbCOHGG2+MoTjrPtULF5546qmnKveUpHIw4ErKbFGoruBSJeRU/CKLLBL+7//+L65DqwJz4lb3dP7555/xFP96660XQ1h6uwxSo+rL8q9//avBz9guFUWqvknLwjfffBMDH7MAJOsxTVnPnj1HtipQ+WWwW/JzqsP77rtvvG8tCKjpgEtAJzCmWzOyFgbdEb4J9mnNDbhUjvfcc8/4/JPXOFmo3M4+++yxep5cMIKF9QjWF1988cjZLG655ZYYkNP3b2wh4PJ6S1KZGHAlxX7M6oC71lprxZBI7yf/5UpcnPLmFDc/J4R17do1PProozHQplFNPOqooxoEQu63wgorxNP4N998c1w4Dd++ffsGYY7wx7yt6RYEHoMqanq9pZdeOlaeWY9e3uT5sw6Pw31qVR1wk4VgSTA94IADwmmnnRar2dVBkudx2GGHNejHzQq4PP9qVMJnmGGGBr8nLRxs75prronBlSC7zjrrxIp3sg5fGjbbbLPw/PPPx+3weLy2u+yyS3ycZD0W2ip23XXXcOCBB8bf47jjjqv5i4Ak1SsDrqTMgEvldZJJJolBipaEdOgi6BGcGKyU1adLuEy3FRDoFlpooXDvvfc2CH60IjDwjNP+6e3T9kBIS/z8888x5FHFTNYhPBPQGEjF3K7J7dNPP32s7rZkbt6sgJtMicbAMyrWPHcGwPEFgFCarMfvQSsDA94SWQE3qweX7aer2rwuvXv3jtXzv/76K67D6/fwww/Hnl+2k6xLXy7hF1S/mf2CgWZUhJN1WKj20q/MlxB+j8YGqknS2MyAKyn3hR4IewSqzTffPFx66aVxtH+C4Hf55Zc3CGps+6CDDhql0gsGla255poNwhrhlQFd6StuEdaoKqfXY8qr5ZZbbmT7ApVMqpu0R6SxHUIrYbyxJf1YWQGXQV1UUL///vvKWn+rbo9gIbzypSHRnBYFAievUzrod+rUKbz77ruVNf6HAEvllTCfrMuXEOa85ctAwnlwJY2rDLiSMiu4nBrnVP+qq64aF2YOIFClAyZBl7YF+nWpGILwRLU1vS3CMIPFGnPssceGiSeeuMF9brrppgZVWILbKaecEnt3k3UItOkLT9Anyzr0siYIrq+99lo8Jb/ffvs1uhBekxkcsgIuszykq8oJfm/un16X14TZDRJZATfdokB1lr9B0v6RLAweI3xnYRo0/ibp9ZlFIn3pZAOupHGVAVdSZsBl8BgXdmDAFAuBipkKmBWB/tv0ugRhZj/AG2+8EXbYYYcGP2daqqbmpOW0f7qnlIUpvqp7QwmqG2+88SiD01i4jT5UpvNKo6LMrAKE8er7pBeq0Ul1NivgEmK58EUWeoDTz4nBYGeeeWblp6MPuFS26ZmtHpDHa56eUSJt8ODBsU0hvf5WW23VIIQbcCWNqwy4kjJbFBgMVl09pBr6xBNPhA033HCUXlEuQEAlkoDJ4LP0tghV6cpitQEDBsSZEdL3ybrQBFVcBkhVB0EWns/OO+88yn24OAV9vtXrVy8Ed6YHQ96Ae/LJJ8d+5WRd5vc94YQTKj8dfYsCAZeBdenp11geeOCBUeYFTnBhierWCB6DLwEJA66kcZUBV1JmBTcr4CaYQSA94Iu+UU6PEyYJWNtuu22DbTFX64cffli596iYUaG6gnvhhReOUsF97rnnQseOHRutxlJJrp77loDIoCwGrnFKv7GFntakWpoVcJlJgjlqqxHqCbPpcEqrBK9RIivgpgeZEXBpragOuLR1pNst0pi7lp7k9PpWcCXpbwZcSZkBt7ErmYHL63bo0KHB+kwjxry0zCzAvLXpn7Huk08+Wbn3qLg4QnpKMQIzPbHp0/OEZy6Lmw7WVHLT1VwqyQTR6quc0SdLlZpT/o0tPO9kEFxWwOUSxVkBl3W57HB6XWYq4DVKNKdFgcF61ZVpbkuqytX4fZg6LVmX14xpwdJXNTPgShpXGXAlZbYoZF3JDLQJ0HOavgQsFVX6bqm4cplZKprpbTE4jcCchbaHLl26NKheMisCMyEkgRODBg2KMyYk69ASwJXPmN0guY2FK5jRO9wSWQGXdgBmdkhPcwZmd6BlI70u1WLaLhKja1GgCsy2qwfaMc9ueoaKBK8LLRz0+ibr8gWBuYeTC2SAIMsV2NLbZADce++9V1lDksrJgCsp81K96RYFAhjBlj5aBpMR9tKzF3DxAE7xE7xoCWDQGFfcSn5OcGP6rvTpcxDGCK5UZdPTY6299toNQhjPY/fdd29wmVyqlzwOMzCkr3JG0OvWrVuDSmZeWQGXGQ4YeEfwZnYHXhMegzCfviwuvweBN/27ZgXc6nlwqTrPPPPMDV4HZrKgup6eTYLXmD7nTTfdtMGXAoLr1VdfXVnrb1TUjz766JHrsKRntGBb/K6SVDYGXEmhX79+owRcLhBAmwAXZ6Aaee2118YKIVXUdDsBQZdeUPpcE/TKMrdtensEXvp0qVQyQIoeUh6X/td0Ty2V2T59+owMXgRJenQ5tZ5e55hjjglffPFF3B6XBE4HQ8LpZZdd1qACnEdWwGUh5BJUeS2YWYKBYVzAIr0OIfzggw9uUEnNCrhUeavx+lS3KTBTwg033BBfUy7QwOMS4NN/L+5DBZ0ZLNKoqHOhiPT2+DvQTvLQQw/Fvy2tFLR/SFKZGHAl5b7QQ7IQ1Oaee+54ujxdZaTiev75548ynRjrU+1cZZVV4pXOqk/JU5FkNgNmKyDYgpYHpvBKr0trAjMMgHDGLAbpKi6Bb5NNNglDhw6N6+SVFXDTAZrtE/L5fdLrEPZXXnnlGBzTRteikKA6zOuZro6zUCGnZ5eqb7t27Rr8nG3RlsFUaNWBnvYP2jUmn3zyBtvjCwWD+viiwM9efvnlyj0kqRwMuJJiVbA6jDa1EKqS0HXeeeeNMtsBuALX3nvvHXt10+GwsYXKIuGQkJf0uRJyufzsnHPOOXI9glmvXr0aDCRjTliCcfpx6E8leKevUNZcWQGXy/Hyu1TPdJAsvCY8T+YKrp7aqzktCgmeM4/NOuntZy2EfirIWXMGJ4YMGRI6d+7c6PMm4FIZlqQyMeBKihdhWHTRRWMvLCEuayHg0SNKiFt++eXj4KXnn3++wan4agyQojeXwMY2mOuW6idhi4WwSkWyffv28UphPI90IGWKLKa+4r5UaAnh9Ldyedw0AuVFF10Ur3JGJZp12S6n4ms5/Z4VcOm/PeKII+LvTrinXYHfgUou/2awG1ODVc/gAGZfoIeY589z43UmkDeGFogVV1wxvt60PCSPlTwevyOV8PXXXz9WaKsvH5xG7zRTp3E1Ol4TqrZsh22ybQJyU3MUS9LYyIArKSIE0VZABTFr4dKzhClCbWNTV2UhADMFF7Mo0CdKvy5ha/XVVw/bbbddnCKMmQiygjLhjIFkPXv2jH2thGXCbdbVvZgx4LrrroshlHXpF2b6L7aRV1bATebBfemll2IFmaDN78AMEPTivvDCC432/PIcqEwz+0SPHj3iwLQHH3yw8tNsTG1G72337t1jGF5ttdXi60a7Bq8HbSWff/55Ze2mUQmnXYNL/2655ZZxW/QtM70ZvbiSVDYGXEmqkhVwCZqNXclMklRfDLiSVCUr4DZ2oQdJUv0x4EpSFSu4kjR2M+BKUhUruJI0djPgSlIVK7iSNHYz4EpSFWYdoGLboUOHOB3XIossEq655poYfCVJ9c+AK0kZmD+XOW1ZuDIbc/ImV1eTJNU3A64kSZJKxYArSZKkUjHgSpIkqVQMuJIkSSoVA64kSZJKxYArSZKkUjHgSpIkqVQMuJIkSSoVA64kSZJKJIT/B2Y+4ixQ4njeAAAAAElFTkSuQmCC)"
      ]
    },
    {
      "cell_type": "code",
      "metadata": {
        "id": "pBY2EWkzjQNK",
        "colab": {
          "base_uri": "https://localhost:8080/",
          "height": 538
        },
        "outputId": "de6120f6-4449-466f-d8a7-430da04c6961"
      },
      "source": [
        "ax = sns.boxplot( x = 'Altura', data = dados, orient = 'h')\n",
        "ax.figure.set_size_inches(18, 8)\n",
        "ax.set_title('Altura', fontsize=18)\n",
        "ax.set_xlabel('Metros', fontsize=14)\n",
        "ax"
      ],
      "execution_count": null,
      "outputs": [
        {
          "output_type": "execute_result",
          "data": {
            "text/plain": [
              "<matplotlib.axes._subplots.AxesSubplot at 0x7f90b899d080>"
            ]
          },
          "metadata": {
            "tags": []
          },
          "execution_count": 241
        },
        {
          "output_type": "display_data",
          "data": {
            "image/png": "[encoded data removed]",
            "text/plain": [
              "<Figure size 1296x576 with 1 Axes>"
            ]
          },
          "metadata": {
            "tags": [],
            "needs_background": "light"
          }
        }
      ]
    },
    {
      "cell_type": "code",
      "metadata": {
        "id": "AEhX7-ggsuiY",
        "colab": {
          "base_uri": "https://localhost:8080/",
          "height": 538
        },
        "outputId": "48c532d9-136f-4a86-fb9f-acd558195652"
      },
      "source": [
        "ax = sns.boxplot( x = 'Altura', y = 'Sexo', data = dados, orient = 'h')\n",
        "ax.figure.set_size_inches(18, 8)\n",
        "ax.set_title('Altura', fontsize=18)\n",
        "ax.set_xlabel('Metros', fontsize=14)\n",
        "ax"
      ],
      "execution_count": null,
      "outputs": [
        {
          "output_type": "execute_result",
          "data": {
            "text/plain": [
              "<matplotlib.axes._subplots.AxesSubplot at 0x7f90b9223208>"
            ]
          },
          "metadata": {
            "tags": []
          },
          "execution_count": 242
        },
        {
          "output_type": "display_data",
          "data": {
            "image/png": "[encoded data removed]",
            "text/plain": [
              "<Figure size 1296x576 with 1 Axes>"
            ]
          },
          "metadata": {
            "tags": [],
            "needs_background": "light"
          }
        }
      ]
    },
    {
      "cell_type": "code",
      "metadata": {
        "id": "2ZPrRov1suSF",
        "colab": {
          "base_uri": "https://localhost:8080/",
          "height": 538
        },
        "outputId": "fedf8cf9-30a8-4b83-ba20-2084079d96af"
      },
      "source": [
        "ax = sns.boxplot( x = 'Altura', y = 'Sexo', data = dados, orient = 'h')\n",
        "ax.figure.set_size_inches(18, 8)\n",
        "ax.set_title('Altura', fontsize=18)\n",
        "ax.set_xlabel('Metros', fontsize=14)\n",
        "ax"
      ],
      "execution_count": null,
      "outputs": [
        {
          "output_type": "execute_result",
          "data": {
            "text/plain": [
              "<matplotlib.axes._subplots.AxesSubplot at 0x7f90b86766a0>"
            ]
          },
          "metadata": {
            "tags": []
          },
          "execution_count": 243
        },
        {
          "output_type": "display_data",
          "data": {
            "image/png": "[encoded data removed]",
            "text/plain": [
              "<Figure size 1296x576 with 1 Axes>"
            ]
          },
          "metadata": {
            "tags": [],
            "needs_background": "light"
          }
        }
      ]
    },
    {
      "cell_type": "code",
      "metadata": {
        "id": "CSwlKUrrsuFi",
        "colab": {
          "base_uri": "https://localhost:8080/",
          "height": 538
        },
        "outputId": "7d501c20-c500-4b49-b2a9-2d0c36c5cf33"
      },
      "source": [
        "ax = sns.boxplot( x = 'Renda', data = dados.query('Renda < 10000'), orient = 'h')\n",
        "ax.figure.set_size_inches(18, 8)\n",
        "ax.set_title('Renda', fontsize=18)\n",
        "ax.set_xlabel('R$', fontsize=14)\n",
        "ax"
      ],
      "execution_count": null,
      "outputs": [
        {
          "output_type": "execute_result",
          "data": {
            "text/plain": [
              "<matplotlib.axes._subplots.AxesSubplot at 0x7f90b85fe240>"
            ]
          },
          "metadata": {
            "tags": []
          },
          "execution_count": 244
        },
        {
          "output_type": "display_data",
          "data": {
            "image/png": "[encoded data removed]",
            "text/plain": [
              "<Figure size 1296x576 with 1 Axes>"
            ]
          },
          "metadata": {
            "tags": [],
            "needs_background": "light"
          }
        }
      ]
    },
    {
      "cell_type": "code",
      "metadata": {
        "id": "IDrzBcJ_jQNL",
        "colab": {
          "base_uri": "https://localhost:8080/",
          "height": 538
        },
        "outputId": "5983a576-cf5c-408b-ba53-1215d5176676"
      },
      "source": [
        "ax = sns.boxplot( x = 'Renda', y = 'Sexo', data = dados.query('Renda < 10000'), orient = 'h')\n",
        "ax.figure.set_size_inches(18, 8)\n",
        "ax.set_title('Renda', fontsize=18)\n",
        "ax.set_xlabel('R$', fontsize=14)\n",
        "ax"
      ],
      "execution_count": null,
      "outputs": [
        {
          "output_type": "execute_result",
          "data": {
            "text/plain": [
              "<matplotlib.axes._subplots.AxesSubplot at 0x7f90b85628d0>"
            ]
          },
          "metadata": {
            "tags": []
          },
          "execution_count": 245
        },
        {
          "output_type": "display_data",
          "data": {
            "image/png": "[encoded data removed]",
            "text/plain": [
              "<Figure size 1296x576 with 1 Axes>"
            ]
          },
          "metadata": {
            "tags": [],
            "needs_background": "light"
          }
        }
      ]
    },
    {
      "cell_type": "code",
      "metadata": {
        "id": "V3I-2KsbjQNM",
        "colab": {
          "base_uri": "https://localhost:8080/",
          "height": 538
        },
        "outputId": "675fb1b5-994c-45e7-e34a-690d4fea387e"
      },
      "source": [
        "ax = sns.boxplot( x = 'Anos de Estudo', data = dados, orient = 'h')\n",
        "ax.figure.set_size_inches(18, 8)\n",
        "ax.set_title('Anos de Estudo', fontsize=18)\n",
        "ax.set_xlabel('Anos', fontsize=14)\n",
        "ax"
      ],
      "execution_count": null,
      "outputs": [
        {
          "output_type": "execute_result",
          "data": {
            "text/plain": [
              "<matplotlib.axes._subplots.AxesSubplot at 0x7f90b84d3eb8>"
            ]
          },
          "metadata": {
            "tags": []
          },
          "execution_count": 246
        },
        {
          "output_type": "display_data",
          "data": {
            "image/png": "[encoded data removed]",
            "text/plain": [
              "<Figure size 1296x576 with 1 Axes>"
            ]
          },
          "metadata": {
            "tags": [],
            "needs_background": "light"
          }
        }
      ]
    },
    {
      "cell_type": "code",
      "metadata": {
        "colab": {
          "base_uri": "https://localhost:8080/",
          "height": 538
        },
        "id": "07NcSJ-bzfwC",
        "outputId": "544c916d-24b7-48a0-85d7-15bd0aa5caca"
      },
      "source": [
        "ax = sns.boxplot( x = 'Anos de Estudo', y = 'Sexo', data = dados, orient = 'h')\n",
        "ax.figure.set_size_inches(18, 8)\n",
        "ax.set_title('Anos de Estudo', fontsize=18)\n",
        "ax.set_xlabel('Anos', fontsize=14)\n",
        "ax"
      ],
      "execution_count": null,
      "outputs": [
        {
          "output_type": "execute_result",
          "data": {
            "text/plain": [
              "<matplotlib.axes._subplots.AxesSubplot at 0x7f90b8443358>"
            ]
          },
          "metadata": {
            "tags": []
          },
          "execution_count": 247
        },
        {
          "output_type": "display_data",
          "data": {
            "image/png": "[encoded data removed]",
            "text/plain": [
              "<Figure size 1296x576 with 1 Axes>"
            ]
          },
          "metadata": {
            "tags": [],
            "needs_background": "light"
          }
        }
      ]
    },
    {
      "cell_type": "markdown",
      "metadata": {
        "id": "amloMZwVjQNN"
      },
      "source": [
        "![Screen Shot 12-08-20 at 05.17 PM 001.PNG](data:image/png;base64,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)"
      ]
    },
    {
      "cell_type": "markdown",
      "metadata": {
        "id": "aJ6v_NI9jQNN"
      },
      "source": [
        "#5 MEDIDAS DE DISPERSÃO\n",
        "***\n",
        "\n",
        "Embora as medidas de posição forneçam uma sumarização bastante importante dos dados, elas podem não ser suficientes para caracterizar conjuntos distintos, especialmente quando as observações de determinada distribuição apresentarem dados muito dispersos."
      ]
    },
    {
      "cell_type": "markdown",
      "metadata": {
        "id": "D6xVxAQ7jQNO"
      },
      "source": [
        "##5.1 Desvio médio absoluto\n",
        "***\n",
        "\n",
        "\n",
        "# $$DM = \\frac 1n\\sum_{i=1}^{n}|X_i-\\bar{X}|$$\n"
      ]
    },
    {
      "cell_type": "code",
      "metadata": {
        "id": "0sL31blV7nz3",
        "colab": {
          "base_uri": "https://localhost:8080/",
          "height": 266
        },
        "outputId": "3a5f41ff-5427-45bc-d84b-d4fa192d8921"
      },
      "source": [
        "df"
      ],
      "execution_count": null,
      "outputs": [
        {
          "output_type": "execute_result",
          "data": {
            "text/html": [
              "<div>\n",
              "<style scoped>\n",
              "    .dataframe tbody tr th:only-of-type {\n",
              "        vertical-align: middle;\n",
              "    }\n",
              "\n",
              "    .dataframe tbody tr th {\n",
              "        vertical-align: top;\n",
              "    }\n",
              "\n",
              "    .dataframe thead th {\n",
              "        text-align: right;\n",
              "    }\n",
              "</style>\n",
              "<table border=\"1\" class=\"dataframe\">\n",
              "  <thead>\n",
              "    <tr style=\"text-align: right;\">\n",
              "      <th>Matérias</th>\n",
              "      <th>Fulano</th>\n",
              "      <th>Beltrano</th>\n",
              "      <th>Sicrano</th>\n",
              "    </tr>\n",
              "  </thead>\n",
              "  <tbody>\n",
              "    <tr>\n",
              "      <th>Matemática</th>\n",
              "      <td>8</td>\n",
              "      <td>10.0</td>\n",
              "      <td>7.5</td>\n",
              "    </tr>\n",
              "    <tr>\n",
              "      <th>Português</th>\n",
              "      <td>10</td>\n",
              "      <td>2.0</td>\n",
              "      <td>8.0</td>\n",
              "    </tr>\n",
              "    <tr>\n",
              "      <th>Inglês</th>\n",
              "      <td>4</td>\n",
              "      <td>0.5</td>\n",
              "      <td>7.0</td>\n",
              "    </tr>\n",
              "    <tr>\n",
              "      <th>Geografia</th>\n",
              "      <td>8</td>\n",
              "      <td>1.0</td>\n",
              "      <td>8.0</td>\n",
              "    </tr>\n",
              "    <tr>\n",
              "      <th>História</th>\n",
              "      <td>6</td>\n",
              "      <td>3.0</td>\n",
              "      <td>8.0</td>\n",
              "    </tr>\n",
              "    <tr>\n",
              "      <th>Física</th>\n",
              "      <td>10</td>\n",
              "      <td>9.5</td>\n",
              "      <td>8.5</td>\n",
              "    </tr>\n",
              "    <tr>\n",
              "      <th>Química</th>\n",
              "      <td>8</td>\n",
              "      <td>10.0</td>\n",
              "      <td>7.0</td>\n",
              "    </tr>\n",
              "  </tbody>\n",
              "</table>\n",
              "</div>"
            ],
            "text/plain": [
              "Matérias    Fulano  Beltrano  Sicrano\n",
              "Matemática       8      10.0      7.5\n",
              "Português       10       2.0      8.0\n",
              "Inglês           4       0.5      7.0\n",
              "Geografia        8       1.0      8.0\n",
              "História         6       3.0      8.0\n",
              "Física          10       9.5      8.5\n",
              "Química          8      10.0      7.0"
            ]
          },
          "metadata": {
            "tags": []
          },
          "execution_count": 248
        }
      ]
    },
    {
      "cell_type": "code",
      "metadata": {
        "id": "f3pAri4G7nc4",
        "colab": {
          "base_uri": "https://localhost:8080/",
          "height": 266
        },
        "outputId": "0e7b071e-4682-400e-9bf4-6b9535f2c060"
      },
      "source": [
        "notas_fulano = df[['Fulano']]\r\n",
        "notas_fulano"
      ],
      "execution_count": null,
      "outputs": [
        {
          "output_type": "execute_result",
          "data": {
            "text/html": [
              "<div>\n",
              "<style scoped>\n",
              "    .dataframe tbody tr th:only-of-type {\n",
              "        vertical-align: middle;\n",
              "    }\n",
              "\n",
              "    .dataframe tbody tr th {\n",
              "        vertical-align: top;\n",
              "    }\n",
              "\n",
              "    .dataframe thead th {\n",
              "        text-align: right;\n",
              "    }\n",
              "</style>\n",
              "<table border=\"1\" class=\"dataframe\">\n",
              "  <thead>\n",
              "    <tr style=\"text-align: right;\">\n",
              "      <th>Matérias</th>\n",
              "      <th>Fulano</th>\n",
              "    </tr>\n",
              "  </thead>\n",
              "  <tbody>\n",
              "    <tr>\n",
              "      <th>Matemática</th>\n",
              "      <td>8</td>\n",
              "    </tr>\n",
              "    <tr>\n",
              "      <th>Português</th>\n",
              "      <td>10</td>\n",
              "    </tr>\n",
              "    <tr>\n",
              "      <th>Inglês</th>\n",
              "      <td>4</td>\n",
              "    </tr>\n",
              "    <tr>\n",
              "      <th>Geografia</th>\n",
              "      <td>8</td>\n",
              "    </tr>\n",
              "    <tr>\n",
              "      <th>História</th>\n",
              "      <td>6</td>\n",
              "    </tr>\n",
              "    <tr>\n",
              "      <th>Física</th>\n",
              "      <td>10</td>\n",
              "    </tr>\n",
              "    <tr>\n",
              "      <th>Química</th>\n",
              "      <td>8</td>\n",
              "    </tr>\n",
              "  </tbody>\n",
              "</table>\n",
              "</div>"
            ],
            "text/plain": [
              "Matérias    Fulano\n",
              "Matemática       8\n",
              "Português       10\n",
              "Inglês           4\n",
              "Geografia        8\n",
              "História         6\n",
              "Física          10\n",
              "Química          8"
            ]
          },
          "metadata": {
            "tags": []
          },
          "execution_count": 249
        }
      ]
    },
    {
      "cell_type": "code",
      "metadata": {
        "id": "8_Q2tOTmjQNO",
        "colab": {
          "base_uri": "https://localhost:8080/"
        },
        "outputId": "bf237aca-4c4b-4741-a424-9b4b0f0a2329"
      },
      "source": [
        "nota_media_fulano = notas_fulano.mean()[0]\r\n",
        "nota_media_fulano"
      ],
      "execution_count": null,
      "outputs": [
        {
          "output_type": "execute_result",
          "data": {
            "text/plain": [
              "7.714285714285714"
            ]
          },
          "metadata": {
            "tags": []
          },
          "execution_count": 250
        }
      ]
    },
    {
      "cell_type": "code",
      "metadata": {
        "id": "RWo0AhBEjQNP",
        "colab": {
          "base_uri": "https://localhost:8080/",
          "height": 266
        },
        "outputId": "abb04630-d5ce-4589-e8f9-dc7aa3512801"
      },
      "source": [
        "notas_fulano['Desvio'] = notas_fulano['Fulano'] - nota_media_fulano\r\n",
        "notas_fulano"
      ],
      "execution_count": null,
      "outputs": [
        {
          "output_type": "execute_result",
          "data": {
            "text/html": [
              "<div>\n",
              "<style scoped>\n",
              "    .dataframe tbody tr th:only-of-type {\n",
              "        vertical-align: middle;\n",
              "    }\n",
              "\n",
              "    .dataframe tbody tr th {\n",
              "        vertical-align: top;\n",
              "    }\n",
              "\n",
              "    .dataframe thead th {\n",
              "        text-align: right;\n",
              "    }\n",
              "</style>\n",
              "<table border=\"1\" class=\"dataframe\">\n",
              "  <thead>\n",
              "    <tr style=\"text-align: right;\">\n",
              "      <th>Matérias</th>\n",
              "      <th>Fulano</th>\n",
              "      <th>Desvio</th>\n",
              "    </tr>\n",
              "  </thead>\n",
              "  <tbody>\n",
              "    <tr>\n",
              "      <th>Matemática</th>\n",
              "      <td>8</td>\n",
              "      <td>0.285714</td>\n",
              "    </tr>\n",
              "    <tr>\n",
              "      <th>Português</th>\n",
              "      <td>10</td>\n",
              "      <td>2.285714</td>\n",
              "    </tr>\n",
              "    <tr>\n",
              "      <th>Inglês</th>\n",
              "      <td>4</td>\n",
              "      <td>-3.714286</td>\n",
              "    </tr>\n",
              "    <tr>\n",
              "      <th>Geografia</th>\n",
              "      <td>8</td>\n",
              "      <td>0.285714</td>\n",
              "    </tr>\n",
              "    <tr>\n",
              "      <th>História</th>\n",
              "      <td>6</td>\n",
              "      <td>-1.714286</td>\n",
              "    </tr>\n",
              "    <tr>\n",
              "      <th>Física</th>\n",
              "      <td>10</td>\n",
              "      <td>2.285714</td>\n",
              "    </tr>\n",
              "    <tr>\n",
              "      <th>Química</th>\n",
              "      <td>8</td>\n",
              "      <td>0.285714</td>\n",
              "    </tr>\n",
              "  </tbody>\n",
              "</table>\n",
              "</div>"
            ],
            "text/plain": [
              "Matérias    Fulano    Desvio\n",
              "Matemática       8  0.285714\n",
              "Português       10  2.285714\n",
              "Inglês           4 -3.714286\n",
              "Geografia        8  0.285714\n",
              "História         6 -1.714286\n",
              "Física          10  2.285714\n",
              "Química          8  0.285714"
            ]
          },
          "metadata": {
            "tags": []
          },
          "execution_count": 251
        }
      ]
    },
    {
      "cell_type": "code",
      "metadata": {
        "id": "OiWDTw0ljQNQ",
        "colab": {
          "base_uri": "https://localhost:8080/"
        },
        "outputId": "04e242fe-5fba-4f0e-d037-36c73eb639af"
      },
      "source": [
        "notas_fulano['Desvio'].sum()"
      ],
      "execution_count": null,
      "outputs": [
        {
          "output_type": "execute_result",
          "data": {
            "text/plain": [
              "-8.881784197001252e-16"
            ]
          },
          "metadata": {
            "tags": []
          },
          "execution_count": 252
        }
      ]
    },
    {
      "cell_type": "code",
      "metadata": {
        "id": "qQbjktz5jQNR",
        "colab": {
          "base_uri": "https://localhost:8080/",
          "height": 266
        },
        "outputId": "986b1743-2346-4c16-d380-921a60611046"
      },
      "source": [
        "notas_fulano['|Desvio|'] = notas_fulano['Desvio'].abs() # modulo\r\n",
        "notas_fulano"
      ],
      "execution_count": null,
      "outputs": [
        {
          "output_type": "execute_result",
          "data": {
            "text/html": [
              "<div>\n",
              "<style scoped>\n",
              "    .dataframe tbody tr th:only-of-type {\n",
              "        vertical-align: middle;\n",
              "    }\n",
              "\n",
              "    .dataframe tbody tr th {\n",
              "        vertical-align: top;\n",
              "    }\n",
              "\n",
              "    .dataframe thead th {\n",
              "        text-align: right;\n",
              "    }\n",
              "</style>\n",
              "<table border=\"1\" class=\"dataframe\">\n",
              "  <thead>\n",
              "    <tr style=\"text-align: right;\">\n",
              "      <th>Matérias</th>\n",
              "      <th>Fulano</th>\n",
              "      <th>Desvio</th>\n",
              "      <th>|Desvio|</th>\n",
              "    </tr>\n",
              "  </thead>\n",
              "  <tbody>\n",
              "    <tr>\n",
              "      <th>Matemática</th>\n",
              "      <td>8</td>\n",
              "      <td>0.285714</td>\n",
              "      <td>0.285714</td>\n",
              "    </tr>\n",
              "    <tr>\n",
              "      <th>Português</th>\n",
              "      <td>10</td>\n",
              "      <td>2.285714</td>\n",
              "      <td>2.285714</td>\n",
              "    </tr>\n",
              "    <tr>\n",
              "      <th>Inglês</th>\n",
              "      <td>4</td>\n",
              "      <td>-3.714286</td>\n",
              "      <td>3.714286</td>\n",
              "    </tr>\n",
              "    <tr>\n",
              "      <th>Geografia</th>\n",
              "      <td>8</td>\n",
              "      <td>0.285714</td>\n",
              "      <td>0.285714</td>\n",
              "    </tr>\n",
              "    <tr>\n",
              "      <th>História</th>\n",
              "      <td>6</td>\n",
              "      <td>-1.714286</td>\n",
              "      <td>1.714286</td>\n",
              "    </tr>\n",
              "    <tr>\n",
              "      <th>Física</th>\n",
              "      <td>10</td>\n",
              "      <td>2.285714</td>\n",
              "      <td>2.285714</td>\n",
              "    </tr>\n",
              "    <tr>\n",
              "      <th>Química</th>\n",
              "      <td>8</td>\n",
              "      <td>0.285714</td>\n",
              "      <td>0.285714</td>\n",
              "    </tr>\n",
              "  </tbody>\n",
              "</table>\n",
              "</div>"
            ],
            "text/plain": [
              "Matérias    Fulano    Desvio  |Desvio|\n",
              "Matemática       8  0.285714  0.285714\n",
              "Português       10  2.285714  2.285714\n",
              "Inglês           4 -3.714286  3.714286\n",
              "Geografia        8  0.285714  0.285714\n",
              "História         6 -1.714286  1.714286\n",
              "Física          10  2.285714  2.285714\n",
              "Química          8  0.285714  0.285714"
            ]
          },
          "metadata": {
            "tags": []
          },
          "execution_count": 253
        }
      ]
    },
    {
      "cell_type": "code",
      "metadata": {
        "id": "dtIDTt6djQNV",
        "colab": {
          "base_uri": "https://localhost:8080/",
          "height": 283
        },
        "outputId": "aec3733a-8f99-4df3-ca37-a73a1734fb8d"
      },
      "source": [
        "ax = notas_fulano['Fulano'].plot(style = 'o')\r\n",
        "ax.hlines(y = nota_media_fulano, xmin = 0, xmax = notas_fulano.shape[0] - 1, colors = 'red')\r\n",
        "for i in range(notas_fulano.shape[0]):\r\n",
        "    ax.vlines(x = i, ymin = nota_media_fulano, ymax = notas_fulano['Fulano'][i], linestyle='dashed')\r\n",
        "ax"
      ],
      "execution_count": null,
      "outputs": [
        {
          "output_type": "execute_result",
          "data": {
            "text/plain": [
              "<matplotlib.axes._subplots.AxesSubplot at 0x7f90b843b4e0>"
            ]
          },
          "metadata": {
            "tags": []
          },
          "execution_count": 254
        },
        {
          "output_type": "display_data",
          "data": {
            "image/png": "[encoded data removed]",
            "text/plain": [
              "<Figure size 432x288 with 1 Axes>"
            ]
          },
          "metadata": {
            "tags": [],
            "needs_background": "light"
          }
        }
      ]
    },
    {
      "cell_type": "code",
      "metadata": {
        "id": "m4buiQWF01xt",
        "colab": {
          "base_uri": "https://localhost:8080/"
        },
        "outputId": "19c27d54-0ce7-4369-efb4-43765a6167f6"
      },
      "source": [
        "notas_fulano['|Desvio|'].mean()"
      ],
      "execution_count": null,
      "outputs": [
        {
          "output_type": "execute_result",
          "data": {
            "text/plain": [
              "1.5510204081632648"
            ]
          },
          "metadata": {
            "tags": []
          },
          "execution_count": 255
        }
      ]
    },
    {
      "cell_type": "code",
      "metadata": {
        "id": "1PEJ_LUn01eV",
        "colab": {
          "base_uri": "https://localhost:8080/"
        },
        "outputId": "c042770f-02eb-411c-b284-6a013611099b"
      },
      "source": [
        "desvio_medio_absoluto = notas_fulano['Fulano'].mad()\r\n",
        "desvio_medio_absoluto"
      ],
      "execution_count": null,
      "outputs": [
        {
          "output_type": "execute_result",
          "data": {
            "text/plain": [
              "1.5510204081632648"
            ]
          },
          "metadata": {
            "tags": []
          },
          "execution_count": 256
        }
      ]
    },
    {
      "cell_type": "markdown",
      "metadata": {
        "id": "jSKfnKwEjQNW"
      },
      "source": [
        "##5.2 Variância\n",
        "***"
      ]
    },
    {
      "cell_type": "markdown",
      "metadata": {
        "id": "tHD3yNqzjQNW"
      },
      "source": [
        "### Variância\n",
        "\n",
        "A variância é construída a partir das diferenças entre cada observação e a média dos dados, ou seja, o desvio em torno da média. No cálculo da variância, os desvios em torno da média são elevados ao quadrado."
      ]
    },
    {
      "cell_type": "markdown",
      "metadata": {
        "id": "WrCn9hw0jQNX"
      },
      "source": [
        "### Variância populacional\n",
        "\n",
        "# $$\\sigma^2 = \\frac 1n\\sum_{i=1}^{n}(X_i-\\mu)^2$$"
      ]
    },
    {
      "cell_type": "markdown",
      "metadata": {
        "id": "jV5mQT_djQNX"
      },
      "source": [
        "### Variância amostral\n",
        "\n",
        "# $$S^2 = \\frac 1{n-1}\\sum_{i=1}^{n}(X_i-\\bar{X})^2$$"
      ]
    },
    {
      "cell_type": "code",
      "metadata": {
        "id": "4tlbCQeujQNZ",
        "colab": {
          "base_uri": "https://localhost:8080/",
          "height": 266
        },
        "outputId": "77ba68a4-1990-4861-c4bc-cff3ab26f75a"
      },
      "source": [
        "notas_fulano['(Desvio)^2'] = notas_fulano['Desvio'].pow(2)\r\n",
        "notas_fulano"
      ],
      "execution_count": null,
      "outputs": [
        {
          "output_type": "execute_result",
          "data": {
            "text/html": [
              "<div>\n",
              "<style scoped>\n",
              "    .dataframe tbody tr th:only-of-type {\n",
              "        vertical-align: middle;\n",
              "    }\n",
              "\n",
              "    .dataframe tbody tr th {\n",
              "        vertical-align: top;\n",
              "    }\n",
              "\n",
              "    .dataframe thead th {\n",
              "        text-align: right;\n",
              "    }\n",
              "</style>\n",
              "<table border=\"1\" class=\"dataframe\">\n",
              "  <thead>\n",
              "    <tr style=\"text-align: right;\">\n",
              "      <th>Matérias</th>\n",
              "      <th>Fulano</th>\n",
              "      <th>Desvio</th>\n",
              "      <th>|Desvio|</th>\n",
              "      <th>(Desvio)^2</th>\n",
              "    </tr>\n",
              "  </thead>\n",
              "  <tbody>\n",
              "    <tr>\n",
              "      <th>Matemática</th>\n",
              "      <td>8</td>\n",
              "      <td>0.285714</td>\n",
              "      <td>0.285714</td>\n",
              "      <td>0.081633</td>\n",
              "    </tr>\n",
              "    <tr>\n",
              "      <th>Português</th>\n",
              "      <td>10</td>\n",
              "      <td>2.285714</td>\n",
              "      <td>2.285714</td>\n",
              "      <td>5.224490</td>\n",
              "    </tr>\n",
              "    <tr>\n",
              "      <th>Inglês</th>\n",
              "      <td>4</td>\n",
              "      <td>-3.714286</td>\n",
              "      <td>3.714286</td>\n",
              "      <td>13.795918</td>\n",
              "    </tr>\n",
              "    <tr>\n",
              "      <th>Geografia</th>\n",
              "      <td>8</td>\n",
              "      <td>0.285714</td>\n",
              "      <td>0.285714</td>\n",
              "      <td>0.081633</td>\n",
              "    </tr>\n",
              "    <tr>\n",
              "      <th>História</th>\n",
              "      <td>6</td>\n",
              "      <td>-1.714286</td>\n",
              "      <td>1.714286</td>\n",
              "      <td>2.938776</td>\n",
              "    </tr>\n",
              "    <tr>\n",
              "      <th>Física</th>\n",
              "      <td>10</td>\n",
              "      <td>2.285714</td>\n",
              "      <td>2.285714</td>\n",
              "      <td>5.224490</td>\n",
              "    </tr>\n",
              "    <tr>\n",
              "      <th>Química</th>\n",
              "      <td>8</td>\n",
              "      <td>0.285714</td>\n",
              "      <td>0.285714</td>\n",
              "      <td>0.081633</td>\n",
              "    </tr>\n",
              "  </tbody>\n",
              "</table>\n",
              "</div>"
            ],
            "text/plain": [
              "Matérias    Fulano    Desvio  |Desvio|  (Desvio)^2\n",
              "Matemática       8  0.285714  0.285714    0.081633\n",
              "Português       10  2.285714  2.285714    5.224490\n",
              "Inglês           4 -3.714286  3.714286   13.795918\n",
              "Geografia        8  0.285714  0.285714    0.081633\n",
              "História         6 -1.714286  1.714286    2.938776\n",
              "Física          10  2.285714  2.285714    5.224490\n",
              "Química          8  0.285714  0.285714    0.081633"
            ]
          },
          "metadata": {
            "tags": []
          },
          "execution_count": 257
        }
      ]
    },
    {
      "cell_type": "code",
      "metadata": {
        "id": "oCcAfoIOjQNa",
        "colab": {
          "base_uri": "https://localhost:8080/"
        },
        "outputId": "6652058f-8cf9-4bab-eaf7-be6a5484ff35"
      },
      "source": [
        "notas_fulano['(Desvio)^2'].sum() / (len(notas_fulano) - 1)"
      ],
      "execution_count": null,
      "outputs": [
        {
          "output_type": "execute_result",
          "data": {
            "text/plain": [
              "4.57142857142857"
            ]
          },
          "metadata": {
            "tags": []
          },
          "execution_count": 258
        }
      ]
    },
    {
      "cell_type": "code",
      "metadata": {
        "id": "EyrfPHLtjQNb",
        "colab": {
          "base_uri": "https://localhost:8080/"
        },
        "outputId": "6779b87c-9640-468f-d379-dd98bb9ff774"
      },
      "source": [
        "variancia = notas_fulano['Fulano'].var()\r\n",
        "variancia"
      ],
      "execution_count": null,
      "outputs": [
        {
          "output_type": "execute_result",
          "data": {
            "text/plain": [
              "4.57142857142857"
            ]
          },
          "metadata": {
            "tags": []
          },
          "execution_count": 259
        }
      ]
    },
    {
      "cell_type": "markdown",
      "metadata": {
        "id": "wQl_CsytjQNg"
      },
      "source": [
        "##5.3 Desvio padrão\n",
        "***\n",
        "\n",
        "Uma das restrições da variância é o fato de fornecer medidas em quadrados das unidades originais - a variância de medidas de comprimento, por exemplo, é em unidades de área. Logo, o fato de as unidades serem diferentes dificulta a comparação da dispersão com as variáveis que a definem. Um modo de eliminar essa dificuldade é considerar sua raiz quadrada."
      ]
    },
    {
      "cell_type": "markdown",
      "metadata": {
        "id": "X9w1Iqt3jQNg"
      },
      "source": [
        "### Desvio padrão populacional\n",
        "\n",
        "# $$\\sigma = \\sqrt{\\frac 1n\\sum_{i=1}^{n}(X_i-\\mu)^2} \\Longrightarrow \\sigma = \\sqrt{\\sigma^2}$$"
      ]
    },
    {
      "cell_type": "markdown",
      "metadata": {
        "id": "D3J4MvMpjQNg"
      },
      "source": [
        "### Desvio padrão amostral\n",
        "\n",
        "# $$S = \\sqrt{\\frac 1{n-1}\\sum_{i=1}^{n}(X_i-\\bar{X})^2} \\Longrightarrow S = \\sqrt{S^2}$$"
      ]
    },
    {
      "cell_type": "code",
      "metadata": {
        "id": "2di6iLFaSPda",
        "colab": {
          "base_uri": "https://localhost:8080/"
        },
        "outputId": "4c86932c-a643-4bb0-cdf1-548e0ada55fd"
      },
      "source": [
        "np.sqrt(variancia)"
      ],
      "execution_count": null,
      "outputs": [
        {
          "output_type": "execute_result",
          "data": {
            "text/plain": [
              "2.1380899352993947"
            ]
          },
          "metadata": {
            "tags": []
          },
          "execution_count": 260
        }
      ]
    },
    {
      "cell_type": "code",
      "metadata": {
        "id": "BMTx9yKHSPON",
        "colab": {
          "base_uri": "https://localhost:8080/"
        },
        "outputId": "42097165-51bc-4b42-b776-97fe75ce6cce"
      },
      "source": [
        "desvio_padrao = notas_fulano['Fulano'].std()\r\n",
        "desvio_padrao"
      ],
      "execution_count": null,
      "outputs": [
        {
          "output_type": "execute_result",
          "data": {
            "text/plain": [
              "2.1380899352993947"
            ]
          },
          "metadata": {
            "tags": []
          },
          "execution_count": 261
        }
      ]
    },
    {
      "cell_type": "code",
      "metadata": {
        "id": "_PeQtqbdjQNh",
        "colab": {
          "base_uri": "https://localhost:8080/",
          "height": 266
        },
        "outputId": "1a5b3a2c-3d0a-4b16-f4f2-3ad7ee4ee0cb"
      },
      "source": [
        "df"
      ],
      "execution_count": null,
      "outputs": [
        {
          "output_type": "execute_result",
          "data": {
            "text/html": [
              "<div>\n",
              "<style scoped>\n",
              "    .dataframe tbody tr th:only-of-type {\n",
              "        vertical-align: middle;\n",
              "    }\n",
              "\n",
              "    .dataframe tbody tr th {\n",
              "        vertical-align: top;\n",
              "    }\n",
              "\n",
              "    .dataframe thead th {\n",
              "        text-align: right;\n",
              "    }\n",
              "</style>\n",
              "<table border=\"1\" class=\"dataframe\">\n",
              "  <thead>\n",
              "    <tr style=\"text-align: right;\">\n",
              "      <th>Matérias</th>\n",
              "      <th>Fulano</th>\n",
              "      <th>Beltrano</th>\n",
              "      <th>Sicrano</th>\n",
              "    </tr>\n",
              "  </thead>\n",
              "  <tbody>\n",
              "    <tr>\n",
              "      <th>Matemática</th>\n",
              "      <td>8</td>\n",
              "      <td>10.0</td>\n",
              "      <td>7.5</td>\n",
              "    </tr>\n",
              "    <tr>\n",
              "      <th>Português</th>\n",
              "      <td>10</td>\n",
              "      <td>2.0</td>\n",
              "      <td>8.0</td>\n",
              "    </tr>\n",
              "    <tr>\n",
              "      <th>Inglês</th>\n",
              "      <td>4</td>\n",
              "      <td>0.5</td>\n",
              "      <td>7.0</td>\n",
              "    </tr>\n",
              "    <tr>\n",
              "      <th>Geografia</th>\n",
              "      <td>8</td>\n",
              "      <td>1.0</td>\n",
              "      <td>8.0</td>\n",
              "    </tr>\n",
              "    <tr>\n",
              "      <th>História</th>\n",
              "      <td>6</td>\n",
              "      <td>3.0</td>\n",
              "      <td>8.0</td>\n",
              "    </tr>\n",
              "    <tr>\n",
              "      <th>Física</th>\n",
              "      <td>10</td>\n",
              "      <td>9.5</td>\n",
              "      <td>8.5</td>\n",
              "    </tr>\n",
              "    <tr>\n",
              "      <th>Química</th>\n",
              "      <td>8</td>\n",
              "      <td>10.0</td>\n",
              "      <td>7.0</td>\n",
              "    </tr>\n",
              "  </tbody>\n",
              "</table>\n",
              "</div>"
            ],
            "text/plain": [
              "Matérias    Fulano  Beltrano  Sicrano\n",
              "Matemática       8      10.0      7.5\n",
              "Português       10       2.0      8.0\n",
              "Inglês           4       0.5      7.0\n",
              "Geografia        8       1.0      8.0\n",
              "História         6       3.0      8.0\n",
              "Física          10       9.5      8.5\n",
              "Química          8      10.0      7.0"
            ]
          },
          "metadata": {
            "tags": []
          },
          "execution_count": 262
        }
      ]
    },
    {
      "cell_type": "code",
      "metadata": {
        "id": "5LYOKy25jQNi",
        "colab": {
          "base_uri": "https://localhost:8080/"
        },
        "outputId": "c3bb9e0c-6959-4029-a374-7a7ec67a7cb3"
      },
      "source": [
        "df.mean()"
      ],
      "execution_count": null,
      "outputs": [
        {
          "output_type": "execute_result",
          "data": {
            "text/plain": [
              "Matérias\n",
              "Fulano      7.714286\n",
              "Beltrano    5.142857\n",
              "Sicrano     7.714286\n",
              "dtype: float64"
            ]
          },
          "metadata": {
            "tags": []
          },
          "execution_count": 263
        }
      ]
    },
    {
      "cell_type": "code",
      "metadata": {
        "id": "FfcyfSkFjQNj",
        "colab": {
          "base_uri": "https://localhost:8080/"
        },
        "outputId": "c8fb9989-a5a6-4e72-9326-b8b26726946f"
      },
      "source": [
        "df.median()"
      ],
      "execution_count": null,
      "outputs": [
        {
          "output_type": "execute_result",
          "data": {
            "text/plain": [
              "Matérias\n",
              "Fulano      8.0\n",
              "Beltrano    3.0\n",
              "Sicrano     8.0\n",
              "dtype: float64"
            ]
          },
          "metadata": {
            "tags": []
          },
          "execution_count": 264
        }
      ]
    },
    {
      "cell_type": "code",
      "metadata": {
        "id": "G8vorygCjQNk",
        "colab": {
          "base_uri": "https://localhost:8080/",
          "height": 80
        },
        "outputId": "d8e68447-9f78-4eb6-9fdc-d8bd8dbdf63b"
      },
      "source": [
        "df.mode()"
      ],
      "execution_count": null,
      "outputs": [
        {
          "output_type": "execute_result",
          "data": {
            "text/html": [
              "<div>\n",
              "<style scoped>\n",
              "    .dataframe tbody tr th:only-of-type {\n",
              "        vertical-align: middle;\n",
              "    }\n",
              "\n",
              "    .dataframe tbody tr th {\n",
              "        vertical-align: top;\n",
              "    }\n",
              "\n",
              "    .dataframe thead th {\n",
              "        text-align: right;\n",
              "    }\n",
              "</style>\n",
              "<table border=\"1\" class=\"dataframe\">\n",
              "  <thead>\n",
              "    <tr style=\"text-align: right;\">\n",
              "      <th>Matérias</th>\n",
              "      <th>Fulano</th>\n",
              "      <th>Beltrano</th>\n",
              "      <th>Sicrano</th>\n",
              "    </tr>\n",
              "  </thead>\n",
              "  <tbody>\n",
              "    <tr>\n",
              "      <th>0</th>\n",
              "      <td>8</td>\n",
              "      <td>10.0</td>\n",
              "      <td>8.0</td>\n",
              "    </tr>\n",
              "  </tbody>\n",
              "</table>\n",
              "</div>"
            ],
            "text/plain": [
              "Matérias  Fulano  Beltrano  Sicrano\n",
              "0              8      10.0      8.0"
            ]
          },
          "metadata": {
            "tags": []
          },
          "execution_count": 265
        }
      ]
    },
    {
      "cell_type": "code",
      "metadata": {
        "id": "01op3BEvjQNl",
        "colab": {
          "base_uri": "https://localhost:8080/"
        },
        "outputId": "97c8cb48-2b3e-44ed-d0b6-88e250cf6827"
      },
      "source": [
        "df.std()"
      ],
      "execution_count": null,
      "outputs": [
        {
          "output_type": "execute_result",
          "data": {
            "text/plain": [
              "Matérias\n",
              "Fulano      2.138090\n",
              "Beltrano    4.460141\n",
              "Sicrano     0.566947\n",
              "dtype: float64"
            ]
          },
          "metadata": {
            "tags": []
          },
          "execution_count": 266
        }
      ]
    },
    {
      "cell_type": "markdown",
      "metadata": {
        "id": "hsAsxT8W2VT8"
      },
      "source": [
        "    Sicrano é mais constante, tem as notas mais proximas uma da outra.\r\n",
        "    Fulano varia."
      ]
    }
  ]
}